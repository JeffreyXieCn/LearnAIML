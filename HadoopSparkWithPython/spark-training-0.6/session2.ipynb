{
 "cells": [
  {
   "cell_type": "markdown",
   "metadata": {
    "slideshow": {
     "slide_type": "slide"
    }
   },
   "source": [
    "<div style=\"background:black\">\n",
    "    <center>\n",
    "<img src=\"./images/session2/title.png\" alt=\"Title\"/>\n",
    "    </center>\n",
    "</div>"
   ]
  },
  {
   "cell_type": "markdown",
   "metadata": {
    "slideshow": {
     "slide_type": "slide"
    }
   },
   "source": [
    "\n",
    "<div class=\"alert alert-block alert-success\">\n",
    "<center>\n",
    "Today's objectives:<br/><br/>\n",
    "    </center>\n",
    "    &#x25a2; Get familiar with <b>unsupervised clustering</b><br/>\n",
    "    &#x25a2; Understand the <b>kmeans</b> algorithm <br/><br/>\n",
    "    &#x25a2; Practice with Spark <b>RDDs</b><br/>\n",
    "    &#x25a2; Try <b>Spark's MLlib clustering</b> library <br/>\n",
    "    &#x25a2; Apply unsupervised clustering to find <b>geographical clusters</b>\n",
    "</div>\n"
   ]
  },
  {
   "cell_type": "markdown",
   "metadata": {
    "slideshow": {
     "slide_type": "slide"
    }
   },
   "source": [
    "# Unsupervised clustering: the kmeans algorithm\n",
    "\n",
    "See slides [here](pdf/session2/clustering.pdf)."
   ]
  },
  {
   "cell_type": "markdown",
   "metadata": {
    "slideshow": {
     "slide_type": "slide"
    }
   },
   "source": [
    "## Sequential implementation"
   ]
  },
  {
   "cell_type": "markdown",
   "metadata": {
    "slideshow": {
     "slide_type": "fragment"
    }
   },
   "source": [
    "<div class=\"alert alert-block alert-info\">\n",
    "<center>\n",
    "    In this section, we will implement a <b>sequential</b> version of kmeans in Python.<br/>\n",
    "    In the next section, we will <b>parallelize</b> it in Spark.\n",
    "</center>\n",
    "</div>"
   ]
  },
  {
   "cell_type": "markdown",
   "metadata": {
    "slideshow": {
     "slide_type": "fragment"
    }
   },
   "source": [
    "We will test our implementations on 1,000 simulated 2D points:"
   ]
  },
  {
   "cell_type": "code",
   "execution_count": null,
   "metadata": {
    "slideshow": {
     "slide_type": "fragment"
    }
   },
   "outputs": [],
   "source": [
    "! head 'data/session2/simulated-points.txt'"
   ]
  },
  {
   "cell_type": "markdown",
   "metadata": {
    "slideshow": {
     "slide_type": "slide"
    }
   },
   "source": [
    "For convenience, the <code>utils</code> module contains:\n",
    "\n",
    "(1) A data reader:"
   ]
  },
  {
   "cell_type": "code",
   "execution_count": null,
   "metadata": {
    "slideshow": {
     "slide_type": "fragment"
    }
   },
   "outputs": [],
   "source": [
    "import utils\n",
    "data_file = 'data/session2/simulated-points.txt'\n",
    "\n",
    "data_points = utils.read_data(data_file)\n",
    "data_points[:10]"
   ]
  },
  {
   "cell_type": "markdown",
   "metadata": {
    "slideshow": {
     "slide_type": "fragment"
    }
   },
   "source": [
    "(2) A data viewer:"
   ]
  },
  {
   "cell_type": "code",
   "execution_count": null,
   "metadata": {
    "slideshow": {
     "slide_type": "fragment"
    }
   },
   "outputs": [],
   "source": [
    "plt = utils.plot_data(data_points, initial_centroids=[], new_centroids=[])\n",
    "plt.show()"
   ]
  },
  {
   "cell_type": "markdown",
   "metadata": {
    "slideshow": {
     "slide_type": "slide"
    }
   },
   "source": [
    "<center>\n",
    "<div class=\"alert alert-block alert-info\">\n",
    "<b>Step 1:</b> Initialization <br/>\n",
    "    </div>\n",
    "    </center>"
   ]
  },
  {
   "cell_type": "markdown",
   "metadata": {
    "slideshow": {
     "slide_type": "fragment"
    }
   },
   "source": [
    "<ul style=\"list-style-image: url('images/do.png');\">\n",
    "<li>Implement function <code>init_centroids</code> as documented in its docstring. Tip: use Python's <code>random.sample</code>. Test your function with k=30.</li>\n",
    "</ul>"
   ]
  },
  {
   "cell_type": "code",
   "execution_count": null,
   "metadata": {
    "slideshow": {
     "slide_type": "fragment"
    }
   },
   "outputs": [],
   "source": [
    "import random\n",
    "\n",
    "def init_centroids(data_points, k):\n",
    "    '''\n",
    "    Parameters\n",
    "    ----------\n",
    "    data_points : data points, as returned by utils.read_data\n",
    "    k : desired number of centroids\n",
    "\n",
    "    Returns\n",
    "    -------\n",
    "    centroids: a list containing k tuples representing centroids. Example for k=2: [(1,4), (5, 7)]\n",
    "    '''"
   ]
  },
  {
   "cell_type": "code",
   "execution_count": null,
   "metadata": {
    "slideshow": {
     "slide_type": "fragment"
    }
   },
   "outputs": [],
   "source": [
    "# Test function\n",
    "k = 30\n",
    "centroids = init_centroids(data_points, k)\n",
    "# Check results\n",
    "centroids[:5]"
   ]
  },
  {
   "cell_type": "markdown",
   "metadata": {
    "slideshow": {
     "slide_type": "slide"
    }
   },
   "source": [
    "You can use <code>utls.plot_data</code> to plot your centroids in black over the gray data points:"
   ]
  },
  {
   "cell_type": "code",
   "execution_count": null,
   "metadata": {
    "slideshow": {
     "slide_type": "fragment"
    }
   },
   "outputs": [],
   "source": [
    "# Visualize\n",
    "plt = utils.plot_data(data_points, initial_centroids=centroids)\n",
    "plt.show()"
   ]
  },
  {
   "cell_type": "markdown",
   "metadata": {
    "slideshow": {
     "slide_type": "slide"
    }
   },
   "source": [
    "<center>\n",
    "<div class=\"alert alert-block alert-info\">\n",
    "<b>Step 2:</b> Point assignment to clusters <br/>\n",
    "    </div>\n",
    "    </center>"
   ]
  },
  {
   "cell_type": "markdown",
   "metadata": {
    "slideshow": {
     "slide_type": "fragment"
    }
   },
   "source": [
    "To assign points to clusters, we first need a distance function.\n",
    "\n",
    "<ul style=\"list-style-image: url('images/do.png');\">\n",
    "<li>Implement function <code>distance2</code> as documented in the docstring. Tip: the power operator in Python is **. Test your function.\n",
    "    </ul>"
   ]
  },
  {
   "cell_type": "code",
   "execution_count": null,
   "metadata": {
    "slideshow": {
     "slide_type": "fragment"
    }
   },
   "outputs": [],
   "source": [
    "def distance2(x, y):\n",
    "    '''\n",
    "    Parameters\n",
    "    ----------\n",
    "    x : a tuple of length 2 representing a data point. Example: (1, 2)\n",
    "    y : a tuple of length 2 representing a data point. Example: (0, 1)\n",
    "\n",
    "    Returns\n",
    "    -------\n",
    "    distance2: the squared Euclidean distance between x and y\n",
    "    '''"
   ]
  },
  {
   "cell_type": "code",
   "execution_count": null,
   "metadata": {
    "slideshow": {
     "slide_type": "fragment"
    }
   },
   "outputs": [],
   "source": [
    "distance2((0,1), (1,3))"
   ]
  },
  {
   "cell_type": "markdown",
   "metadata": {
    "slideshow": {
     "slide_type": "slide"
    }
   },
   "source": [
    "<ul style=\"list-style-image: url('images/do.png');\">\n",
    "<li>Implement function <code>closest_class</code> as documented in the docstring. Tip: iterate on centroids using Python's <a href=\"https://docs.python.org/3/library/functions.html#enumerate\"><code>enumerate</code></a>. Test your function.\n",
    "    </ul>\n",
    "    <a id=\"closest_class\"/>"
   ]
  },
  {
   "cell_type": "code",
   "execution_count": null,
   "metadata": {
    "slideshow": {
     "slide_type": "fragment"
    }
   },
   "outputs": [],
   "source": [
    "def closest_class(x, centroids):\n",
    "    '''\n",
    "    Parameters\n",
    "    ----------\n",
    "    x : a tuple of length 2 representing a data point. Example: (1, 2)\n",
    "    centroids : a list of centroids represented as tuples. Example: [(0,0), (1,3)]\n",
    "\n",
    "    Returns\n",
    "    -------\n",
    "    closest_class: index in centroids of the centroid closest to x\n",
    "    '''"
   ]
  },
  {
   "cell_type": "code",
   "execution_count": null,
   "metadata": {
    "slideshow": {
     "slide_type": "fragment"
    }
   },
   "outputs": [],
   "source": [
    "closest_class((1,1), [(0,1), (1,1), (2,2)])"
   ]
  },
  {
   "cell_type": "markdown",
   "metadata": {
    "slideshow": {
     "slide_type": "slide"
    }
   },
   "source": [
    "<ul style=\"list-style-image: url('images/do.png');\">\n",
    "<li>Implement function <code>assign_classes</code> as documented in the docstring. Tip: fill list <code>classes</code> with values returned by <code>closest_class</code>.\n",
    "    </ul>"
   ]
  },
  {
   "cell_type": "code",
   "execution_count": null,
   "metadata": {
    "slideshow": {
     "slide_type": "fragment"
    }
   },
   "outputs": [],
   "source": [
    "def assign_classes(data_points, centroids):\n",
    "    '''\n",
    "    Parameters\n",
    "    ----------\n",
    "    data_points : data points, as returned by utils.read_data\n",
    "    centroids : a list of centroids represented as tuples. Example: [(0,0), (1,3)]\n",
    "\n",
    "    Returns\n",
    "    -------\n",
    "    classes: a list such that classes[i] is the index of the centroid in centroids closest to data_points[i]\n",
    "    '''\n"
   ]
  },
  {
   "cell_type": "markdown",
   "metadata": {
    "slideshow": {
     "slide_type": "slide"
    }
   },
   "source": [
    "<ul style=\"list-style-image: url('images/do.png');\">\n",
    "<li>The following code plots the result of the first iteration of kmeans. Does it look correct?\n",
    "    </ul>"
   ]
  },
  {
   "cell_type": "code",
   "execution_count": null,
   "metadata": {
    "scrolled": true,
    "slideshow": {
     "slide_type": "fragment"
    }
   },
   "outputs": [],
   "source": [
    "classes = assign_classes(data_points, centroids)\n",
    "plt = utils.plot_data(data_points, initial_centroids=centroids, classes=classes)\n",
    "plt.show()"
   ]
  },
  {
   "cell_type": "markdown",
   "metadata": {
    "slideshow": {
     "slide_type": "slide"
    }
   },
   "source": [
    "<center>\n",
    "<div class=\"alert alert-block alert-info\">\n",
    "<b>Step 3:</b> Centroid update<br/>\n",
    "    </div>\n",
    "    </center>"
   ]
  },
  {
   "cell_type": "markdown",
   "metadata": {
    "slideshow": {
     "slide_type": "fragment"
    }
   },
   "source": [
    "<ul style=\"list-style-image: url('images/do.png');\">\n",
    "<li>Implement function <code>update_centroids</code> as documented in the docstring.\n",
    "    </ul>"
   ]
  },
  {
   "cell_type": "code",
   "execution_count": null,
   "metadata": {
    "slideshow": {
     "slide_type": "fragment"
    }
   },
   "outputs": [],
   "source": [
    "def update_centroids(data_points, classes):\n",
    "    '''\n",
    "    Parameters\n",
    "    ----------\n",
    "    data_points : data points, as returned by utils.read_data\n",
    "    classes : a list of class indices, returned by assign_classes. Example: [3, 0, 2, 1]\n",
    "\n",
    "    Returns\n",
    "    -------\n",
    "    centroids: a list of tuples such that centroids[i] is the centroid of class i\n",
    "    '''\n"
   ]
  },
  {
   "cell_type": "markdown",
   "metadata": {
    "slideshow": {
     "slide_type": "slide"
    }
   },
   "source": [
    "<ul style=\"list-style-image: url('images/do.png');\">\n",
    "<li>The following code plots the updated centroids. Do they look correct?\n",
    "    </ul>"
   ]
  },
  {
   "cell_type": "code",
   "execution_count": null,
   "metadata": {},
   "outputs": [],
   "source": [
    "new_centroids = update_centroids(data_points, classes)\n",
    "plt = utils.plot_data(data_points, initial_centroids=centroids, new_centroids=new_centroids, classes=classes)\n",
    "plt.show()"
   ]
  },
  {
   "cell_type": "markdown",
   "metadata": {
    "slideshow": {
     "slide_type": "slide"
    }
   },
   "source": [
    "<center>\n",
    "<div class=\"alert alert-block alert-info\">\n",
    "<b>Step 4:</b> Putting it all together<br/>\n",
    "    </div>\n",
    "    </center>"
   ]
  },
  {
   "cell_type": "markdown",
   "metadata": {
    "slideshow": {
     "slide_type": "fragment"
    }
   },
   "source": [
    "<ul style=\"list-style-image: url('images/do.png');\">\n",
    "<li>We are now ready to implement the main kmeans loop. Fill in the blanks in the skeleton below with the functions implemented previously.\n",
    "    </ul>"
   ]
  },
  {
   "cell_type": "code",
   "execution_count": null,
   "metadata": {
    "slideshow": {
     "slide_type": "fragment"
    }
   },
   "outputs": [],
   "source": [
    "def kmeans(data_points, k, max_iter=100):\n",
    "    '''\n",
    "    Parameters\n",
    "    ----------\n",
    "    data_points : data points, as returned by utils.read_data\n",
    "    k : desired number of centroids\n",
    "    max_iter : maximum number of iterations after which function will raise an exception\n",
    "    \n",
    "    Returns\n",
    "    -------\n",
    "    None\n",
    "    \n",
    "    Raises\n",
    "    ------\n",
    "    exception: if main loop doesn't converge after max_iter iterations\n",
    "    '''\n",
    "    \n",
    "    # Initialization\n",
    "    initial_centroids = #### BLANK ####\n",
    "    centroids = initial_centroids\n",
    "    \n",
    "    # Main loop\n",
    "    for i in range(max_iter):\n",
    "        print(f'kmeans iteration {i}')\n",
    "        # Point assignment\n",
    "        classes = #### BLANK ####\n",
    "        # Centroid update\n",
    "        new_centroids = #### BLANK ####\n",
    "        # Convergence test\n",
    "        if sorted(new_centroids) == sorted(centroids):\n",
    "            print(f'> Converged')\n",
    "            return classes, initial_centroids, centroids\n",
    "        centroids = new_centroids\n",
    "    raise('x Not converged')"
   ]
  },
  {
   "cell_type": "markdown",
   "metadata": {
    "slideshow": {
     "slide_type": "slide"
    }
   },
   "source": [
    "<ul style=\"list-style-image: url('images/do.png');\">\n",
    "<li>The following code plots the result of our kmeans implementation. Does it look correct?\n",
    "</ul>\n",
    "<a id=\"kmeans-seq\"/>"
   ]
  },
  {
   "cell_type": "code",
   "execution_count": null,
   "metadata": {
    "slideshow": {
     "slide_type": "fragment"
    }
   },
   "outputs": [],
   "source": [
    "classes, initial_centroids, final_centroids = kmeans(data_points, k)\n",
    "plt = utils.plot_data(data_points, initial_centroids=initial_centroids, new_centroids=final_centroids, classes=classes)\n",
    "plt.show()"
   ]
  },
  {
   "cell_type": "markdown",
   "metadata": {
    "slideshow": {
     "slide_type": "slide"
    }
   },
   "source": [
    "## Quiz"
   ]
  },
  {
   "cell_type": "markdown",
   "metadata": {
    "slideshow": {
     "slide_type": "fragment"
    }
   },
   "source": [
    "<div class=\"alert alert-block alert-warning\">\n",
    "kmeans is dependent on initialization    \n",
    "\n",
    "&#x25a2; True\n",
    "\n",
    "&#x25a2; False\n",
    "</div>"
   ]
  },
  {
   "cell_type": "markdown",
   "metadata": {
    "slideshow": {
     "slide_type": "slide"
    }
   },
   "source": [
    "<div class=\"alert alert-block alert-info\">\n",
    "kmeans doesn't work with categorical data    \n",
    "\n",
    "&#x25a2;  True\n",
    "\n",
    "&#x25a2;  False\n",
    "</div>"
   ]
  },
  {
   "cell_type": "markdown",
   "metadata": {
    "slideshow": {
     "slide_type": "slide"
    }
   },
   "source": [
    "<div class=\"alert alert-block alert-warning\">\n",
    "\n",
    "The time to run kmeans is proportional to the number of data points\n",
    "    \n",
    "&#x25a2; True\n",
    "\n",
    "&#x25a2; False\n",
    "</div>"
   ]
  },
  {
   "cell_type": "markdown",
   "metadata": {
    "slideshow": {
     "slide_type": "slide"
    }
   },
   "source": [
    "<div class=\"alert alert-block alert-info\">\n",
    "The point assignment step is the most compute intensive, but it can be parallelized since assignments are done independently for each point.\n",
    "    \n",
    "&#x25a2;  True\n",
    "\n",
    "&#x25a2;  False\n",
    "</div>"
   ]
  },
  {
   "cell_type": "markdown",
   "metadata": {
    "slideshow": {
     "slide_type": "slide"
    }
   },
   "source": [
    "# Parallel implementation in Spark\n",
    "\n",
    "We will now use Apache Spark to run kmeans in parallel. We will:\n",
    "1. Implement our own custom version\n",
    "2. Use the implementation in Spark's machine-learning library"
   ]
  },
  {
   "cell_type": "markdown",
   "metadata": {
    "slideshow": {
     "slide_type": "fragment"
    }
   },
   "source": [
    "## Custom implementation\n",
    "\n",
    "Differences with the sequential implementation:\n"
   ]
  },
  {
   "cell_type": "markdown",
   "metadata": {
    "slideshow": {
     "slide_type": "fragment"
    }
   },
   "source": [
    "<center>\n",
    "    <div class=\"alert alert-block alert-info\">\n",
    "        <b>Data structures to update</b><br/>\n",
    "    <ul style=\"list-style: none;\">\n",
    "        <li><code>data_points</code> will now be an RDD</li>\n",
    "        <li><code>centroids</code> can remain a list</li>\n",
    "    </ul><br/><br/>\n",
    "        <b>Functions to re-implement</b><br/>\n",
    "    <ul style=\"list-style: none;\">\n",
    "        <li><code>init_centroids</code></li>\n",
    "        <li><code>assign_classes</code></li>\n",
    "        <li><code>update_centroids</code></li>\n",
    "    </ul>\n",
    "    </div>\n",
    "    </center>"
   ]
  },
  {
   "cell_type": "markdown",
   "metadata": {
    "slideshow": {
     "slide_type": "slide"
    }
   },
   "source": [
    "First, let's create a Spark context:"
   ]
  },
  {
   "cell_type": "code",
   "execution_count": null,
   "metadata": {
    "slideshow": {
     "slide_type": "fragment"
    }
   },
   "outputs": [],
   "source": [
    "# Create a Spark context\n",
    "from pyspark.context import SparkContext\n",
    "sc = SparkContext.getOrCreate()"
   ]
  },
  {
   "cell_type": "markdown",
   "metadata": {
    "slideshow": {
     "slide_type": "slide"
    }
   },
   "source": [
    "Let's now parse the data in an RDD. Note the use of map functions to:\n",
    "1. Split the lines by space\n",
    "2. Convert point coordinates from string to float"
   ]
  },
  {
   "cell_type": "code",
   "execution_count": null,
   "metadata": {},
   "outputs": [],
   "source": [
    "# Parse data\n",
    "data_points_rdd = sc.textFile('data/session2/simulated-points.txt')\\\n",
    "                    .map(lambda x: x.split(' '))\\\n",
    "                    .map(lambda x: (float(x[0]), float(x[1])))\n",
    "# Check result\n",
    "data_points_rdd.take(5)"
   ]
  },
  {
   "cell_type": "markdown",
   "metadata": {
    "slideshow": {
     "slide_type": "slide"
    }
   },
   "source": [
    "<center>\n",
    "<div class=\"alert alert-block alert-info\">\n",
    "<b>Step 1:</b> Initialization <br/>\n",
    "    </div>\n",
    "    </center>"
   ]
  },
  {
   "cell_type": "markdown",
   "metadata": {
    "slideshow": {
     "slide_type": "fragment"
    }
   },
   "source": [
    "<ul style=\"list-style-image: url('images/do.png');\">\n",
    "<li>Implement function <code>init_centroids_spark</code> as documented in the docstring. Tip: use Sparks's <a href=\"https://spark.apache.org/docs/latest/api/python/pyspark.html\"><code>takeSample</code></a> transformation. Test your function with k=30.</li>\n",
    "</ul>"
   ]
  },
  {
   "cell_type": "code",
   "execution_count": null,
   "metadata": {
    "slideshow": {
     "slide_type": "fragment"
    }
   },
   "outputs": [],
   "source": [
    "def init_centroids_spark(data_points_rdd, k):\n",
    "    '''\n",
    "    Parameters\n",
    "    ----------\n",
    "    data_points_rdd : an RDD containing data points\n",
    "    k : desired number of centroids\n",
    "\n",
    "    Returns\n",
    "    -------\n",
    "    centroids: a list containing k tuples representing centroids. Example: [(1,4), (5, 7)]\n",
    "    '''\n"
   ]
  },
  {
   "cell_type": "code",
   "execution_count": null,
   "metadata": {
    "slideshow": {
     "slide_type": "fragment"
    }
   },
   "outputs": [],
   "source": [
    "# Test function\n",
    "k = 30\n",
    "centroids = init_centroids_spark(data_points_rdd, k)\n",
    "# Check results\n",
    "centroids[:3]"
   ]
  },
  {
   "cell_type": "markdown",
   "metadata": {
    "slideshow": {
     "slide_type": "slide"
    }
   },
   "source": [
    "You can use <code>utls.plot_data</code> to plot your centroids:"
   ]
  },
  {
   "cell_type": "code",
   "execution_count": null,
   "metadata": {
    "slideshow": {
     "slide_type": "fragment"
    }
   },
   "outputs": [],
   "source": [
    "# Visualize\n",
    "plt = utils.plot_data(data_points_rdd.collect(), initial_centroids=centroids)\n",
    "plt.show()"
   ]
  },
  {
   "cell_type": "markdown",
   "metadata": {
    "slideshow": {
     "slide_type": "slide"
    }
   },
   "source": [
    "<center>\n",
    "<div class=\"alert alert-block alert-info\">\n",
    "<b>Step 2:</b> Point assignment to clusters <br/>\n",
    "    </div>\n",
    "    </center>"
   ]
  },
  {
   "cell_type": "markdown",
   "metadata": {
    "slideshow": {
     "slide_type": "fragment"
    }
   },
   "source": [
    "<ul style=\"list-style-image: url('images/do.png');\">\n",
    "<li>Implement function <code>assign_classes_spark</code> as documented in the docstring. \n",
    "    <ul>\n",
    "        <li><b>Important:</b> make sure that the returned variable stricly complies to the format mentioned in the docstring. If it doesn't, the next steps won't work.</li>\n",
    "        <li>Tip: use function <a href=\"#closest_class\"><code>closest_class</code></a> from Section 1 and implement this with a single <code>map</code>!\n",
    "    </ul>"
   ]
  },
  {
   "cell_type": "code",
   "execution_count": null,
   "metadata": {
    "slideshow": {
     "slide_type": "fragment"
    }
   },
   "outputs": [],
   "source": [
    "def assign_classes_spark(data_points_rdd, centroids):\n",
    "    '''\n",
    "    Parameters\n",
    "    ----------\n",
    "    data_points_rdd : an RDD containing data points\n",
    "    centroids : a list of centroids represented as tuples. Example: [(0,0), (1,3)]\n",
    "\n",
    "    Returns\n",
    "    -------\n",
    "    classes: an RDD containing tuples (i, p) such that:\n",
    "       p is a data point in data_points_rdd\n",
    "       i is the index of the centroid in centroids which is closest to p\n",
    "       Example: \n",
    "       [(23, (-5.97607109113, -2.55353952794)),\n",
    "        (7, (-5.38734256215, -2.47696382178)),\n",
    "        (12, (5.78173311542, 6.05513306539))]\n",
    "    '''\n"
   ]
  },
  {
   "cell_type": "markdown",
   "metadata": {
    "slideshow": {
     "slide_type": "slide"
    }
   },
   "source": [
    "Test your function as follows:"
   ]
  },
  {
   "cell_type": "code",
   "execution_count": null,
   "metadata": {
    "slideshow": {
     "slide_type": "fragment"
    }
   },
   "outputs": [],
   "source": [
    "# Try function\n",
    "classes_rdd = assign_classes_spark(data_points_rdd, centroids)\n",
    "# Check result\n",
    "classes_rdd.take(3)"
   ]
  },
  {
   "cell_type": "markdown",
   "metadata": {
    "slideshow": {
     "slide_type": "fragment"
    }
   },
   "source": [
    "Visualize the result of the first kmeans iteration:"
   ]
  },
  {
   "cell_type": "code",
   "execution_count": null,
   "metadata": {
    "slideshow": {
     "slide_type": "fragment"
    }
   },
   "outputs": [],
   "source": [
    "# Visualize result\n",
    "plt = utils.plot_data(data_points_rdd.collect(),\n",
    "                      initial_centroids=centroids,\n",
    "                      classes=classes_rdd.map(lambda x: x[0]).collect())\n",
    "plt.show()"
   ]
  },
  {
   "cell_type": "markdown",
   "metadata": {
    "slideshow": {
     "slide_type": "slide"
    }
   },
   "source": [
    "<center>\n",
    "<div class=\"alert alert-block alert-info\">\n",
    "<b>Step 3:</b> Centroid update<br/>\n",
    "    </div>\n",
    "    </center>"
   ]
  },
  {
   "cell_type": "markdown",
   "metadata": {
    "slideshow": {
     "slide_type": "fragment"
    }
   },
   "source": [
    "<ul style=\"list-style-image: url('images/do.png');\">\n",
    "    <li>Implement function <code>update_centroids</code> as documented in the docstring.</li>    \n",
    "    </ul>\n",
    "\n",
    "Suggested logic:\n",
    "<ol>\n",
    "    <li>map class <code>c</code> to key-value pairs <code>(i, (p, 1))</code>, where <code>i</code> is the class index (<code>c[0]</code>), and <code>p</code> is the data point (<code>c[1]</code>)</li>\n",
    "    <li>reduce key-value pairs with <code>reduceByKey</code> to obtain pairs <code>(i, ((sum_x, sum_y), n))</code>, where <code>i</code> is a class index, <code>sum_x</code> is the sum of x coordinates of points in class <code>i</code>, <code>sum_y</code> is the sum of y coordinates of points in class <code>i</code>, and <code>n</code> is the number of points in class <code>i</code>.</li>\n",
    "    <li>map these key-value pairs to <code>(i, centroid)</code>, by dividing <code>sum_x</code> and <code>sum_y</code> by <code>n</code>.</li>\n",
    "</ol>"
   ]
  },
  {
   "cell_type": "code",
   "execution_count": null,
   "metadata": {
    "slideshow": {
     "slide_type": "fragment"
    }
   },
   "outputs": [],
   "source": [
    "def update_centroids_spark(classes_rdd):\n",
    "    '''\n",
    "    Parameters\n",
    "    ----------\n",
    "    classes_rdd : an RDD containing tuples (i, p) such that:\n",
    "       p is a data point in data_points_rdd\n",
    "       i is the index of the centroid in centroids which is closest to p\n",
    "       Example: \n",
    "       [(23, (-5.97607109113, -2.55353952794)),\n",
    "        (7, (-5.38734256215, -2.47696382178)),\n",
    "        (12, (5.78173311542, 6.05513306539))]\n",
    "        \n",
    "    Returns\n",
    "    -------\n",
    "    centroids: a list of tuples such that centroids[i] is the centroid of class i\n",
    "    '''\n"
   ]
  },
  {
   "cell_type": "markdown",
   "metadata": {
    "slideshow": {
     "slide_type": "slide"
    }
   },
   "source": [
    "Test your function as follows:"
   ]
  },
  {
   "cell_type": "code",
   "execution_count": null,
   "metadata": {
    "slideshow": {
     "slide_type": "fragment"
    }
   },
   "outputs": [],
   "source": [
    "# Test function\n",
    "new_centroids = update_centroids_spark(classes_rdd)\n",
    "# Check result\n",
    "new_centroids[:3]"
   ]
  },
  {
   "cell_type": "markdown",
   "metadata": {
    "slideshow": {
     "slide_type": "slide"
    }
   },
   "source": [
    "Visualize the updated centroids:"
   ]
  },
  {
   "cell_type": "code",
   "execution_count": null,
   "metadata": {
    "slideshow": {
     "slide_type": "fragment"
    }
   },
   "outputs": [],
   "source": [
    "# Visualize\n",
    "plt = utils.plot_data(data_points_rdd.collect(),\n",
    "                      initial_centroids=centroids,\n",
    "                      new_centroids=new_centroids,\n",
    "                      classes=classes_rdd.map(lambda x: x[0]).collect())\n",
    "plt.show()"
   ]
  },
  {
   "cell_type": "markdown",
   "metadata": {
    "slideshow": {
     "slide_type": "slide"
    }
   },
   "source": [
    "<center>\n",
    "<div class=\"alert alert-block alert-info\">\n",
    "<b>Step 4:</b> Putting it all together<br/>\n",
    "    </div>\n",
    "    </center>"
   ]
  },
  {
   "cell_type": "markdown",
   "metadata": {
    "slideshow": {
     "slide_type": "fragment"
    }
   },
   "source": [
    "The final kmeans function is identical to the sequential one, except that it calls the Spark versions of <code>init_centroids</code>, <code>assign_classes</code> and <code>update_centroids</code>:"
   ]
  },
  {
   "cell_type": "code",
   "execution_count": null,
   "metadata": {
    "slideshow": {
     "slide_type": "fragment"
    }
   },
   "outputs": [],
   "source": [
    "def kmeans_spark(data_points_rdd, k, max_iter=100):\n",
    "    '''\n",
    "    Parameters\n",
    "    ----------\n",
    "    data_points_rdd : data_points_rdd : an RDD containing data points\n",
    "    k : desired number of centroids\n",
    "    max_iter : maximum number of iterations after which function will raise an exception\n",
    "    \n",
    "    Returns\n",
    "    -------\n",
    "    None\n",
    "    \n",
    "    Raises\n",
    "    ------\n",
    "    exception: if main loop doesn't converge after max_iter iterations\n",
    "    '''\n",
    "    \n",
    "    # Initialization\n",
    "    initial_centroids = init_centroids_spark(data_points_rdd, k)\n",
    "    centroids = initial_centroids\n",
    "    \n",
    "    # Main loop\n",
    "    for i in range(max_iter):\n",
    "        print(f'kmeans iteration {i}')\n",
    "        # Point assignment\n",
    "        classes_rdd = assign_classes_spark(data_points_rdd, centroids)\n",
    "        # Centroid update\n",
    "        new_centroids = update_centroids_spark(classes_rdd)\n",
    "        # Convergence test\n",
    "        if sorted(new_centroids) == sorted(centroids):\n",
    "            print(f'> Converged')\n",
    "            return classes_rdd, initial_centroids, centroids\n",
    "        centroids = new_centroids\n",
    "    raise('x Not converged')"
   ]
  },
  {
   "cell_type": "markdown",
   "metadata": {
    "slideshow": {
     "slide_type": "slide"
    }
   },
   "source": [
    "Test and visualize the result:"
   ]
  },
  {
   "cell_type": "code",
   "execution_count": null,
   "metadata": {
    "slideshow": {
     "slide_type": "fragment"
    }
   },
   "outputs": [],
   "source": [
    "# Test function\n",
    "classes_rdd, initial_centroids, final_centroids = kmeans_spark(data_points_rdd, k)\n",
    "# Visualize results\n",
    "plt = utils.plot_data(data_points_rdd.collect(),\n",
    "                      initial_centroids=initial_centroids,\n",
    "                      new_centroids=final_centroids, classes=classes_rdd.map(lambda x: x[0]).collect())\n",
    "plt.show()"
   ]
  },
  {
   "cell_type": "markdown",
   "metadata": {
    "slideshow": {
     "slide_type": "slide"
    }
   },
   "source": [
    "## Spark's Machine-Learning library"
   ]
  },
  {
   "cell_type": "markdown",
   "metadata": {
    "slideshow": {
     "slide_type": "fragment"
    }
   },
   "source": [
    "<center>\n",
    "<div class=\"alert alert-block alert-info\">\n",
    "Spark implements many machine-learning methods, see <a href=\"http://spark.apache.org/docs/latest/ml-guide.html\">here</a>.\n",
    "    </div>\n",
    "    </center>"
   ]
  },
  {
   "cell_type": "markdown",
   "metadata": {
    "slideshow": {
     "slide_type": "fragment"
    }
   },
   "source": [
    "We will use the KMeans implementation from the RDD-based MLLib."
   ]
  },
  {
   "cell_type": "markdown",
   "metadata": {
    "slideshow": {
     "slide_type": "slide"
    }
   },
   "source": [
    "Let's load the data in the format required by the library, an RDD of numeric numpy arrays:"
   ]
  },
  {
   "cell_type": "code",
   "execution_count": null,
   "metadata": {
    "slideshow": {
     "slide_type": "fragment"
    }
   },
   "outputs": [],
   "source": [
    "# Load and parse the data\n",
    "from numpy import array\n",
    "data = sc.textFile(\"data/session2/simulated-points.txt\")\n",
    "parsedData = data.map(lambda line: array([float(x) for x in line.split(' ')]))\n",
    "\n",
    "# Result sample\n",
    "parsedData.take(3)"
   ]
  },
  {
   "cell_type": "markdown",
   "metadata": {
    "slideshow": {
     "slide_type": "slide"
    }
   },
   "source": [
    "<ul style=\"list-style-image: url('images/do.png');\">\n",
    "    <li>Use the example <a href=\"http://spark.apache.org/docs/latest/mllib-clustering.html\">here</a> to train a kmeans model called <code>model</code> from <code>parsedData</code>.</li>    \n",
    "    </ul>"
   ]
  },
  {
   "cell_type": "code",
   "execution_count": null,
   "metadata": {
    "slideshow": {
     "slide_type": "fragment"
    }
   },
   "outputs": [],
   "source": [
    "# Build the model (cluster the data)\n",
    "from pyspark.mllib.clustering import KMeans, KMeansModel\n",
    "k = 30\n",
    "model = KMeans.train(parsedData, k, maxIterations=100, initializationMode=\"random\")"
   ]
  },
  {
   "cell_type": "markdown",
   "metadata": {
    "slideshow": {
     "slide_type": "slide"
    }
   },
   "source": [
    "A list of classes suitable for our visualization function can be obtained as follows:"
   ]
  },
  {
   "cell_type": "code",
   "execution_count": null,
   "metadata": {
    "slideshow": {
     "slide_type": "fragment"
    }
   },
   "outputs": [],
   "source": [
    "# Associate classes to data points \n",
    "classes = parsedData.map(lambda x: model.predict(x)).collect()\n",
    "\n",
    "# Result sample\n",
    "classes[:3]"
   ]
  },
  {
   "cell_type": "markdown",
   "metadata": {
    "slideshow": {
     "slide_type": "fragment"
    }
   },
   "source": [
    "Visualization:"
   ]
  },
  {
   "cell_type": "code",
   "execution_count": null,
   "metadata": {
    "slideshow": {
     "slide_type": "fragment"
    }
   },
   "outputs": [],
   "source": [
    "# Visualize results\n",
    "\n",
    "plt = utils.plot_data(parsedData.collect(), new_centroids=model.centers, classes=classes)\n",
    "plt.show()"
   ]
  },
  {
   "cell_type": "markdown",
   "metadata": {
    "slideshow": {
     "slide_type": "slide"
    }
   },
   "source": [
    "## Quiz"
   ]
  },
  {
   "cell_type": "markdown",
   "metadata": {
    "slideshow": {
     "slide_type": "fragment"
    }
   },
   "source": [
    "<div class=\"alert alert-block alert-info\">\n",
    "Random centroid selection is the best way to initialize kmeans.\n",
    "    \n",
    "&#x25a2; True\n",
    "    \n",
    "&#x25a2; False\n",
    "</div>"
   ]
  },
  {
   "cell_type": "markdown",
   "metadata": {
    "slideshow": {
     "slide_type": "slide"
    }
   },
   "source": [
    "<div class=\"alert alert-block alert-warning\">\n",
    "    To further improve our kmeans implementation, we could parallelize function <code>distance2</code>:\n",
    "    \n",
    "&#x25a2; True\n",
    "    \n",
    "&#x25a2; False\n",
    "</div>\n"
   ]
  },
  {
   "cell_type": "markdown",
   "metadata": {
    "slideshow": {
     "slide_type": "slide"
    }
   },
   "source": [
    "# Mini-project: clustering geographical regions"
   ]
  },
  {
   "cell_type": "markdown",
   "metadata": {
    "slideshow": {
     "slide_type": "fragment"
    }
   },
   "source": [
    "<center>\n",
    "<div class=\"alert alert-block alert-info\">\n",
    "    <b>Goal</b>: identify clusters of US states and Canadian provinces/territories based on their flora.\n",
    "    </div>\n",
    "    </center>"
   ]
  },
  {
   "cell_type": "markdown",
   "metadata": {
    "slideshow": {
     "slide_type": "fragment"
    }
   },
   "source": [
    "Data: US Department of Agriculture ([link](https://archive.ics.uci.edu/ml/datasets/Plants)), available in <code>data/session2/plants</code>.\n",
    "\n",
    "Plausible results:\n",
    "![Canada](data/session2/results.png)\n",
    "\n",
    "In your context: plants $\\rightarrow$ customer data."
   ]
  },
  {
   "cell_type": "markdown",
   "metadata": {
    "slideshow": {
     "slide_type": "slide"
    }
   },
   "source": [
    "## Data inspection\n",
    "\n",
    "Main data file:"
   ]
  },
  {
   "cell_type": "code",
   "execution_count": null,
   "metadata": {
    "slideshow": {
     "slide_type": "fragment"
    }
   },
   "outputs": [],
   "source": [
    "! head data/session2/plants/plants.data"
   ]
  },
  {
   "cell_type": "markdown",
   "metadata": {
    "slideshow": {
     "slide_type": "slide"
    }
   },
   "source": [
    "State abbreviations:"
   ]
  },
  {
   "cell_type": "code",
   "execution_count": null,
   "metadata": {
    "slideshow": {
     "slide_type": "fragment"
    }
   },
   "outputs": [],
   "source": [
    "! head data/session2/plants/stateabbr.txt"
   ]
  },
  {
   "cell_type": "markdown",
   "metadata": {
    "slideshow": {
     "slide_type": "slide"
    }
   },
   "source": [
    "## Helper functions\n",
    "\n",
    "Implemented in module <code>utils</code>.\n",
    "\n",
    "(1) Map plots, with colored states:"
   ]
  },
  {
   "cell_type": "code",
   "execution_count": null,
   "metadata": {
    "slideshow": {
     "slide_type": "fragment"
    }
   },
   "outputs": [],
   "source": [
    "import utils\n",
    "plt = utils.plot_states({'Quebec': 'blue', 'Nova Scotia': 'red', 'Texas': 'yellow', 'California': 'orange'})\n",
    "plt.show()"
   ]
  },
  {
   "cell_type": "markdown",
   "metadata": {
    "slideshow": {
     "slide_type": "fragment"
    }
   },
   "source": [
    "<center>\n",
    "<div class=\"alert alert-block alert-warning\">\n",
    "    <b>Note:</b> plotting takes a few seconds since the map of Canada, provided by Statistics Canada, is very (too) detailed for our purpose.\n",
    "    </div>\n",
    "    </center>"
   ]
  },
  {
   "cell_type": "markdown",
   "metadata": {
    "slideshow": {
     "slide_type": "slide"
    }
   },
   "source": [
    "(2) Conversion from state abbreviations (used in the dataset) to state names (used for the plotting):"
   ]
  },
  {
   "cell_type": "code",
   "execution_count": null,
   "metadata": {
    "slideshow": {
     "slide_type": "fragment"
    }
   },
   "outputs": [],
   "source": [
    "utils.convert_state('ca')"
   ]
  },
  {
   "cell_type": "markdown",
   "metadata": {
    "slideshow": {
     "slide_type": "slide"
    }
   },
   "source": [
    "(3) Binary encoding of plant lists (returned as a numpy array):"
   ]
  },
  {
   "cell_type": "code",
   "execution_count": null,
   "metadata": {
    "slideshow": {
     "slide_type": "fragment"
    }
   },
   "outputs": [],
   "source": [
    "utils.encode_plant_list([\"abelia\", \"abies\", \"abies alba\"])"
   ]
  },
  {
   "cell_type": "markdown",
   "metadata": {
    "slideshow": {
     "slide_type": "slide"
    }
   },
   "source": [
    "## Data preparation for Spark kmeans\n",
    "\n",
    "Required: an **RDD of arrays containing numbers**.\n",
    "\n",
    "In our case:\n",
    "- RDD elements: states\n",
    "- State arrays: binary encoding of the list of plants found in this state.\n",
    "\n",
    "Let's first load our data as an RDD:"
   ]
  },
  {
   "cell_type": "code",
   "execution_count": null,
   "metadata": {
    "slideshow": {
     "slide_type": "fragment"
    }
   },
   "outputs": [],
   "source": [
    "filename = 'data/session2/plants/plants.data'\n",
    "\n",
    "# Create a Spark context\n",
    "from pyspark.context import SparkContext\n",
    "sc = SparkContext.getOrCreate()\n",
    "\n",
    "# Load the text file\n",
    "plant_rdd = sc.textFile(filename)\n",
    "\n",
    "# See how the RDD looks like\n",
    "plant_rdd.take(5)"
   ]
  },
  {
   "cell_type": "markdown",
   "metadata": {
    "slideshow": {
     "slide_type": "fragment"
    }
   },
   "source": [
    "Let's split the RDD elements by <code>,</code> using a <code>map</code> transformation:"
   ]
  },
  {
   "cell_type": "code",
   "execution_count": null,
   "metadata": {
    "slideshow": {
     "slide_type": "slide"
    }
   },
   "outputs": [],
   "source": [
    "# Use str.split to split the comma-separated string in each RDD element\n",
    "plant_rdd = plant_rdd.map(lambda x: x.split(','))\n",
    "\n",
    "# See how the RDD looks like\n",
    "plant_rdd.take(2)"
   ]
  },
  {
   "cell_type": "markdown",
   "metadata": {
    "slideshow": {
     "slide_type": "fragment"
    }
   },
   "source": [
    "<center>\n",
    "<div class=\"alert alert-block alert-danger\">\n",
    "    Our RDD still has one element per <b>plant</b>. Instead, we want each RDD element to represent a <b>state</b>.\n",
    "</div>\n",
    "</center>"
   ]
  },
  {
   "cell_type": "markdown",
   "metadata": {
    "slideshow": {
     "slide_type": "fragment"
    }
   },
   "source": [
    "<ul style=\"list-style-image: url('images/do.png');\">\n",
    "    <li>Transform <code>plant_rdd</code> with a MapReduce job where:\n",
    "        <ul>\n",
    "            <li><code>map</code> produces <code>state,plant</code> pairs</li>\n",
    "            <li><code>reduce</code> aggregates plant names by state</li>\n",
    "        </ul>\n",
    "    </li>"
   ]
  },
  {
   "cell_type": "markdown",
   "metadata": {
    "slideshow": {
     "slide_type": "fragment"
    }
   },
   "source": [
    "<center>\n",
    "<div class=\"alert alert-block alert-info\">\n",
    "<b>Note:</b> this is akin to an inverted index\n",
    "</div>\n",
    "</center>"
   ]
  },
  {
   "cell_type": "markdown",
   "metadata": {
    "slideshow": {
     "slide_type": "fragment"
    }
   },
   "source": [
    "<center>\n",
    "<div class=\"alert alert-block alert-info\">\n",
    "<code>map</code> produces multiple key-value pairs for each input element $\\rightarrow$ use <code>flatMap</code>.\n",
    "</div>\n",
    "</center>"
   ]
  },
  {
   "cell_type": "markdown",
   "metadata": {
    "slideshow": {
     "slide_type": "slide"
    }
   },
   "source": [
    "<ul style=\"list-style-image: url('images/do.png');\">\n",
    "    <li>Use a <code>map</code> transformation to convert:\n",
    "        <ul>\n",
    "            <li>state abbreviations to names, using <code>utils.convert_state</code></li>\n",
    "            <li>plant names to binary vectors, using <code>utils.encode_plant_list</code></li>\n",
    "        </ul>\n",
    "</ul>"
   ]
  },
  {
   "cell_type": "markdown",
   "metadata": {
    "slideshow": {
     "slide_type": "slide"
    }
   },
   "source": [
    "## kmeans classification\n",
    "\n",
    "Our data is now ready for kmeans classification in Spark. \n",
    "\n",
    "<ul style=\"list-style-image: url('images/do.png');\">\n",
    "    <li>Use Spark's MLlib to classify <code>states_rdd</code> with kmeans. Tip: apply KMeans on an RDD created from <code>states_rdd</code> where the state name is removed</li>\n",
    "    </ul>"
   ]
  },
  {
   "cell_type": "markdown",
   "metadata": {
    "slideshow": {
     "slide_type": "fragment"
    }
   },
   "source": [
    "<center>\n",
    "<div class=\"alert alert-block alert-warning\">\n",
    "    <b>Note</b>: kmeans classification takes time but our program is ready for deployment on a large-scale cluster!\n",
    "    </div>\n",
    "    </center>"
   ]
  },
  {
   "cell_type": "markdown",
   "metadata": {
    "slideshow": {
     "slide_type": "slide"
    }
   },
   "source": [
    "Finally, let's associate state names with class numbers:"
   ]
  },
  {
   "cell_type": "code",
   "execution_count": null,
   "metadata": {
    "slideshow": {
     "slide_type": "fragment"
    }
   },
   "outputs": [],
   "source": [
    "classes = states_rdd.map(lambda x: (x[0], clusters.predict(x[1]))).collect()\n",
    "classes"
   ]
  },
  {
   "cell_type": "markdown",
   "metadata": {
    "slideshow": {
     "slide_type": "slide"
    }
   },
   "source": [
    "## Data vizualisation\n",
    "\n",
    "Let's visualize the result:"
   ]
  },
  {
   "cell_type": "code",
   "execution_count": null,
   "metadata": {
    "slideshow": {
     "slide_type": "fragment"
    }
   },
   "outputs": [],
   "source": [
    "# Map class integers to color names\n",
    "from matplotlib import colors as mcolors\n",
    "colors = [ x for x in list(mcolors.XKCD_COLORS.keys()) ]\n",
    "classes_dict = {}\n",
    "for c in classes:\n",
    "    classes_dict[c[0]] = colors[c[1]]\n",
    "\n",
    "# Plot result\n",
    "plt = utils.plot_states(classes_dict)\n",
    "plt.show()"
   ]
  },
  {
   "cell_type": "markdown",
   "metadata": {
    "slideshow": {
     "slide_type": "fragment"
    }
   },
   "source": [
    "<center>\n",
    "<div class=\"alert alert-block alert-info\">\n",
    "    <b>Evaluation:</b> does this result look relevant?\n",
    "</div>\n",
    "</center>"
   ]
  },
  {
   "cell_type": "markdown",
   "metadata": {
    "slideshow": {
     "slide_type": "slide"
    }
   },
   "source": [
    "# Recap"
   ]
  },
  {
   "cell_type": "markdown",
   "metadata": {
    "slideshow": {
     "slide_type": "fragment"
    }
   },
   "source": [
    "\n",
    "<div class=\"alert alert-block alert-success\">\n",
    "    &#x2611; Get familiar with <b>unsupervised clustering</b><br/>\n",
    "    &#x2611; Understand the <b>kmeans</b> algorithm\n",
    "</div>\n",
    "Implemented kmeans in Python"
   ]
  },
  {
   "cell_type": "markdown",
   "metadata": {
    "slideshow": {
     "slide_type": "fragment"
    }
   },
   "source": [
    "<div class=\"alert alert-block alert-success\">\n",
    "    &#x2611; Practice with Spark <b>RDDs</b><br/>\n",
    "</div>\n",
    "Implemented kmeans in Spark. Transformed geographical data to Spark's MLlib format."
   ]
  },
  {
   "cell_type": "markdown",
   "metadata": {
    "slideshow": {
     "slide_type": "fragment"
    }
   },
   "source": [
    "<div class=\"alert alert-block alert-success\">\n",
    "    &#x2611; Try <b>Spark's MLlib clustering</b> library <br/>\n",
    "    &#x2611; Apply unsupervised clustering to find <b>geographical clusters</b>\n",
    "</div>\n",
    "Clustered US states and Canadian provinces and territories from USDA plant dataset, using Spark's MLlib clustering library."
   ]
  }
 ],
 "metadata": {
  "celltoolbar": "Slideshow",
  "kernelspec": {
   "display_name": "Python 3",
   "language": "python",
   "name": "python3"
  },
  "language_info": {
   "codemirror_mode": {
    "name": "ipython",
    "version": 3
   },
   "file_extension": ".py",
   "mimetype": "text/x-python",
   "name": "python",
   "nbconvert_exporter": "python",
   "pygments_lexer": "ipython3",
   "version": "3.8.3"
  },
  "toc": {
   "base_numbering": 1,
   "nav_menu": {},
   "number_sections": true,
   "sideBar": true,
   "skip_h1_title": false,
   "title_cell": "Table of Contents",
   "title_sidebar": "Contents",
   "toc_cell": false,
   "toc_position": {
    "height": "931px",
    "left": "229px",
    "top": "67.1333px",
    "width": "428.8px"
   },
   "toc_section_display": true,
   "toc_window_display": false
  }
 },
 "nbformat": 4,
 "nbformat_minor": 4
}
