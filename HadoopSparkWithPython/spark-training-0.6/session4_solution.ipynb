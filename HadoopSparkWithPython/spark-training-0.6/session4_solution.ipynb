{
 "cells": [
  {
   "cell_type": "markdown",
   "metadata": {
    "slideshow": {
     "slide_type": "slide"
    }
   },
   "source": [
    "<div style=\"background:black\">\n",
    "    <center>\n",
    "<img src=\"./images/session4/title.png\" alt=\"Title\"/>\n",
    "    </center>\n",
    "</div>"
   ]
  },
  {
   "cell_type": "markdown",
   "metadata": {
    "slideshow": {
     "slide_type": "slide"
    }
   },
   "source": [
    "\n",
    "<div class=\"alert alert-block alert-success\">\n",
    "<center>\n",
    "Today's objectives<br/><br/>\n",
    "    </center>\n",
    "    &#x25a2; Practice with a <b>real cluster</b><br/><br/>\n",
    "    &#x25a2; Get familiar with the concept of <b>data streams</b><br/>\n",
    "    &#x25a2; Practice with Spark's <b>DStream</b> API<br/>\n",
    "    &#x25a2; Analyze a data stream for <b>Human Activity Recognition</b> in the Internet of Things\n",
    "</div>\n"
   ]
  },
  {
   "cell_type": "markdown",
   "metadata": {
    "slideshow": {
     "slide_type": "slide"
    }
   },
   "source": [
    "# Cluster deployment"
   ]
  },
  {
   "cell_type": "markdown",
   "metadata": {
    "slideshow": {
     "slide_type": "fragment"
    }
   },
   "source": [
    "<div class=\"alert alert-block alert-info\">\n",
    "    An <b>HDFS</b> and <b>YARN</b> cluster was deployed by the Ericsson support team. We will use it to practice with HDFS and with Spark applications.\n",
    "</div>"
   ]
  },
  {
   "cell_type": "markdown",
   "metadata": {
    "slideshow": {
     "slide_type": "slide"
    }
   },
   "source": [
    "## More on HDFS\n",
    "\n",
    "See slides <a href=\"pdf/session4/HDFS_intro.pdf\">here</a>"
   ]
  },
  {
   "cell_type": "markdown",
   "metadata": {
    "slideshow": {
     "slide_type": "slide"
    }
   },
   "source": [
    "## HDFS examples"
   ]
  },
  {
   "cell_type": "markdown",
   "metadata": {
    "slideshow": {
     "slide_type": "fragment"
    }
   },
   "source": [
    "HDFS is accessible using command <code>hdfs dfs</code>\n",
    "\n",
    "<ul style=\"list-style-image: url('images/do.png');\">\n",
    "    <li>Open a terminal and skim through the output of <code>hdfs dfs --help</code></li>\n",
    "</ul>"
   ]
  },
  {
   "cell_type": "markdown",
   "metadata": {
    "slideshow": {
     "slide_type": "fragment"
    }
   },
   "source": [
    "Given that the file system is available at <code>hdfs://10.0.2.8:9000</code> (use this URL with option <code>--fs</code> of <code>hdfs df</code>):\n",
    "            \n",
    "            \n",
    "<ul style=\"list-style-image: url('images/do.png');\">\n",
    "    <li>List the root directory (<code>/</code>) of the file system</li>\n",
    "</ul>"
   ]
  },
  {
   "cell_type": "markdown",
   "metadata": {
    "slideshow": {
     "slide_type": "fragment"
    }
   },
   "source": [
    "<ul style=\"list-style-image: url('images/do.png');\">\n",
    "    <li>Create a directory named after your name under <code>/user</code></li>\n",
    "</ul>"
   ]
  },
  {
   "cell_type": "markdown",
   "metadata": {
    "slideshow": {
     "slide_type": "fragment"
    }
   },
   "source": [
    "<ul style=\"list-style-image: url('images/do.png');\">\n",
    "    <li>Create a text file and upload it to your directory</li>\n",
    "</ul>"
   ]
  },
  {
   "cell_type": "markdown",
   "metadata": {
    "slideshow": {
     "slide_type": "slide"
    }
   },
   "source": [
    "<ul style=\"list-style-image: url('images/do.png');\">\n",
    "    <li>Using the <code>cat</code> command, display the content of the text file as stored on the HDFS</li>\n",
    "</ul>"
   ]
  },
  {
   "cell_type": "markdown",
   "metadata": {
    "slideshow": {
     "slide_type": "fragment"
    }
   },
   "source": [
    "<ul style=\"list-style-image: url('images/do.png');\">\n",
    "    <li>Download the text file again, and check its content</li>\n",
    "</ul>"
   ]
  },
  {
   "cell_type": "markdown",
   "metadata": {
    "slideshow": {
     "slide_type": "fragment"
    }
   },
   "source": [
    "<ul style=\"list-style-image: url('images/do.png');\">\n",
    "    <li>Remove the text file from HDFS</li>\n",
    "</ul>"
   ]
  },
  {
   "cell_type": "markdown",
   "metadata": {
    "slideshow": {
     "slide_type": "fragment"
    }
   },
   "source": [
    "<ul style=\"list-style-image: url('images/do.png');\">\n",
    "    <li>Using command <code>hdfs fsck</code>, inspect the status of the files under your directory</li>\n",
    "</ul>\n"
   ]
  },
  {
   "cell_type": "markdown",
   "metadata": {
    "slideshow": {
     "slide_type": "slide"
    }
   },
   "source": [
    "## Quiz"
   ]
  },
  {
   "cell_type": "markdown",
   "metadata": {
    "slideshow": {
     "slide_type": "fragment"
    }
   },
   "source": [
    "<div class=\"alert alert-block alert-info\">\n",
    "HDFS data nodes are also compute nodes:<br/>\n",
    "&#x25a2; True\n",
    "    \n",
    "&#x25a2; False\n",
    "</div>"
   ]
  },
  {
   "cell_type": "markdown",
   "metadata": {
    "slideshow": {
     "slide_type": "slide"
    }
   },
   "source": [
    "<div class=\"alert alert-block alert-info\">\n",
    "HDFS data nodes are also compute nodes:<br/>\n",
    "&#x2611; True\n",
    "    \n",
    "&#x25a2; False\n",
    "</div>\n",
    "This is a key feature to ensure data locality (see Session 1, Key concept 3)."
   ]
  },
  {
   "cell_type": "markdown",
   "metadata": {
    "slideshow": {
     "slide_type": "slide"
    }
   },
   "source": [
    "<div class=\"alert alert-block alert-warning\">\n",
    "HDFS allows clusters to scale horizontally, which is very cost-efficient:<br/>\n",
    "&#x25a2; True\n",
    "    \n",
    "&#x25a2;  False\n",
    "</div>"
   ]
  },
  {
   "cell_type": "markdown",
   "metadata": {
    "slideshow": {
     "slide_type": "slide"
    }
   },
   "source": [
    "<div class=\"alert alert-block alert-warning\">\n",
    "HDFS allows clusters to scale horizontally, which is very cost-efficient:<br/>\n",
    "    &#x25a2; True\n",
    "    \n",
    "&#x2611; False\n",
    "</div>\n",
    "\n",
    "Since all cluster nodes are both compute and storage nodes in an HDFS cluster, adding more nodes to the cluster increases the overall storage and compute capacity of the infrastucture. This is called <b>horizontal scaling</b>. Horizontal scaling in HDFS is very cost efficient to adjust the infrastructure to data-intensive applications of various sizes. However, HDFS wouldn't be a cost-effective model when the cluster needs to accomodate a <b>mix of data-intensive and compute-intensive applications</b>. In this case, storage available on compute nodes would remain unused when compte-intensive applications are run."
   ]
  },
  {
   "cell_type": "markdown",
   "metadata": {
    "slideshow": {
     "slide_type": "slide"
    }
   },
   "source": [
    "<div class=\"alert alert-block alert-info\">\n",
    "It is important for data stored on HDFS to remain balanced among data nodes:<br/>\n",
    "&#x25a2; True\n",
    "    \n",
    "&#x25a2; False\n",
    "</div>\n"
   ]
  },
  {
   "cell_type": "markdown",
   "metadata": {
    "slideshow": {
     "slide_type": "slide"
    }
   },
   "source": [
    "<div class=\"alert alert-block alert-info\">\n",
    "It is important for data stored on HDFS to remain balanced among data nodes:<br/>\n",
    "&#x2611; True\n",
    "    \n",
    "&#x25a2; False\n",
    "</div>\n",
    "An imbalanced cluster is detrimental to both performance and reliability."
   ]
  },
  {
   "cell_type": "markdown",
   "metadata": {
    "slideshow": {
     "slide_type": "slide"
    }
   },
   "source": [
    "## Running Spark on a cluster"
   ]
  },
  {
   "cell_type": "markdown",
   "metadata": {
    "slideshow": {
     "slide_type": "fragment"
    }
   },
   "source": [
    "See slides [here](https://docs.google.com/presentation/d/1ub1Rlpe-18RZ_f432k8wx9TB-8YYl8DOrZRcIzNp9pA/edit#slide=id.p)"
   ]
  },
  {
   "cell_type": "markdown",
   "metadata": {
    "slideshow": {
     "slide_type": "fragment"
    }
   },
   "source": [
    "Spark jobs can be submitted to a cluster using command <code>spark-submit</code>\n",
    "\n",
    "<ul style=\"list-style-image: url('images/do.png');\">\n",
    "    <li>Open a terminal and skim through the output of <code>spark-submit --help</code></li>\n",
    "</ul>"
   ]
  },
  {
   "cell_type": "markdown",
   "metadata": {
    "slideshow": {
     "slide_type": "fragment"
    }
   },
   "source": [
    "File <code>test_cluster/spark_test.py</code> contains a simple Spark program.\n",
    "\n",
    "<ul style=\"list-style-image: url('images/do.png');\">\n",
    "    <li>Run this script with <code>spark-submit</code>, without using any option. The default deploy mode is standalone (the program runs locally).</li>\n",
    "</ul>"
   ]
  },
  {
   "cell_type": "markdown",
   "metadata": {
    "slideshow": {
     "slide_type": "fragment"
    }
   },
   "source": [
    "<ul style=\"list-style-image: url('images/do.png');\">\n",
    "    <li>Submit this script to the Spark cluster, keeping in mind that:\n",
    "    <ol>\n",
    "        <li>The scheduler is YARN</li>\n",
    "        <li>The deply mode must be <code>cluster</code>\n",
    "        <li>You will need to use the following option in <code>spark-submit</code>: <code>--conf spark.yarn.stagingDir=hdfs://10.0.2.8:9000/user</code>\n",
    "        </ol> \n",
    "    </li>\n",
    "</ul>"
   ]
  },
  {
   "cell_type": "markdown",
   "metadata": {
    "slideshow": {
     "slide_type": "slide"
    }
   },
   "source": [
    "<center>\n",
    "<div class=\"alert alert-block alert-success\">\n",
    "   Spark can also read files from HDFS\n",
    "    </div>\n",
    "    </center>"
   ]
  },
  {
   "cell_type": "markdown",
   "metadata": {
    "slideshow": {
     "slide_type": "fragment"
    }
   },
   "source": [
    "\n",
    "File <code>session1_cluster.py</code> contains a Spark program extracted from the use case in session 1. It takes a single argument, the tree file to process (for instance <code>data/session1/frenepublicinjection2015.csv</code>).\n",
    "    \n",
    "<ul style=\"list-style-image: url('images/do.png');\">\n",
    "    <li>Run this Spark program <b>locally</b>, on a <b>local file</b>.</li>\n",
    "</ul>"
   ]
  },
  {
   "cell_type": "markdown",
   "metadata": {
    "slideshow": {
     "slide_type": "fragment"
    }
   },
   "source": [
    "\n",
    "<ul style=\"list-style-image: url('images/do.png');\">\n",
    "        <li>Upload the input file to HDFS and run the Spark program <b>locally</b>, on the <b>HDFS file</b>.</li>\n",
    "</ul>"
   ]
  },
  {
   "cell_type": "markdown",
   "metadata": {
    "slideshow": {
     "slide_type": "fragment"
    }
   },
   "source": [
    "\n",
    "<ul style=\"list-style-image: url('images/do.png');\">\n",
    "        <li>Run the Spark program <b>on the cluster</b>, on the <b>HDFS file</b>.</li>\n",
    "</ul>"
   ]
  },
  {
   "cell_type": "markdown",
   "metadata": {
    "slideshow": {
     "slide_type": "slide"
    }
   },
   "source": [
    "# Introduction to data streams"
   ]
  },
  {
   "cell_type": "markdown",
   "metadata": {
    "slideshow": {
     "slide_type": "fragment"
    }
   },
   "source": [
    "See slides [here](https://docs.google.com/presentation/d/1NtjwD80gHwuCyloC4TmH-_tZyCumz52Ise_jrRWPG5s/edit?usp=sharing)"
   ]
  },
  {
   "cell_type": "markdown",
   "metadata": {
    "slideshow": {
     "slide_type": "slide"
    }
   },
   "source": [
    "# Spark data stream APIs"
   ]
  },
  {
   "cell_type": "markdown",
   "metadata": {
    "slideshow": {
     "slide_type": "fragment"
    }
   },
   "source": [
    "<center>\n",
    "<div class=\"alert alert-block alert-info\">\n",
    "   Spark has two APIs to handle data streams: <a href=\"http://spark.apache.org/docs/latest/structured-streaming-programming-guide.html\"><b>Structured Streaming</b></a> (DataFrames) and <a href=\"http://spark.apache.org/docs/latest/streaming-programming-guide.html\"><b>Discretized Streams</b></a> (RDDs).\n",
    "    </div>\n",
    "    </center>"
   ]
  },
  {
   "cell_type": "markdown",
   "metadata": {
    "slideshow": {
     "slide_type": "slide"
    }
   },
   "source": [
    "## Discretized Streams (DStream)"
   ]
  },
  {
   "cell_type": "markdown",
   "metadata": {
    "slideshow": {
     "slide_type": "fragment"
    }
   },
   "source": [
    "DStreams work by splitting input data into batches, represented as RDDs:\n",
    "\n",
    "<img src=\"http://spark.apache.org/docs/latest/img/streaming-flow.png\"/>"
   ]
  },
  {
   "cell_type": "markdown",
   "metadata": {
    "slideshow": {
     "slide_type": "fragment"
    }
   },
   "source": [
    "<center>\n",
    "<div class=\"alert alert-block alert-success\">\n",
    "   Batches can be processed using Spark's core RDD API:\n",
    "    </div>\n",
    "    </center>"
   ]
  },
  {
   "cell_type": "markdown",
   "metadata": {
    "slideshow": {
     "slide_type": "fragment"
    }
   },
   "source": [
    "<img src=\"https://spark.apache.org/docs/latest/img/streaming-dstream-ops.png\" alt=\"stream-rdd\"/>"
   ]
  },
  {
   "cell_type": "markdown",
   "metadata": {
    "slideshow": {
     "slide_type": "slide"
    }
   },
   "source": [
    "In real life, streams originate in sources such as:\n",
    "- Twitter\n",
    "- [Apache Kafka](http://kafka.apache.org)\n",
    "- [Apache Flume](https://flume.apache.org/)"
   ]
  },
  {
   "cell_type": "markdown",
   "metadata": {
    "slideshow": {
     "slide_type": "fragment"
    }
   },
   "source": [
    "Data stream sources in Spark:\n",
    "<ul>\n",
    "    <li> Files: <a href=\"http://spark.apache.org/docs/latest/api/python/pyspark.streaming.html?highlight=textfilestream#pyspark.streaming.StreamingContext.textFileStream\"><code>textFileStream</code></a></li>\n",
    "    <li>Network: <a href=\"http://spark.apache.org/docs/latest/api/python/pyspark.streaming.html?highlight=textfilestream#pyspark.streaming.StreamingContext.socketTextStream\"><code>socketTextStream</code></a></li>\n",
    "    <li>A list of RDDS: <a href=\"http://spark.apache.org/docs/latest/api/python/pyspark.streaming.html#pyspark.streaming.StreamingContext.queueStream\"><code>queueStream</code></a></li>"
   ]
  },
  {
   "cell_type": "markdown",
   "metadata": {
    "slideshow": {
     "slide_type": "fragment"
    }
   },
   "source": [
    "<center>\n",
    "<div class=\"alert alert-block alert-info\">\n",
    "    In this session we will use <code>queueStream</code>, to simplify deployment\n",
    "    </div>\n",
    "    </center>"
   ]
  },
  {
   "cell_type": "markdown",
   "metadata": {
    "slideshow": {
     "slide_type": "slide"
    }
   },
   "source": [
    "A stream is created from a dedicated stream context:"
   ]
  },
  {
   "cell_type": "code",
   "execution_count": 1,
   "metadata": {
    "slideshow": {
     "slide_type": "fragment"
    }
   },
   "outputs": [],
   "source": [
    "from pyspark import SparkContext\n",
    "from pyspark.streaming import StreamingContext\n",
    "\n",
    "sc = SparkContext.getOrCreate() \n",
    "ssc = StreamingContext(sc, 1) # Batches will be pulled every second"
   ]
  },
  {
   "cell_type": "markdown",
   "metadata": {
    "slideshow": {
     "slide_type": "fragment"
    }
   },
   "source": [
    "In this example, we will implement classical WordCount. Our stream will be simulated from a list of RDDs:"
   ]
  },
  {
   "cell_type": "code",
   "execution_count": 2,
   "metadata": {
    "slideshow": {
     "slide_type": "fragment"
    }
   },
   "outputs": [],
   "source": [
    "rdds = [ sc.parallelize([ \"one\", \"two\", \"three\"]),\n",
    "           sc.parallelize([ \"one\", \"three\", \"four\"]),\n",
    "           sc.parallelize([\"two\", \"five\", \"six\"])\n",
    "         ]"
   ]
  },
  {
   "cell_type": "markdown",
   "metadata": {
    "slideshow": {
     "slide_type": "slide"
    }
   },
   "source": [
    "The stream is defined using <code>queueStream</code>:"
   ]
  },
  {
   "cell_type": "code",
   "execution_count": 3,
   "metadata": {
    "slideshow": {
     "slide_type": "fragment"
    }
   },
   "outputs": [],
   "source": [
    "stream = ssc.queueStream(rdds)"
   ]
  },
  {
   "cell_type": "markdown",
   "metadata": {
    "slideshow": {
     "slide_type": "slide"
    }
   },
   "source": [
    "Many transformations available on RDDs can be directly applied to DStreams, as documented [here](https://spark.apache.org/docs/latest/streaming-programming-guide.html#transformations-on-dstreams). Here we implement a simple MapReduce task on the stream:"
   ]
  },
  {
   "cell_type": "code",
   "execution_count": 4,
   "metadata": {
    "slideshow": {
     "slide_type": "fragment"
    }
   },
   "outputs": [],
   "source": [
    "pairs = stream.map(lambda word: (word, 1))"
   ]
  },
  {
   "cell_type": "code",
   "execution_count": 5,
   "metadata": {
    "slideshow": {
     "slide_type": "fragment"
    }
   },
   "outputs": [],
   "source": [
    "# Count each word in each batch\n",
    "counts = pairs.reduceByKey(lambda x, y: x + y)\n",
    "\n",
    "# Print the first ten elements of each RDD generated in this DStream to the console\n",
    "counts.pprint()"
   ]
  },
  {
   "cell_type": "markdown",
   "metadata": {
    "slideshow": {
     "slide_type": "slide"
    }
   },
   "source": [
    "Until now, processing hasn't started. The stream will start receiving data when the `start` function is called:"
   ]
  },
  {
   "cell_type": "code",
   "execution_count": 6,
   "metadata": {
    "scrolled": true,
    "slideshow": {
     "slide_type": "fragment"
    }
   },
   "outputs": [
    {
     "name": "stdout",
     "output_type": "stream",
     "text": [
      "-------------------------------------------\n",
      "Time: 2020-08-23 23:54:37\n",
      "-------------------------------------------\n",
      "('two', 1)\n",
      "('three', 1)\n",
      "('one', 1)\n",
      "\n",
      "-------------------------------------------\n",
      "Time: 2020-08-23 23:54:38\n",
      "-------------------------------------------\n",
      "('three', 1)\n",
      "('four', 1)\n",
      "('one', 1)\n",
      "\n",
      "-------------------------------------------\n",
      "Time: 2020-08-23 23:54:39\n",
      "-------------------------------------------\n",
      "('two', 1)\n",
      "('five', 1)\n",
      "('six', 1)\n",
      "\n",
      "-------------------------------------------\n",
      "Time: 2020-08-23 23:54:40\n",
      "-------------------------------------------\n",
      "\n",
      "-------------------------------------------\n",
      "Time: 2020-08-23 23:54:41\n",
      "-------------------------------------------\n",
      "\n"
     ]
    },
    {
     "ename": "KeyboardInterrupt",
     "evalue": "",
     "output_type": "error",
     "traceback": [
      "\u001b[0;31m---------------------------------------------------------------------------\u001b[0m",
      "\u001b[0;31mKeyboardInterrupt\u001b[0m                         Traceback (most recent call last)",
      "\u001b[0;32m<ipython-input-6-d9a5cad3daa2>\u001b[0m in \u001b[0;36m<module>\u001b[0;34m\u001b[0m\n\u001b[1;32m      1\u001b[0m \u001b[0mssc\u001b[0m\u001b[0;34m.\u001b[0m\u001b[0mstart\u001b[0m\u001b[0;34m(\u001b[0m\u001b[0;34m)\u001b[0m             \u001b[0;31m# Start the computation\u001b[0m\u001b[0;34m\u001b[0m\u001b[0;34m\u001b[0m\u001b[0m\n\u001b[0;32m----> 2\u001b[0;31m \u001b[0mssc\u001b[0m\u001b[0;34m.\u001b[0m\u001b[0mawaitTermination\u001b[0m\u001b[0;34m(\u001b[0m\u001b[0;34m)\u001b[0m  \u001b[0;31m# Wait for the computation to terminate\u001b[0m\u001b[0;34m\u001b[0m\u001b[0;34m\u001b[0m\u001b[0m\n\u001b[0m",
      "\u001b[0;32m~/code/spark-training/venv/lib/python3.8/site-packages/pyspark/streaming/context.py\u001b[0m in \u001b[0;36mawaitTermination\u001b[0;34m(self, timeout)\u001b[0m\n\u001b[1;32m    187\u001b[0m         \"\"\"\n\u001b[1;32m    188\u001b[0m         \u001b[0;32mif\u001b[0m \u001b[0mtimeout\u001b[0m \u001b[0;32mis\u001b[0m \u001b[0;32mNone\u001b[0m\u001b[0;34m:\u001b[0m\u001b[0;34m\u001b[0m\u001b[0;34m\u001b[0m\u001b[0m\n\u001b[0;32m--> 189\u001b[0;31m             \u001b[0mself\u001b[0m\u001b[0;34m.\u001b[0m\u001b[0m_jssc\u001b[0m\u001b[0;34m.\u001b[0m\u001b[0mawaitTermination\u001b[0m\u001b[0;34m(\u001b[0m\u001b[0;34m)\u001b[0m\u001b[0;34m\u001b[0m\u001b[0;34m\u001b[0m\u001b[0m\n\u001b[0m\u001b[1;32m    190\u001b[0m         \u001b[0;32melse\u001b[0m\u001b[0;34m:\u001b[0m\u001b[0;34m\u001b[0m\u001b[0;34m\u001b[0m\u001b[0m\n\u001b[1;32m    191\u001b[0m             \u001b[0mself\u001b[0m\u001b[0;34m.\u001b[0m\u001b[0m_jssc\u001b[0m\u001b[0;34m.\u001b[0m\u001b[0mawaitTerminationOrTimeout\u001b[0m\u001b[0;34m(\u001b[0m\u001b[0mint\u001b[0m\u001b[0;34m(\u001b[0m\u001b[0mtimeout\u001b[0m \u001b[0;34m*\u001b[0m \u001b[0;36m1000\u001b[0m\u001b[0;34m)\u001b[0m\u001b[0;34m)\u001b[0m\u001b[0;34m\u001b[0m\u001b[0;34m\u001b[0m\u001b[0m\n",
      "\u001b[0;32m~/code/spark-training/venv/lib/python3.8/site-packages/py4j/java_gateway.py\u001b[0m in \u001b[0;36m__call__\u001b[0;34m(self, *args)\u001b[0m\n\u001b[1;32m   1301\u001b[0m             \u001b[0mproto\u001b[0m\u001b[0;34m.\u001b[0m\u001b[0mEND_COMMAND_PART\u001b[0m\u001b[0;34m\u001b[0m\u001b[0;34m\u001b[0m\u001b[0m\n\u001b[1;32m   1302\u001b[0m \u001b[0;34m\u001b[0m\u001b[0m\n\u001b[0;32m-> 1303\u001b[0;31m         \u001b[0manswer\u001b[0m \u001b[0;34m=\u001b[0m \u001b[0mself\u001b[0m\u001b[0;34m.\u001b[0m\u001b[0mgateway_client\u001b[0m\u001b[0;34m.\u001b[0m\u001b[0msend_command\u001b[0m\u001b[0;34m(\u001b[0m\u001b[0mcommand\u001b[0m\u001b[0;34m)\u001b[0m\u001b[0;34m\u001b[0m\u001b[0;34m\u001b[0m\u001b[0m\n\u001b[0m\u001b[1;32m   1304\u001b[0m         return_value = get_return_value(\n\u001b[1;32m   1305\u001b[0m             answer, self.gateway_client, self.target_id, self.name)\n",
      "\u001b[0;32m~/code/spark-training/venv/lib/python3.8/site-packages/py4j/java_gateway.py\u001b[0m in \u001b[0;36msend_command\u001b[0;34m(self, command, retry, binary)\u001b[0m\n\u001b[1;32m   1031\u001b[0m         \u001b[0mconnection\u001b[0m \u001b[0;34m=\u001b[0m \u001b[0mself\u001b[0m\u001b[0;34m.\u001b[0m\u001b[0m_get_connection\u001b[0m\u001b[0;34m(\u001b[0m\u001b[0;34m)\u001b[0m\u001b[0;34m\u001b[0m\u001b[0;34m\u001b[0m\u001b[0m\n\u001b[1;32m   1032\u001b[0m         \u001b[0;32mtry\u001b[0m\u001b[0;34m:\u001b[0m\u001b[0;34m\u001b[0m\u001b[0;34m\u001b[0m\u001b[0m\n\u001b[0;32m-> 1033\u001b[0;31m             \u001b[0mresponse\u001b[0m \u001b[0;34m=\u001b[0m \u001b[0mconnection\u001b[0m\u001b[0;34m.\u001b[0m\u001b[0msend_command\u001b[0m\u001b[0;34m(\u001b[0m\u001b[0mcommand\u001b[0m\u001b[0;34m)\u001b[0m\u001b[0;34m\u001b[0m\u001b[0;34m\u001b[0m\u001b[0m\n\u001b[0m\u001b[1;32m   1034\u001b[0m             \u001b[0;32mif\u001b[0m \u001b[0mbinary\u001b[0m\u001b[0;34m:\u001b[0m\u001b[0;34m\u001b[0m\u001b[0;34m\u001b[0m\u001b[0m\n\u001b[1;32m   1035\u001b[0m                 \u001b[0;32mreturn\u001b[0m \u001b[0mresponse\u001b[0m\u001b[0;34m,\u001b[0m \u001b[0mself\u001b[0m\u001b[0;34m.\u001b[0m\u001b[0m_create_connection_guard\u001b[0m\u001b[0;34m(\u001b[0m\u001b[0mconnection\u001b[0m\u001b[0;34m)\u001b[0m\u001b[0;34m\u001b[0m\u001b[0;34m\u001b[0m\u001b[0m\n",
      "\u001b[0;32m~/code/spark-training/venv/lib/python3.8/site-packages/py4j/java_gateway.py\u001b[0m in \u001b[0;36msend_command\u001b[0;34m(self, command)\u001b[0m\n\u001b[1;32m   1198\u001b[0m \u001b[0;34m\u001b[0m\u001b[0m\n\u001b[1;32m   1199\u001b[0m         \u001b[0;32mtry\u001b[0m\u001b[0;34m:\u001b[0m\u001b[0;34m\u001b[0m\u001b[0;34m\u001b[0m\u001b[0m\n\u001b[0;32m-> 1200\u001b[0;31m             \u001b[0manswer\u001b[0m \u001b[0;34m=\u001b[0m \u001b[0msmart_decode\u001b[0m\u001b[0;34m(\u001b[0m\u001b[0mself\u001b[0m\u001b[0;34m.\u001b[0m\u001b[0mstream\u001b[0m\u001b[0;34m.\u001b[0m\u001b[0mreadline\u001b[0m\u001b[0;34m(\u001b[0m\u001b[0;34m)\u001b[0m\u001b[0;34m[\u001b[0m\u001b[0;34m:\u001b[0m\u001b[0;34m-\u001b[0m\u001b[0;36m1\u001b[0m\u001b[0;34m]\u001b[0m\u001b[0;34m)\u001b[0m\u001b[0;34m\u001b[0m\u001b[0;34m\u001b[0m\u001b[0m\n\u001b[0m\u001b[1;32m   1201\u001b[0m             \u001b[0mlogger\u001b[0m\u001b[0;34m.\u001b[0m\u001b[0mdebug\u001b[0m\u001b[0;34m(\u001b[0m\u001b[0;34m\"Answer received: {0}\"\u001b[0m\u001b[0;34m.\u001b[0m\u001b[0mformat\u001b[0m\u001b[0;34m(\u001b[0m\u001b[0manswer\u001b[0m\u001b[0;34m)\u001b[0m\u001b[0;34m)\u001b[0m\u001b[0;34m\u001b[0m\u001b[0;34m\u001b[0m\u001b[0m\n\u001b[1;32m   1202\u001b[0m             \u001b[0;32mif\u001b[0m \u001b[0manswer\u001b[0m\u001b[0;34m.\u001b[0m\u001b[0mstartswith\u001b[0m\u001b[0;34m(\u001b[0m\u001b[0mproto\u001b[0m\u001b[0;34m.\u001b[0m\u001b[0mRETURN_MESSAGE\u001b[0m\u001b[0;34m)\u001b[0m\u001b[0;34m:\u001b[0m\u001b[0;34m\u001b[0m\u001b[0;34m\u001b[0m\u001b[0m\n",
      "\u001b[0;32m/usr/lib64/python3.8/socket.py\u001b[0m in \u001b[0;36mreadinto\u001b[0;34m(self, b)\u001b[0m\n\u001b[1;32m    667\u001b[0m         \u001b[0;32mwhile\u001b[0m \u001b[0;32mTrue\u001b[0m\u001b[0;34m:\u001b[0m\u001b[0;34m\u001b[0m\u001b[0;34m\u001b[0m\u001b[0m\n\u001b[1;32m    668\u001b[0m             \u001b[0;32mtry\u001b[0m\u001b[0;34m:\u001b[0m\u001b[0;34m\u001b[0m\u001b[0;34m\u001b[0m\u001b[0m\n\u001b[0;32m--> 669\u001b[0;31m                 \u001b[0;32mreturn\u001b[0m \u001b[0mself\u001b[0m\u001b[0;34m.\u001b[0m\u001b[0m_sock\u001b[0m\u001b[0;34m.\u001b[0m\u001b[0mrecv_into\u001b[0m\u001b[0;34m(\u001b[0m\u001b[0mb\u001b[0m\u001b[0;34m)\u001b[0m\u001b[0;34m\u001b[0m\u001b[0;34m\u001b[0m\u001b[0m\n\u001b[0m\u001b[1;32m    670\u001b[0m             \u001b[0;32mexcept\u001b[0m \u001b[0mtimeout\u001b[0m\u001b[0;34m:\u001b[0m\u001b[0;34m\u001b[0m\u001b[0;34m\u001b[0m\u001b[0m\n\u001b[1;32m    671\u001b[0m                 \u001b[0mself\u001b[0m\u001b[0;34m.\u001b[0m\u001b[0m_timeout_occurred\u001b[0m \u001b[0;34m=\u001b[0m \u001b[0;32mTrue\u001b[0m\u001b[0;34m\u001b[0m\u001b[0;34m\u001b[0m\u001b[0m\n",
      "\u001b[0;31mKeyboardInterrupt\u001b[0m: "
     ]
    }
   ],
   "source": [
    "ssc.start()             # Start the computation\n",
    "ssc.awaitTermination()  # Wait for the computation to terminate"
   ]
  },
  {
   "cell_type": "markdown",
   "metadata": {
    "slideshow": {
     "slide_type": "slide"
    }
   },
   "source": [
    "The `stop` function terminates the processing:"
   ]
  },
  {
   "cell_type": "code",
   "execution_count": 7,
   "metadata": {
    "slideshow": {
     "slide_type": "fragment"
    }
   },
   "outputs": [],
   "source": [
    "ssc.stop()"
   ]
  },
  {
   "cell_type": "markdown",
   "metadata": {
    "slideshow": {
     "slide_type": "slide"
    }
   },
   "source": [
    "## Example: counting unique elements"
   ]
  },
  {
   "cell_type": "markdown",
   "metadata": {
    "slideshow": {
     "slide_type": "fragment"
    }
   },
   "source": [
    "<center>\n",
    "<div class=\"alert alert-block alert-info\">\n",
    "    <b>Goal</b>: implement the Flajolet-Martin algorithm to count unique elements in a stream\n",
    "    </div>\n",
    "    </center>"
   ]
  },
  {
   "cell_type": "markdown",
   "metadata": {
    "slideshow": {
     "slide_type": "slide"
    }
   },
   "source": [
    "<center>\n",
    "<div class=\"alert alert-block alert-info\">\n",
    "    <b>Step 1</b>: counters and estimation\n",
    "    </div>\n",
    "    </center>"
   ]
  },
  {
   "cell_type": "markdown",
   "metadata": {
    "slideshow": {
     "slide_type": "fragment"
    }
   },
   "source": [
    "We will create $n$ global counters to store the max number of trailing zeros in the binarized output of each hash function.\n",
    "\n",
    "In Spark, global counters are called <b>accumulators</b>. Thy can be defined as follows:"
   ]
  },
  {
   "cell_type": "code",
   "execution_count": 1,
   "metadata": {
    "slideshow": {
     "slide_type": "fragment"
    }
   },
   "outputs": [],
   "source": [
    "from pyspark import SparkContext\n",
    "sc = SparkContext.getOrCreate()\n",
    "\n",
    "def get_counter(n):\n",
    "    counter_name = \"counter-\"+str(n)\n",
    "    if (counter_name not in globals()):\n",
    "        globals()[counter_name] = sc.accumulator(0)\n",
    "    return globals()[counter_name]\n"
   ]
  },
  {
   "cell_type": "code",
   "execution_count": 2,
   "metadata": {
    "slideshow": {
     "slide_type": "fragment"
    }
   },
   "outputs": [
    {
     "data": {
      "text/plain": [
       "0"
      ]
     },
     "execution_count": 2,
     "metadata": {},
     "output_type": "execute_result"
    }
   ],
   "source": [
    "get_counter(752).value"
   ]
  },
  {
   "cell_type": "code",
   "execution_count": 3,
   "metadata": {
    "slideshow": {
     "slide_type": "fragment"
    }
   },
   "outputs": [
    {
     "data": {
      "text/plain": [
       "3"
      ]
     },
     "execution_count": 3,
     "metadata": {},
     "output_type": "execute_result"
    }
   ],
   "source": [
    "get_counter(752).add(3)\n",
    "get_counter(752).value"
   ]
  },
  {
   "cell_type": "markdown",
   "metadata": {
    "slideshow": {
     "slide_type": "slide"
    }
   },
   "source": [
    "Let's implement a function to estimate the number of unique elements seen since the counters were initialized. This function will combine estimates obtained in each of <b>n</b> hash function, using the Flajolet-Martin method:"
   ]
  },
  {
   "cell_type": "code",
   "execution_count": 4,
   "metadata": {
    "slideshow": {
     "slide_type": "fragment"
    }
   },
   "outputs": [],
   "source": [
    "n = 30 \n",
    "\n",
    "def print_current_estimate():\n",
    "    '''\n",
    "    Prints the estimate of unique elements seen since counters initialization\n",
    "    '''\n",
    "    estimates = [ 2**(get_counter(i).value) for i in range(n) ]\n",
    "    \n",
    "    from statistics import median, mean\n",
    "    medians = []\n",
    "    values = []\n",
    "    for i, x in enumerate(estimates):\n",
    "        values += [ x ]\n",
    "        if i % 10 == 9:\n",
    "            medians += [ median(values) ]\n",
    "            values = []\n",
    "            \n",
    "    print(f'Estimate: {mean(medians)}')"
   ]
  },
  {
   "cell_type": "code",
   "execution_count": 5,
   "metadata": {
    "slideshow": {
     "slide_type": "fragment"
    }
   },
   "outputs": [
    {
     "name": "stdout",
     "output_type": "stream",
     "text": [
      "Estimate: 1.0\n"
     ]
    }
   ],
   "source": [
    "print_current_estimate()"
   ]
  },
  {
   "cell_type": "markdown",
   "metadata": {
    "slideshow": {
     "slide_type": "slide"
    }
   },
   "source": [
    "<center>\n",
    "<div class=\"alert alert-block alert-info\">\n",
    "    <b>Step 2</b>: updating counter values with numbers of trailing zeros in hashes\n",
    "    </div>\n",
    "    </center>"
   ]
  },
  {
   "cell_type": "markdown",
   "metadata": {
    "slideshow": {
     "slide_type": "fragment"
    }
   },
   "source": [
    "We will emulate a family of $n$ independent hash functions as follows:"
   ]
  },
  {
   "cell_type": "code",
   "execution_count": 6,
   "metadata": {
    "slideshow": {
     "slide_type": "fragment"
    }
   },
   "outputs": [],
   "source": [
    "def my_hash(x, n=1):\n",
    "    return hash(str(x) + str(n))"
   ]
  },
  {
   "cell_type": "code",
   "execution_count": 7,
   "metadata": {
    "slideshow": {
     "slide_type": "fragment"
    }
   },
   "outputs": [
    {
     "data": {
      "text/plain": [
       "-3160994978816226525"
      ]
     },
     "execution_count": 7,
     "metadata": {},
     "output_type": "execute_result"
    }
   ],
   "source": [
    "my_hash(\"apple\", 1)"
   ]
  },
  {
   "cell_type": "code",
   "execution_count": 9,
   "metadata": {
    "slideshow": {
     "slide_type": "fragment"
    }
   },
   "outputs": [
    {
     "data": {
      "text/plain": [
       "-4548992735677304821"
      ]
     },
     "execution_count": 9,
     "metadata": {},
     "output_type": "execute_result"
    }
   ],
   "source": [
    "my_hash(\"apple\", 2)"
   ]
  },
  {
   "cell_type": "markdown",
   "metadata": {
    "slideshow": {
     "slide_type": "fragment"
    }
   },
   "source": [
    "The `bin`function converts integers to their binary representation:"
   ]
  },
  {
   "cell_type": "code",
   "execution_count": 10,
   "metadata": {
    "slideshow": {
     "slide_type": "fragment"
    }
   },
   "outputs": [
    {
     "data": {
      "text/plain": [
       "'0b1111011'"
      ]
     },
     "execution_count": 10,
     "metadata": {},
     "output_type": "execute_result"
    }
   ],
   "source": [
    "bin(123)"
   ]
  },
  {
   "cell_type": "markdown",
   "metadata": {
    "slideshow": {
     "slide_type": "slide"
    }
   },
   "source": [
    "We will need to count the number of trailing zeros in a string:"
   ]
  },
  {
   "cell_type": "code",
   "execution_count": 11,
   "metadata": {
    "slideshow": {
     "slide_type": "fragment"
    }
   },
   "outputs": [],
   "source": [
    "def count_trailing_zeros(x):\n",
    "    r = 0\n",
    "    for i in range(len(x)):\n",
    "        if int(x[-(i+1)]) == 0:\n",
    "            r += 1\n",
    "        else:\n",
    "            break\n",
    "    return r"
   ]
  },
  {
   "cell_type": "code",
   "execution_count": 12,
   "metadata": {
    "slideshow": {
     "slide_type": "fragment"
    }
   },
   "outputs": [
    {
     "data": {
      "text/plain": [
       "6"
      ]
     },
     "execution_count": 12,
     "metadata": {},
     "output_type": "execute_result"
    }
   ],
   "source": [
    "count_trailing_zeros('1000000')"
   ]
  },
  {
   "cell_type": "code",
   "execution_count": 13,
   "metadata": {
    "slideshow": {
     "slide_type": "fragment"
    }
   },
   "outputs": [],
   "source": [
    "def trailing_zeros_in_hash(x, i):\n",
    "    return count_trailing_zeros(bin(my_hash(x, i)))"
   ]
  },
  {
   "cell_type": "code",
   "execution_count": 14,
   "metadata": {
    "slideshow": {
     "slide_type": "fragment"
    }
   },
   "outputs": [
    {
     "data": {
      "text/plain": [
       "0"
      ]
     },
     "execution_count": 14,
     "metadata": {},
     "output_type": "execute_result"
    }
   ],
   "source": [
    "trailing_zeros_in_hash('apple', 3)"
   ]
  },
  {
   "cell_type": "code",
   "execution_count": 15,
   "metadata": {
    "slideshow": {
     "slide_type": "fragment"
    }
   },
   "outputs": [
    {
     "data": {
      "text/plain": [
       "'-0b10011001110011011111001000001000100000001011101001010001011'"
      ]
     },
     "execution_count": 15,
     "metadata": {},
     "output_type": "execute_result"
    }
   ],
   "source": [
    "bin(my_hash('apple', 3))"
   ]
  },
  {
   "cell_type": "markdown",
   "metadata": {
    "slideshow": {
     "slide_type": "slide"
    }
   },
   "source": [
    "<ul style=\"list-style-image: url('images/do.png');\">\n",
    "    <li>Using the prototype below, write a function that updates the n counters such that counter <cod>i</code> contains \n",
    "    the maximum number of trailing zeros seen in the binarized outputs of the elements in <code>rdd</code> by hash function <code>my_hash(x, i)</code>. The function should also print the updated counter values.\n",
    "    </li>\n",
    "    Tip: use a MapReduce logic, where:\n",
    "    <ul>\n",
    "        <li><code>map</code> produces (i, trailing_zeros_in_hash) pairs</li>\n",
    "        <li><code>reduce</code> is the max function</li>\n",
    "</ul>"
   ]
  },
  {
   "cell_type": "code",
   "execution_count": 16,
   "metadata": {
    "slideshow": {
     "slide_type": "fragment"
    }
   },
   "outputs": [],
   "source": [
    "n = 30\n",
    "\n",
    "def update_counters(rdd):\n",
    "    '''\n",
    "    Parameters\n",
    "    ----------\n",
    "    rdd : an RDD of hashable elements\n",
    "\n",
    "    Returns\n",
    "    -------\n",
    "    counters: an RDD with n elements containing updated values of n counters\n",
    "    '''\n",
    "    "
   ]
  },
  {
   "cell_type": "code",
   "execution_count": 16,
   "metadata": {
    "slideshow": {
     "slide_type": "slide"
    }
   },
   "outputs": [],
   "source": [
    "n = 30\n",
    "\n",
    "def update_counters(rdd):\n",
    "    '''\n",
    "    Parameters\n",
    "    ----------\n",
    "    rdd : an RDD of hashable elements\n",
    "\n",
    "    Returns\n",
    "    -------\n",
    "    counters: an RDD with n elements containing updated values of n counters\n",
    "    '''\n",
    "    \n",
    "    maxes = rdd.flatMap(lambda x: [ (i, trailing_zeros_in_hash(x, i)) for i in range(n)])\\\n",
    "               .reduceByKey(lambda x, y: max(x, y))\n",
    "    \n",
    "    # Update counters\n",
    "    for i, m in maxes.collect():  # counter values fit in memory\n",
    "        val = get_counter(i).value\n",
    "        if m > val:\n",
    "            get_counter(i).add(m-val)\n",
    "    \n",
    "    # Print new estimate\n",
    "    print_current_estimate()\n",
    "    \n",
    "    # Return RDD containing counter values\n",
    "    return sc.parallelize([get_counter(i).value for i in range(n)])"
   ]
  },
  {
   "cell_type": "code",
   "execution_count": 17,
   "metadata": {
    "slideshow": {
     "slide_type": "slide"
    }
   },
   "outputs": [
    {
     "name": "stdout",
     "output_type": "stream",
     "text": [
      "Estimate: 3.3333333333333335\n"
     ]
    },
    {
     "data": {
      "text/plain": [
       "[2,\n",
       " 2,\n",
       " 2,\n",
       " 5,\n",
       " 1,\n",
       " 1,\n",
       " 3,\n",
       " 7,\n",
       " 5,\n",
       " 1,\n",
       " 1,\n",
       " 2,\n",
       " 1,\n",
       " 3,\n",
       " 3,\n",
       " 3,\n",
       " 1,\n",
       " 0,\n",
       " 2,\n",
       " 1,\n",
       " 1,\n",
       " 0,\n",
       " 1,\n",
       " 3,\n",
       " 1,\n",
       " 5,\n",
       " 0,\n",
       " 5,\n",
       " 2,\n",
       " 2]"
      ]
     },
     "execution_count": 17,
     "metadata": {},
     "output_type": "execute_result"
    }
   ],
   "source": [
    "# Test\n",
    "update_counters(sc.parallelize(['apple', 'banana', 'orange'])).collect()"
   ]
  },
  {
   "cell_type": "markdown",
   "metadata": {
    "slideshow": {
     "slide_type": "slide"
    }
   },
   "source": [
    "Let's reset the counters:"
   ]
  },
  {
   "cell_type": "code",
   "execution_count": 18,
   "metadata": {
    "slideshow": {
     "slide_type": "fragment"
    }
   },
   "outputs": [],
   "source": [
    "def reset_counters():\n",
    "    for i in range(n):\n",
    "        counter_name = \"counter-\"+str(i)\n",
    "        globals()[counter_name] = sc.accumulator(0)"
   ]
  },
  {
   "cell_type": "code",
   "execution_count": 19,
   "metadata": {},
   "outputs": [
    {
     "data": {
      "text/plain": [
       "0"
      ]
     },
     "execution_count": 19,
     "metadata": {},
     "output_type": "execute_result"
    }
   ],
   "source": [
    "reset_counters()\n",
    "get_counter(13).value"
   ]
  },
  {
   "cell_type": "markdown",
   "metadata": {
    "slideshow": {
     "slide_type": "slide"
    }
   },
   "source": [
    "<center>\n",
    "<div class=\"alert alert-block alert-info\">\n",
    "    <b>Step 3</b>: use in a data stream\n",
    "    </div>\n",
    "    </center>"
   ]
  },
  {
   "cell_type": "markdown",
   "metadata": {
    "slideshow": {
     "slide_type": "fragment"
    }
   },
   "source": [
    "Let's define a stream from the list of (non unique) words in 3 text documents from session 1. The true count of unique words in this dataset is <b>721</b>."
   ]
  },
  {
   "cell_type": "code",
   "execution_count": 20,
   "metadata": {
    "slideshow": {
     "slide_type": "fragment"
    }
   },
   "outputs": [],
   "source": [
    "import os.path as op\n",
    "lines = []\n",
    "for filename in [ 'canada.txt' , 'usa.txt', 'mexico.txt' ]:\n",
    "    with open(op.join('data', 'session1', 'docs', filename), 'r') as f:\n",
    "        lines += f.readlines() "
   ]
  },
  {
   "cell_type": "code",
   "execution_count": 22,
   "metadata": {
    "slideshow": {
     "slide_type": "fragment"
    }
   },
   "outputs": [
    {
     "data": {
      "text/plain": [
       "25"
      ]
     },
     "execution_count": 22,
     "metadata": {},
     "output_type": "execute_result"
    }
   ],
   "source": [
    "len(lines)"
   ]
  },
  {
   "cell_type": "markdown",
   "metadata": {
    "slideshow": {
     "slide_type": "fragment"
    }
   },
   "source": [
    "Let's create a list of RDDs to be included in a queueStream:"
   ]
  },
  {
   "cell_type": "code",
   "execution_count": 23,
   "metadata": {
    "slideshow": {
     "slide_type": "fragment"
    }
   },
   "outputs": [],
   "source": [
    "rdds = []\n",
    "for l in lines:\n",
    "    rdds += [ sc.parallelize(l.split(' ')) ]"
   ]
  },
  {
   "cell_type": "markdown",
   "metadata": {
    "slideshow": {
     "slide_type": "slide"
    }
   },
   "source": [
    "<ul style=\"list-style-image: url('images/do.png');\">\n",
    "    <li>Using Spark's DStream API, build a data stream from <code>rdds</code>, and apply function <code>update_counters</code> to each RDD in this stream. Tip: use stream transformation <code>transform</code>.\n",
    "    </li>\n",
    "</ul>"
   ]
  },
  {
   "cell_type": "code",
   "execution_count": 24,
   "metadata": {
    "slideshow": {
     "slide_type": "fragment"
    }
   },
   "outputs": [],
   "source": [
    "# Stream context initialization\n",
    "from pyspark.streaming import StreamingContext\n",
    "ssc = StreamingContext(sc, 1)\n",
    "stream = ssc.queueStream(rdds)"
   ]
  },
  {
   "cell_type": "code",
   "execution_count": 25,
   "metadata": {
    "slideshow": {
     "slide_type": "fragment"
    }
   },
   "outputs": [],
   "source": [
    "# Apply transformation\n",
    "estimates = stream.transform(update_counters)"
   ]
  },
  {
   "cell_type": "code",
   "execution_count": 26,
   "metadata": {
    "slideshow": {
     "slide_type": "fragment"
    }
   },
   "outputs": [
    {
     "name": "stdout",
     "output_type": "stream",
     "text": [
      "Estimate: 74.66666666666667\n",
      "-------------------------------------------\n",
      "Time: 2020-08-23 23:56:31\n",
      "-------------------------------------------\n",
      "5\n",
      "6\n",
      "5\n",
      "6\n",
      "10\n",
      "6\n",
      "5\n",
      "8\n",
      "7\n",
      "7\n",
      "...\n",
      "\n",
      "Estimate: 85.33333333333333\n",
      "-------------------------------------------\n",
      "Time: 2020-08-23 23:56:32\n",
      "-------------------------------------------\n",
      "5\n",
      "10\n",
      "5\n",
      "6\n",
      "10\n",
      "6\n",
      "5\n",
      "8\n",
      "7\n",
      "7\n",
      "...\n",
      "\n",
      "Estimate: 192.0\n",
      "-------------------------------------------\n",
      "Time: 2020-08-23 23:56:33\n",
      "-------------------------------------------\n",
      "5\n",
      "10\n",
      "6\n",
      "6\n",
      "10\n",
      "6\n",
      "9\n",
      "8\n",
      "9\n",
      "7\n",
      "...\n",
      "\n",
      "Estimate: 192.0\n",
      "-------------------------------------------\n",
      "Time: 2020-08-23 23:56:34\n",
      "-------------------------------------------\n",
      "5\n",
      "10\n",
      "6\n",
      "6\n",
      "10\n",
      "6\n",
      "9\n",
      "8\n",
      "9\n",
      "7\n",
      "...\n",
      "\n",
      "Estimate: 234.66666666666666\n",
      "-------------------------------------------\n",
      "Time: 2020-08-23 23:56:35\n",
      "-------------------------------------------\n",
      "5\n",
      "10\n",
      "6\n",
      "6\n",
      "10\n",
      "7\n",
      "9\n",
      "8\n",
      "9\n",
      "7\n",
      "...\n",
      "\n",
      "Estimate: 234.66666666666666\n",
      "-------------------------------------------\n",
      "Time: 2020-08-23 23:56:36\n",
      "-------------------------------------------\n",
      "5\n",
      "10\n",
      "6\n",
      "6\n",
      "10\n",
      "7\n",
      "9\n",
      "8\n",
      "9\n",
      "7\n",
      "...\n",
      "\n",
      "Estimate: 341.3333333333333\n",
      "-------------------------------------------\n",
      "Time: 2020-08-23 23:56:37\n",
      "-------------------------------------------\n",
      "7\n",
      "10\n",
      "9\n",
      "6\n",
      "10\n",
      "7\n",
      "9\n",
      "8\n",
      "9\n",
      "7\n",
      "...\n",
      "\n"
     ]
    },
    {
     "ename": "KeyboardInterrupt",
     "evalue": "",
     "output_type": "error",
     "traceback": [
      "\u001b[0;31m---------------------------------------------------------------------------\u001b[0m",
      "\u001b[0;31mKeyboardInterrupt\u001b[0m                         Traceback (most recent call last)",
      "\u001b[0;32m<ipython-input-26-6fe6ce3e9f8a>\u001b[0m in \u001b[0;36m<module>\u001b[0;34m\u001b[0m\n\u001b[1;32m      3\u001b[0m \u001b[0;34m\u001b[0m\u001b[0m\n\u001b[1;32m      4\u001b[0m \u001b[0mssc\u001b[0m\u001b[0;34m.\u001b[0m\u001b[0mstart\u001b[0m\u001b[0;34m(\u001b[0m\u001b[0;34m)\u001b[0m\u001b[0;34m\u001b[0m\u001b[0;34m\u001b[0m\u001b[0m\n\u001b[0;32m----> 5\u001b[0;31m \u001b[0mssc\u001b[0m\u001b[0;34m.\u001b[0m\u001b[0mawaitTermination\u001b[0m\u001b[0;34m(\u001b[0m\u001b[0;34m)\u001b[0m\u001b[0;34m\u001b[0m\u001b[0;34m\u001b[0m\u001b[0m\n\u001b[0m",
      "\u001b[0;32m~/code/spark-training/venv/lib/python3.8/site-packages/pyspark/streaming/context.py\u001b[0m in \u001b[0;36mawaitTermination\u001b[0;34m(self, timeout)\u001b[0m\n\u001b[1;32m    187\u001b[0m         \"\"\"\n\u001b[1;32m    188\u001b[0m         \u001b[0;32mif\u001b[0m \u001b[0mtimeout\u001b[0m \u001b[0;32mis\u001b[0m \u001b[0;32mNone\u001b[0m\u001b[0;34m:\u001b[0m\u001b[0;34m\u001b[0m\u001b[0;34m\u001b[0m\u001b[0m\n\u001b[0;32m--> 189\u001b[0;31m             \u001b[0mself\u001b[0m\u001b[0;34m.\u001b[0m\u001b[0m_jssc\u001b[0m\u001b[0;34m.\u001b[0m\u001b[0mawaitTermination\u001b[0m\u001b[0;34m(\u001b[0m\u001b[0;34m)\u001b[0m\u001b[0;34m\u001b[0m\u001b[0;34m\u001b[0m\u001b[0m\n\u001b[0m\u001b[1;32m    190\u001b[0m         \u001b[0;32melse\u001b[0m\u001b[0;34m:\u001b[0m\u001b[0;34m\u001b[0m\u001b[0;34m\u001b[0m\u001b[0m\n\u001b[1;32m    191\u001b[0m             \u001b[0mself\u001b[0m\u001b[0;34m.\u001b[0m\u001b[0m_jssc\u001b[0m\u001b[0;34m.\u001b[0m\u001b[0mawaitTerminationOrTimeout\u001b[0m\u001b[0;34m(\u001b[0m\u001b[0mint\u001b[0m\u001b[0;34m(\u001b[0m\u001b[0mtimeout\u001b[0m \u001b[0;34m*\u001b[0m \u001b[0;36m1000\u001b[0m\u001b[0;34m)\u001b[0m\u001b[0;34m)\u001b[0m\u001b[0;34m\u001b[0m\u001b[0;34m\u001b[0m\u001b[0m\n",
      "\u001b[0;32m~/code/spark-training/venv/lib/python3.8/site-packages/py4j/java_gateway.py\u001b[0m in \u001b[0;36m__call__\u001b[0;34m(self, *args)\u001b[0m\n\u001b[1;32m   1301\u001b[0m             \u001b[0mproto\u001b[0m\u001b[0;34m.\u001b[0m\u001b[0mEND_COMMAND_PART\u001b[0m\u001b[0;34m\u001b[0m\u001b[0;34m\u001b[0m\u001b[0m\n\u001b[1;32m   1302\u001b[0m \u001b[0;34m\u001b[0m\u001b[0m\n\u001b[0;32m-> 1303\u001b[0;31m         \u001b[0manswer\u001b[0m \u001b[0;34m=\u001b[0m \u001b[0mself\u001b[0m\u001b[0;34m.\u001b[0m\u001b[0mgateway_client\u001b[0m\u001b[0;34m.\u001b[0m\u001b[0msend_command\u001b[0m\u001b[0;34m(\u001b[0m\u001b[0mcommand\u001b[0m\u001b[0;34m)\u001b[0m\u001b[0;34m\u001b[0m\u001b[0;34m\u001b[0m\u001b[0m\n\u001b[0m\u001b[1;32m   1304\u001b[0m         return_value = get_return_value(\n\u001b[1;32m   1305\u001b[0m             answer, self.gateway_client, self.target_id, self.name)\n",
      "\u001b[0;32m~/code/spark-training/venv/lib/python3.8/site-packages/py4j/java_gateway.py\u001b[0m in \u001b[0;36msend_command\u001b[0;34m(self, command, retry, binary)\u001b[0m\n\u001b[1;32m   1031\u001b[0m         \u001b[0mconnection\u001b[0m \u001b[0;34m=\u001b[0m \u001b[0mself\u001b[0m\u001b[0;34m.\u001b[0m\u001b[0m_get_connection\u001b[0m\u001b[0;34m(\u001b[0m\u001b[0;34m)\u001b[0m\u001b[0;34m\u001b[0m\u001b[0;34m\u001b[0m\u001b[0m\n\u001b[1;32m   1032\u001b[0m         \u001b[0;32mtry\u001b[0m\u001b[0;34m:\u001b[0m\u001b[0;34m\u001b[0m\u001b[0;34m\u001b[0m\u001b[0m\n\u001b[0;32m-> 1033\u001b[0;31m             \u001b[0mresponse\u001b[0m \u001b[0;34m=\u001b[0m \u001b[0mconnection\u001b[0m\u001b[0;34m.\u001b[0m\u001b[0msend_command\u001b[0m\u001b[0;34m(\u001b[0m\u001b[0mcommand\u001b[0m\u001b[0;34m)\u001b[0m\u001b[0;34m\u001b[0m\u001b[0;34m\u001b[0m\u001b[0m\n\u001b[0m\u001b[1;32m   1034\u001b[0m             \u001b[0;32mif\u001b[0m \u001b[0mbinary\u001b[0m\u001b[0;34m:\u001b[0m\u001b[0;34m\u001b[0m\u001b[0;34m\u001b[0m\u001b[0m\n\u001b[1;32m   1035\u001b[0m                 \u001b[0;32mreturn\u001b[0m \u001b[0mresponse\u001b[0m\u001b[0;34m,\u001b[0m \u001b[0mself\u001b[0m\u001b[0;34m.\u001b[0m\u001b[0m_create_connection_guard\u001b[0m\u001b[0;34m(\u001b[0m\u001b[0mconnection\u001b[0m\u001b[0;34m)\u001b[0m\u001b[0;34m\u001b[0m\u001b[0;34m\u001b[0m\u001b[0m\n",
      "\u001b[0;32m~/code/spark-training/venv/lib/python3.8/site-packages/py4j/java_gateway.py\u001b[0m in \u001b[0;36msend_command\u001b[0;34m(self, command)\u001b[0m\n\u001b[1;32m   1198\u001b[0m \u001b[0;34m\u001b[0m\u001b[0m\n\u001b[1;32m   1199\u001b[0m         \u001b[0;32mtry\u001b[0m\u001b[0;34m:\u001b[0m\u001b[0;34m\u001b[0m\u001b[0;34m\u001b[0m\u001b[0m\n\u001b[0;32m-> 1200\u001b[0;31m             \u001b[0manswer\u001b[0m \u001b[0;34m=\u001b[0m \u001b[0msmart_decode\u001b[0m\u001b[0;34m(\u001b[0m\u001b[0mself\u001b[0m\u001b[0;34m.\u001b[0m\u001b[0mstream\u001b[0m\u001b[0;34m.\u001b[0m\u001b[0mreadline\u001b[0m\u001b[0;34m(\u001b[0m\u001b[0;34m)\u001b[0m\u001b[0;34m[\u001b[0m\u001b[0;34m:\u001b[0m\u001b[0;34m-\u001b[0m\u001b[0;36m1\u001b[0m\u001b[0;34m]\u001b[0m\u001b[0;34m)\u001b[0m\u001b[0;34m\u001b[0m\u001b[0;34m\u001b[0m\u001b[0m\n\u001b[0m\u001b[1;32m   1201\u001b[0m             \u001b[0mlogger\u001b[0m\u001b[0;34m.\u001b[0m\u001b[0mdebug\u001b[0m\u001b[0;34m(\u001b[0m\u001b[0;34m\"Answer received: {0}\"\u001b[0m\u001b[0;34m.\u001b[0m\u001b[0mformat\u001b[0m\u001b[0;34m(\u001b[0m\u001b[0manswer\u001b[0m\u001b[0;34m)\u001b[0m\u001b[0;34m)\u001b[0m\u001b[0;34m\u001b[0m\u001b[0;34m\u001b[0m\u001b[0m\n\u001b[1;32m   1202\u001b[0m             \u001b[0;32mif\u001b[0m \u001b[0manswer\u001b[0m\u001b[0;34m.\u001b[0m\u001b[0mstartswith\u001b[0m\u001b[0;34m(\u001b[0m\u001b[0mproto\u001b[0m\u001b[0;34m.\u001b[0m\u001b[0mRETURN_MESSAGE\u001b[0m\u001b[0;34m)\u001b[0m\u001b[0;34m:\u001b[0m\u001b[0;34m\u001b[0m\u001b[0;34m\u001b[0m\u001b[0m\n",
      "\u001b[0;32m/usr/lib64/python3.8/socket.py\u001b[0m in \u001b[0;36mreadinto\u001b[0;34m(self, b)\u001b[0m\n\u001b[1;32m    667\u001b[0m         \u001b[0;32mwhile\u001b[0m \u001b[0;32mTrue\u001b[0m\u001b[0;34m:\u001b[0m\u001b[0;34m\u001b[0m\u001b[0;34m\u001b[0m\u001b[0m\n\u001b[1;32m    668\u001b[0m             \u001b[0;32mtry\u001b[0m\u001b[0;34m:\u001b[0m\u001b[0;34m\u001b[0m\u001b[0;34m\u001b[0m\u001b[0m\n\u001b[0;32m--> 669\u001b[0;31m                 \u001b[0;32mreturn\u001b[0m \u001b[0mself\u001b[0m\u001b[0;34m.\u001b[0m\u001b[0m_sock\u001b[0m\u001b[0;34m.\u001b[0m\u001b[0mrecv_into\u001b[0m\u001b[0;34m(\u001b[0m\u001b[0mb\u001b[0m\u001b[0;34m)\u001b[0m\u001b[0;34m\u001b[0m\u001b[0;34m\u001b[0m\u001b[0m\n\u001b[0m\u001b[1;32m    670\u001b[0m             \u001b[0;32mexcept\u001b[0m \u001b[0mtimeout\u001b[0m\u001b[0;34m:\u001b[0m\u001b[0;34m\u001b[0m\u001b[0;34m\u001b[0m\u001b[0m\n\u001b[1;32m    671\u001b[0m                 \u001b[0mself\u001b[0m\u001b[0;34m.\u001b[0m\u001b[0m_timeout_occurred\u001b[0m \u001b[0;34m=\u001b[0m \u001b[0;32mTrue\u001b[0m\u001b[0;34m\u001b[0m\u001b[0;34m\u001b[0m\u001b[0m\n",
      "\u001b[0;31mKeyboardInterrupt\u001b[0m: "
     ]
    }
   ],
   "source": [
    "# Print RDD (counter values) and run\n",
    "estimates.pprint()\n",
    "\n",
    "ssc.start()\n",
    "ssc.awaitTermination()"
   ]
  },
  {
   "cell_type": "code",
   "execution_count": 27,
   "metadata": {
    "slideshow": {
     "slide_type": "slide"
    }
   },
   "outputs": [],
   "source": [
    "ssc.stop()"
   ]
  },
  {
   "cell_type": "markdown",
   "metadata": {
    "slideshow": {
     "slide_type": "slide"
    }
   },
   "source": [
    "## Quiz"
   ]
  },
  {
   "cell_type": "markdown",
   "metadata": {
    "slideshow": {
     "slide_type": "fragment"
    }
   },
   "source": [
    "<div class=\"alert alert-block alert-warning\">\n",
    "It is important for hash functions used in Big Data analyses to be cryptographically secure:<br/>\n",
    "    &#x25a2; True\n",
    "    \n",
    "&#x25a2;  False\n",
    "</div>"
   ]
  },
  {
   "cell_type": "markdown",
   "metadata": {
    "slideshow": {
     "slide_type": "slide"
    }
   },
   "source": [
    "<div class=\"alert alert-block alert-warning\">\n",
    "It is important for hash functions used in Big Data analyses to be cryptographically secure:<br/>\n",
    "    &#x25a2; True\n",
    "    \n",
    "&#x2611; False\n",
    "</div>\n",
    "\n",
    "A hash function is said to be cryptographically secure when it is computationally infeasible to retrieve the function argument from the function result. While this property is critical to cyber-security applications, it is often not desirable in Big Data applications, as such applications favor lightweight hash functions."
   ]
  },
  {
   "cell_type": "markdown",
   "metadata": {
    "slideshow": {
     "slide_type": "slide"
    }
   },
   "source": [
    "<div class=\"alert alert-block alert-info\">\n",
    "It is straightforward to adapt a data analysis to data streams:<br/>\n",
    "    &#x25a2; True\n",
    "    \n",
    "&#x25a2; False\n",
    "</div>"
   ]
  },
  {
   "cell_type": "markdown",
   "metadata": {
    "slideshow": {
     "slide_type": "slide"
    }
   },
   "source": [
    "<div class=\"alert alert-block alert-info\">\n",
    "It is straightforward to adapt a data analysis to data streams:<br/>\n",
    "    &#x25a2; True\n",
    "    \n",
    "&#x2611; False\n",
    "</div>\n",
    "\n",
    "Many analyses require to access the entire dataset. This is for instance the case of <b>kmeans clustering</b> or classification with <b>decision trees</b>. Stream-compatible adaptations of these algorithms are sometimes far from trivial!"
   ]
  },
  {
   "cell_type": "markdown",
   "metadata": {
    "slideshow": {
     "slide_type": "slide"
    }
   },
   "source": [
    "<div class=\"alert alert-block alert-warning\">\n",
    "Data streams should always be analyzed with stream algorithms:<br/>\n",
    "    &#x25a2; True\n",
    "    \n",
    "&#x25a2; False\n",
    "</div>"
   ]
  },
  {
   "cell_type": "markdown",
   "metadata": {
    "slideshow": {
     "slide_type": "slide"
    }
   },
   "source": [
    "<div class=\"alert alert-block alert-warning\">\n",
    "Data streams should always be analyzed with stream algorithms:<br/>\n",
    "    &#x25a2; True\n",
    "    \n",
    "&#x2611; False\n",
    "</div>\n",
    "\n",
    "Stream algorithms are required when the elements of the data stream encountered so far cannot be analyzed as a whole. This is often the case when:\n",
    "<ol>\n",
    "    <li>Processing, memory and/or storage resources are limited. This is for instance the case on <b>connected objects</b>.</li>\n",
    "    <li>Results are required in near real-time</li>\n",
    "</ol>\n",
    "In other cases, it is often possible to store successive versions of the data stream on disk, and to process this data offline using batch jobs."
   ]
  },
  {
   "cell_type": "markdown",
   "metadata": {
    "slideshow": {
     "slide_type": "slide"
    }
   },
   "source": [
    "# Mini-project: human activity classification from wearable devices"
   ]
  },
  {
   "cell_type": "markdown",
   "metadata": {
    "slideshow": {
     "slide_type": "fragment"
    }
   },
   "source": [
    "<center>\n",
    "<div class=\"alert alert-block alert-info\">\n",
    "    <b>Goal</b>: recognize activites from motion data\n",
    "    </div>\n",
    "    </center>"
   ]
  },
  {
   "cell_type": "markdown",
   "metadata": {
    "slideshow": {
     "slide_type": "slide"
    }
   },
   "source": [
    "<center>\n",
    "    <b>Data</b><br/>\n",
    "REALDISP (<a href=\"http://archive.ics.uci.edu/ml/datasets/REALDISP+Activity+Recognition+Dataset\">link</a>), available in <code>data/session4/subject16_ideal.log</code>.<br/><br/>\n",
    "    <b>Input</b><br/>\n",
    "    9 wearable sensors with 3D acceleration, 3D gyroscope, 3D magnetic field orientation, 4D quaternions\n",
    "    <img src=\"images/session4/sensors.png\"/><br/>\n",
    "    <b>Output</b><br/>\n",
    "    1 of 33 activity classes:<br/>\n",
    "A1: Walking<br/>\n",
    "A2: Jogging<br/>\n",
    "A3: Running<br/>\n",
    "A4: Jump up<br/>\n",
    "A5: Jump front and back<br/>\n",
    "...<br/><br/>\n",
    "<a href=\"https://dl.acm.org/doi/abs/10.1145/2370216.2370437?casa_token=dGTbqvHRvF8AAAAA:Je-UwL8fV_iBLme62kNbeKiPfejHh0qBVTb61Ncm204F0ja2Ceb53Sp3wQ5lQBjhkoICT4kDYK0VaA\">[Banos et al, 2012]</a>\n",
    "</center>"
   ]
  },
  {
   "cell_type": "markdown",
   "metadata": {
    "slideshow": {
     "slide_type": "slide"
    }
   },
   "source": [
    "<center>\n",
    "<div class=\"alert alert-block alert-info\">\n",
    "    <b>Method</b>: offline training, online classification\n",
    "    </div>\n",
    "    <br/>\n",
    "We will use data from a single subject \n",
    "</center>"
   ]
  },
  {
   "cell_type": "markdown",
   "metadata": {
    "slideshow": {
     "slide_type": "fragment"
    }
   },
   "source": [
    "<img src=\"images/session4/diagram.png\" alt=\"diagram\"/>"
   ]
  },
  {
   "cell_type": "markdown",
   "metadata": {
    "slideshow": {
     "slide_type": "slide"
    }
   },
   "source": [
    "## Data preparation"
   ]
  },
  {
   "cell_type": "markdown",
   "metadata": {
    "slideshow": {
     "slide_type": "fragment"
    }
   },
   "source": [
    "<center>\n",
    "<div class=\"alert alert-block alert-info\">\n",
    "    Let's first have a look at the dataset\n",
    "    </div>\n",
    "</center>"
   ]
  },
  {
   "cell_type": "code",
   "execution_count": 1,
   "metadata": {
    "scrolled": true,
    "slideshow": {
     "slide_type": "fragment"
    }
   },
   "outputs": [
    {
     "name": "stdout",
     "output_type": "stream",
     "text": [
      "0\t20000\t-4.0982\t6.8202\t5.2833\t-0.21947\t-0.023071\t-0.090426\t0.69889\t-0.4502\t-0.38347\t0.87182\t0.43633\t0.18177\t-0.12851\t-6.9053\t6.5669\t2.5795\t0.051219\t-0.033998\t0.036171\t0.68862\t-0.31062\t-0.27972\t0.66982\t0.58983\t0.14648\t-0.4266\t-9.5958\t-1.5332\t-0.97097\t-0.020319\t0.0072178\t-0.0083285\t0.78669\t0.033161\t-0.43798\t0.11171\t-0.7414\t0.0065397\t0.66167\t-7.0427\t-6.4594\t2.9435\t0.091876\t0.0041261\t-0.034711\t0.67318\t0.29871\t-0.32587\t0.65185\t-0.58186\t0.1194\t0.47146\t-4.4069\t-4.4037\t7.4394\t0.10223\t0.040773\t0.065712\t0.54168\t0.27363\t-0.51561\t0.9322\t-0.27024\t0.20888\t0.11972\t-9.7026\t0.98771\t-1.2288\t0.010155\t-0.013687\t-0.0072899\t0.70737\t0.28763\t0.31091\t0.59418\t0.39604\t0.63691\t-0.29059\t-9.364\t2.1562\t-1.7392\t0.018375\t0.0037066\t-0.012104\t0.73205\t-0.17165\t0.37634\t0.63648\t0.081812\t0.76313\t0.076436\t-9.6932\t-0.25947\t1.1732\t-0.0035351\t-0.00092841\t0.015692\t0.85763\t0.053082\t0.13381\t0.74616\t0.033205\t0.66245\t-0.057451\t-8.8386\t-0.73906\t-3.9927\t-0.0056586\t-0.0050973\t-0.0065629\t0.37301\t1.0266\t0.51763\t0.41957\t0.47703\t0.69115\t-0.34455\t0\r\n",
      "0\t40000\t-4.2756\t7.5355\t5.6183\t-0.13759\t-0.03872\t0.0016368\t0.69903\t-0.45087\t-0.39013\t0.87241\t0.43542\t0.18131\t-0.12819\t-6.8586\t6.5626\t2.4262\t0.036768\t-0.0061931\t0.051361\t0.69087\t-0.30811\t-0.28101\t0.66971\t0.59036\t0.14599\t-0.42622\t-9.6364\t-1.495\t-0.95001\t-0.031661\t-0.010584\t-0.02139\t0.78416\t0.03936\t-0.44159\t0.11156\t-0.74133\t0.006222\t0.66178\t-6.9326\t-6.3117\t2.8492\t0.1095\t0.014249\t-0.033064\t0.67234\t0.3031\t-0.3316\t0.65257\t-0.5813\t0.11989\t0.47104\t-4.2821\t-4.8518\t7.6659\t-0.014584\t-0.055501\t-0.011179\t0.53874\t0.27687\t-0.51962\t0.93231\t-0.27087\t0.20772\t0.11951\t-9.7095\t0.88371\t-1.2621\t-0.011257\t-0.011854\t0.0018113\t0.70583\t0.29355\t0.31015\t0.59419\t0.39585\t0.63698\t-0.29068\t-9.4444\t2.1948\t-1.8054\t0.012904\t0.0046067\t-0.01031\t0.73517\t-0.16965\t0.37549\t0.63636\t0.081845\t0.76324\t0.076297\t-9.6788\t-0.25487\t1.1969\t0.0034725\t-0.0044912\t0.0057847\t0.8583\t0.056626\t0.13149\t0.74623\t0.033272\t0.66237\t-0.05743\t-8.8916\t-0.74914\t-3.955\t0.022311\t0.0036209\t-0.010959\t0.36926\t1.0337\t0.51738\t0.41947\t0.47702\t0.69109\t-0.34481\t0\r\n"
     ]
    }
   ],
   "source": [
    "! head -n 2 data/session4//subject16_ideal.log"
   ]
  },
  {
   "cell_type": "markdown",
   "metadata": {
    "slideshow": {
     "slide_type": "fragment"
    }
   },
   "source": [
    "<center>\n",
    "<div class=\"alert alert-block alert-info\">\n",
    "    Records are tab-separated\n",
    "    </div>\n",
    "</center>"
   ]
  },
  {
   "cell_type": "markdown",
   "metadata": {
    "slideshow": {
     "slide_type": "slide"
    }
   },
   "source": [
    "### Data loading"
   ]
  },
  {
   "cell_type": "markdown",
   "metadata": {
    "slideshow": {
     "slide_type": "fragment"
    }
   },
   "source": [
    "<center>\n",
    "<div class=\"alert alert-block alert-info\">\n",
    "    Let's load the data and look at the class distribution\n",
    "    </div>\n",
    "</center>"
   ]
  },
  {
   "cell_type": "code",
   "execution_count": 2,
   "metadata": {
    "slideshow": {
     "slide_type": "fragment"
    }
   },
   "outputs": [],
   "source": [
    "filename = 'data/session4/subject16_ideal.log'\n",
    "\n",
    "# read dataset\n",
    "with open(filename, 'r') as f:\n",
    "    lines = f.readlines()\n",
    "\n",
    "# split and parse to float\n",
    "records = [ [float(val) for val in line.split('\\t')] for line in lines ]   "
   ]
  },
  {
   "cell_type": "code",
   "execution_count": 3,
   "metadata": {
    "slideshow": {
     "slide_type": "fragment"
    }
   },
   "outputs": [
    {
     "data": {
      "text/plain": [
       "[0.0,\n",
       " 360000.0,\n",
       " -2.9523,\n",
       " 7.3393,\n",
       " 5.2578,\n",
       " 0.46855,\n",
       " -0.082286,\n",
       " 0.10457,\n",
       " 0.68147,\n",
       " -0.48533,\n",
       " -0.38295,\n",
       " 0.86961,\n",
       " 0.44623,\n",
       " 0.17245,\n",
       " -0.12215,\n",
       " -6.0363,\n",
       " 6.8648,\n",
       " 2.3088,\n",
       " -0.032568,\n",
       " -0.080854,\n",
       " 0.048169,\n",
       " 0.68219,\n",
       " -0.32028,\n",
       " -0.28306,\n",
       " 0.6706,\n",
       " 0.5898,\n",
       " 0.13953,\n",
       " -0.42774,\n",
       " -9.7012,\n",
       " -1.3418,\n",
       " -1.128,\n",
       " -0.07854,\n",
       " -0.058045,\n",
       " -0.018631,\n",
       " 0.78411,\n",
       " 0.041913,\n",
       " -0.44126,\n",
       " 0.11236,\n",
       " -0.74073,\n",
       " 0.0033079,\n",
       " 0.66233,\n",
       " -7.1115,\n",
       " -6.4286,\n",
       " 2.7323,\n",
       " -0.042749,\n",
       " -0.0077861,\n",
       " 0.021573,\n",
       " 0.67685,\n",
       " 0.30288,\n",
       " -0.32116,\n",
       " 0.64423,\n",
       " -0.58441,\n",
       " 0.11954,\n",
       " 0.47869,\n",
       " -4.4917,\n",
       " -4.5203,\n",
       " 7.4853,\n",
       " -0.0073611,\n",
       " 0.046568,\n",
       " -0.03297,\n",
       " 0.54071,\n",
       " 0.27299,\n",
       " -0.51871,\n",
       " 0.93384,\n",
       " -0.27261,\n",
       " 0.19968,\n",
       " 0.11727,\n",
       " -9.6514,\n",
       " 0.87418,\n",
       " -1.2795,\n",
       " -0.016503,\n",
       " 0.0089659,\n",
       " 0.0010202,\n",
       " 0.70484,\n",
       " 0.29383,\n",
       " 0.31349,\n",
       " 0.59105,\n",
       " 0.39561,\n",
       " 0.63881,\n",
       " -0.29337,\n",
       " -9.3331,\n",
       " 2.1901,\n",
       " -1.7682,\n",
       " -0.0015456,\n",
       " 0.012658,\n",
       " -0.011354,\n",
       " 0.73498,\n",
       " -0.16891,\n",
       " 0.37529,\n",
       " 0.63734,\n",
       " 0.079488,\n",
       " 0.76267,\n",
       " 0.076207,\n",
       " -9.7784,\n",
       " -0.11993,\n",
       " 1.073,\n",
       " -0.049138,\n",
       " -0.029388,\n",
       " 0.0014783,\n",
       " 0.85754,\n",
       " 0.057414,\n",
       " 0.13001,\n",
       " 0.74718,\n",
       " 0.042413,\n",
       " 0.66008,\n",
       " -0.064953,\n",
       " -8.8721,\n",
       " -0.74202,\n",
       " -3.926,\n",
       " -0.0063998,\n",
       " 0.017599,\n",
       " -0.017066,\n",
       " 0.36542,\n",
       " 1.0395,\n",
       " 0.5175,\n",
       " 0.42114,\n",
       " 0.47335,\n",
       " 0.69174,\n",
       " -0.34652,\n",
       " 0.0]"
      ]
     },
     "execution_count": 3,
     "metadata": {},
     "output_type": "execute_result"
    }
   ],
   "source": [
    "# sanity check\n",
    "records[17]"
   ]
  },
  {
   "cell_type": "code",
   "execution_count": 4,
   "metadata": {
    "scrolled": true,
    "slideshow": {
     "slide_type": "slide"
    }
   },
   "outputs": [
    {
     "data": {
      "image/png": "[encoded data removed]",
      "text/plain": [
       "<Figure size 432x288 with 1 Axes>"
      ]
     },
     "metadata": {
      "needs_background": "light"
     },
     "output_type": "display_data"
    }
   ],
   "source": [
    "from matplotlib import pyplot as plt\n",
    "plt.hist([record[-1] for record in records], bins=34, label='activity')\n",
    "plt.legend()\n",
    "plt.show()"
   ]
  },
  {
   "cell_type": "markdown",
   "metadata": {
    "slideshow": {
     "slide_type": "fragment"
    }
   },
   "source": [
    "<center>\n",
    "<div class=\"alert alert-block alert-info\">\n",
    "    Dataset is strongly <b>imbalanced</b>\n",
    "    </div>\n",
    "</center>"
   ]
  },
  {
   "cell_type": "markdown",
   "metadata": {
    "slideshow": {
     "slide_type": "slide"
    }
   },
   "source": [
    "### Windowing"
   ]
  },
  {
   "cell_type": "markdown",
   "metadata": {
    "slideshow": {
     "slide_type": "fragment"
    }
   },
   "source": [
    "<center>\n",
    "<div class=\"alert alert-block alert-info\">\n",
    "    We will group records in <b>windows of 50 records</b>\n",
    "    </div>\n",
    "</center>"
   ]
  },
  {
   "cell_type": "code",
   "execution_count": 5,
   "metadata": {
    "scrolled": false,
    "slideshow": {
     "slide_type": "fragment"
    }
   },
   "outputs": [
    {
     "data": {
      "text/plain": [
       "50"
      ]
     },
     "execution_count": 5,
     "metadata": {},
     "output_type": "execute_result"
    }
   ],
   "source": [
    "freq = 50  # in Hz, also number of elements in 1-s windows\n",
    "windows = []\n",
    "record = []\n",
    "for i, vals in enumerate(records):\n",
    "    record += [ vals[2:8] + [ vals[119] ]  ] # keep 6 parameters + class\n",
    "    if (i + 1) % freq == 0: # create a new window\n",
    "        windows += [ record ]\n",
    "        record = []\n",
    "\n",
    "# sanity check\n",
    "len(windows[17])"
   ]
  },
  {
   "cell_type": "code",
   "execution_count": 6,
   "metadata": {
    "scrolled": true,
    "slideshow": {
     "slide_type": "fragment"
    }
   },
   "outputs": [
    {
     "data": {
      "image/png": "[encoded data removed]",
      "text/plain": [
       "<Figure size 432x288 with 1 Axes>"
      ]
     },
     "metadata": {
      "needs_background": "light"
     },
     "output_type": "display_data"
    }
   ],
   "source": [
    "# Sanity check\n",
    "from matplotlib import pyplot as plt\n",
    "plt.hist([record[-1] for window in windows for record in window], bins=34, label='activity')\n",
    "plt.legend()\n",
    "plt.show()"
   ]
  },
  {
   "cell_type": "markdown",
   "metadata": {
    "slideshow": {
     "slide_type": "slide"
    }
   },
   "source": [
    "### Train/test set"
   ]
  },
  {
   "cell_type": "markdown",
   "metadata": {
    "slideshow": {
     "slide_type": "fragment"
    }
   },
   "source": [
    "<center>\n",
    "<div class=\"alert alert-block alert-info\">\n",
    "    The split in train/test set is done on the <b>time windows</b> (not the individual records).\n",
    "    </div>\n",
    "</center>"
   ]
  },
  {
   "cell_type": "code",
   "execution_count": 7,
   "metadata": {
    "slideshow": {
     "slide_type": "fragment"
    }
   },
   "outputs": [
    {
     "data": {
      "text/plain": [
       "(1328, 569, 1897)"
      ]
     },
     "execution_count": 7,
     "metadata": {},
     "output_type": "execute_result"
    }
   ],
   "source": [
    "import random\n",
    "random.shuffle(windows)\n",
    "split = round(len(windows)*0.7)\n",
    "train_windows, test_windows = windows[:split], windows[split:]\n",
    "len(train_windows), len(test_windows), len(windows)"
   ]
  },
  {
   "cell_type": "code",
   "execution_count": 8,
   "metadata": {
    "slideshow": {
     "slide_type": "fragment"
    }
   },
   "outputs": [
    {
     "data": {
      "image/png": "[encoded data removed]",
      "text/plain": [
       "<Figure size 432x288 with 1 Axes>"
      ]
     },
     "metadata": {
      "needs_background": "light"
     },
     "output_type": "display_data"
    }
   ],
   "source": [
    "# Sanity check\n",
    "from matplotlib import pyplot as plt\n",
    "plt.hist([record[-1] for window in train_windows for record in window], bins=34, label='activity - TRAIN')\n",
    "plt.hist([record[-1] for window in test_windows for record in window], bins=34, label='activity - TEST')\n",
    "plt.legend()\n",
    "plt.show()"
   ]
  },
  {
   "cell_type": "markdown",
   "metadata": {
    "slideshow": {
     "slide_type": "fragment"
    }
   },
   "source": [
    "<div class=\"alert alert-block alert-info\">\n",
    "<center>\n",
    "Class distributions are similar in the train and test set</center>"
   ]
  },
  {
   "cell_type": "markdown",
   "metadata": {
    "slideshow": {
     "slide_type": "slide"
    }
   },
   "source": [
    "## Offline training\n",
    "\n",
    "### Features"
   ]
  },
  {
   "cell_type": "markdown",
   "metadata": {
    "slideshow": {
     "slide_type": "fragment"
    }
   },
   "source": [
    "<div class=\"alert alert-block alert-info\">\n",
    "<center>\n",
    "    As features, we use the <b>mean</b> and <b>standard deviation</b> in each time window</center>"
   ]
  },
  {
   "cell_type": "markdown",
   "metadata": {
    "slideshow": {
     "slide_type": "fragment"
    }
   },
   "source": [
    "<div class=\"alert alert-block alert-info\">\n",
    "<center>\n",
    "    The label of a time window is the <b>most frequent label</b> in the time window</center>"
   ]
  },
  {
   "cell_type": "code",
   "execution_count": 9,
   "metadata": {
    "slideshow": {
     "slide_type": "fragment"
    }
   },
   "outputs": [
    {
     "data": {
      "text/plain": [
       "[-9.27777176,\n",
       " 7.07283,\n",
       " -2.972504,\n",
       " 0.054637794,\n",
       " -0.19040020000000005,\n",
       " 0.2563525,\n",
       " 5.740398460030789,\n",
       " 1.5477710547949992,\n",
       " 12.722240967337637,\n",
       " 1.4981119104218672,\n",
       " 5.102485998778694,\n",
       " 0.6340781531710634,\n",
       " 21]"
      ]
     },
     "execution_count": 9,
     "metadata": {},
     "output_type": "execute_result"
    }
   ],
   "source": [
    "from statistics import mode, mean, stdev\n",
    "def compute_features_and_class(window):\n",
    "    return    (  [ mean([ float(x[i]) for x in window ]) for i in range(6) ]\n",
    "               + [ stdev([ float(x[i]) for x in window ]) for i in range(6) ]\n",
    "               + [ mode( [int(x[6]) for x in window] ) ])\n",
    "compute_features_and_class(train_windows[0])"
   ]
  },
  {
   "cell_type": "code",
   "execution_count": 10,
   "metadata": {
    "slideshow": {
     "slide_type": "slide"
    }
   },
   "outputs": [],
   "source": [
    "# Let's iterate on all the features\n",
    "train_features = [ compute_features_and_class(window) for window in train_windows ]"
   ]
  },
  {
   "cell_type": "code",
   "execution_count": 11,
   "metadata": {
    "slideshow": {
     "slide_type": "fragment"
    }
   },
   "outputs": [
    {
     "data": {
      "image/png": "[encoded data removed]",
      "text/plain": [
       "<Figure size 1440x432 with 2 Axes>"
      ]
     },
     "metadata": {
      "needs_background": "light"
     },
     "output_type": "display_data"
    }
   ],
   "source": [
    "# Sanity check \n",
    "\n",
    "from matplotlib import pyplot as plt\n",
    "_, (ax1, ax2) = plt.subplots(1,2, figsize=(20, 6))\n",
    "\n",
    "ax1.hist([record[-1] for window in train_windows for record in window], bins=34, label='activity - TRAIN windows')\n",
    "ax1.set_ylabel('Occurrences')\n",
    "ax1.set_xlabel('Activity class')\n",
    "ax1.legend()\n",
    "\n",
    "ax2.hist([c[-1] for c in train_features], bins=34, color='orange', label='activity - TRAIN features')\n",
    "ax2.set_ylabel('Occurrences')\n",
    "ax2.set_xlabel('Activity class')\n",
    "ax2.legend()\n",
    "\n",
    "plt.show()"
   ]
  },
  {
   "cell_type": "markdown",
   "metadata": {
    "slideshow": {
     "slide_type": "slide"
    }
   },
   "source": [
    "### Model"
   ]
  },
  {
   "cell_type": "markdown",
   "metadata": {
    "slideshow": {
     "slide_type": "fragment"
    }
   },
   "source": [
    "<div class=\"alert alert-block alert-info\">\n",
    "<center>\n",
    "    We will train a <b>Random Forest</b> on the dataset, using Spark's MLlib (see session 3)</center>"
   ]
  },
  {
   "cell_type": "code",
   "execution_count": 12,
   "metadata": {
    "slideshow": {
     "slide_type": "fragment"
    }
   },
   "outputs": [],
   "source": [
    "from pyspark.sql import SparkSession\n",
    "spark = SparkSession \\\n",
    "        .builder \\\n",
    "        .appName(\"Python Spark SQL basic example\") \\\n",
    "        .getOrCreate()"
   ]
  },
  {
   "cell_type": "markdown",
   "metadata": {
    "slideshow": {
     "slide_type": "slide"
    }
   },
   "source": [
    "\n",
    "<ul style=\"list-style-image: url('images/do.png');\">\n",
    "    <li>Starting from <code>train_features</code>, load the data in a DataFrame where each column represent a feature, and the true label is in the last column</li>\n",
    "</ul>"
   ]
  },
  {
   "cell_type": "code",
   "execution_count": 13,
   "metadata": {
    "slideshow": {
     "slide_type": "fragment"
    }
   },
   "outputs": [],
   "source": [
    "col_names = ['mean_AccX', 'mean_AccY', 'mean_AccZ', 'mean_GyrX', 'mean_GyrY', 'mean_GyrZ',\n",
    "             'std_AccX', 'std_AccY', 'std_AccZ', 'std_GyrX', 'std_GyrY', 'std_GyrZ',\n",
    "             'class']"
   ]
  },
  {
   "cell_type": "code",
   "execution_count": 14,
   "metadata": {
    "scrolled": false,
    "slideshow": {
     "slide_type": "fragment"
    }
   },
   "outputs": [
    {
     "data": {
      "text/html": [
       "<div>\n",
       "<style scoped>\n",
       "    .dataframe tbody tr th:only-of-type {\n",
       "        vertical-align: middle;\n",
       "    }\n",
       "\n",
       "    .dataframe tbody tr th {\n",
       "        vertical-align: top;\n",
       "    }\n",
       "\n",
       "    .dataframe thead th {\n",
       "        text-align: right;\n",
       "    }\n",
       "</style>\n",
       "<table border=\"1\" class=\"dataframe\">\n",
       "  <thead>\n",
       "    <tr style=\"text-align: right;\">\n",
       "      <th></th>\n",
       "      <th>mean_AccX</th>\n",
       "      <th>mean_AccY</th>\n",
       "      <th>mean_AccZ</th>\n",
       "      <th>mean_GyrX</th>\n",
       "      <th>mean_GyrY</th>\n",
       "      <th>mean_GyrZ</th>\n",
       "      <th>std_AccX</th>\n",
       "      <th>std_AccY</th>\n",
       "      <th>std_AccZ</th>\n",
       "      <th>std_GyrX</th>\n",
       "      <th>std_GyrY</th>\n",
       "      <th>std_GyrZ</th>\n",
       "      <th>class</th>\n",
       "    </tr>\n",
       "  </thead>\n",
       "  <tbody>\n",
       "    <tr>\n",
       "      <th>0</th>\n",
       "      <td>-9.277772</td>\n",
       "      <td>7.072830</td>\n",
       "      <td>-2.972504</td>\n",
       "      <td>0.054638</td>\n",
       "      <td>-0.190400</td>\n",
       "      <td>0.256352</td>\n",
       "      <td>5.740398</td>\n",
       "      <td>1.547771</td>\n",
       "      <td>12.722241</td>\n",
       "      <td>1.498112</td>\n",
       "      <td>5.102486</td>\n",
       "      <td>0.634078</td>\n",
       "      <td>21</td>\n",
       "    </tr>\n",
       "    <tr>\n",
       "      <th>1</th>\n",
       "      <td>-33.658660</td>\n",
       "      <td>8.441315</td>\n",
       "      <td>-2.728294</td>\n",
       "      <td>1.435294</td>\n",
       "      <td>-4.421544</td>\n",
       "      <td>-6.329356</td>\n",
       "      <td>8.933161</td>\n",
       "      <td>5.537932</td>\n",
       "      <td>6.653695</td>\n",
       "      <td>0.742967</td>\n",
       "      <td>1.149046</td>\n",
       "      <td>0.904648</td>\n",
       "      <td>9</td>\n",
       "    </tr>\n",
       "    <tr>\n",
       "      <th>2</th>\n",
       "      <td>-4.842634</td>\n",
       "      <td>2.261846</td>\n",
       "      <td>-6.877506</td>\n",
       "      <td>-1.305340</td>\n",
       "      <td>-1.040470</td>\n",
       "      <td>-0.098374</td>\n",
       "      <td>1.915838</td>\n",
       "      <td>2.275789</td>\n",
       "      <td>3.567613</td>\n",
       "      <td>2.027404</td>\n",
       "      <td>1.326694</td>\n",
       "      <td>0.428981</td>\n",
       "      <td>0</td>\n",
       "    </tr>\n",
       "    <tr>\n",
       "      <th>3</th>\n",
       "      <td>-8.316804</td>\n",
       "      <td>12.560792</td>\n",
       "      <td>-1.914586</td>\n",
       "      <td>1.290427</td>\n",
       "      <td>-2.057743</td>\n",
       "      <td>-0.921491</td>\n",
       "      <td>10.274701</td>\n",
       "      <td>14.258585</td>\n",
       "      <td>7.211434</td>\n",
       "      <td>1.610240</td>\n",
       "      <td>2.047358</td>\n",
       "      <td>4.063954</td>\n",
       "      <td>18</td>\n",
       "    </tr>\n",
       "    <tr>\n",
       "      <th>4</th>\n",
       "      <td>-9.272088</td>\n",
       "      <td>3.023230</td>\n",
       "      <td>0.978256</td>\n",
       "      <td>-0.020847</td>\n",
       "      <td>0.002024</td>\n",
       "      <td>0.004855</td>\n",
       "      <td>0.022914</td>\n",
       "      <td>0.049002</td>\n",
       "      <td>0.015065</td>\n",
       "      <td>0.020126</td>\n",
       "      <td>0.007413</td>\n",
       "      <td>0.008985</td>\n",
       "      <td>0</td>\n",
       "    </tr>\n",
       "    <tr>\n",
       "      <th>...</th>\n",
       "      <td>...</td>\n",
       "      <td>...</td>\n",
       "      <td>...</td>\n",
       "      <td>...</td>\n",
       "      <td>...</td>\n",
       "      <td>...</td>\n",
       "      <td>...</td>\n",
       "      <td>...</td>\n",
       "      <td>...</td>\n",
       "      <td>...</td>\n",
       "      <td>...</td>\n",
       "      <td>...</td>\n",
       "      <td>...</td>\n",
       "    </tr>\n",
       "    <tr>\n",
       "      <th>1323</th>\n",
       "      <td>-5.338520</td>\n",
       "      <td>4.522647</td>\n",
       "      <td>-16.487013</td>\n",
       "      <td>1.352119</td>\n",
       "      <td>0.259184</td>\n",
       "      <td>0.642164</td>\n",
       "      <td>11.742899</td>\n",
       "      <td>18.587183</td>\n",
       "      <td>15.604057</td>\n",
       "      <td>7.100303</td>\n",
       "      <td>2.510576</td>\n",
       "      <td>2.433950</td>\n",
       "      <td>8</td>\n",
       "    </tr>\n",
       "    <tr>\n",
       "      <th>1324</th>\n",
       "      <td>0.924871</td>\n",
       "      <td>8.986946</td>\n",
       "      <td>-3.799490</td>\n",
       "      <td>0.033595</td>\n",
       "      <td>-0.021059</td>\n",
       "      <td>0.030293</td>\n",
       "      <td>0.125625</td>\n",
       "      <td>0.084867</td>\n",
       "      <td>0.121785</td>\n",
       "      <td>0.039293</td>\n",
       "      <td>0.150151</td>\n",
       "      <td>0.048905</td>\n",
       "      <td>0</td>\n",
       "    </tr>\n",
       "    <tr>\n",
       "      <th>1325</th>\n",
       "      <td>-5.519380</td>\n",
       "      <td>6.577752</td>\n",
       "      <td>4.927564</td>\n",
       "      <td>-0.053105</td>\n",
       "      <td>-0.069746</td>\n",
       "      <td>-0.047624</td>\n",
       "      <td>1.197138</td>\n",
       "      <td>1.632986</td>\n",
       "      <td>1.303450</td>\n",
       "      <td>1.191563</td>\n",
       "      <td>0.622181</td>\n",
       "      <td>0.418999</td>\n",
       "      <td>33</td>\n",
       "    </tr>\n",
       "    <tr>\n",
       "      <th>1326</th>\n",
       "      <td>-0.709205</td>\n",
       "      <td>6.958432</td>\n",
       "      <td>6.457734</td>\n",
       "      <td>0.057365</td>\n",
       "      <td>-0.044912</td>\n",
       "      <td>0.137892</td>\n",
       "      <td>1.888002</td>\n",
       "      <td>1.979732</td>\n",
       "      <td>1.896042</td>\n",
       "      <td>0.912333</td>\n",
       "      <td>0.515640</td>\n",
       "      <td>0.617818</td>\n",
       "      <td>0</td>\n",
       "    </tr>\n",
       "    <tr>\n",
       "      <th>1327</th>\n",
       "      <td>8.003124</td>\n",
       "      <td>5.677482</td>\n",
       "      <td>0.267817</td>\n",
       "      <td>-0.014784</td>\n",
       "      <td>-0.033233</td>\n",
       "      <td>0.015358</td>\n",
       "      <td>0.047407</td>\n",
       "      <td>0.142807</td>\n",
       "      <td>0.080029</td>\n",
       "      <td>0.031018</td>\n",
       "      <td>0.014805</td>\n",
       "      <td>0.027071</td>\n",
       "      <td>0</td>\n",
       "    </tr>\n",
       "  </tbody>\n",
       "</table>\n",
       "<p>1328 rows × 13 columns</p>\n",
       "</div>"
      ],
      "text/plain": [
       "      mean_AccX  mean_AccY  mean_AccZ  mean_GyrX  mean_GyrY  mean_GyrZ  \\\n",
       "0     -9.277772   7.072830  -2.972504   0.054638  -0.190400   0.256352   \n",
       "1    -33.658660   8.441315  -2.728294   1.435294  -4.421544  -6.329356   \n",
       "2     -4.842634   2.261846  -6.877506  -1.305340  -1.040470  -0.098374   \n",
       "3     -8.316804  12.560792  -1.914586   1.290427  -2.057743  -0.921491   \n",
       "4     -9.272088   3.023230   0.978256  -0.020847   0.002024   0.004855   \n",
       "...         ...        ...        ...        ...        ...        ...   \n",
       "1323  -5.338520   4.522647 -16.487013   1.352119   0.259184   0.642164   \n",
       "1324   0.924871   8.986946  -3.799490   0.033595  -0.021059   0.030293   \n",
       "1325  -5.519380   6.577752   4.927564  -0.053105  -0.069746  -0.047624   \n",
       "1326  -0.709205   6.958432   6.457734   0.057365  -0.044912   0.137892   \n",
       "1327   8.003124   5.677482   0.267817  -0.014784  -0.033233   0.015358   \n",
       "\n",
       "       std_AccX   std_AccY   std_AccZ  std_GyrX  std_GyrY  std_GyrZ  class  \n",
       "0      5.740398   1.547771  12.722241  1.498112  5.102486  0.634078     21  \n",
       "1      8.933161   5.537932   6.653695  0.742967  1.149046  0.904648      9  \n",
       "2      1.915838   2.275789   3.567613  2.027404  1.326694  0.428981      0  \n",
       "3     10.274701  14.258585   7.211434  1.610240  2.047358  4.063954     18  \n",
       "4      0.022914   0.049002   0.015065  0.020126  0.007413  0.008985      0  \n",
       "...         ...        ...        ...       ...       ...       ...    ...  \n",
       "1323  11.742899  18.587183  15.604057  7.100303  2.510576  2.433950      8  \n",
       "1324   0.125625   0.084867   0.121785  0.039293  0.150151  0.048905      0  \n",
       "1325   1.197138   1.632986   1.303450  1.191563  0.622181  0.418999     33  \n",
       "1326   1.888002   1.979732   1.896042  0.912333  0.515640  0.617818      0  \n",
       "1327   0.047407   0.142807   0.080029  0.031018  0.014805  0.027071      0  \n",
       "\n",
       "[1328 rows x 13 columns]"
      ]
     },
     "execution_count": 14,
     "metadata": {},
     "output_type": "execute_result"
    }
   ],
   "source": [
    "train_df = spark.createDataFrame(train_features, schema=col_names)\n",
    "train_df.toPandas()"
   ]
  },
  {
   "cell_type": "markdown",
   "metadata": {
    "slideshow": {
     "slide_type": "slide"
    }
   },
   "source": [
    "\n",
    "<ul style=\"list-style-image: url('images/do.png');\">\n",
    "    <li>Following the example detailed in Session 3, use a <code>VectorAssembler</code> to create a column named <code>features</code> containing the features to be used by the classifier</li>\n",
    "</ul>"
   ]
  },
  {
   "cell_type": "code",
   "execution_count": 15,
   "metadata": {
    "scrolled": false,
    "slideshow": {
     "slide_type": "fragment"
    }
   },
   "outputs": [
    {
     "data": {
      "text/html": [
       "<div>\n",
       "<style scoped>\n",
       "    .dataframe tbody tr th:only-of-type {\n",
       "        vertical-align: middle;\n",
       "    }\n",
       "\n",
       "    .dataframe tbody tr th {\n",
       "        vertical-align: top;\n",
       "    }\n",
       "\n",
       "    .dataframe thead th {\n",
       "        text-align: right;\n",
       "    }\n",
       "</style>\n",
       "<table border=\"1\" class=\"dataframe\">\n",
       "  <thead>\n",
       "    <tr style=\"text-align: right;\">\n",
       "      <th></th>\n",
       "      <th>mean_AccX</th>\n",
       "      <th>mean_AccY</th>\n",
       "      <th>mean_AccZ</th>\n",
       "      <th>mean_GyrX</th>\n",
       "      <th>mean_GyrY</th>\n",
       "      <th>mean_GyrZ</th>\n",
       "      <th>std_AccX</th>\n",
       "      <th>std_AccY</th>\n",
       "      <th>std_AccZ</th>\n",
       "      <th>std_GyrX</th>\n",
       "      <th>std_GyrY</th>\n",
       "      <th>std_GyrZ</th>\n",
       "      <th>class</th>\n",
       "      <th>features</th>\n",
       "    </tr>\n",
       "  </thead>\n",
       "  <tbody>\n",
       "    <tr>\n",
       "      <th>0</th>\n",
       "      <td>-9.277772</td>\n",
       "      <td>7.072830</td>\n",
       "      <td>-2.972504</td>\n",
       "      <td>0.054638</td>\n",
       "      <td>-0.190400</td>\n",
       "      <td>0.256352</td>\n",
       "      <td>5.740398</td>\n",
       "      <td>1.547771</td>\n",
       "      <td>12.722241</td>\n",
       "      <td>1.498112</td>\n",
       "      <td>5.102486</td>\n",
       "      <td>0.634078</td>\n",
       "      <td>21</td>\n",
       "      <td>[-9.27777176, 7.07283, -2.972504, 0.054637794,...</td>\n",
       "    </tr>\n",
       "    <tr>\n",
       "      <th>1</th>\n",
       "      <td>-33.658660</td>\n",
       "      <td>8.441315</td>\n",
       "      <td>-2.728294</td>\n",
       "      <td>1.435294</td>\n",
       "      <td>-4.421544</td>\n",
       "      <td>-6.329356</td>\n",
       "      <td>8.933161</td>\n",
       "      <td>5.537932</td>\n",
       "      <td>6.653695</td>\n",
       "      <td>0.742967</td>\n",
       "      <td>1.149046</td>\n",
       "      <td>0.904648</td>\n",
       "      <td>9</td>\n",
       "      <td>[-33.65866, 8.4413148, -2.7282942, 1.43529374,...</td>\n",
       "    </tr>\n",
       "    <tr>\n",
       "      <th>2</th>\n",
       "      <td>-4.842634</td>\n",
       "      <td>2.261846</td>\n",
       "      <td>-6.877506</td>\n",
       "      <td>-1.305340</td>\n",
       "      <td>-1.040470</td>\n",
       "      <td>-0.098374</td>\n",
       "      <td>1.915838</td>\n",
       "      <td>2.275789</td>\n",
       "      <td>3.567613</td>\n",
       "      <td>2.027404</td>\n",
       "      <td>1.326694</td>\n",
       "      <td>0.428981</td>\n",
       "      <td>0</td>\n",
       "      <td>[-4.842634, 2.26184574, -6.877506, -1.30534022...</td>\n",
       "    </tr>\n",
       "    <tr>\n",
       "      <th>3</th>\n",
       "      <td>-8.316804</td>\n",
       "      <td>12.560792</td>\n",
       "      <td>-1.914586</td>\n",
       "      <td>1.290427</td>\n",
       "      <td>-2.057743</td>\n",
       "      <td>-0.921491</td>\n",
       "      <td>10.274701</td>\n",
       "      <td>14.258585</td>\n",
       "      <td>7.211434</td>\n",
       "      <td>1.610240</td>\n",
       "      <td>2.047358</td>\n",
       "      <td>4.063954</td>\n",
       "      <td>18</td>\n",
       "      <td>[-8.316803502, 12.560792, -1.91458556, 1.29042...</td>\n",
       "    </tr>\n",
       "    <tr>\n",
       "      <th>4</th>\n",
       "      <td>-9.272088</td>\n",
       "      <td>3.023230</td>\n",
       "      <td>0.978256</td>\n",
       "      <td>-0.020847</td>\n",
       "      <td>0.002024</td>\n",
       "      <td>0.004855</td>\n",
       "      <td>0.022914</td>\n",
       "      <td>0.049002</td>\n",
       "      <td>0.015065</td>\n",
       "      <td>0.020126</td>\n",
       "      <td>0.007413</td>\n",
       "      <td>0.008985</td>\n",
       "      <td>0</td>\n",
       "      <td>[-9.272088, 3.02323, 0.9782558, -0.020846562, ...</td>\n",
       "    </tr>\n",
       "    <tr>\n",
       "      <th>...</th>\n",
       "      <td>...</td>\n",
       "      <td>...</td>\n",
       "      <td>...</td>\n",
       "      <td>...</td>\n",
       "      <td>...</td>\n",
       "      <td>...</td>\n",
       "      <td>...</td>\n",
       "      <td>...</td>\n",
       "      <td>...</td>\n",
       "      <td>...</td>\n",
       "      <td>...</td>\n",
       "      <td>...</td>\n",
       "      <td>...</td>\n",
       "      <td>...</td>\n",
       "    </tr>\n",
       "    <tr>\n",
       "      <th>1323</th>\n",
       "      <td>-5.338520</td>\n",
       "      <td>4.522647</td>\n",
       "      <td>-16.487013</td>\n",
       "      <td>1.352119</td>\n",
       "      <td>0.259184</td>\n",
       "      <td>0.642164</td>\n",
       "      <td>11.742899</td>\n",
       "      <td>18.587183</td>\n",
       "      <td>15.604057</td>\n",
       "      <td>7.100303</td>\n",
       "      <td>2.510576</td>\n",
       "      <td>2.433950</td>\n",
       "      <td>8</td>\n",
       "      <td>[-5.3385196, 4.5226474, -16.4870134, 1.3521186...</td>\n",
       "    </tr>\n",
       "    <tr>\n",
       "      <th>1324</th>\n",
       "      <td>0.924871</td>\n",
       "      <td>8.986946</td>\n",
       "      <td>-3.799490</td>\n",
       "      <td>0.033595</td>\n",
       "      <td>-0.021059</td>\n",
       "      <td>0.030293</td>\n",
       "      <td>0.125625</td>\n",
       "      <td>0.084867</td>\n",
       "      <td>0.121785</td>\n",
       "      <td>0.039293</td>\n",
       "      <td>0.150151</td>\n",
       "      <td>0.048905</td>\n",
       "      <td>0</td>\n",
       "      <td>[0.9248712, 8.986946, -3.79949, 0.033595394, -...</td>\n",
       "    </tr>\n",
       "    <tr>\n",
       "      <th>1325</th>\n",
       "      <td>-5.519380</td>\n",
       "      <td>6.577752</td>\n",
       "      <td>4.927564</td>\n",
       "      <td>-0.053105</td>\n",
       "      <td>-0.069746</td>\n",
       "      <td>-0.047624</td>\n",
       "      <td>1.197138</td>\n",
       "      <td>1.632986</td>\n",
       "      <td>1.303450</td>\n",
       "      <td>1.191563</td>\n",
       "      <td>0.622181</td>\n",
       "      <td>0.418999</td>\n",
       "      <td>33</td>\n",
       "      <td>[-5.51938, 6.577752, 4.927564, -0.053105200000...</td>\n",
       "    </tr>\n",
       "    <tr>\n",
       "      <th>1326</th>\n",
       "      <td>-0.709205</td>\n",
       "      <td>6.958432</td>\n",
       "      <td>6.457734</td>\n",
       "      <td>0.057365</td>\n",
       "      <td>-0.044912</td>\n",
       "      <td>0.137892</td>\n",
       "      <td>1.888002</td>\n",
       "      <td>1.979732</td>\n",
       "      <td>1.896042</td>\n",
       "      <td>0.912333</td>\n",
       "      <td>0.515640</td>\n",
       "      <td>0.617818</td>\n",
       "      <td>0</td>\n",
       "      <td>[-0.70920478, 6.958432, 6.457734, 0.0573649380...</td>\n",
       "    </tr>\n",
       "    <tr>\n",
       "      <th>1327</th>\n",
       "      <td>8.003124</td>\n",
       "      <td>5.677482</td>\n",
       "      <td>0.267817</td>\n",
       "      <td>-0.014784</td>\n",
       "      <td>-0.033233</td>\n",
       "      <td>0.015358</td>\n",
       "      <td>0.047407</td>\n",
       "      <td>0.142807</td>\n",
       "      <td>0.080029</td>\n",
       "      <td>0.031018</td>\n",
       "      <td>0.014805</td>\n",
       "      <td>0.027071</td>\n",
       "      <td>0</td>\n",
       "      <td>[8.003124, 5.677482, 0.26781678, -0.014783977,...</td>\n",
       "    </tr>\n",
       "  </tbody>\n",
       "</table>\n",
       "<p>1328 rows × 14 columns</p>\n",
       "</div>"
      ],
      "text/plain": [
       "      mean_AccX  mean_AccY  mean_AccZ  mean_GyrX  mean_GyrY  mean_GyrZ  \\\n",
       "0     -9.277772   7.072830  -2.972504   0.054638  -0.190400   0.256352   \n",
       "1    -33.658660   8.441315  -2.728294   1.435294  -4.421544  -6.329356   \n",
       "2     -4.842634   2.261846  -6.877506  -1.305340  -1.040470  -0.098374   \n",
       "3     -8.316804  12.560792  -1.914586   1.290427  -2.057743  -0.921491   \n",
       "4     -9.272088   3.023230   0.978256  -0.020847   0.002024   0.004855   \n",
       "...         ...        ...        ...        ...        ...        ...   \n",
       "1323  -5.338520   4.522647 -16.487013   1.352119   0.259184   0.642164   \n",
       "1324   0.924871   8.986946  -3.799490   0.033595  -0.021059   0.030293   \n",
       "1325  -5.519380   6.577752   4.927564  -0.053105  -0.069746  -0.047624   \n",
       "1326  -0.709205   6.958432   6.457734   0.057365  -0.044912   0.137892   \n",
       "1327   8.003124   5.677482   0.267817  -0.014784  -0.033233   0.015358   \n",
       "\n",
       "       std_AccX   std_AccY   std_AccZ  std_GyrX  std_GyrY  std_GyrZ  class  \\\n",
       "0      5.740398   1.547771  12.722241  1.498112  5.102486  0.634078     21   \n",
       "1      8.933161   5.537932   6.653695  0.742967  1.149046  0.904648      9   \n",
       "2      1.915838   2.275789   3.567613  2.027404  1.326694  0.428981      0   \n",
       "3     10.274701  14.258585   7.211434  1.610240  2.047358  4.063954     18   \n",
       "4      0.022914   0.049002   0.015065  0.020126  0.007413  0.008985      0   \n",
       "...         ...        ...        ...       ...       ...       ...    ...   \n",
       "1323  11.742899  18.587183  15.604057  7.100303  2.510576  2.433950      8   \n",
       "1324   0.125625   0.084867   0.121785  0.039293  0.150151  0.048905      0   \n",
       "1325   1.197138   1.632986   1.303450  1.191563  0.622181  0.418999     33   \n",
       "1326   1.888002   1.979732   1.896042  0.912333  0.515640  0.617818      0   \n",
       "1327   0.047407   0.142807   0.080029  0.031018  0.014805  0.027071      0   \n",
       "\n",
       "                                               features  \n",
       "0     [-9.27777176, 7.07283, -2.972504, 0.054637794,...  \n",
       "1     [-33.65866, 8.4413148, -2.7282942, 1.43529374,...  \n",
       "2     [-4.842634, 2.26184574, -6.877506, -1.30534022...  \n",
       "3     [-8.316803502, 12.560792, -1.91458556, 1.29042...  \n",
       "4     [-9.272088, 3.02323, 0.9782558, -0.020846562, ...  \n",
       "...                                                 ...  \n",
       "1323  [-5.3385196, 4.5226474, -16.4870134, 1.3521186...  \n",
       "1324  [0.9248712, 8.986946, -3.79949, 0.033595394, -...  \n",
       "1325  [-5.51938, 6.577752, 4.927564, -0.053105200000...  \n",
       "1326  [-0.70920478, 6.958432, 6.457734, 0.0573649380...  \n",
       "1327  [8.003124, 5.677482, 0.26781678, -0.014783977,...  \n",
       "\n",
       "[1328 rows x 14 columns]"
      ]
     },
     "execution_count": 15,
     "metadata": {},
     "output_type": "execute_result"
    }
   ],
   "source": [
    "stages = []\n",
    "\n",
    "\n",
    "from pyspark.ml.feature import VectorAssembler\n",
    "assemblerInputs = [c for c in train_df.columns if c != 'class']\n",
    "assembler = VectorAssembler(inputCols=assemblerInputs, outputCol=\"features\")\n",
    "stages += [assembler]\n",
    "\n",
    "# Transformation pipeline\n",
    "from pyspark.ml import Pipeline\n",
    "pipeline = Pipeline(stages = stages)\n",
    "pipelineModel = pipeline.fit(train_df)\n",
    "transformed_df_train = pipelineModel.transform(train_df)\n",
    "transformed_df_train.toPandas()"
   ]
  },
  {
   "cell_type": "markdown",
   "metadata": {
    "slideshow": {
     "slide_type": "slide"
    }
   },
   "source": [
    "\n",
    "<ul style=\"list-style-image: url('images/do.png');\">\n",
    "    <li>Train a Random Forest from this DataFrame</li>\n",
    "</ul>"
   ]
  },
  {
   "cell_type": "code",
   "execution_count": 16,
   "metadata": {
    "slideshow": {
     "slide_type": "fragment"
    }
   },
   "outputs": [],
   "source": [
    "# Training of RF model\n",
    "from pyspark.ml.classification import RandomForestClassifier\n",
    "rf = RandomForestClassifier(featuresCol = 'features', labelCol = 'class', numTrees=100)\n",
    "rfModel = rf.fit(transformed_df_train)"
   ]
  },
  {
   "cell_type": "markdown",
   "metadata": {
    "slideshow": {
     "slide_type": "slide"
    }
   },
   "source": [
    "### Offline classification"
   ]
  },
  {
   "cell_type": "markdown",
   "metadata": {
    "slideshow": {
     "slide_type": "fragment"
    }
   },
   "source": [
    "<div class=\"alert alert-block alert-info\">\n",
    "<center>\n",
    "    As a sanity check, we will compute the offline accuracy of this Random Forest</center>"
   ]
  },
  {
   "cell_type": "markdown",
   "metadata": {
    "slideshow": {
     "slide_type": "slide"
    }
   },
   "source": [
    "First, let's compute the features of the test dataset:"
   ]
  },
  {
   "cell_type": "code",
   "execution_count": 17,
   "metadata": {
    "slideshow": {
     "slide_type": "fragment"
    }
   },
   "outputs": [],
   "source": [
    "test_features = [ compute_features_and_class(window) for window in test_windows ]\n"
   ]
  },
  {
   "cell_type": "markdown",
   "metadata": {
    "slideshow": {
     "slide_type": "slide"
    }
   },
   "source": [
    "<ul style=\"list-style-image: url('images/do.png');\">\n",
    "    <li>Convert this list of features to a Spark DataFrame</li>\n",
    "</ul>\n"
   ]
  },
  {
   "cell_type": "code",
   "execution_count": 18,
   "metadata": {
    "scrolled": false,
    "slideshow": {
     "slide_type": "fragment"
    }
   },
   "outputs": [
    {
     "data": {
      "text/html": [
       "<div>\n",
       "<style scoped>\n",
       "    .dataframe tbody tr th:only-of-type {\n",
       "        vertical-align: middle;\n",
       "    }\n",
       "\n",
       "    .dataframe tbody tr th {\n",
       "        vertical-align: top;\n",
       "    }\n",
       "\n",
       "    .dataframe thead th {\n",
       "        text-align: right;\n",
       "    }\n",
       "</style>\n",
       "<table border=\"1\" class=\"dataframe\">\n",
       "  <thead>\n",
       "    <tr style=\"text-align: right;\">\n",
       "      <th></th>\n",
       "      <th>mean_AccX</th>\n",
       "      <th>mean_AccY</th>\n",
       "      <th>mean_AccZ</th>\n",
       "      <th>mean_GyrX</th>\n",
       "      <th>mean_GyrY</th>\n",
       "      <th>mean_GyrZ</th>\n",
       "      <th>std_AccX</th>\n",
       "      <th>std_AccY</th>\n",
       "      <th>std_AccZ</th>\n",
       "      <th>std_GyrX</th>\n",
       "      <th>std_GyrY</th>\n",
       "      <th>std_GyrZ</th>\n",
       "      <th>class</th>\n",
       "    </tr>\n",
       "  </thead>\n",
       "  <tbody>\n",
       "    <tr>\n",
       "      <th>0</th>\n",
       "      <td>-16.874249</td>\n",
       "      <td>6.379612</td>\n",
       "      <td>0.755559</td>\n",
       "      <td>-0.455446</td>\n",
       "      <td>0.898207</td>\n",
       "      <td>-0.171949</td>\n",
       "      <td>8.900787</td>\n",
       "      <td>22.559886</td>\n",
       "      <td>13.132215</td>\n",
       "      <td>1.631634</td>\n",
       "      <td>2.184328</td>\n",
       "      <td>6.995526</td>\n",
       "      <td>7</td>\n",
       "    </tr>\n",
       "    <tr>\n",
       "      <th>1</th>\n",
       "      <td>-5.509256</td>\n",
       "      <td>7.577492</td>\n",
       "      <td>-2.709814</td>\n",
       "      <td>-0.007802</td>\n",
       "      <td>-0.070509</td>\n",
       "      <td>-0.008020</td>\n",
       "      <td>0.728162</td>\n",
       "      <td>0.829952</td>\n",
       "      <td>0.761546</td>\n",
       "      <td>0.649376</td>\n",
       "      <td>0.316570</td>\n",
       "      <td>0.164857</td>\n",
       "      <td>0</td>\n",
       "    </tr>\n",
       "    <tr>\n",
       "      <th>2</th>\n",
       "      <td>-9.217536</td>\n",
       "      <td>3.504558</td>\n",
       "      <td>-0.149572</td>\n",
       "      <td>0.051212</td>\n",
       "      <td>-0.011258</td>\n",
       "      <td>0.027453</td>\n",
       "      <td>0.670000</td>\n",
       "      <td>0.416690</td>\n",
       "      <td>0.623554</td>\n",
       "      <td>0.331933</td>\n",
       "      <td>0.191588</td>\n",
       "      <td>0.499171</td>\n",
       "      <td>0</td>\n",
       "    </tr>\n",
       "    <tr>\n",
       "      <th>3</th>\n",
       "      <td>-9.446538</td>\n",
       "      <td>3.046514</td>\n",
       "      <td>-0.999070</td>\n",
       "      <td>-0.219224</td>\n",
       "      <td>-0.034354</td>\n",
       "      <td>-0.194615</td>\n",
       "      <td>3.385845</td>\n",
       "      <td>1.001966</td>\n",
       "      <td>0.538255</td>\n",
       "      <td>0.286427</td>\n",
       "      <td>0.162320</td>\n",
       "      <td>0.216648</td>\n",
       "      <td>14</td>\n",
       "    </tr>\n",
       "    <tr>\n",
       "      <th>4</th>\n",
       "      <td>-9.709964</td>\n",
       "      <td>3.283170</td>\n",
       "      <td>0.685121</td>\n",
       "      <td>0.236944</td>\n",
       "      <td>-0.338438</td>\n",
       "      <td>-0.087560</td>\n",
       "      <td>2.581753</td>\n",
       "      <td>1.276156</td>\n",
       "      <td>1.361576</td>\n",
       "      <td>1.114368</td>\n",
       "      <td>0.741009</td>\n",
       "      <td>1.250447</td>\n",
       "      <td>1</td>\n",
       "    </tr>\n",
       "    <tr>\n",
       "      <th>...</th>\n",
       "      <td>...</td>\n",
       "      <td>...</td>\n",
       "      <td>...</td>\n",
       "      <td>...</td>\n",
       "      <td>...</td>\n",
       "      <td>...</td>\n",
       "      <td>...</td>\n",
       "      <td>...</td>\n",
       "      <td>...</td>\n",
       "      <td>...</td>\n",
       "      <td>...</td>\n",
       "      <td>...</td>\n",
       "      <td>...</td>\n",
       "    </tr>\n",
       "    <tr>\n",
       "      <th>564</th>\n",
       "      <td>-3.938132</td>\n",
       "      <td>1.209068</td>\n",
       "      <td>-8.828402</td>\n",
       "      <td>-0.005916</td>\n",
       "      <td>-0.014424</td>\n",
       "      <td>0.006550</td>\n",
       "      <td>0.042085</td>\n",
       "      <td>0.087324</td>\n",
       "      <td>0.059645</td>\n",
       "      <td>0.062279</td>\n",
       "      <td>0.037851</td>\n",
       "      <td>0.139541</td>\n",
       "      <td>0</td>\n",
       "    </tr>\n",
       "    <tr>\n",
       "      <th>565</th>\n",
       "      <td>-9.230124</td>\n",
       "      <td>3.151878</td>\n",
       "      <td>0.884180</td>\n",
       "      <td>0.001674</td>\n",
       "      <td>-0.010096</td>\n",
       "      <td>0.008694</td>\n",
       "      <td>0.049061</td>\n",
       "      <td>0.103890</td>\n",
       "      <td>0.054602</td>\n",
       "      <td>0.051782</td>\n",
       "      <td>0.014355</td>\n",
       "      <td>0.011477</td>\n",
       "      <td>0</td>\n",
       "    </tr>\n",
       "    <tr>\n",
       "      <th>566</th>\n",
       "      <td>-7.255482</td>\n",
       "      <td>6.692198</td>\n",
       "      <td>-0.065250</td>\n",
       "      <td>0.044673</td>\n",
       "      <td>-0.678503</td>\n",
       "      <td>-0.098862</td>\n",
       "      <td>0.837362</td>\n",
       "      <td>1.878414</td>\n",
       "      <td>1.432180</td>\n",
       "      <td>0.956850</td>\n",
       "      <td>1.103757</td>\n",
       "      <td>0.476862</td>\n",
       "      <td>0</td>\n",
       "    </tr>\n",
       "    <tr>\n",
       "      <th>567</th>\n",
       "      <td>-8.380708</td>\n",
       "      <td>4.587714</td>\n",
       "      <td>0.380865</td>\n",
       "      <td>-0.055492</td>\n",
       "      <td>0.341001</td>\n",
       "      <td>0.321720</td>\n",
       "      <td>1.480021</td>\n",
       "      <td>2.098585</td>\n",
       "      <td>0.690005</td>\n",
       "      <td>0.624379</td>\n",
       "      <td>0.638861</td>\n",
       "      <td>0.386531</td>\n",
       "      <td>0</td>\n",
       "    </tr>\n",
       "    <tr>\n",
       "      <th>568</th>\n",
       "      <td>-1.755849</td>\n",
       "      <td>10.444815</td>\n",
       "      <td>-4.242709</td>\n",
       "      <td>-0.100769</td>\n",
       "      <td>0.585721</td>\n",
       "      <td>0.164842</td>\n",
       "      <td>6.012643</td>\n",
       "      <td>11.761781</td>\n",
       "      <td>5.494263</td>\n",
       "      <td>1.331411</td>\n",
       "      <td>2.253895</td>\n",
       "      <td>0.859862</td>\n",
       "      <td>3</td>\n",
       "    </tr>\n",
       "  </tbody>\n",
       "</table>\n",
       "<p>569 rows × 13 columns</p>\n",
       "</div>"
      ],
      "text/plain": [
       "     mean_AccX  mean_AccY  mean_AccZ  mean_GyrX  mean_GyrY  mean_GyrZ  \\\n",
       "0   -16.874249   6.379612   0.755559  -0.455446   0.898207  -0.171949   \n",
       "1    -5.509256   7.577492  -2.709814  -0.007802  -0.070509  -0.008020   \n",
       "2    -9.217536   3.504558  -0.149572   0.051212  -0.011258   0.027453   \n",
       "3    -9.446538   3.046514  -0.999070  -0.219224  -0.034354  -0.194615   \n",
       "4    -9.709964   3.283170   0.685121   0.236944  -0.338438  -0.087560   \n",
       "..         ...        ...        ...        ...        ...        ...   \n",
       "564  -3.938132   1.209068  -8.828402  -0.005916  -0.014424   0.006550   \n",
       "565  -9.230124   3.151878   0.884180   0.001674  -0.010096   0.008694   \n",
       "566  -7.255482   6.692198  -0.065250   0.044673  -0.678503  -0.098862   \n",
       "567  -8.380708   4.587714   0.380865  -0.055492   0.341001   0.321720   \n",
       "568  -1.755849  10.444815  -4.242709  -0.100769   0.585721   0.164842   \n",
       "\n",
       "     std_AccX   std_AccY   std_AccZ  std_GyrX  std_GyrY  std_GyrZ  class  \n",
       "0    8.900787  22.559886  13.132215  1.631634  2.184328  6.995526      7  \n",
       "1    0.728162   0.829952   0.761546  0.649376  0.316570  0.164857      0  \n",
       "2    0.670000   0.416690   0.623554  0.331933  0.191588  0.499171      0  \n",
       "3    3.385845   1.001966   0.538255  0.286427  0.162320  0.216648     14  \n",
       "4    2.581753   1.276156   1.361576  1.114368  0.741009  1.250447      1  \n",
       "..        ...        ...        ...       ...       ...       ...    ...  \n",
       "564  0.042085   0.087324   0.059645  0.062279  0.037851  0.139541      0  \n",
       "565  0.049061   0.103890   0.054602  0.051782  0.014355  0.011477      0  \n",
       "566  0.837362   1.878414   1.432180  0.956850  1.103757  0.476862      0  \n",
       "567  1.480021   2.098585   0.690005  0.624379  0.638861  0.386531      0  \n",
       "568  6.012643  11.761781   5.494263  1.331411  2.253895  0.859862      3  \n",
       "\n",
       "[569 rows x 13 columns]"
      ]
     },
     "execution_count": 18,
     "metadata": {},
     "output_type": "execute_result"
    }
   ],
   "source": [
    "test_df = spark.createDataFrame(test_features, schema=col_names)\n",
    "test_df.toPandas()"
   ]
  },
  {
   "cell_type": "markdown",
   "metadata": {
    "slideshow": {
     "slide_type": "slide"
    }
   },
   "source": [
    "<ul style=\"list-style-image: url('images/do.png');\">\n",
    "    <li>Build and run an MLlib pipeline to predict class labels from the Random Forest model:</li>\n",
    "</ul>\n"
   ]
  },
  {
   "cell_type": "code",
   "execution_count": 19,
   "metadata": {
    "scrolled": false,
    "slideshow": {
     "slide_type": "fragment"
    }
   },
   "outputs": [
    {
     "data": {
      "text/html": [
       "<div>\n",
       "<style scoped>\n",
       "    .dataframe tbody tr th:only-of-type {\n",
       "        vertical-align: middle;\n",
       "    }\n",
       "\n",
       "    .dataframe tbody tr th {\n",
       "        vertical-align: top;\n",
       "    }\n",
       "\n",
       "    .dataframe thead th {\n",
       "        text-align: right;\n",
       "    }\n",
       "</style>\n",
       "<table border=\"1\" class=\"dataframe\">\n",
       "  <thead>\n",
       "    <tr style=\"text-align: right;\">\n",
       "      <th></th>\n",
       "      <th>mean_AccX</th>\n",
       "      <th>mean_AccY</th>\n",
       "      <th>mean_AccZ</th>\n",
       "      <th>mean_GyrX</th>\n",
       "      <th>mean_GyrY</th>\n",
       "      <th>mean_GyrZ</th>\n",
       "      <th>std_AccX</th>\n",
       "      <th>std_AccY</th>\n",
       "      <th>std_AccZ</th>\n",
       "      <th>std_GyrX</th>\n",
       "      <th>std_GyrY</th>\n",
       "      <th>std_GyrZ</th>\n",
       "      <th>class</th>\n",
       "      <th>features</th>\n",
       "      <th>rawPrediction</th>\n",
       "      <th>probability</th>\n",
       "      <th>prediction</th>\n",
       "    </tr>\n",
       "  </thead>\n",
       "  <tbody>\n",
       "    <tr>\n",
       "      <th>0</th>\n",
       "      <td>-16.874249</td>\n",
       "      <td>6.379612</td>\n",
       "      <td>0.755559</td>\n",
       "      <td>-0.455446</td>\n",
       "      <td>0.898207</td>\n",
       "      <td>-0.171949</td>\n",
       "      <td>8.900787</td>\n",
       "      <td>22.559886</td>\n",
       "      <td>13.132215</td>\n",
       "      <td>1.631634</td>\n",
       "      <td>2.184328</td>\n",
       "      <td>6.995526</td>\n",
       "      <td>7</td>\n",
       "      <td>[-16.87424938, 6.379612, 0.7555589968, -0.4554...</td>\n",
       "      <td>[2.9258227833428885, 0.026763336913712854, 0.3...</td>\n",
       "      <td>[0.02925822783342888, 0.0002676333691371285, 0...</td>\n",
       "      <td>7.0</td>\n",
       "    </tr>\n",
       "    <tr>\n",
       "      <th>1</th>\n",
       "      <td>-5.509256</td>\n",
       "      <td>7.577492</td>\n",
       "      <td>-2.709814</td>\n",
       "      <td>-0.007802</td>\n",
       "      <td>-0.070509</td>\n",
       "      <td>-0.008020</td>\n",
       "      <td>0.728162</td>\n",
       "      <td>0.829952</td>\n",
       "      <td>0.761546</td>\n",
       "      <td>0.649376</td>\n",
       "      <td>0.316570</td>\n",
       "      <td>0.164857</td>\n",
       "      <td>0</td>\n",
       "      <td>[-5.509256, 7.577492, -2.709814, -0.0078018200...</td>\n",
       "      <td>[94.27596172960328, 1.5773141698459048, 0.0462...</td>\n",
       "      <td>[0.9427596172960325, 0.015773141698459045, 0.0...</td>\n",
       "      <td>0.0</td>\n",
       "    </tr>\n",
       "    <tr>\n",
       "      <th>2</th>\n",
       "      <td>-9.217536</td>\n",
       "      <td>3.504558</td>\n",
       "      <td>-0.149572</td>\n",
       "      <td>0.051212</td>\n",
       "      <td>-0.011258</td>\n",
       "      <td>0.027453</td>\n",
       "      <td>0.670000</td>\n",
       "      <td>0.416690</td>\n",
       "      <td>0.623554</td>\n",
       "      <td>0.331933</td>\n",
       "      <td>0.191588</td>\n",
       "      <td>0.499171</td>\n",
       "      <td>0</td>\n",
       "      <td>[-9.217536, 3.504558, -0.149571614, 0.05121213...</td>\n",
       "      <td>[93.52054064725993, 2.5245008403109956, 0.0273...</td>\n",
       "      <td>[0.9352054064725992, 0.025245008403109954, 0.0...</td>\n",
       "      <td>0.0</td>\n",
       "    </tr>\n",
       "    <tr>\n",
       "      <th>3</th>\n",
       "      <td>-9.446538</td>\n",
       "      <td>3.046514</td>\n",
       "      <td>-0.999070</td>\n",
       "      <td>-0.219224</td>\n",
       "      <td>-0.034354</td>\n",
       "      <td>-0.194615</td>\n",
       "      <td>3.385845</td>\n",
       "      <td>1.001966</td>\n",
       "      <td>0.538255</td>\n",
       "      <td>0.286427</td>\n",
       "      <td>0.162320</td>\n",
       "      <td>0.216648</td>\n",
       "      <td>14</td>\n",
       "      <td>[-9.446538, 3.046514, -0.99906978, -0.21922423...</td>\n",
       "      <td>[31.58739520731074, 1.6350702169460236, 0.1902...</td>\n",
       "      <td>[0.3158739520731075, 0.01635070216946024, 0.00...</td>\n",
       "      <td>14.0</td>\n",
       "    </tr>\n",
       "    <tr>\n",
       "      <th>4</th>\n",
       "      <td>-9.709964</td>\n",
       "      <td>3.283170</td>\n",
       "      <td>0.685121</td>\n",
       "      <td>0.236944</td>\n",
       "      <td>-0.338438</td>\n",
       "      <td>-0.087560</td>\n",
       "      <td>2.581753</td>\n",
       "      <td>1.276156</td>\n",
       "      <td>1.361576</td>\n",
       "      <td>1.114368</td>\n",
       "      <td>0.741009</td>\n",
       "      <td>1.250447</td>\n",
       "      <td>1</td>\n",
       "      <td>[-9.709964, 3.2831698, 0.68512104, 0.236944379...</td>\n",
       "      <td>[65.46482955324035, 9.21363754111709, 0.343560...</td>\n",
       "      <td>[0.6546482955324032, 0.09213637541117085, 0.00...</td>\n",
       "      <td>0.0</td>\n",
       "    </tr>\n",
       "    <tr>\n",
       "      <th>...</th>\n",
       "      <td>...</td>\n",
       "      <td>...</td>\n",
       "      <td>...</td>\n",
       "      <td>...</td>\n",
       "      <td>...</td>\n",
       "      <td>...</td>\n",
       "      <td>...</td>\n",
       "      <td>...</td>\n",
       "      <td>...</td>\n",
       "      <td>...</td>\n",
       "      <td>...</td>\n",
       "      <td>...</td>\n",
       "      <td>...</td>\n",
       "      <td>...</td>\n",
       "      <td>...</td>\n",
       "      <td>...</td>\n",
       "      <td>...</td>\n",
       "    </tr>\n",
       "    <tr>\n",
       "      <th>564</th>\n",
       "      <td>-3.938132</td>\n",
       "      <td>1.209068</td>\n",
       "      <td>-8.828402</td>\n",
       "      <td>-0.005916</td>\n",
       "      <td>-0.014424</td>\n",
       "      <td>0.006550</td>\n",
       "      <td>0.042085</td>\n",
       "      <td>0.087324</td>\n",
       "      <td>0.059645</td>\n",
       "      <td>0.062279</td>\n",
       "      <td>0.037851</td>\n",
       "      <td>0.139541</td>\n",
       "      <td>0</td>\n",
       "      <td>[-3.938132, 1.209068, -8.828402, -0.005915526,...</td>\n",
       "      <td>[98.33424324719371, 0.6583658620258274, 0.0142...</td>\n",
       "      <td>[0.9833424324719366, 0.006583658620258271, 0.0...</td>\n",
       "      <td>0.0</td>\n",
       "    </tr>\n",
       "    <tr>\n",
       "      <th>565</th>\n",
       "      <td>-9.230124</td>\n",
       "      <td>3.151878</td>\n",
       "      <td>0.884180</td>\n",
       "      <td>0.001674</td>\n",
       "      <td>-0.010096</td>\n",
       "      <td>0.008694</td>\n",
       "      <td>0.049061</td>\n",
       "      <td>0.103890</td>\n",
       "      <td>0.054602</td>\n",
       "      <td>0.051782</td>\n",
       "      <td>0.014355</td>\n",
       "      <td>0.011477</td>\n",
       "      <td>0</td>\n",
       "      <td>[-9.230124, 3.151878, 0.88418, 0.0016735879999...</td>\n",
       "      <td>[98.41846167886212, 0.6911961627095625, 0.0142...</td>\n",
       "      <td>[0.9841846167886209, 0.006911961627095623, 0.0...</td>\n",
       "      <td>0.0</td>\n",
       "    </tr>\n",
       "    <tr>\n",
       "      <th>566</th>\n",
       "      <td>-7.255482</td>\n",
       "      <td>6.692198</td>\n",
       "      <td>-0.065250</td>\n",
       "      <td>0.044673</td>\n",
       "      <td>-0.678503</td>\n",
       "      <td>-0.098862</td>\n",
       "      <td>0.837362</td>\n",
       "      <td>1.878414</td>\n",
       "      <td>1.432180</td>\n",
       "      <td>0.956850</td>\n",
       "      <td>1.103757</td>\n",
       "      <td>0.476862</td>\n",
       "      <td>0</td>\n",
       "      <td>[-7.255482, 6.692198, -0.06525046, 0.044673350...</td>\n",
       "      <td>[78.99689381395261, 7.073438869659726, 0.10771...</td>\n",
       "      <td>[0.7899689381395258, 0.07073438869659723, 0.00...</td>\n",
       "      <td>0.0</td>\n",
       "    </tr>\n",
       "    <tr>\n",
       "      <th>567</th>\n",
       "      <td>-8.380708</td>\n",
       "      <td>4.587714</td>\n",
       "      <td>0.380865</td>\n",
       "      <td>-0.055492</td>\n",
       "      <td>0.341001</td>\n",
       "      <td>0.321720</td>\n",
       "      <td>1.480021</td>\n",
       "      <td>2.098585</td>\n",
       "      <td>0.690005</td>\n",
       "      <td>0.624379</td>\n",
       "      <td>0.638861</td>\n",
       "      <td>0.386531</td>\n",
       "      <td>0</td>\n",
       "      <td>[-8.380708, 4.587714, 0.38086474000000003, -0....</td>\n",
       "      <td>[77.5512156604287, 8.382840184515178, 0.102403...</td>\n",
       "      <td>[0.7755121566042869, 0.08382840184515176, 0.00...</td>\n",
       "      <td>0.0</td>\n",
       "    </tr>\n",
       "    <tr>\n",
       "      <th>568</th>\n",
       "      <td>-1.755849</td>\n",
       "      <td>10.444815</td>\n",
       "      <td>-4.242709</td>\n",
       "      <td>-0.100769</td>\n",
       "      <td>0.585721</td>\n",
       "      <td>0.164842</td>\n",
       "      <td>6.012643</td>\n",
       "      <td>11.761781</td>\n",
       "      <td>5.494263</td>\n",
       "      <td>1.331411</td>\n",
       "      <td>2.253895</td>\n",
       "      <td>0.859862</td>\n",
       "      <td>3</td>\n",
       "      <td>[-1.75584934, 10.44481508, -4.242709234, -0.10...</td>\n",
       "      <td>[3.437056167623587, 0.0, 20.476451678355293, 4...</td>\n",
       "      <td>[0.03437056167623587, 0.0, 0.2047645167835529,...</td>\n",
       "      <td>3.0</td>\n",
       "    </tr>\n",
       "  </tbody>\n",
       "</table>\n",
       "<p>569 rows × 17 columns</p>\n",
       "</div>"
      ],
      "text/plain": [
       "     mean_AccX  mean_AccY  mean_AccZ  mean_GyrX  mean_GyrY  mean_GyrZ  \\\n",
       "0   -16.874249   6.379612   0.755559  -0.455446   0.898207  -0.171949   \n",
       "1    -5.509256   7.577492  -2.709814  -0.007802  -0.070509  -0.008020   \n",
       "2    -9.217536   3.504558  -0.149572   0.051212  -0.011258   0.027453   \n",
       "3    -9.446538   3.046514  -0.999070  -0.219224  -0.034354  -0.194615   \n",
       "4    -9.709964   3.283170   0.685121   0.236944  -0.338438  -0.087560   \n",
       "..         ...        ...        ...        ...        ...        ...   \n",
       "564  -3.938132   1.209068  -8.828402  -0.005916  -0.014424   0.006550   \n",
       "565  -9.230124   3.151878   0.884180   0.001674  -0.010096   0.008694   \n",
       "566  -7.255482   6.692198  -0.065250   0.044673  -0.678503  -0.098862   \n",
       "567  -8.380708   4.587714   0.380865  -0.055492   0.341001   0.321720   \n",
       "568  -1.755849  10.444815  -4.242709  -0.100769   0.585721   0.164842   \n",
       "\n",
       "     std_AccX   std_AccY   std_AccZ  std_GyrX  std_GyrY  std_GyrZ  class  \\\n",
       "0    8.900787  22.559886  13.132215  1.631634  2.184328  6.995526      7   \n",
       "1    0.728162   0.829952   0.761546  0.649376  0.316570  0.164857      0   \n",
       "2    0.670000   0.416690   0.623554  0.331933  0.191588  0.499171      0   \n",
       "3    3.385845   1.001966   0.538255  0.286427  0.162320  0.216648     14   \n",
       "4    2.581753   1.276156   1.361576  1.114368  0.741009  1.250447      1   \n",
       "..        ...        ...        ...       ...       ...       ...    ...   \n",
       "564  0.042085   0.087324   0.059645  0.062279  0.037851  0.139541      0   \n",
       "565  0.049061   0.103890   0.054602  0.051782  0.014355  0.011477      0   \n",
       "566  0.837362   1.878414   1.432180  0.956850  1.103757  0.476862      0   \n",
       "567  1.480021   2.098585   0.690005  0.624379  0.638861  0.386531      0   \n",
       "568  6.012643  11.761781   5.494263  1.331411  2.253895  0.859862      3   \n",
       "\n",
       "                                              features  \\\n",
       "0    [-16.87424938, 6.379612, 0.7555589968, -0.4554...   \n",
       "1    [-5.509256, 7.577492, -2.709814, -0.0078018200...   \n",
       "2    [-9.217536, 3.504558, -0.149571614, 0.05121213...   \n",
       "3    [-9.446538, 3.046514, -0.99906978, -0.21922423...   \n",
       "4    [-9.709964, 3.2831698, 0.68512104, 0.236944379...   \n",
       "..                                                 ...   \n",
       "564  [-3.938132, 1.209068, -8.828402, -0.005915526,...   \n",
       "565  [-9.230124, 3.151878, 0.88418, 0.0016735879999...   \n",
       "566  [-7.255482, 6.692198, -0.06525046, 0.044673350...   \n",
       "567  [-8.380708, 4.587714, 0.38086474000000003, -0....   \n",
       "568  [-1.75584934, 10.44481508, -4.242709234, -0.10...   \n",
       "\n",
       "                                         rawPrediction  \\\n",
       "0    [2.9258227833428885, 0.026763336913712854, 0.3...   \n",
       "1    [94.27596172960328, 1.5773141698459048, 0.0462...   \n",
       "2    [93.52054064725993, 2.5245008403109956, 0.0273...   \n",
       "3    [31.58739520731074, 1.6350702169460236, 0.1902...   \n",
       "4    [65.46482955324035, 9.21363754111709, 0.343560...   \n",
       "..                                                 ...   \n",
       "564  [98.33424324719371, 0.6583658620258274, 0.0142...   \n",
       "565  [98.41846167886212, 0.6911961627095625, 0.0142...   \n",
       "566  [78.99689381395261, 7.073438869659726, 0.10771...   \n",
       "567  [77.5512156604287, 8.382840184515178, 0.102403...   \n",
       "568  [3.437056167623587, 0.0, 20.476451678355293, 4...   \n",
       "\n",
       "                                           probability  prediction  \n",
       "0    [0.02925822783342888, 0.0002676333691371285, 0...         7.0  \n",
       "1    [0.9427596172960325, 0.015773141698459045, 0.0...         0.0  \n",
       "2    [0.9352054064725992, 0.025245008403109954, 0.0...         0.0  \n",
       "3    [0.3158739520731075, 0.01635070216946024, 0.00...        14.0  \n",
       "4    [0.6546482955324032, 0.09213637541117085, 0.00...         0.0  \n",
       "..                                                 ...         ...  \n",
       "564  [0.9833424324719366, 0.006583658620258271, 0.0...         0.0  \n",
       "565  [0.9841846167886209, 0.006911961627095623, 0.0...         0.0  \n",
       "566  [0.7899689381395258, 0.07073438869659723, 0.00...         0.0  \n",
       "567  [0.7755121566042869, 0.08382840184515176, 0.00...         0.0  \n",
       "568  [0.03437056167623587, 0.0, 0.2047645167835529,...         3.0  \n",
       "\n",
       "[569 rows x 17 columns]"
      ]
     },
     "execution_count": 19,
     "metadata": {},
     "output_type": "execute_result"
    }
   ],
   "source": [
    "stages = []\n",
    "\n",
    "\n",
    "from pyspark.ml.feature import VectorAssembler\n",
    "assemblerInputs = [c for c in test_df.columns if c != 'class']\n",
    "assembler = VectorAssembler(inputCols=assemblerInputs, outputCol=\"features\")\n",
    "stages += [assembler]\n",
    "\n",
    "# Transformation pipeline\n",
    "from pyspark.ml import Pipeline\n",
    "pipeline = Pipeline(stages = stages)\n",
    "pipelineModel = pipeline.fit(test_df)\n",
    "transformed_df_test = pipelineModel.transform(test_df)\n",
    "predictions = rfModel.transform(transformed_df_test)\n",
    "\n",
    "predictions.toPandas()"
   ]
  },
  {
   "cell_type": "markdown",
   "metadata": {
    "slideshow": {
     "slide_type": "slide"
    }
   },
   "source": [
    "<ul style=\"list-style-image: url('images/do.png');\">\n",
    "    <li>Compute the accuracy of this model:</li>\n",
    "</ul>\n"
   ]
  },
  {
   "cell_type": "code",
   "execution_count": 20,
   "metadata": {
    "slideshow": {
     "slide_type": "fragment"
    }
   },
   "outputs": [
    {
     "name": "stdout",
     "output_type": "stream",
     "text": [
      "Accuracy: 0.79\n"
     ]
    }
   ],
   "source": [
    "total = predictions.count()\n",
    "correct = predictions.where(predictions['prediction'] == predictions['class']).count()\n",
    "print(f'Accuracy: {round(correct/total,2)}')"
   ]
  },
  {
   "cell_type": "markdown",
   "metadata": {
    "slideshow": {
     "slide_type": "fragment"
    }
   },
   "source": [
    "<div class=\"alert alert-block alert-success\">\n",
    "<center>\n",
    "    This is not too bad. On this dataset, F1 score is around 0.8 when all the subjects are used (see for instance <a href=\"https://www.mdpi.com/1424-8220/19/22/5026/htm\">here</a>)</center>"
   ]
  },
  {
   "cell_type": "markdown",
   "metadata": {
    "slideshow": {
     "slide_type": "slide"
    }
   },
   "source": [
    "## Online classification"
   ]
  },
  {
   "cell_type": "markdown",
   "metadata": {
    "slideshow": {
     "slide_type": "fragment"
    }
   },
   "source": [
    "<div class=\"alert alert-block alert-info\">\n",
    "<center>\n",
    "    Let's simulate a data stream using Spark DStream's <a href=\"http://spark.apache.org/docs/latest/api/python/pyspark.streaming.html#pyspark.streaming.StreamingContext.queueStream\">queueStream</a></center>"
   ]
  },
  {
   "cell_type": "code",
   "execution_count": 22,
   "metadata": {
    "slideshow": {
     "slide_type": "fragment"
    }
   },
   "outputs": [],
   "source": [
    "from pyspark import SparkContext\n",
    "# We will need a Spark context\n",
    "sc = SparkContext.getOrCreate()"
   ]
  },
  {
   "cell_type": "code",
   "execution_count": 23,
   "metadata": {
    "scrolled": false,
    "slideshow": {
     "slide_type": "fragment"
    }
   },
   "outputs": [],
   "source": [
    "# A queueStream requires a list of RDDs\n",
    "rdds = []\n",
    "record = []\n",
    "for window in test_windows:\n",
    "    rdds += [ sc.parallelize(window) ]    "
   ]
  },
  {
   "cell_type": "code",
   "execution_count": 24,
   "metadata": {
    "slideshow": {
     "slide_type": "fragment"
    }
   },
   "outputs": [],
   "source": [
    "from pyspark.streaming import StreamingContext\n",
    "\n",
    "# The stream will pull from the queue every second\n",
    "ssc = StreamingContext(sc, 1)\n",
    "stream = ssc.queueStream(rdds)"
   ]
  },
  {
   "cell_type": "markdown",
   "metadata": {
    "slideshow": {
     "slide_type": "slide"
    }
   },
   "source": [
    "<div class=\"alert alert-block alert-info\">\n",
    "<center>\n",
    "    <b>Feature computation</b></center>"
   ]
  },
  {
   "cell_type": "markdown",
   "metadata": {
    "slideshow": {
     "slide_type": "fragment"
    }
   },
   "source": [
    "<ul style=\"list-style-image: url('images/do.png');\">\n",
    "    <li>Write a function with the following prototype to compute the features of a time window. Tip: use the following expansion of the variance expression: \n",
    "    </li>\n",
    "</ul>\n",
    "\n",
    "$$\n",
    "Var(X) = E[X^2]-E[X]^2,\n",
    "$$\n",
    "\n",
    "where $E[X]$ is the average of the values in X."
   ]
  },
  {
   "cell_type": "code",
   "execution_count": 25,
   "metadata": {
    "scrolled": true,
    "slideshow": {
     "slide_type": "fragment"
    }
   },
   "outputs": [],
   "source": [
    "from math import sqrt \n",
    "from statistics import mode\n",
    "\n",
    "def features_and_class_rdd(window_rdd):\n",
    "    '''\n",
    "    Parameters\n",
    "    ----------\n",
    "    window_rdd : an RDD containing 50 elements, where each element is a list of length 7 formated as follows:\n",
    "                     [acc_x, acc_y, acc_z, gyr_x, gyr_y, gyr_z, label]\n",
    "\n",
    "    Returns\n",
    "    -------\n",
    "    stats: an RDD with 1 element, containing the window features and class label, formatted as follows:\n",
    "                    [ mean_acc_x, mean_acc_y, mean_acc_z, mean_gyr_x, mean_gyr_y, mean_gyr_z,\n",
    "                      std_acc_x, std_acc_y, std_acc_z, std_gyr_x, std_gyr_y, std_gyr_z,\n",
    "                      most_freq_label]\n",
    "    '''\n"
   ]
  },
  {
   "cell_type": "code",
   "execution_count": 25,
   "metadata": {
    "scrolled": true,
    "slideshow": {
     "slide_type": "slide"
    }
   },
   "outputs": [],
   "source": [
    "from math import sqrt \n",
    "from statistics import mode\n",
    "\n",
    "def features_and_class_rdd(window_rdd):\n",
    "    '''\n",
    "    Parameters\n",
    "    ----------\n",
    "    window_rdd : an RDD containing 50 elements, where each element is a list of length 7 formated as follows:\n",
    "                     [acc_x, acc_y, acc_z, gyr_x, gyr_y, gyr_z, label]\n",
    "\n",
    "    Returns\n",
    "    -------\n",
    "    stats: an RDD with 1 element, containing the window features and class label, formatted as follows:\n",
    "                    [ mean_acc_x, mean_acc_y, mean_acc_z, mean_gyr_x, mean_gyr_y, mean_gyr_z,\n",
    "                      std_acc_x, std_acc_y, std_acc_z, std_gyr_x, std_gyr_y, std_gyr_z,\n",
    "                      most_freq_label]\n",
    "    '''\n",
    "    # Put class label in list to compute mode\n",
    "    # Compute column sum\n",
    "    # Compute squared column sum\n",
    "    window_rdd_list = window_rdd.map(lambda x: [ x[i] for i in range(len(x)-1) ] + \n",
    "                                               [ x[i]**2 for i in range(len(x)-1)] +\n",
    "                                               [ [ x[-1] ] ])\n",
    "    # Compute sums\n",
    "    agg = window_rdd_list.reduce(lambda x, y: [ x[i] + y[i] for i in range(len(x))])\n",
    "    \n",
    "    # Compute average from sum\n",
    "    # Compute standard deviation from sum of squared values\n",
    "    # Compute mode\n",
    "    stats = ([ agg[i]/freq for i in range(6) ] + # average \n",
    "            [ sqrt(agg[i]/freq - (agg[i-6]/freq)**2) for i in range(6, 12)] + # use variance expansion\n",
    "            [ mode(agg[12])] )\n",
    "      \n",
    "    return sc.parallelize([ stats ])"
   ]
  },
  {
   "cell_type": "code",
   "execution_count": 26,
   "metadata": {
    "slideshow": {
     "slide_type": "slide"
    }
   },
   "outputs": [
    {
     "data": {
      "text/plain": [
       "[[-16.874249380000002,\n",
       "  6.379612000000002,\n",
       "  0.7555589967999994,\n",
       "  -0.45544640000000003,\n",
       "  0.8982066799999999,\n",
       "  -0.1719489999999999,\n",
       "  8.81132913800096,\n",
       "  22.333147254694218,\n",
       "  13.000229214457153,\n",
       "  1.6152348936693512,\n",
       "  2.162374004536296,\n",
       "  6.925217307371155,\n",
       "  7.0]]"
      ]
     },
     "execution_count": 26,
     "metadata": {},
     "output_type": "execute_result"
    }
   ],
   "source": [
    "# Test function\n",
    "features_and_class_rdd(rdds[0]).collect()"
   ]
  },
  {
   "cell_type": "code",
   "execution_count": 27,
   "metadata": {
    "scrolled": false,
    "slideshow": {
     "slide_type": "fragment"
    }
   },
   "outputs": [
    {
     "data": {
      "text/plain": [
       "[-16.87424938,\n",
       " 6.379612,\n",
       " 0.7555589968,\n",
       " -0.45544640000000003,\n",
       " 0.89820668,\n",
       " -0.171949,\n",
       " 8.900786549638713,\n",
       " 22.559885527188587,\n",
       " 13.13221462074588,\n",
       " 1.6316336378896146,\n",
       " 2.1843276029558933,\n",
       " 6.995525884617982,\n",
       " 7]"
      ]
     },
     "execution_count": 27,
     "metadata": {},
     "output_type": "execute_result"
    }
   ],
   "source": [
    "compute_features_and_class(rdds[0].collect())"
   ]
  },
  {
   "cell_type": "markdown",
   "metadata": {
    "slideshow": {
     "slide_type": "fragment"
    }
   },
   "source": [
    "<div class=\"alert alert-block alert-danger\">\n",
    "<center>\n",
    "    The difference comes from <b>catastrophic cancellations</b> in the variance estimation</center>"
   ]
  },
  {
   "cell_type": "markdown",
   "metadata": {
    "slideshow": {
     "slide_type": "slide"
    }
   },
   "source": [
    "<ul style=\"list-style-image: url('images/do.png');\">\n",
    "    <li>Transform the data stream to compute the features of the time window. Tip: apply <code>features_and_class_rdd</code> to the stream using function <a href=\"http://spark.apache.org/docs/latest/api/python/pyspark.streaming.html#pyspark.streaming.StreamingContext.transform\"><code>transform</code></a></li>\n",
    "</ul>"
   ]
  },
  {
   "cell_type": "code",
   "execution_count": 28,
   "metadata": {
    "slideshow": {
     "slide_type": "fragment"
    }
   },
   "outputs": [],
   "source": [
    "features = stream.transform(features_and_class_rdd)"
   ]
  },
  {
   "cell_type": "markdown",
   "metadata": {
    "slideshow": {
     "slide_type": "slide"
    }
   },
   "source": [
    "<div class=\"alert alert-block alert-info\">\n",
    "<center>\n",
    "    <b>Prediction</b> and <b>evaluation</b></center>"
   ]
  },
  {
   "cell_type": "markdown",
   "metadata": {
    "slideshow": {
     "slide_type": "fragment"
    }
   },
   "source": [
    "Let's define two counters to store the number of correct and total predictions:"
   ]
  },
  {
   "cell_type": "code",
   "execution_count": 29,
   "metadata": {
    "slideshow": {
     "slide_type": "fragment"
    }
   },
   "outputs": [],
   "source": [
    "def correct_counter(context):\n",
    "    if (\"correct_predictions\" not in globals()):\n",
    "        globals()[\"correct_predictions\"] = context.accumulator(0)\n",
    "    return globals()[\"correct_predictions\"]\n",
    "\n",
    "def total_counter(context):\n",
    "    if (\"total_predictions\" not in globals()):\n",
    "        globals()[\"total_predictions\"] = context.accumulator(0)\n",
    "    return globals()[\"total_predictions\"]\n",
    "\n"
   ]
  },
  {
   "cell_type": "code",
   "execution_count": 30,
   "metadata": {
    "slideshow": {
     "slide_type": "fragment"
    }
   },
   "outputs": [
    {
     "data": {
      "text/plain": [
       "0"
      ]
     },
     "execution_count": 30,
     "metadata": {},
     "output_type": "execute_result"
    }
   ],
   "source": [
    "correct_counter(sc).value"
   ]
  },
  {
   "cell_type": "markdown",
   "metadata": {
    "slideshow": {
     "slide_type": "slide"
    }
   },
   "source": [
    "<ul style=\"list-style-image: url('images/do.png');\">\n",
    "    <li>Using the following prototype, write a function that applies the Random Forest model to a 1-element RDD representing a time window.</li>\n",
    "</ul>"
   ]
  },
  {
   "cell_type": "code",
   "execution_count": 31,
   "metadata": {
    "slideshow": {
     "slide_type": "fragment"
    }
   },
   "outputs": [],
   "source": [
    "\n",
    "def predict_and_evaluate(features):\n",
    "    '''\n",
    "    Parameters\n",
    "    ----------\n",
    "    features: an RDD with 1 element, containing the window features and class label, formatted as follows:\n",
    "                    [ mean_acc_x, mean_acc_y, mean_acc_z, mean_gyr_x, mean_gyr_y, mean_gyr_z,\n",
    "                      std_acc_x, std_acc_y, std_acc_z, std_gyr_x, std_gyr_y, std_gyr_z,\n",
    "                      most_freq_label]\n",
    "    Returns\n",
    "    -------\n",
    "    predictions: an RDD containing the true class label and prediction:\n",
    "                    [ true_class_label, prediction ]\n",
    "    \n",
    "    Prints\n",
    "    ------\n",
    "    Updates counters correct_predictions and total_predictions. Print the current accuracy.\n",
    "    '''\n",
    "        \n",
    "    "
   ]
  },
  {
   "cell_type": "code",
   "execution_count": 31,
   "metadata": {
    "slideshow": {
     "slide_type": "fragment"
    }
   },
   "outputs": [],
   "source": [
    "\n",
    "def predict_and_evaluate(features):\n",
    "    '''\n",
    "    Parameters\n",
    "    ----------\n",
    "    features: an RDD with 1 element, containing the window features and class label, formatted as follows:\n",
    "                    [ mean_acc_x, mean_acc_y, mean_acc_z, mean_gyr_x, mean_gyr_y, mean_gyr_z,\n",
    "                      std_acc_x, std_acc_y, std_acc_z, std_gyr_x, std_gyr_y, std_gyr_z,\n",
    "                      most_freq_label]\n",
    "    Returns\n",
    "    -------\n",
    "    predictions: an RDD containing the true class label and prediction:\n",
    "                    [ true_class_label, prediction ]\n",
    "    \n",
    "    Prints\n",
    "    ------\n",
    "    Updates counters correct_predictions and total_predictions. Print the current accuracy.\n",
    "    '''\n",
    "        \n",
    "    # Create a dataframe with a single row\n",
    "    test_df = spark.createDataFrame( features.collect() , schema=col_names)\n",
    "   \n",
    "    # Build pipeline stages\n",
    "    stages = []\n",
    "\n",
    "    # Transform data to MLlib format using Pipeline\n",
    "    from pyspark.ml.feature import VectorAssembler\n",
    "    assemblerInputs = [c for c in test_df.columns if c != 'class']\n",
    "    assembler = VectorAssembler(inputCols=assemblerInputs, outputCol=\"features\")\n",
    "    stages += [assembler]\n",
    "    \n",
    "    # Add Random Forest model\n",
    "    stages += [ rfModel ]\n",
    "\n",
    "    # Apply pipeline\n",
    "    from pyspark.ml import Pipeline\n",
    "    pipeline = Pipeline(stages = stages)\n",
    "    pipelineModel = pipeline.fit(test_df)\n",
    "    transformed_df_test = pipelineModel.transform(test_df)\n",
    "    \n",
    "    # Update counters and print accuracy\n",
    "    total_predictions = total_counter(features.context)\n",
    "    total_predictions.add(1)\n",
    "    correct_predictions = correct_counter(features.context)\n",
    "    prediction = transformed_df_test.select('prediction').collect()[0]['prediction']\n",
    "    true_class = features.map(lambda x: x[-1]).collect()[0]\n",
    "    if true_class == prediction:\n",
    "        correct_predictions.add(1)\n",
    "    print(f'Current accuracy: {correct_predictions.value/total_predictions.value}')\n",
    "\n",
    "    # Return predictions\n",
    "    predictions = features.map(lambda x: [x[-1]] + [prediction])\n",
    "    return predictions\n",
    "    "
   ]
  },
  {
   "cell_type": "markdown",
   "metadata": {
    "slideshow": {
     "slide_type": "slide"
    }
   },
   "source": [
    "<ul style=\"list-style-image: url('images/do.png');\">\n",
    "    <li>Use function <a href=\"http://spark.apache.org/docs/latest/api/python/pyspark.streaming.html#pyspark.streaming.StreamingContext.transform\"><code>transform</code></A> to apply <code>predict_and_evaluate</code> to the data stream</a></li>\n",
    "</ul>"
   ]
  },
  {
   "cell_type": "code",
   "execution_count": 32,
   "metadata": {
    "slideshow": {
     "slide_type": "fragment"
    }
   },
   "outputs": [],
   "source": [
    "predictions = features.transform(predict_and_evaluate)"
   ]
  },
  {
   "cell_type": "markdown",
   "metadata": {
    "slideshow": {
     "slide_type": "slide"
    }
   },
   "source": [
    "<ul style=\"list-style-image: url('images/do.png');\">\n",
    "    <li>Start the Stream context and watch the evolution of the accuracy!</li>\n",
    "</ul>"
   ]
  },
  {
   "cell_type": "code",
   "execution_count": 33,
   "metadata": {
    "slideshow": {
     "slide_type": "fragment"
    }
   },
   "outputs": [],
   "source": [
    "# Print the RDD\n",
    "predictions.pprint()"
   ]
  },
  {
   "cell_type": "code",
   "execution_count": 34,
   "metadata": {
    "slideshow": {
     "slide_type": "fragment"
    }
   },
   "outputs": [
    {
     "name": "stdout",
     "output_type": "stream",
     "text": [
      "Current accuracy: 1.0\n",
      "-------------------------------------------\n",
      "Time: 2020-08-23 23:59:38\n",
      "-------------------------------------------\n",
      "[7.0, 7.0]\n",
      "\n",
      "Current accuracy: 1.0\n",
      "-------------------------------------------\n",
      "Time: 2020-08-23 23:59:39\n",
      "-------------------------------------------\n",
      "[0.0, 0.0]\n",
      "\n",
      "Current accuracy: 1.0\n",
      "-------------------------------------------\n",
      "Time: 2020-08-23 23:59:40\n",
      "-------------------------------------------\n",
      "[0.0, 0.0]\n",
      "\n",
      "Current accuracy: 1.0\n",
      "-------------------------------------------\n",
      "Time: 2020-08-23 23:59:41\n",
      "-------------------------------------------\n",
      "[14.0, 14.0]\n",
      "\n",
      "Current accuracy: 0.8\n",
      "-------------------------------------------\n",
      "Time: 2020-08-23 23:59:42\n",
      "-------------------------------------------\n",
      "[1.0, 0.0]\n",
      "\n",
      "Current accuracy: 0.8333333333333334\n",
      "-------------------------------------------\n",
      "Time: 2020-08-23 23:59:43\n",
      "-------------------------------------------\n",
      "[0.0, 0.0]\n",
      "\n",
      "Current accuracy: 0.8571428571428571\n",
      "-------------------------------------------\n",
      "Time: 2020-08-23 23:59:44\n",
      "-------------------------------------------\n",
      "[5.0, 5.0]\n",
      "\n",
      "Current accuracy: 0.75\n",
      "-------------------------------------------\n",
      "Time: 2020-08-23 23:59:45\n",
      "-------------------------------------------\n",
      "[1.0, 0.0]\n",
      "\n",
      "Current accuracy: 0.7777777777777778\n",
      "-------------------------------------------\n",
      "Time: 2020-08-23 23:59:46\n",
      "-------------------------------------------\n",
      "[0.0, 0.0]\n",
      "\n",
      "Current accuracy: 0.8\n",
      "-------------------------------------------\n",
      "Time: 2020-08-23 23:59:47\n",
      "-------------------------------------------\n",
      "[33.0, 33.0]\n",
      "\n",
      "Current accuracy: 0.8181818181818182\n",
      "-------------------------------------------\n",
      "Time: 2020-08-23 23:59:48\n",
      "-------------------------------------------\n",
      "[0.0, 0.0]\n",
      "\n",
      "Current accuracy: 0.8333333333333334\n",
      "-------------------------------------------\n",
      "Time: 2020-08-23 23:59:49\n",
      "-------------------------------------------\n",
      "[32.0, 32.0]\n",
      "\n",
      "Current accuracy: 0.8461538461538461\n",
      "-------------------------------------------\n",
      "Time: 2020-08-23 23:59:50\n",
      "-------------------------------------------\n",
      "[0.0, 0.0]\n",
      "\n"
     ]
    },
    {
     "ename": "KeyboardInterrupt",
     "evalue": "",
     "output_type": "error",
     "traceback": [
      "\u001b[0;31m---------------------------------------------------------------------------\u001b[0m",
      "\u001b[0;31mKeyboardInterrupt\u001b[0m                         Traceback (most recent call last)",
      "\u001b[0;32m<ipython-input-34-d9a5cad3daa2>\u001b[0m in \u001b[0;36m<module>\u001b[0;34m\u001b[0m\n\u001b[1;32m      1\u001b[0m \u001b[0mssc\u001b[0m\u001b[0;34m.\u001b[0m\u001b[0mstart\u001b[0m\u001b[0;34m(\u001b[0m\u001b[0;34m)\u001b[0m             \u001b[0;31m# Start the computation\u001b[0m\u001b[0;34m\u001b[0m\u001b[0;34m\u001b[0m\u001b[0m\n\u001b[0;32m----> 2\u001b[0;31m \u001b[0mssc\u001b[0m\u001b[0;34m.\u001b[0m\u001b[0mawaitTermination\u001b[0m\u001b[0;34m(\u001b[0m\u001b[0;34m)\u001b[0m  \u001b[0;31m# Wait for the computation to terminate\u001b[0m\u001b[0;34m\u001b[0m\u001b[0;34m\u001b[0m\u001b[0m\n\u001b[0m",
      "\u001b[0;32m~/code/spark-training/venv/lib/python3.8/site-packages/pyspark/streaming/context.py\u001b[0m in \u001b[0;36mawaitTermination\u001b[0;34m(self, timeout)\u001b[0m\n\u001b[1;32m    187\u001b[0m         \"\"\"\n\u001b[1;32m    188\u001b[0m         \u001b[0;32mif\u001b[0m \u001b[0mtimeout\u001b[0m \u001b[0;32mis\u001b[0m \u001b[0;32mNone\u001b[0m\u001b[0;34m:\u001b[0m\u001b[0;34m\u001b[0m\u001b[0;34m\u001b[0m\u001b[0m\n\u001b[0;32m--> 189\u001b[0;31m             \u001b[0mself\u001b[0m\u001b[0;34m.\u001b[0m\u001b[0m_jssc\u001b[0m\u001b[0;34m.\u001b[0m\u001b[0mawaitTermination\u001b[0m\u001b[0;34m(\u001b[0m\u001b[0;34m)\u001b[0m\u001b[0;34m\u001b[0m\u001b[0;34m\u001b[0m\u001b[0m\n\u001b[0m\u001b[1;32m    190\u001b[0m         \u001b[0;32melse\u001b[0m\u001b[0;34m:\u001b[0m\u001b[0;34m\u001b[0m\u001b[0;34m\u001b[0m\u001b[0m\n\u001b[1;32m    191\u001b[0m             \u001b[0mself\u001b[0m\u001b[0;34m.\u001b[0m\u001b[0m_jssc\u001b[0m\u001b[0;34m.\u001b[0m\u001b[0mawaitTerminationOrTimeout\u001b[0m\u001b[0;34m(\u001b[0m\u001b[0mint\u001b[0m\u001b[0;34m(\u001b[0m\u001b[0mtimeout\u001b[0m \u001b[0;34m*\u001b[0m \u001b[0;36m1000\u001b[0m\u001b[0;34m)\u001b[0m\u001b[0;34m)\u001b[0m\u001b[0;34m\u001b[0m\u001b[0;34m\u001b[0m\u001b[0m\n",
      "\u001b[0;32m~/code/spark-training/venv/lib/python3.8/site-packages/py4j/java_gateway.py\u001b[0m in \u001b[0;36m__call__\u001b[0;34m(self, *args)\u001b[0m\n\u001b[1;32m   1301\u001b[0m             \u001b[0mproto\u001b[0m\u001b[0;34m.\u001b[0m\u001b[0mEND_COMMAND_PART\u001b[0m\u001b[0;34m\u001b[0m\u001b[0;34m\u001b[0m\u001b[0m\n\u001b[1;32m   1302\u001b[0m \u001b[0;34m\u001b[0m\u001b[0m\n\u001b[0;32m-> 1303\u001b[0;31m         \u001b[0manswer\u001b[0m \u001b[0;34m=\u001b[0m \u001b[0mself\u001b[0m\u001b[0;34m.\u001b[0m\u001b[0mgateway_client\u001b[0m\u001b[0;34m.\u001b[0m\u001b[0msend_command\u001b[0m\u001b[0;34m(\u001b[0m\u001b[0mcommand\u001b[0m\u001b[0;34m)\u001b[0m\u001b[0;34m\u001b[0m\u001b[0;34m\u001b[0m\u001b[0m\n\u001b[0m\u001b[1;32m   1304\u001b[0m         return_value = get_return_value(\n\u001b[1;32m   1305\u001b[0m             answer, self.gateway_client, self.target_id, self.name)\n",
      "\u001b[0;32m~/code/spark-training/venv/lib/python3.8/site-packages/py4j/java_gateway.py\u001b[0m in \u001b[0;36msend_command\u001b[0;34m(self, command, retry, binary)\u001b[0m\n\u001b[1;32m   1031\u001b[0m         \u001b[0mconnection\u001b[0m \u001b[0;34m=\u001b[0m \u001b[0mself\u001b[0m\u001b[0;34m.\u001b[0m\u001b[0m_get_connection\u001b[0m\u001b[0;34m(\u001b[0m\u001b[0;34m)\u001b[0m\u001b[0;34m\u001b[0m\u001b[0;34m\u001b[0m\u001b[0m\n\u001b[1;32m   1032\u001b[0m         \u001b[0;32mtry\u001b[0m\u001b[0;34m:\u001b[0m\u001b[0;34m\u001b[0m\u001b[0;34m\u001b[0m\u001b[0m\n\u001b[0;32m-> 1033\u001b[0;31m             \u001b[0mresponse\u001b[0m \u001b[0;34m=\u001b[0m \u001b[0mconnection\u001b[0m\u001b[0;34m.\u001b[0m\u001b[0msend_command\u001b[0m\u001b[0;34m(\u001b[0m\u001b[0mcommand\u001b[0m\u001b[0;34m)\u001b[0m\u001b[0;34m\u001b[0m\u001b[0;34m\u001b[0m\u001b[0m\n\u001b[0m\u001b[1;32m   1034\u001b[0m             \u001b[0;32mif\u001b[0m \u001b[0mbinary\u001b[0m\u001b[0;34m:\u001b[0m\u001b[0;34m\u001b[0m\u001b[0;34m\u001b[0m\u001b[0m\n\u001b[1;32m   1035\u001b[0m                 \u001b[0;32mreturn\u001b[0m \u001b[0mresponse\u001b[0m\u001b[0;34m,\u001b[0m \u001b[0mself\u001b[0m\u001b[0;34m.\u001b[0m\u001b[0m_create_connection_guard\u001b[0m\u001b[0;34m(\u001b[0m\u001b[0mconnection\u001b[0m\u001b[0;34m)\u001b[0m\u001b[0;34m\u001b[0m\u001b[0;34m\u001b[0m\u001b[0m\n",
      "\u001b[0;32m~/code/spark-training/venv/lib/python3.8/site-packages/py4j/java_gateway.py\u001b[0m in \u001b[0;36msend_command\u001b[0;34m(self, command)\u001b[0m\n\u001b[1;32m   1198\u001b[0m \u001b[0;34m\u001b[0m\u001b[0m\n\u001b[1;32m   1199\u001b[0m         \u001b[0;32mtry\u001b[0m\u001b[0;34m:\u001b[0m\u001b[0;34m\u001b[0m\u001b[0;34m\u001b[0m\u001b[0m\n\u001b[0;32m-> 1200\u001b[0;31m             \u001b[0manswer\u001b[0m \u001b[0;34m=\u001b[0m \u001b[0msmart_decode\u001b[0m\u001b[0;34m(\u001b[0m\u001b[0mself\u001b[0m\u001b[0;34m.\u001b[0m\u001b[0mstream\u001b[0m\u001b[0;34m.\u001b[0m\u001b[0mreadline\u001b[0m\u001b[0;34m(\u001b[0m\u001b[0;34m)\u001b[0m\u001b[0;34m[\u001b[0m\u001b[0;34m:\u001b[0m\u001b[0;34m-\u001b[0m\u001b[0;36m1\u001b[0m\u001b[0;34m]\u001b[0m\u001b[0;34m)\u001b[0m\u001b[0;34m\u001b[0m\u001b[0;34m\u001b[0m\u001b[0m\n\u001b[0m\u001b[1;32m   1201\u001b[0m             \u001b[0mlogger\u001b[0m\u001b[0;34m.\u001b[0m\u001b[0mdebug\u001b[0m\u001b[0;34m(\u001b[0m\u001b[0;34m\"Answer received: {0}\"\u001b[0m\u001b[0;34m.\u001b[0m\u001b[0mformat\u001b[0m\u001b[0;34m(\u001b[0m\u001b[0manswer\u001b[0m\u001b[0;34m)\u001b[0m\u001b[0;34m)\u001b[0m\u001b[0;34m\u001b[0m\u001b[0;34m\u001b[0m\u001b[0m\n\u001b[1;32m   1202\u001b[0m             \u001b[0;32mif\u001b[0m \u001b[0manswer\u001b[0m\u001b[0;34m.\u001b[0m\u001b[0mstartswith\u001b[0m\u001b[0;34m(\u001b[0m\u001b[0mproto\u001b[0m\u001b[0;34m.\u001b[0m\u001b[0mRETURN_MESSAGE\u001b[0m\u001b[0;34m)\u001b[0m\u001b[0;34m:\u001b[0m\u001b[0;34m\u001b[0m\u001b[0;34m\u001b[0m\u001b[0m\n",
      "\u001b[0;32m/usr/lib64/python3.8/socket.py\u001b[0m in \u001b[0;36mreadinto\u001b[0;34m(self, b)\u001b[0m\n\u001b[1;32m    667\u001b[0m         \u001b[0;32mwhile\u001b[0m \u001b[0;32mTrue\u001b[0m\u001b[0;34m:\u001b[0m\u001b[0;34m\u001b[0m\u001b[0;34m\u001b[0m\u001b[0m\n\u001b[1;32m    668\u001b[0m             \u001b[0;32mtry\u001b[0m\u001b[0;34m:\u001b[0m\u001b[0;34m\u001b[0m\u001b[0;34m\u001b[0m\u001b[0m\n\u001b[0;32m--> 669\u001b[0;31m                 \u001b[0;32mreturn\u001b[0m \u001b[0mself\u001b[0m\u001b[0;34m.\u001b[0m\u001b[0m_sock\u001b[0m\u001b[0;34m.\u001b[0m\u001b[0mrecv_into\u001b[0m\u001b[0;34m(\u001b[0m\u001b[0mb\u001b[0m\u001b[0;34m)\u001b[0m\u001b[0;34m\u001b[0m\u001b[0;34m\u001b[0m\u001b[0m\n\u001b[0m\u001b[1;32m    670\u001b[0m             \u001b[0;32mexcept\u001b[0m \u001b[0mtimeout\u001b[0m\u001b[0;34m:\u001b[0m\u001b[0;34m\u001b[0m\u001b[0;34m\u001b[0m\u001b[0m\n\u001b[1;32m    671\u001b[0m                 \u001b[0mself\u001b[0m\u001b[0;34m.\u001b[0m\u001b[0m_timeout_occurred\u001b[0m \u001b[0;34m=\u001b[0m \u001b[0;32mTrue\u001b[0m\u001b[0;34m\u001b[0m\u001b[0;34m\u001b[0m\u001b[0m\n",
      "\u001b[0;31mKeyboardInterrupt\u001b[0m: "
     ]
    }
   ],
   "source": [
    "ssc.start()             # Start the computation\n",
    "ssc.awaitTermination()  # Wait for the computation to terminate"
   ]
  },
  {
   "cell_type": "markdown",
   "metadata": {
    "slideshow": {
     "slide_type": "fragment"
    }
   },
   "source": [
    "<div class=\"alert alert-block alert-success\">\n",
    "<center>\n",
    "    The accuracy should converge to the offline accuracy</center>"
   ]
  },
  {
   "cell_type": "markdown",
   "metadata": {
    "slideshow": {
     "slide_type": "slide"
    }
   },
   "source": [
    "<ul style=\"list-style-image: url('images/do.png');\">\n",
    "    <li>Stop the Stream context</li>\n",
    "</ul>"
   ]
  },
  {
   "cell_type": "code",
   "execution_count": 35,
   "metadata": {
    "slideshow": {
     "slide_type": "fragment"
    }
   },
   "outputs": [],
   "source": [
    "ssc.stop()"
   ]
  },
  {
   "cell_type": "markdown",
   "metadata": {
    "slideshow": {
     "slide_type": "slide"
    }
   },
   "source": [
    "# Recap"
   ]
  },
  {
   "cell_type": "markdown",
   "metadata": {
    "slideshow": {
     "slide_type": "fragment"
    }
   },
   "source": [
    "<div class=\"alert alert-block alert-success\">\n",
    "<center>\n",
    "    </center>\n",
    "    &#x2611; Practice with a <b>real cluster</b>\n",
    "</div>\n",
    "Interacted with HDFS, processed HDFS file in Spark, submitted Spark job to YARN"
   ]
  },
  {
   "cell_type": "markdown",
   "metadata": {
    "slideshow": {
     "slide_type": "fragment"
    }
   },
   "source": [
    "<div class=\"alert alert-block alert-success\">\n",
    "<center>\n",
    "    </center>\n",
    "    &#x2611; Get familiar with the concept of <b>data streams</b><br/>\n",
    "    &#x2611; Practice with Spark's <b>DStream</b> API<br/>\n",
    "\n",
    "</div>\n",
    "Implemented a counting algorithm\n"
   ]
  },
  {
   "cell_type": "markdown",
   "metadata": {
    "slideshow": {
     "slide_type": "fragment"
    }
   },
   "source": [
    "<div class=\"alert alert-block alert-success\">\n",
    "<center>\n",
    "    </center>\n",
    "    &#x2611; Analyze a data stream for <b>Human Activity Recognition</b> in the Internet of Things\n",
    "</div>\n",
    "\n",
    "Applied windowing, feature extraction, offline training, online classification"
   ]
  }
 ],
 "metadata": {
  "celltoolbar": "Slideshow",
  "kernelspec": {
   "display_name": "Python 3",
   "language": "python",
   "name": "python3"
  },
  "language_info": {
   "codemirror_mode": {
    "name": "ipython",
    "version": 3
   },
   "file_extension": ".py",
   "mimetype": "text/x-python",
   "name": "python",
   "nbconvert_exporter": "python",
   "pygments_lexer": "ipython3",
   "version": "3.8.3"
  },
  "toc": {
   "base_numbering": 1,
   "nav_menu": {},
   "number_sections": true,
   "sideBar": true,
   "skip_h1_title": false,
   "title_cell": "Table of Contents",
   "title_sidebar": "Contents",
   "toc_cell": false,
   "toc_position": {},
   "toc_section_display": true,
   "toc_window_display": false
  }
 },
 "nbformat": 4,
 "nbformat_minor": 4
}
