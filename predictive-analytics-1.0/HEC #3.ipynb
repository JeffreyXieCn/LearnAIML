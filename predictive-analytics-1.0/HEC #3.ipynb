{
 "cells": [
  {
   "cell_type": "markdown",
   "metadata": {},
   "source": [
    "# Workshop #3  \u000b",
    "Machine Learning for Predictive Analysis"
   ]
  },
  {
   "cell_type": "markdown",
   "metadata": {},
   "source": [
    "Executive Education HEC Montréal (Sept. 2020)"
   ]
  },
  {
   "cell_type": "markdown",
   "metadata": {},
   "source": [
    "Bruno Agard,\n",
    "Department of Mathematics and industrial engineering,\n",
    "École Polytechnique de Montréal"
   ]
  },
  {
   "cell_type": "markdown",
   "metadata": {},
   "source": [
    "## Before to start"
   ]
  },
  {
   "cell_type": "code",
   "execution_count": 1,
   "metadata": {},
   "outputs": [
    {
     "name": "stdout",
     "output_type": "stream",
     "text": [
      "pandas version is  0.24.2\n",
      "Extract of the file\n"
     ]
    },
    {
     "data": {
      "text/html": [
       "<div>\n",
       "<style scoped>\n",
       "    .dataframe tbody tr th:only-of-type {\n",
       "        vertical-align: middle;\n",
       "    }\n",
       "\n",
       "    .dataframe tbody tr th {\n",
       "        vertical-align: top;\n",
       "    }\n",
       "\n",
       "    .dataframe thead th {\n",
       "        text-align: right;\n",
       "    }\n",
       "</style>\n",
       "<table border=\"1\" class=\"dataframe\">\n",
       "  <thead>\n",
       "    <tr style=\"text-align: right;\">\n",
       "      <th></th>\n",
       "      <th>Unnamed: 0</th>\n",
       "      <th>0</th>\n",
       "      <th>1</th>\n",
       "      <th>2</th>\n",
       "      <th>3</th>\n",
       "      <th>4</th>\n",
       "      <th>5</th>\n",
       "      <th>6</th>\n",
       "      <th>7</th>\n",
       "      <th>8</th>\n",
       "      <th>9</th>\n",
       "      <th>Y</th>\n",
       "    </tr>\n",
       "  </thead>\n",
       "  <tbody>\n",
       "    <tr>\n",
       "      <th>0</th>\n",
       "      <td>0</td>\n",
       "      <td>-0.723710</td>\n",
       "      <td>0.706131</td>\n",
       "      <td>-0.681407</td>\n",
       "      <td>0.345742</td>\n",
       "      <td>-1.394799</td>\n",
       "      <td>0.991715</td>\n",
       "      <td>1.459279</td>\n",
       "      <td>0.264135</td>\n",
       "      <td>1.338809</td>\n",
       "      <td>-1.063509</td>\n",
       "      <td>56.028149</td>\n",
       "    </tr>\n",
       "    <tr>\n",
       "      <th>1</th>\n",
       "      <td>1</td>\n",
       "      <td>0.154322</td>\n",
       "      <td>-1.194278</td>\n",
       "      <td>-0.378550</td>\n",
       "      <td>-0.947253</td>\n",
       "      <td>0.017236</td>\n",
       "      <td>-0.848153</td>\n",
       "      <td>1.145411</td>\n",
       "      <td>0.921361</td>\n",
       "      <td>-1.134930</td>\n",
       "      <td>0.034793</td>\n",
       "      <td>-171.904331</td>\n",
       "    </tr>\n",
       "    <tr>\n",
       "      <th>2</th>\n",
       "      <td>2</td>\n",
       "      <td>-0.981547</td>\n",
       "      <td>-1.505534</td>\n",
       "      <td>-0.732014</td>\n",
       "      <td>1.352397</td>\n",
       "      <td>0.610571</td>\n",
       "      <td>-1.356184</td>\n",
       "      <td>1.067497</td>\n",
       "      <td>0.489973</td>\n",
       "      <td>1.367776</td>\n",
       "      <td>0.434883</td>\n",
       "      <td>28.320338</td>\n",
       "    </tr>\n",
       "    <tr>\n",
       "      <th>3</th>\n",
       "      <td>3</td>\n",
       "      <td>0.148850</td>\n",
       "      <td>0.012636</td>\n",
       "      <td>2.496297</td>\n",
       "      <td>-0.577869</td>\n",
       "      <td>0.301422</td>\n",
       "      <td>-0.955435</td>\n",
       "      <td>0.511744</td>\n",
       "      <td>1.172609</td>\n",
       "      <td>1.360648</td>\n",
       "      <td>0.782916</td>\n",
       "      <td>186.284571</td>\n",
       "    </tr>\n",
       "    <tr>\n",
       "      <th>4</th>\n",
       "      <td>4</td>\n",
       "      <td>-0.319502</td>\n",
       "      <td>0.283871</td>\n",
       "      <td>-1.899992</td>\n",
       "      <td>-0.488394</td>\n",
       "      <td>-1.059986</td>\n",
       "      <td>0.001327</td>\n",
       "      <td>-0.311576</td>\n",
       "      <td>-1.738088</td>\n",
       "      <td>1.229521</td>\n",
       "      <td>0.190225</td>\n",
       "      <td>63.100730</td>\n",
       "    </tr>\n",
       "  </tbody>\n",
       "</table>\n",
       "</div>"
      ],
      "text/plain": [
       "   Unnamed: 0         0         1         2         3         4         5  \\\n",
       "0           0 -0.723710  0.706131 -0.681407  0.345742 -1.394799  0.991715   \n",
       "1           1  0.154322 -1.194278 -0.378550 -0.947253  0.017236 -0.848153   \n",
       "2           2 -0.981547 -1.505534 -0.732014  1.352397  0.610571 -1.356184   \n",
       "3           3  0.148850  0.012636  2.496297 -0.577869  0.301422 -0.955435   \n",
       "4           4 -0.319502  0.283871 -1.899992 -0.488394 -1.059986  0.001327   \n",
       "\n",
       "          6         7         8         9           Y  \n",
       "0  1.459279  0.264135  1.338809 -1.063509   56.028149  \n",
       "1  1.145411  0.921361 -1.134930  0.034793 -171.904331  \n",
       "2  1.067497  0.489973  1.367776  0.434883   28.320338  \n",
       "3  0.511744  1.172609  1.360648  0.782916  186.284571  \n",
       "4 -0.311576 -1.738088  1.229521  0.190225   63.100730  "
      ]
     },
     "metadata": {},
     "output_type": "display_data"
    }
   ],
   "source": [
    "# you sould have the following packages installed :\n",
    "# pandas, numpy, sklearn\n",
    "\n",
    "# define the path where your saved the different data files \n",
    "path='data/'\n",
    "\n",
    "\n",
    "# if the path is correct, then the head of the file \"Reg_1.csv\" will appear when running this few lines\n",
    "import pandas as pd\n",
    "import numpy as np\n",
    "\n",
    "print('pandas version is ',pd.__version__)\n",
    "\n",
    "\n",
    "File = pd.read_csv(path+\"Reg_1.csv\", sep=',')\n",
    "# show it works\n",
    "print(\"Extract of the file\")\n",
    "display(File.head(5))\n",
    "\n",
    "# now enjoy the class :-)\n",
    "        "
   ]
  },
  {
   "cell_type": "markdown",
   "metadata": {},
   "source": [
    "# Linear and logistic regression models"
   ]
  },
  {
   "cell_type": "markdown",
   "metadata": {},
   "source": [
    "## Linear regression models"
   ]
  },
  {
   "cell_type": "markdown",
   "metadata": {},
   "source": [
    "#### First Linear Regression Model, Ex 0"
   ]
  },
  {
   "cell_type": "code",
   "execution_count": 4,
   "metadata": {},
   "outputs": [
    {
     "name": "stdout",
     "output_type": "stream",
     "text": [
      "Score : 1.0\n",
      "Model coefficients : [1. 2.]\n",
      "Model Intercept :  3.000000000000001\n",
      "Prediction for [3, 5] is [16.]\n",
      "MSE : 0.000\n"
     ]
    }
   ],
   "source": [
    "from sklearn.linear_model import LinearRegression\n",
    "from sklearn.metrics import mean_squared_error\n",
    "\n",
    "X = np.array([[0, 0], [1, 1], [1, 2], [2, 2], [2, 3]])\n",
    "# y = 1 * x_0 + 2 * x_1 + 3\n",
    "y = np.array([ 3, 6, 8, 9, 11])\n",
    "\n",
    "#fit the models\n",
    "linreg = LinearRegression()\n",
    "linreg.fit(X, y)\n",
    "\n",
    "print(\"Score :\", linreg.score(X, y))\n",
    "print(\"Model coefficients :\", linreg.coef_)\n",
    "print(\"Model Intercept : \", linreg.intercept_)\n",
    "print(\"Prediction for [3, 5] is\", linreg.predict(np.array([[3, 5]])) )\n",
    "print(\"MSE : %0.3f\" % mean_squared_error(linreg.predict(X), y))"
   ]
  },
  {
   "cell_type": "markdown",
   "metadata": {},
   "source": [
    "#### Different Linear Regression Models, Ex 1"
   ]
  },
  {
   "cell_type": "code",
   "execution_count": 5,
   "metadata": {},
   "outputs": [
    {
     "name": "stdout",
     "output_type": "stream",
     "text": [
      "Scores :\n",
      "        Linear Regression : 1.000\n",
      "         Lasso Regression : 0.998\n",
      "         Ridge Regression : 0.981\n",
      "    ElasticNet Regression : 0.995\n",
      "\n",
      "MSEs :\n",
      "        Linear Regression : 0.000\n",
      "         Lasso Regression : 0.016\n",
      "         Ridge Regression : 0.144\n",
      "    ElasticNet Regression : 0.038\n",
      "\n",
      "Model coef. :\n",
      "        Linear Regression :  [ 1.00000000e+00  2.44249065e-15  2.00000000e+00 -8.49692262e-17] Intercept :  2.9999999999999982\n",
      "         Lasso Regression :  [ 0.          0.50550836  1.94524949 -0.        ] Intercept :  3.124931593482109\n",
      "         Ridge Regression :  [ 0.43742722  0.64425572  1.33239827 -0.00693289] Intercept :  3.296126397391536\n",
      "    ElasticNet Regression :  [ 0.09771599  0.58877571  1.74467498 -0.        ] Intercept :  3.1370767050126194\n"
     ]
    }
   ],
   "source": [
    "from sklearn.linear_model import LinearRegression\n",
    "from sklearn.linear_model import Lasso\n",
    "from sklearn.linear_model import Ridge\n",
    "from sklearn.linear_model import ElasticNet\n",
    "from sklearn.metrics import mean_squared_error\n",
    "\n",
    "X = np.array([[0, 0, 0, 7], [1, 2.2, 1, 3], [1, 1.7, 2, 2], [2, 3.7, 2, 5], [2, 3.9, 3, 8]])\n",
    "y = np.array([ 3, 6, 8, 9, 11])\n",
    "\n",
    "#fit the models\n",
    "linreg = LinearRegression().fit(X, y)\n",
    "Lasreg = Lasso(alpha=0.1).fit(X, y)\n",
    "Ridreg = Ridge(alpha=1.0).fit(X, y)\n",
    "ElNreg = ElasticNet(alpha=0.1).fit(X, y)\n",
    "\n",
    "print(\"Scores :\")\n",
    "print(\"        Linear Regression : %0.3f\" % linreg.score(X, y))\n",
    "print(\"         Lasso Regression : %0.3f\" % Lasreg.score(X, y))\n",
    "print(\"         Ridge Regression : %0.3f\" % Ridreg.score(X, y))\n",
    "print(\"    ElasticNet Regression : %0.3f\" % ElNreg.score(X, y))\n",
    "\n",
    "print(\"\\nMSEs :\")\n",
    "print(\"        Linear Regression : %0.3f\" % mean_squared_error(linreg.predict(X), y))\n",
    "print(\"         Lasso Regression : %0.3f\" % mean_squared_error(Lasreg.predict(X), y))\n",
    "print(\"         Ridge Regression : %0.3f\" % mean_squared_error(Ridreg.predict(X), y))\n",
    "print(\"    ElasticNet Regression : %0.3f\" % mean_squared_error(ElNreg.predict(X), y))\n",
    "\n",
    "print(\"\\nModel coef. :\")\n",
    "print(\"        Linear Regression : \", linreg.coef_, \"Intercept : \", linreg.intercept_)\n",
    "print(\"         Lasso Regression : \", Lasreg.coef_, \"Intercept : \", Lasreg.intercept_)\n",
    "print(\"         Ridge Regression : \", Ridreg.coef_, \"Intercept : \", Ridreg.intercept_)\n",
    "print(\"    ElasticNet Regression : \", ElNreg.coef_, \"Intercept : \", ElNreg.intercept_)"
   ]
  },
  {
   "cell_type": "markdown",
   "metadata": {},
   "source": [
    "#### Get Alphas from Cross Validation, Ex 1 - CV"
   ]
  },
  {
   "cell_type": "code",
   "execution_count": 6,
   "metadata": {},
   "outputs": [
    {
     "name": "stdout",
     "output_type": "stream",
     "text": [
      "Performances with Cross Validation :\n",
      "\n",
      "Alphas :\n",
      "         LassoCV Regression : 0.004\n",
      "         RidgeCV Regression : 0.100\n",
      "    ElasticNetCV Regression : 0.007\n",
      "\n",
      "Scores :\n",
      "         LassoCV Regression : 1.000 (0.998)\n",
      "         RidgeCV Regression : 0.999 (0.981)\n",
      "    ElasticNetCV Regression : 1.000 (0.995)\n",
      "\n",
      "MSEs :\n",
      "         Lasso Regression : 0.000 (0.016)\n",
      "         Ridge Regression : 0.006 (0.144)\n",
      "    ElasticNet Regression : 0.001 (0.038)\n",
      "\n",
      "Model coef. :\n",
      "         LassoCV Regression :  [ 7.46910053e-01  1.18979274e-01  2.01795595e+00 -3.35400184e-04] Intercept :  3.0030030889087245\n",
      "         RidgeCV Regression :  [ 0.47669967  0.32251393  1.91533486 -0.00389139] Intercept :  3.041099514399317\n",
      "    ElasticNetCV Regression :  [ 5.70284515e-01  2.16857483e-01  2.00815961e+00 -1.44633457e-03] Intercept :  3.011062667563638\n"
     ]
    }
   ],
   "source": [
    "from sklearn.linear_model import LassoCV\n",
    "from sklearn.linear_model import RidgeCV\n",
    "from sklearn.linear_model import ElasticNetCV\n",
    "\n",
    "LasregCV = LassoCV().fit(X, y)\n",
    "RidregCV = RidgeCV().fit(X, y)\n",
    "ElNregCV = ElasticNetCV().fit(X, y)\n",
    "\n",
    "print(\"Performances with Cross Validation :\")\n",
    "\n",
    "print(\"\\nAlphas :\")\n",
    "print(\"         LassoCV Regression : %0.3f\" % LasregCV.alpha_)\n",
    "print(\"         RidgeCV Regression : %0.3f\" % RidregCV.alpha_)\n",
    "print(\"    ElasticNetCV Regression : %0.3f\" % ElNregCV.alpha_)\n",
    "\n",
    "print(\"\\nScores :\")\n",
    "print(\"         LassoCV Regression : %0.3f (%0.3f)\" % (LasregCV.score(X, y), Lasreg.score(X, y)))\n",
    "print(\"         RidgeCV Regression : %0.3f (%0.3f)\" % (RidregCV.score(X, y), Ridreg.score(X, y)))\n",
    "print(\"    ElasticNetCV Regression : %0.3f (%0.3f)\" % (ElNregCV.score(X, y), ElNreg.score(X, y)))\n",
    "\n",
    "print(\"\\nMSEs :\")\n",
    "print(\"         Lasso Regression : %0.3f (%0.3f)\" % (mean_squared_error(LasregCV.predict(X), y), mean_squared_error(Lasreg.predict(X), y)))\n",
    "print(\"         Ridge Regression : %0.3f (%0.3f)\" % (mean_squared_error(RidregCV.predict(X), y), mean_squared_error(Ridreg.predict(X), y)))\n",
    "print(\"    ElasticNet Regression : %0.3f (%0.3f)\" % (mean_squared_error(ElNregCV.predict(X), y), mean_squared_error(ElNreg.predict(X), y)))\n",
    "\n",
    "print(\"\\nModel coef. :\")\n",
    "print(\"         LassoCV Regression : \", LasregCV.coef_, \"Intercept : \", LasregCV.intercept_)\n",
    "print(\"         RidgeCV Regression : \", RidregCV.coef_, \"Intercept : \", RidregCV.intercept_)\n",
    "print(\"    ElasticNetCV Regression : \", ElNregCV.coef_, \"Intercept : \", ElNregCV.intercept_)\n"
   ]
  },
  {
   "cell_type": "markdown",
   "metadata": {},
   "source": [
    "#### Different Linear Regression Models, Ex 2"
   ]
  },
  {
   "cell_type": "code",
   "execution_count": 12,
   "metadata": {},
   "outputs": [
    {
     "data": {
      "text/plain": [
       "array([[ 0.00000000e+00, -7.23710148e-01,  7.06130886e-01, ...,\n",
       "         1.33880851e+00, -1.06350858e+00,  5.60281492e+01],\n",
       "       [ 1.00000000e+00,  1.54322170e-01, -1.19427784e+00, ...,\n",
       "        -1.13493040e+00,  3.47930102e-02, -1.71904331e+02],\n",
       "       [ 2.00000000e+00, -9.81547210e-01, -1.50553410e+00, ...,\n",
       "         1.36777581e+00,  4.34882561e-01,  2.83203383e+01],\n",
       "       ...,\n",
       "       [ 9.97000000e+02, -9.57886659e-01,  5.56610836e-01, ...,\n",
       "         2.67509669e+00, -5.44819750e-01, -2.75221908e+01],\n",
       "       [ 9.98000000e+02,  9.28979331e-01, -4.78047998e-02, ...,\n",
       "        -1.31690986e-01,  4.04503019e-01,  9.00367989e+01],\n",
       "       [ 9.99000000e+02, -1.78742968e+00,  1.81162193e+00, ...,\n",
       "        -5.85659835e-01,  5.26922901e-01,  1.83629417e+02]])"
      ]
     },
     "metadata": {},
     "output_type": "display_data"
    },
    {
     "name": "stdout",
     "output_type": "stream",
     "text": [
      "\n",
      "Scores :\n",
      "        Linear Regression : 0.758\n",
      "         Lasso Regression : 0.758\n",
      "         Ridge Regression : 0.758\n",
      "    ElasticNet Regression : 0.756\n",
      "\n",
      "MSEs :\n",
      "         Linear Regression : 5505.981\n",
      "         LassoCV Regression : 5506.086\n",
      "         RidgeCV Regression : 5505.998\n",
      "    ElasticNetCV Regression : 5546.026\n",
      "\n",
      "Predictions for line  22\n",
      "        Linear Regression : -3.681\n",
      "         Lasso Regression : -3.997\n",
      "         Ridge Regression : -3.675\n",
      "    ElasticNet Regression : -3.537\n",
      "\n",
      "Real value                : -39.064\n"
     ]
    }
   ],
   "source": [
    "from sklearn.linear_model import LinearRegression\n",
    "from sklearn.linear_model import Lasso\n",
    "from sklearn.linear_model import Ridge\n",
    "from sklearn.linear_model import ElasticNet\n",
    "\n",
    "# load the csv file\n",
    "File = pd.read_csv(path+\"Reg_1.csv\", sep=',')\n",
    "\n",
    "#Extract inputs (X) and output (y)\n",
    "Data=File.to_numpy() # this function is added in pandas 0.24\n",
    "display(Data)\n",
    "X = Data[:, 1:-1]\n",
    "y = Data[:, -1] \n",
    "#display(X)\n",
    "#display(y)\n",
    "\n",
    "#fit the models\n",
    "linreg = LinearRegression().fit(X, y)\n",
    "Lasreg = Lasso(alpha=0.1).fit(X, y)\n",
    "Ridreg = Ridge(alpha=1.0).fit(X, y)\n",
    "ElNreg = ElasticNet(alpha=0.1).fit(X, y)\n",
    "\n",
    "print(\"\\nScores :\")\n",
    "print(\"        Linear Regression : %0.3f\" % linreg.score(X, y))\n",
    "print(\"         Lasso Regression : %0.3f\" % Lasreg.score(X, y))\n",
    "print(\"         Ridge Regression : %0.3f\" % Ridreg.score(X, y))\n",
    "print(\"    ElasticNet Regression : %0.3f\" % ElNreg.score(X, y))\n",
    "\n",
    "print(\"\\nMSEs :\")\n",
    "print(\"         Linear Regression : %0.3f\" % mean_squared_error(linreg.predict(X), y))\n",
    "print(\"         LassoCV Regression : %0.3f\" % mean_squared_error(Lasreg.predict(X), y))\n",
    "print(\"         RidgeCV Regression : %0.3f\" % mean_squared_error(Ridreg.predict(X), y))\n",
    "print(\"    ElasticNetCV Regression : %0.3f\" % mean_squared_error(ElNreg.predict(X), y))\n",
    "\n",
    "i=22\n",
    "print(\"\\nPredictions for line \", i)\n",
    "print(\"        Linear Regression : %0.3f\" % linreg.predict(np.array([X[i,:]])) )\n",
    "print(\"         Lasso Regression : %0.3f\" % Lasreg.predict(np.array([X[i,:]])) )\n",
    "print(\"         Ridge Regression : %0.3f\" % Ridreg.predict(np.array([X[i,:]])) )\n",
    "print(\"    ElasticNet Regression : %0.3f\" % ElNreg.predict(np.array([X[i,:]])) )\n",
    "print(\"\\nReal value                : %0.3f\" % y[i] )"
   ]
  },
  {
   "cell_type": "markdown",
   "metadata": {},
   "source": [
    "#### With Cross Validation, Ex 2 - CV"
   ]
  },
  {
   "cell_type": "code",
   "execution_count": 13,
   "metadata": {},
   "outputs": [
    {
     "name": "stdout",
     "output_type": "stream",
     "text": [
      "Alphas :\n",
      "        Lasso Regression : 1.009\n",
      "        Ridge Regression : 1.000\n",
      "   ElasticNet Regression : 0.153\n",
      "\n",
      "Score :\n",
      "        Lasso Regression : 0.757\n",
      "        Ridge Regression : 0.758\n",
      "   ElasticNet Regression : 0.754\n",
      "\n",
      "MSEs :\n",
      "         LassoCV Regression : 5514.715\n",
      "         RidgeCV Regression : 5505.998\n",
      "    ElasticNetCV Regression : 5594.749\n",
      "\n",
      "New Predictions for line  22\n",
      "         Lasso Regression : -6.517\n",
      "         Ridge Regression : -3.675\n",
      "    ElasticNet Regression : -3.468\n",
      "\n",
      "Real value                : -39.064\n"
     ]
    }
   ],
   "source": [
    "from sklearn.linear_model import RidgeCV\n",
    "from sklearn.linear_model import LassoCV\n",
    "from sklearn.linear_model import ElasticNetCV\n",
    "\n",
    "RidregCV = RidgeCV().fit(X, y)\n",
    "LasregCV = LassoCV().fit(X, y)\n",
    "ElNregCV = ElasticNetCV().fit(X, y)\n",
    "\n",
    "print(\"Alphas :\")\n",
    "print(\"        Lasso Regression : %0.3f\" % LasregCV.alpha_)\n",
    "print(\"        Ridge Regression : %0.3f\" % RidregCV.alpha_)\n",
    "print(\"   ElasticNet Regression : %0.3f\" % ElNregCV.alpha_)\n",
    "\n",
    "print(\"\\nScore :\")\n",
    "print(\"        Lasso Regression : %0.3f\" % LasregCV.score(X, y))\n",
    "print(\"        Ridge Regression : %0.3f\" % RidregCV.score(X, y))\n",
    "print(\"   ElasticNet Regression : %0.3f\" % ElNregCV.score(X, y))\n",
    "\n",
    "print(\"\\nMSEs :\")\n",
    "print(\"         LassoCV Regression : %0.3f\" % mean_squared_error(LasregCV.predict(X), y))\n",
    "print(\"         RidgeCV Regression : %0.3f\" % mean_squared_error(RidregCV.predict(X), y))\n",
    "print(\"    ElasticNetCV Regression : %0.3f\" % mean_squared_error(ElNregCV.predict(X), y))\n",
    "\n",
    "print(\"\\nNew Predictions for line \", i)\n",
    "print(\"         Lasso Regression : %0.3f\" % LasregCV.predict(np.array([X[i,:]])) )\n",
    "print(\"         Ridge Regression : %0.3f\" % RidregCV.predict(np.array([X[i,:]])) )\n",
    "print(\"    ElasticNet Regression : %0.3f\" % ElNregCV.predict(np.array([X[i,:]])) )\n",
    "\n",
    "print(\"\\nReal value                : %0.3f\" % y[i] )"
   ]
  },
  {
   "cell_type": "markdown",
   "metadata": {},
   "source": [
    "## Logistic regression models"
   ]
  },
  {
   "cell_type": "markdown",
   "metadata": {},
   "source": [
    "#### Ex 3"
   ]
  },
  {
   "cell_type": "code",
   "execution_count": 2,
   "metadata": {},
   "outputs": [
    {
     "name": "stderr",
     "output_type": "stream",
     "text": [
      "C:\\ProgramData\\Anaconda3\\lib\\site-packages\\sklearn\\linear_model\\logistic.py:433: FutureWarning: Default solver will be changed to 'lbfgs' in 0.22. Specify a solver to silence this warning.\n",
      "  FutureWarning)\n"
     ]
    },
    {
     "name": "stdout",
     "output_type": "stream",
     "text": [
      "\n",
      "Score : 0.738\n",
      "\n",
      "Prediction :\n",
      "  Probabilities : [[0.34826406 0.65173594]]\n",
      "  Decision : [1.]\n",
      "\n",
      "Real       : 0.0\n"
     ]
    }
   ],
   "source": [
    "from sklearn.linear_model import LogisticRegression\n",
    "\n",
    "# load the csv file\n",
    "File = pd.read_csv(path+\"Classif_1.csv\", sep=',')\n",
    "\n",
    "#Extract inputs (X) and output (y)\n",
    "Data=File.to_numpy()\n",
    "X = Data[:, 1:-1] # remove the first and last columns\n",
    "y = Data[:, -1] \n",
    "\n",
    "# fit a model\n",
    "LogReg=LogisticRegression().fit(X, y)\n",
    "\n",
    "print(\"\\nScore :\", LogReg.score(X, y))\n",
    "\n",
    "i=7\n",
    "print(\"\\nPrediction :\")\n",
    "print(\"  Probabilities :\", LogReg.predict_proba(np.array([X[i,:]]) ) )\n",
    "print(\"  Decision :\", LogReg.predict(np.array([X[i,:]]) ) )\n",
    "print(\"\\nReal       :\", y[i])"
   ]
  },
  {
   "cell_type": "markdown",
   "metadata": {},
   "source": [
    "# Performance indicators"
   ]
  },
  {
   "cell_type": "markdown",
   "metadata": {},
   "source": [
    "#### for continuous outputs, Ex 4"
   ]
  },
  {
   "cell_type": "code",
   "execution_count": 15,
   "metadata": {},
   "outputs": [
    {
     "name": "stdout",
     "output_type": "stream",
     "text": [
      "MSE =  0.375\n",
      "MAE =  0.5\n",
      "RMSE =  0.6123724356957945\n"
     ]
    }
   ],
   "source": [
    "from sklearn.metrics import mean_squared_error\n",
    "from sklearn.metrics import mean_absolute_error\n",
    "\n",
    "y_true = [3, -0.5, 2, 7]\n",
    "y_pred = [2.5, 0.0, 2, 8]\n",
    "\n",
    "print(\"MSE = \", mean_squared_error(y_true, y_pred))\n",
    "print(\"MAE = \", mean_absolute_error(y_true, y_pred))\n",
    "\n",
    "\n",
    "from math import sqrt\n",
    "print(\"RMSE = \", sqrt(mean_squared_error(y_true, y_pred)))"
   ]
  },
  {
   "cell_type": "markdown",
   "metadata": {},
   "source": [
    "#### for discrete outputs, ex 5"
   ]
  },
  {
   "cell_type": "code",
   "execution_count": 16,
   "metadata": {},
   "outputs": [
    {
     "name": "stdout",
     "output_type": "stream",
     "text": [
      "Confusion matrix : \n",
      "\n",
      "[[1 2]\n",
      " [1 4]]\n",
      "\n",
      "Accurary =  0.625\n",
      "     5/8 =  0.625\n",
      "\n",
      "Precision =  [0.5        0.66666667]\n",
      "      1/2 =  0.5 , 4/6 =  0.6666666666666666\n",
      "\n",
      "Recall =  [0.33333333 0.8       ]\n",
      "   1/3 =  0.3333333333333333 , 4/5 =  0.8\n"
     ]
    }
   ],
   "source": [
    "from sklearn.metrics import confusion_matrix\n",
    "from sklearn.metrics import accuracy_score\n",
    "from sklearn.metrics import precision_score\n",
    "from sklearn.metrics import recall_score\n",
    "\n",
    "y_true  = [0, 1, 1, 1, 1, 1, 0, 0]\n",
    "y_pred = [0, 0, 1, 1, 1, 1, 1, 1]\n",
    "\n",
    "print(\"Confusion matrix : \\n\")\n",
    "print(confusion_matrix(y_true, y_pred))\n",
    "print(\"\\nAccurary = \", accuracy_score(y_true, y_pred))\n",
    "print(\"     5/8 = \", 5/8)\n",
    "print(\"\\nPrecision = \", precision_score(y_true, y_pred, average=None)) # on column\n",
    "print(\"      1/2 = \", 1/2, \", 4/6 = \", 4/6)\n",
    "print(\"\\nRecall = \", recall_score(y_true, y_pred, average=None)) # on row\n",
    "print(\"   1/3 = \", 1/3, \", 4/5 = \", 4/5)"
   ]
  },
  {
   "cell_type": "markdown",
   "metadata": {},
   "source": [
    "#### ex 6"
   ]
  },
  {
   "cell_type": "code",
   "execution_count": 19,
   "metadata": {},
   "outputs": [
    {
     "name": "stdout",
     "output_type": "stream",
     "text": [
      "Confusion matrix : \n",
      "\n",
      "[[3 0 0]\n",
      " [1 2 1]\n",
      " [0 0 2]]\n",
      "\n",
      "Accurary =  0.7777777777777778\n",
      "     7/9 =  0.7777777777777778\n",
      "\n",
      "Precision =  [0.75       1.         0.66666667]\n",
      "     3/4 =  0.75 , 2/2 =  1.0 , 2/3 =  0.6666666666666666\n",
      "\n",
      "Recall =  [1.  0.5 1. ]\n",
      "   3/3 =  1.0 , 2/4 =  0.5 , 2/2 =  1.0\n"
     ]
    }
   ],
   "source": [
    "from sklearn.metrics import confusion_matrix\n",
    "from sklearn.metrics import accuracy_score\n",
    "from sklearn.metrics import precision_score\n",
    "from sklearn.metrics import recall_score\n",
    "\n",
    "y_true = [1, 2, 3, 1, 2, 2, 1, 2, 3]\n",
    "y_pred = [1, 1, 3, 1, 2, 3, 1, 2, 3]\n",
    "\n",
    "print(\"Confusion matrix : \\n\")\n",
    "print(confusion_matrix(y_true, y_pred))\n",
    "print(\"\\nAccurary = \", accuracy_score(y_true, y_pred))\n",
    "print(\"     7/9 = \", 7/9)\n",
    "print(\"\\nPrecision = \", precision_score(y_true, y_pred, average=None))\n",
    "print(\"     3/4 = \", 3/4, \", 2/2 = \", 2/2, \", 2/3 = \", 2/3)\n",
    "print(\"\\nRecall = \", recall_score(y_true, y_pred, average=None))\n",
    "print(\"   3/3 = \", 3/3, \", 2/4 = \", 2/4, \", 2/2 = \", 2/2)"
   ]
  },
  {
   "cell_type": "markdown",
   "metadata": {},
   "source": [
    "#### ROC curve, AUC, ex 7"
   ]
  },
  {
   "cell_type": "code",
   "execution_count": 20,
   "metadata": {},
   "outputs": [
    {
     "data": {
      "image/png": "[encoded data removed]",
      "text/plain": [
       "<Figure size 432x288 with 1 Axes>"
      ]
     },
     "metadata": {
      "needs_background": "light"
     },
     "output_type": "display_data"
    },
    {
     "name": "stdout",
     "output_type": "stream",
     "text": [
      "AUC=0.811\n"
     ]
    }
   ],
   "source": [
    "from sklearn.linear_model import LogisticRegression\n",
    "from sklearn.metrics import roc_curve\n",
    "from sklearn.metrics import roc_auc_score\n",
    "from matplotlib import pyplot\n",
    "\n",
    "# load the csv file\n",
    "File = pd.read_csv(path+\"Classif_1.csv\", sep=',')\n",
    "\n",
    "#Extract inputs (X) and output (y)\n",
    "Data=File.to_numpy()\n",
    "X = Data[:, 1:-1] \n",
    "y = Data[:, -1] \n",
    "\n",
    "# fit a model\n",
    "LogReg=LogisticRegression().fit(X, y)\n",
    "\n",
    "# predict probabilities\n",
    "lr_probs = LogReg.predict_proba(X)\n",
    "\n",
    "# keep probabilities for the positive outcome only\n",
    "lr_probs = lr_probs[:, 1]\n",
    "\n",
    "# calculate roc curves\n",
    "lr_fpr, lr_tpr, _ = roc_curve(y, lr_probs)\n",
    "# plot the roc curve for the model\n",
    "pyplot.plot(lr_fpr, lr_tpr, marker='.', label='Logistic')\n",
    "# axis labels\n",
    "pyplot.xlabel('False Positive Rate')\n",
    "pyplot.ylabel('True Positive Rate')\n",
    "# show the legend\n",
    "pyplot.legend()\n",
    "# show the plot\n",
    "pyplot.show()\n",
    "\n",
    "# summarize scores\n",
    "print('AUC=%.3f' % (roc_auc_score(y, lr_probs)))"
   ]
  },
  {
   "cell_type": "markdown",
   "metadata": {},
   "source": [
    "#### Learning, validation, test, ex 8"
   ]
  },
  {
   "cell_type": "code",
   "execution_count": 21,
   "metadata": {},
   "outputs": [
    {
     "name": "stdout",
     "output_type": "stream",
     "text": [
      "\n",
      "The model fits the TRAIN SET\n",
      "\n",
      "How good is my model to fit the train data\n",
      "AUC on train set is 0.80\n",
      "\n",
      "How good is my model to predict for new data\n",
      "AUC on test set is 0.82\n"
     ]
    },
    {
     "data": {
      "image/png": "[encoded data removed]",
      "text/plain": [
       "<Figure size 432x288 with 1 Axes>"
      ]
     },
     "metadata": {
      "needs_background": "light"
     },
     "output_type": "display_data"
    }
   ],
   "source": [
    "from sklearn.linear_model import LogisticRegression\n",
    "from sklearn.metrics import roc_curve\n",
    "from sklearn.metrics import roc_auc_score\n",
    "from matplotlib import pyplot\n",
    "from sklearn.model_selection import train_test_split\n",
    "\n",
    "# load the csv file\n",
    "File = pd.read_csv(path+\"Classif_1.csv\", sep=',')\n",
    "\n",
    "#Extract inputs (X) and output (y)\n",
    "Data=File.to_numpy()\n",
    "X = Data[:, 1:-1] \n",
    "y = Data[:, -1] \n",
    "\n",
    "# split into train/test sets\n",
    "X_train, X_test, y_train, y_test = train_test_split( X, y, test_size = 0.3) # random selection happened here\n",
    "\n",
    "# fit a model\n",
    "print(\"\\nThe model fits the TRAIN SET\")\n",
    "model = LogisticRegression().fit(X_train, y_train)\n",
    "\n",
    "print(\"\\nHow good is my model to fit the train data\")\n",
    "# predict probabilities\n",
    "lr_probs_valid = model.predict_proba(X_train)\n",
    "# keep probabilities for the positive outcome only\n",
    "lr_probs_valid = lr_probs_valid[:, 1]\n",
    "# calculate scores\n",
    "print(\"AUC on train set is %.2f\" % roc_auc_score(y_train, lr_probs_valid))\n",
    "\n",
    "print(\"\\nHow good is my model to predict for new data\")\n",
    "# predict probabilities\n",
    "lr_probs_test = model.predict_proba(X_test)\n",
    "# keep probabilities for the positive outcome only\n",
    "lr_probs_test = lr_probs_test[:, 1]\n",
    "# calculate scores\n",
    "print(\"AUC on test set is %.2f\" % roc_auc_score(y_test, lr_probs_test))\n",
    "\n",
    "# calculate roc curves\n",
    "lr_fpr_valid, lr_tpr_valid, _ = roc_curve(y_train, lr_probs_valid)\n",
    "lr_fpr_test, lr_tpr_test, _ = roc_curve(y_test, lr_probs_test)\n",
    "# plot the roc curve for the model\n",
    "pyplot.plot(lr_fpr_valid, lr_tpr_valid, marker='.', label='Validation')\n",
    "pyplot.plot(lr_fpr_test, lr_tpr_test, marker='.', label='Prediction')\n",
    "# axis labels\n",
    "pyplot.xlabel('False Positive Rate')\n",
    "pyplot.ylabel('True Positive Rate')\n",
    "# show the legend\n",
    "pyplot.legend()\n",
    "# show the plot\n",
    "pyplot.show()"
   ]
  },
  {
   "cell_type": "markdown",
   "metadata": {},
   "source": [
    "#### Cross validation, ex 9"
   ]
  },
  {
   "cell_type": "code",
   "execution_count": 22,
   "metadata": {},
   "outputs": [
    {
     "name": "stdout",
     "output_type": "stream",
     "text": [
      "\n",
      "Accuracy for each sample :  [0.715 0.75  0.755 0.76  0.695]\n",
      "Global accuracy: 0.73 (+/- 0.05)\n"
     ]
    }
   ],
   "source": [
    "from sklearn.linear_model import LogisticRegression\n",
    "from sklearn.model_selection import cross_val_score\n",
    "\n",
    "# load the csv file\n",
    "File = pd.read_csv(path+\"Classif_1.csv\", sep=',')\n",
    "\n",
    "#Extract inputs (X) and output (y)\n",
    "Data=File.to_numpy()\n",
    "X = Data[:, 1:-1] \n",
    "y = Data[:, -1] \n",
    "\n",
    "model = LogisticRegression()\n",
    "scores = cross_val_score(model, X, y, cv=5)\n",
    "\n",
    "print(\"\\nAccuracy for each sample : \", scores);\n",
    "print(\"Global accuracy: %0.2f (+/- %0.2f)\" % (scores.mean(), scores.std() * 2))"
   ]
  },
  {
   "cell_type": "markdown",
   "metadata": {},
   "source": [
    "#### ex 10"
   ]
  },
  {
   "cell_type": "code",
   "execution_count": 23,
   "metadata": {},
   "outputs": [
    {
     "name": "stdout",
     "output_type": "stream",
     "text": [
      "\n",
      "Global accuracy\n",
      "  Linear regression : 0.750 (+/- 0.038)\n",
      "              Lasso : 0.750 (+/- 0.038)\n",
      "              Ridge : 0.750 (+/- 0.038)\n",
      "         ElasticNet : 0.749 (+/- 0.038)\n",
      "\n",
      "            LassoCV : 0.751 (+/- 0.037)\n",
      "            RidgeCV : 0.750 (+/- 0.038)\n",
      "       ElasticNetCV : 0.747 (+/- 0.038)\n"
     ]
    }
   ],
   "source": [
    "from sklearn.linear_model import LinearRegression\n",
    "from sklearn.linear_model import Lasso\n",
    "from sklearn.linear_model import Ridge\n",
    "from sklearn.linear_model import ElasticNet\n",
    "from sklearn.linear_model import RidgeCV\n",
    "from sklearn.linear_model import LassoCV\n",
    "from sklearn.linear_model import ElasticNetCV\n",
    "from sklearn.model_selection import cross_val_score\n",
    "\n",
    "# load the csv file\n",
    "File = pd.read_csv(path+\"Reg_1.csv\", sep=',')\n",
    "\n",
    "#Extract inputs (X) and output (y)\n",
    "Data=File.to_numpy()\n",
    "X = Data[:, 1:-1] \n",
    "y = Data[:, -1] \n",
    "\n",
    "#define the models\n",
    "linreg = LinearRegression()\n",
    "Lasreg = Lasso(alpha=0.1)\n",
    "Ridreg = Ridge(alpha=1.0)\n",
    "ElNreg = ElasticNet(alpha=0.1)\n",
    "LasregCV = LassoCV()\n",
    "RidregCV = RidgeCV()\n",
    "ElNregCV = ElasticNetCV()\n",
    "\n",
    "#cross validate the models\n",
    "linreg_scores = cross_val_score(linreg, X, y, cv=5)\n",
    "Lasreg_scores = cross_val_score(Lasreg, X, y, cv=5)\n",
    "Ridreg_scores = cross_val_score(Ridreg, X, y, cv=5)\n",
    "ElNreg_scores = cross_val_score(ElNreg, X, y, cv=5)\n",
    "LasregCV_scores = cross_val_score(LasregCV, X, y, cv=5)\n",
    "RidregCV_scores = cross_val_score(RidregCV, X, y, cv=5)\n",
    "ElNregCV_scores = cross_val_score(ElNregCV, X, y, cv=5)\n",
    "\n",
    "print(\"\\nGlobal accuracy\")\n",
    "print(\"  Linear regression : %0.3f (+/- %0.3f)\" % (linreg_scores.mean(), linreg_scores.std() * 2))\n",
    "print(\"              Lasso : %0.3f (+/- %0.3f)\" % (Lasreg_scores.mean(), Lasreg_scores.std() * 2))\n",
    "print(\"              Ridge : %0.3f (+/- %0.3f)\" % (Ridreg_scores.mean(), Ridreg_scores.std() * 2))\n",
    "print(\"         ElasticNet : %0.3f (+/- %0.3f)\" % (ElNreg_scores.mean(), ElNreg_scores.std() * 2))\n",
    "print(\"\\n            LassoCV : %0.3f (+/- %0.3f)\" % (LasregCV_scores.mean(), LasregCV_scores.std() * 2))\n",
    "print(\"            RidgeCV : %0.3f (+/- %0.3f)\" % (RidregCV_scores.mean(), RidregCV_scores.std() * 2))\n",
    "print(\"       ElasticNetCV : %0.3f (+/- %0.3f)\" % (ElNregCV_scores.mean(), ElNregCV_scores.std() * 2))"
   ]
  },
  {
   "cell_type": "code",
   "execution_count": null,
   "metadata": {},
   "outputs": [],
   "source": []
  },
  {
   "cell_type": "markdown",
   "metadata": {},
   "source": [
    "# Trees"
   ]
  },
  {
   "cell_type": "markdown",
   "metadata": {},
   "source": [
    "## Decision Trees"
   ]
  },
  {
   "cell_type": "markdown",
   "metadata": {},
   "source": [
    "#### Simple Tree, ex 20"
   ]
  },
  {
   "cell_type": "code",
   "execution_count": null,
   "metadata": {},
   "outputs": [],
   "source": [
    "from sklearn import tree\n",
    "from sklearn.metrics import confusion_matrix\n",
    "from sklearn.metrics import accuracy_score \n",
    "\n",
    "X0 = np.array([[1, 0, 0], [2, 0, 0], [1, 0, 0],      [1, 0, 0], [1, 0, 0], [1, 0, 0],     \n",
    "[2, 0, 0], [1, 0, 0], [2, 0, 0],        [2, 0, 0], [1, 0, 0], [2, 0, 0],        [2, 0, 0], [2, 0, 0], [1, 0, 0]] )\n",
    "X1 = np.array([[0, 2, 0], [0, 1, 0], [0, 1, 0],      [0, 2, 0], [0, 2, 0], [0, 1, 0],     \n",
    "[0, 1, 0], [0, 2, 0], [0, 2, 0],        [0, 2, 0], [0, 1, 0], [0, 2, 0],        [0, 1, 0], [0, 2, 0], [0, 2, 0]] )\n",
    "X2 = np.array([[0, 0, 2], [0, 0, 2], [0, 0, 1],      [0, 0, 2], [0, 0, 2], [0, 0, 2],     \n",
    "[0, 0, 2], [0, 0, 2], [0, 0, 2],        [0, 0, 1], [0, 0, 2], [0, 0, 2],        [0, 0, 2], [0, 0, 2], [0, 0, 1]] )\n",
    "\n",
    "X=X0\n",
    "\n",
    "y=np.array([1, 2, 3, 3, 3, 1, 2, 1, 2, 3, 1, 2, 2, 1, 3])\n",
    "\n",
    "# Creating the classifier object \n",
    "clf = tree.DecisionTreeClassifier(criterion = 'gini', max_depth=1, min_samples_leaf=1).fit(X, y) \n",
    "\n",
    "# draw the tree\n",
    "tree.plot_tree(clf)\n",
    "\n",
    "print(\"\\n***** Learning performances: *****\") \n",
    "# make predictions\n",
    "y_valid = clf.predict(X)\n",
    "#evaluate results\n",
    "print(\"Confusion Matrix: \") \n",
    "print(confusion_matrix(y, y_valid))\n",
    "print (\"Accuracy : \", accuracy_score(y, y_valid)*100) "
   ]
  },
  {
   "cell_type": "code",
   "execution_count": null,
   "metadata": {},
   "outputs": [],
   "source": []
  },
  {
   "cell_type": "markdown",
   "metadata": {},
   "source": [
    "#### Ex 21"
   ]
  },
  {
   "cell_type": "code",
   "execution_count": null,
   "metadata": {},
   "outputs": [],
   "source": [
    "from sklearn.model_selection import train_test_split\n",
    "from sklearn import tree\n",
    "from sklearn.metrics import confusion_matrix\n",
    "from sklearn.metrics import accuracy_score \n",
    "\n",
    "# load the csv file\n",
    "File = pd.read_csv(path+\"Classif_1.csv\", sep=',')\n",
    "\n",
    "#Extract inputs (X) and output (y)\n",
    "Data=File.to_numpy()\n",
    "X = Data[:, 1:-1] \n",
    "y = Data[:, -1] \n",
    "#split the data\n",
    "X_train, X_test, y_train, y_test = train_test_split(X, y, test_size = 0.3) \n",
    "\n",
    "# Creating the classifier object \n",
    "clf = tree.DecisionTreeClassifier(criterion = 'gini', max_depth=2, min_samples_leaf=1).fit(X_train, y_train) \n",
    "#clf = tree.DecisionTreeClassifier(criterion='entropy', max_depth=30, min_samples_leaf=1)\n",
    "\n",
    "# draw the tree\n",
    "tree.plot_tree(clf)\n",
    "\n",
    "print(\"\\n***** Learning performances: *****\") \n",
    "# make predictions\n",
    "y_valid = clf.predict(X_train)\n",
    "#evaluate results\n",
    "print(\"Confusion Matrix: \") \n",
    "print(confusion_matrix(y_train, y_valid))\n",
    "print (\"Accuracy : \", accuracy_score(y_train, y_valid)*100) \n",
    "\n",
    "print(\"\\n***** Prediction performances: *****\") \n",
    "# make predictions\n",
    "y_pred = clf.predict(X_test)\n",
    "#evaluate results\n",
    "print(\"Confusion Matrix: \") \n",
    "print(confusion_matrix(y_test, y_pred))\n",
    "print (\"Accuracy : \", accuracy_score(y_test,y_pred)*100) "
   ]
  },
  {
   "cell_type": "code",
   "execution_count": null,
   "metadata": {},
   "outputs": [],
   "source": []
  },
  {
   "cell_type": "markdown",
   "metadata": {},
   "source": [
    "## Regression tree, ex 22"
   ]
  },
  {
   "cell_type": "code",
   "execution_count": null,
   "metadata": {},
   "outputs": [],
   "source": [
    "from sklearn.model_selection import train_test_split\n",
    "from sklearn import tree\n",
    "from sklearn.metrics import mean_squared_error\n",
    "\n",
    "# load the csv file\n",
    "File = pd.read_csv(path+\"Reg_1.csv\", sep=',')\n",
    "\n",
    "#Extract inputs (X) and output (y)\n",
    "Data=File.to_numpy()\n",
    "X = Data[:, 1:-1] \n",
    "y = Data[:, -1] \n",
    "#split the data\n",
    "X_train, X_test, y_train, y_test = train_test_split(X, y, test_size = 0.3) \n",
    "\n",
    "# Creating the classifier object \n",
    "clf = tree.DecisionTreeRegressor(criterion = 'mse', max_depth=2, min_samples_split=2, min_samples_leaf=1)\n",
    "clf.fit(X_train, y_train) \n",
    "\n",
    "# draw the tree\n",
    "tree.plot_tree(clf);\n",
    "\n",
    "print(\"\\n***** Learning performances: *****\") \n",
    "y_valid=clf.predict(X_train)\n",
    "print(\"MSE = \", mean_squared_error(y_valid, y_train))\n",
    "\n",
    "print(\"\\n***** Prediction performances: *****\") \n",
    "y_pred=clf.predict(X_test)\n",
    "print(\"MSE = \", mean_squared_error(y_pred, y_test))"
   ]
  },
  {
   "cell_type": "markdown",
   "metadata": {},
   "source": [
    "# Random forests"
   ]
  },
  {
   "cell_type": "markdown",
   "metadata": {},
   "source": [
    "#### Classifier, ex 23"
   ]
  },
  {
   "cell_type": "code",
   "execution_count": null,
   "metadata": {},
   "outputs": [],
   "source": [
    "from sklearn.model_selection import train_test_split\n",
    "from sklearn import tree\n",
    "from sklearn.ensemble import RandomForestClassifier\n",
    "from sklearn.metrics import confusion_matrix\n",
    "from sklearn.metrics import accuracy_score \n",
    "\n",
    "# load the csv file\n",
    "File = pd.read_csv(path+\"Classif_1.csv\", sep=',')\n",
    "\n",
    "#Extract inputs (X) and output (y)\n",
    "Data=File.to_numpy()\n",
    "X = Data[:, 1:-1] \n",
    "y = Data[:, -1] \n",
    "#split the data\n",
    "X_train, X_test, y_train, y_test = train_test_split(X, y, test_size = 0.3) \n",
    "\n",
    "# Learn the classifier\n",
    "RdmF = RandomForestClassifier(n_estimators=4, criterion = \"gini\", max_depth=3)\n",
    "RdmF.fit(X_train, y_train);\n",
    "\n",
    "print(\"\\n***** Learning performances: *****\") \n",
    "# make predictions\n",
    "y_valid = RdmF.predict(X_train)\n",
    "#evaluate results\n",
    "print(\"Confusion Matrix: \") \n",
    "print(confusion_matrix(y_train, y_valid))\n",
    "print (\"Accuracy : \", accuracy_score(y_train, y_valid)*100) \n",
    "\n",
    "print(\"\\n***** Prediction performances: *****\") \n",
    "# make predictions\n",
    "y_pred = RdmF.predict(X_test)\n",
    "#evaluate results\n",
    "print(\"Confusion Matrix: \") \n",
    "print(confusion_matrix(y_test, y_pred))\n",
    "print (\"Accuracy : \", accuracy_score(y_test,y_pred)*100) "
   ]
  },
  {
   "cell_type": "markdown",
   "metadata": {},
   "source": [
    "#### Regressor"
   ]
  },
  {
   "cell_type": "markdown",
   "metadata": {},
   "source": [
    "It would be the same, using \"from sklearn.ensemble import RandomForestRegressor\""
   ]
  },
  {
   "cell_type": "markdown",
   "metadata": {},
   "source": [
    "## Gradient Boosting"
   ]
  },
  {
   "cell_type": "markdown",
   "metadata": {},
   "source": [
    "#### ex 24"
   ]
  },
  {
   "cell_type": "code",
   "execution_count": null,
   "metadata": {},
   "outputs": [],
   "source": [
    "from sklearn.model_selection import train_test_split\n",
    "from sklearn.ensemble import GradientBoostingClassifier\n",
    "from sklearn.metrics import confusion_matrix\n",
    "from sklearn.metrics import accuracy_score \n",
    "\n",
    "# load the csv file\n",
    "File = pd.read_csv(path+\"Classif_1.csv\", sep=',')\n",
    "\n",
    "#Extract inputs (X) and output (y)\n",
    "Data=File.to_numpy()\n",
    "X = Data[:, 1:-1] \n",
    "y = Data[:, -1] \n",
    "#split the data\n",
    "X_train, X_test, y_train, y_test = train_test_split(X, y, test_size = 0.3) \n",
    "\n",
    "# Creating the classifier object \n",
    "clf = GradientBoostingClassifier(n_estimators=5).fit(X_train, y_train) \n",
    "\n",
    "print(\"\\n***** Learning performances: *****\") \n",
    "# make predictions\n",
    "y_valid = clf.predict(X_train)\n",
    "#evaluate results\n",
    "print(\"Confusion Matrix: \") \n",
    "print(confusion_matrix(y_train, y_valid))\n",
    "print (\"Accuracy : \", accuracy_score(y_train, y_valid)*100) \n",
    "\n",
    "print(\"\\n***** Prediction performances: *****\") \n",
    "# make predictions\n",
    "y_pred = clf.predict(X_test)\n",
    "#evaluate results\n",
    "print(\"Confusion Matrix: \") \n",
    "print(confusion_matrix(y_test, y_pred))\n",
    "print (\"Accuracy : \", accuracy_score(y_test,y_pred)*100) "
   ]
  },
  {
   "cell_type": "markdown",
   "metadata": {},
   "source": [
    "#### ex 25"
   ]
  },
  {
   "cell_type": "code",
   "execution_count": null,
   "metadata": {},
   "outputs": [],
   "source": [
    "from sklearn.model_selection import train_test_split\n",
    "from sklearn.ensemble import GradientBoostingRegressor\n",
    "from sklearn.metrics import mean_squared_error\n",
    "\n",
    "# load the csv file\n",
    "File = pd.read_csv(path+\"Reg_1.csv\", sep=',')\n",
    "\n",
    "#Extract inputs (X) and output (y)\n",
    "Data=File.to_numpy()\n",
    "X = Data[:, 1:-1] \n",
    "y = Data[:, -1] \n",
    "#split the data\n",
    "X_train, X_test, y_train, y_test = train_test_split(X, y, test_size = 0.3) \n",
    "\n",
    "# Creating the classifier object \n",
    "clf = GradientBoostingRegressor(random_state=0).fit(X_train, y_train) \n",
    "\n",
    "print(\"\\n***** Learning performances: *****\") \n",
    "y_valid=clf.predict(X_train)\n",
    "print(\"MSE = \", mean_squared_error(y_valid, y_train))\n",
    "\n",
    "\n",
    "print(\"\\n***** Prediction performances: *****\") \n",
    "y_pred=clf.predict(X_test)\n",
    "print(\"MSE = \", mean_squared_error(y_pred, y_test))"
   ]
  },
  {
   "cell_type": "markdown",
   "metadata": {},
   "source": [
    "# Neural Networks"
   ]
  },
  {
   "cell_type": "markdown",
   "metadata": {},
   "source": [
    "#### Perceptron, ex 30"
   ]
  },
  {
   "cell_type": "code",
   "execution_count": null,
   "metadata": {},
   "outputs": [],
   "source": [
    "import pandas as pd\n",
    "from sklearn.model_selection import train_test_split\n",
    "from sklearn.linear_model import Perceptron\n",
    "\n",
    "# load the csv file\n",
    "File = pd.read_csv(path+\"Classif_1.csv\", sep=',')\n",
    "\n",
    "#Extract inputs (X) and output (y)\n",
    "Data=File.to_numpy()\n",
    "X = Data[:, 1:-1] \n",
    "y = Data[:, -1] \n",
    "#split the data\n",
    "X_train, X_test, y_train, y_test = train_test_split(X, y, test_size = 0.3) \n",
    "\n",
    "\n",
    "model = Perceptron().fit(X_train, y_train)\n",
    "\n",
    "print(\"Train score = \", model.score(X_train, y_train))\n",
    "print(\" Test score = \", model.score(X_test, y_test))\n",
    "\n",
    "print(\"\\nWhat is inside :\")\n",
    "print(\" Number of iterrations :\", model.n_iter_)\n",
    "print(\" Coefs : \", model.coef_)\n",
    "print(\" Treshold :\", model.intercept_)"
   ]
  },
  {
   "cell_type": "markdown",
   "metadata": {},
   "source": [
    "#### Compare performances :"
   ]
  },
  {
   "cell_type": "code",
   "execution_count": null,
   "metadata": {},
   "outputs": [],
   "source": [
    "print(\"****** Perceptron ******\")\n",
    "\n",
    "print(\"** Learning performances: **\") \n",
    "# make predictions\n",
    "y_valid = model.predict(X_train)\n",
    "#evaluate results\n",
    "print(\"Confusion Matrix: \") \n",
    "print(confusion_matrix(y_train, y_valid))\n",
    "print (\"Accuracy : \", accuracy_score(y_train, y_valid)*100) \n",
    "print(\"** Prediction performances: **\") \n",
    "# make predictions\n",
    "y_pred = model.predict(X_test)\n",
    "#evaluate results\n",
    "print(\"Confusion Matrix: \") \n",
    "print(confusion_matrix(y_test, y_pred))\n",
    "print (\"Accuracy : \", accuracy_score(y_test,y_pred)*100) \n",
    "\n",
    "\n",
    "\n",
    "\n",
    "print(\"\\n****** Logistic Regression ******\")\n",
    "from sklearn.linear_model import LogisticRegression\n",
    "\n",
    "Log_reg=LogisticRegression().fit(X_train, y_train)\n",
    "\n",
    "print(\"** Learning performances: **\") \n",
    "# make predictions\n",
    "y_valid = Log_reg.predict(X_train)\n",
    "#evaluate results\n",
    "print(\"Confusion Matrix: \") \n",
    "print(confusion_matrix(y_train, y_valid))\n",
    "print (\"Accuracy : \", accuracy_score(y_train, y_valid)*100) \n",
    "print(\"** Prediction performances: **\") \n",
    "# make predictions\n",
    "y_pred = Log_reg.predict(X_test)\n",
    "#evaluate results\n",
    "print(\"Confusion Matrix: \") \n",
    "print(confusion_matrix(y_test, y_pred))\n",
    "print (\"Accuracy : \", accuracy_score(y_test,y_pred)*100) "
   ]
  },
  {
   "cell_type": "markdown",
   "metadata": {},
   "source": [
    "#### Multilayer Perceptron, Classifier ex 31"
   ]
  },
  {
   "cell_type": "code",
   "execution_count": null,
   "metadata": {},
   "outputs": [],
   "source": [
    "import pandas as pd\n",
    "from sklearn.model_selection import train_test_split\n",
    "from sklearn.neural_network import MLPClassifier\n",
    "from sklearn.metrics import confusion_matrix\n",
    "from sklearn.metrics import accuracy_score\n",
    "\n",
    "# load the csv file\n",
    "File = pd.read_csv(path+\"Classif_1.csv\", sep=',')\n",
    "\n",
    "#Extract inputs (X) and output (y)\n",
    "Data=File.to_numpy()\n",
    "X = Data[:, 1:-1] \n",
    "y = Data[:, -1] \n",
    "#split the data\n",
    "X_train, X_test, y_train, y_test = train_test_split(X, y, test_size = 0.3) \n",
    "\n",
    "model = MLPClassifier(max_iter=500, hidden_layer_sizes=5, learning_rate=\"constant\", learning_rate_init=0.001)\n",
    "model.fit(X_train, y_train)\n",
    "\n",
    "y_valid=model.predict(X_train)\n",
    "y_pred=model.predict(X_test)\n",
    "\n",
    "print(\"Learning errors\")\n",
    "print(\"    Accurary = \", accuracy_score(y_train, y_valid))\n",
    "\n",
    "print(\"\\nPrediction errors\")\n",
    "print(\"    Accurary = \", accuracy_score(y_test, y_pred))\n",
    "\n",
    "print(\"\\nWhat is inside :\")\n",
    "print(\" Number of iterrations :\", model.n_iter_)\n",
    "print(\" Number of layers : \", model.n_layers_)\n",
    "print(\" Coefs : \", model.coefs_)\n",
    "print(\" Tresholds :\", model.intercepts_)"
   ]
  },
  {
   "cell_type": "markdown",
   "metadata": {},
   "source": [
    "#### Compare performances :"
   ]
  },
  {
   "cell_type": "code",
   "execution_count": null,
   "metadata": {},
   "outputs": [],
   "source": [
    "print(\"****** Multilayer Perceptron ******\")\n",
    "\n",
    "print(\"** Learning performances: **\") \n",
    "# make predictions\n",
    "y_valid = model.predict(X_train)\n",
    "#evaluate results\n",
    "print(\"Confusion Matrix: \") \n",
    "print(confusion_matrix(y_train, y_valid))\n",
    "print (\"Accuracy : \", accuracy_score(y_train, y_valid)*100) \n",
    "print(\"** Prediction performances: **\") \n",
    "# make predictions\n",
    "y_pred = model.predict(X_test)\n",
    "#evaluate results\n",
    "print(\"Confusion Matrix: \") \n",
    "print(confusion_matrix(y_test, y_pred))\n",
    "print (\"Accuracy : \", accuracy_score(y_test,y_pred)*100) \n",
    "\n",
    "\n",
    "print(\"\\n****** Logistic Regression ******\")\n",
    "from sklearn.linear_model import LogisticRegression\n",
    "Log_reg=LogisticRegression().fit(X_train, y_train)\n",
    "\n",
    "print(\"** Learning performances: **\") \n",
    "# make predictions\n",
    "y_valid = Log_reg.predict(X_train)\n",
    "#evaluate results\n",
    "print(\"Confusion Matrix: \") \n",
    "print(confusion_matrix(y_train, y_valid))\n",
    "print (\"Accuracy : \", accuracy_score(y_train, y_valid)*100) \n",
    "print(\"** Prediction performances: **\") \n",
    "# make predictions\n",
    "y_pred = Log_reg.predict(X_test)\n",
    "#evaluate results\n",
    "print(\"Confusion Matrix: \") \n",
    "print(confusion_matrix(y_test, y_pred))\n",
    "print (\"Accuracy : \", accuracy_score(y_test,y_pred)*100) "
   ]
  },
  {
   "cell_type": "markdown",
   "metadata": {},
   "source": [
    "#### Multilayer Perceptron, Regressor ex 32"
   ]
  },
  {
   "cell_type": "code",
   "execution_count": null,
   "metadata": {},
   "outputs": [],
   "source": [
    "from sklearn.model_selection import train_test_split\n",
    "from sklearn.neural_network import MLPRegressor\n",
    "from sklearn.metrics import mean_squared_error\n",
    "from sklearn.metrics import mean_absolute_error\n",
    "from math import sqrt\n",
    "\n",
    "# load the csv file\n",
    "File = pd.read_csv(path+\"Reg_1.csv\", sep=',')\n",
    "\n",
    "#Extract inputs (X) and output (y)\n",
    "Data=File.to_numpy()\n",
    "X = Data[:, 1:-1] \n",
    "y = Data[:, -1] \n",
    "#split the data\n",
    "X_train, X_test, y_train, y_test = train_test_split(X, y, test_size = 0.3) \n",
    "\n",
    "model = MLPRegressor(max_iter=10000, hidden_layer_sizes=10, learning_rate=\"constant\", learning_rate_init=0.001)\n",
    "model.fit(X_train, y_train)\n",
    "\n",
    "y_valid=model.predict(X_train)\n",
    "y_pred=model.predict(X_test)\n",
    "\n",
    "print(\"Learning errors\")\n",
    "print(\"    MSE = \", mean_squared_error(y_train, y_valid))\n",
    "print(\"    MAE = \", mean_absolute_error(y_train, y_valid))\n",
    "print(\"   RMSE = \", sqrt(mean_squared_error(y_train, y_valid)))\n",
    "\n",
    "print(\"\\nPrediction errors\")\n",
    "print(\"    MSE = \", mean_squared_error(y_test, y_pred))\n",
    "print(\"    MAE = \", mean_absolute_error(y_test, y_pred))\n",
    "print(\"   RMSE = \", sqrt(mean_squared_error(y_test, y_pred)))"
   ]
  },
  {
   "cell_type": "code",
   "execution_count": null,
   "metadata": {},
   "outputs": [],
   "source": [
    "print(\"****** Multilayer Perceptron ******\")\n",
    "print(\"Learning errors\")\n",
    "print(\"    MSE = \", mean_squared_error(y_train, y_valid))\n",
    "print(\"    MAE = \", mean_absolute_error(y_train, y_valid))\n",
    "print(\"   RMSE = \", sqrt(mean_squared_error(y_train, y_valid)))\n",
    "print(\"Prediction errors\")\n",
    "print(\"    MSE = \", mean_squared_error(y_test, y_pred))\n",
    "print(\"    MAE = \", mean_absolute_error(y_test, y_pred))\n",
    "print(\"   RMSE = \", sqrt(mean_squared_error(y_test, y_pred)))\n",
    "\n",
    "\n",
    "print(\"\\n****** Linear Regression ******\")\n",
    "from sklearn.linear_model import LinearRegression\n",
    "model=LinearRegression().fit(X_train, y_train)\n",
    "\n",
    "y_valid=model.predict(X_train)\n",
    "y_pred=model.predict(X_test)\n",
    "print(\"Learning errors\")\n",
    "print(\"    MSE = \", mean_squared_error(y_train, y_valid))\n",
    "print(\"    MAE = \", mean_absolute_error(y_train, y_valid))\n",
    "print(\"   RMSE = \", sqrt(mean_squared_error(y_train, y_valid)))\n",
    "print(\"Prediction errors\")\n",
    "print(\"    MSE = \", mean_squared_error(y_test, y_pred))\n",
    "print(\"    MAE = \", mean_absolute_error(y_test, y_pred))\n",
    "print(\"   RMSE = \", sqrt(mean_squared_error(y_test, y_pred)))\n",
    "\n",
    "print(\"\\n****** Lasso Regression ******\")\n",
    "from sklearn.linear_model import Lasso\n",
    "model=Lasso(alpha=0.1).fit(X_train, y_train)\n",
    "\n",
    "y_valid=model.predict(X_train)\n",
    "y_pred=model.predict(X_test)\n",
    "print(\"Learning errors\")\n",
    "print(\"    MSE = \", mean_squared_error(y_train, y_valid))\n",
    "print(\"    MAE = \", mean_absolute_error(y_train, y_valid))\n",
    "print(\"   RMSE = \", sqrt(mean_squared_error(y_train, y_valid)))\n",
    "print(\"Prediction errors\")\n",
    "print(\"    MSE = \", mean_squared_error(y_test, y_pred))\n",
    "print(\"    MAE = \", mean_absolute_error(y_test, y_pred))\n",
    "print(\"   RMSE = \", sqrt(mean_squared_error(y_test, y_pred)))\n",
    "\n",
    "print(\"\\n****** Ridge Regression ******\")\n",
    "from sklearn.linear_model import LinearRegression\n",
    "model=Ridge(alpha=1.0).fit(X_train, y_train)\n",
    "\n",
    "y_valid=model.predict(X_train)\n",
    "y_pred=model.predict(X_test)\n",
    "print(\"Learning errors\")\n",
    "print(\"    MSE = \", mean_squared_error(y_train, y_valid))\n",
    "print(\"    MAE = \", mean_absolute_error(y_train, y_valid))\n",
    "print(\"   RMSE = \", sqrt(mean_squared_error(y_train, y_valid)))\n",
    "print(\"Prediction errors\")\n",
    "print(\"    MSE = \", mean_squared_error(y_test, y_pred))\n",
    "print(\"    MAE = \", mean_absolute_error(y_test, y_pred))\n",
    "print(\"   RMSE = \", sqrt(mean_squared_error(y_test, y_pred)))\n",
    "\n",
    "print(\"\\n****** ElasticNet Regression ******\")\n",
    "from sklearn.linear_model import Lasso\n",
    "model=ElasticNet(alpha=0.1).fit(X_train, y_train)\n",
    "\n",
    "y_valid=model.predict(X_train)\n",
    "y_pred=model.predict(X_test)\n",
    "print(\"Learning errors\")\n",
    "print(\"    MSE = \", mean_squared_error(y_train, y_valid))\n",
    "print(\"    MAE = \", mean_absolute_error(y_train, y_valid))\n",
    "print(\"   RMSE = \", sqrt(mean_squared_error(y_train, y_valid)))\n",
    "print(\"Prediction errors\")\n",
    "print(\"    MSE = \", mean_squared_error(y_test, y_pred))\n",
    "print(\"    MAE = \", mean_absolute_error(y_test, y_pred))\n",
    "print(\"   RMSE = \", sqrt(mean_squared_error(y_test, y_pred)))\n",
    "\n",
    "\n",
    "print(\"\\n****** LassoCV Regression ******\")\n",
    "from sklearn.linear_model import Lasso\n",
    "model=LassoCV().fit(X_train, y_train)\n",
    "\n",
    "y_valid=model.predict(X_train)\n",
    "y_pred=model.predict(X_test)\n",
    "print(\"Learning errors\")\n",
    "print(\"    MSE = \", mean_squared_error(y_train, y_valid))\n",
    "print(\"    MAE = \", mean_absolute_error(y_train, y_valid))\n",
    "print(\"   RMSE = \", sqrt(mean_squared_error(y_train, y_valid)))\n",
    "print(\"Prediction errors\")\n",
    "print(\"    MSE = \", mean_squared_error(y_test, y_pred))\n",
    "print(\"    MAE = \", mean_absolute_error(y_test, y_pred))\n",
    "print(\"   RMSE = \", sqrt(mean_squared_error(y_test, y_pred)))\n",
    "\n",
    "print(\"\\n****** RidgeCV Regression ******\")\n",
    "from sklearn.linear_model import LinearRegression\n",
    "model=RidgeCV().fit(X_train, y_train)\n",
    "\n",
    "y_valid=model.predict(X_train)\n",
    "y_pred=model.predict(X_test)\n",
    "print(\"Learning errors\")\n",
    "print(\"    MSE = \", mean_squared_error(y_train, y_valid))\n",
    "print(\"    MAE = \", mean_absolute_error(y_train, y_valid))\n",
    "print(\"   RMSE = \", sqrt(mean_squared_error(y_train, y_valid)))\n",
    "print(\"Prediction errors\")\n",
    "print(\"    MSE = \", mean_squared_error(y_test, y_pred))\n",
    "print(\"    MAE = \", mean_absolute_error(y_test, y_pred))\n",
    "print(\"   RMSE = \", sqrt(mean_squared_error(y_test, y_pred)))\n",
    "\n",
    "print(\"\\n****** ElasticNetCV Regression ******\")\n",
    "from sklearn.linear_model import Lasso\n",
    "model=ElasticNetCV().fit(X_train, y_train)\n",
    "\n",
    "y_valid=model.predict(X_train)\n",
    "y_pred=model.predict(X_test)\n",
    "print(\"Learning errors\")\n",
    "print(\"    MSE = \", mean_squared_error(y_train, y_valid))\n",
    "print(\"    MAE = \", mean_absolute_error(y_train, y_valid))\n",
    "print(\"   RMSE = \", sqrt(mean_squared_error(y_train, y_valid)))\n",
    "print(\"Prediction errors\")\n",
    "print(\"    MSE = \", mean_squared_error(y_test, y_pred))\n",
    "print(\"    MAE = \", mean_absolute_error(y_test, y_pred))\n",
    "print(\"   RMSE = \", sqrt(mean_squared_error(y_test, y_pred)))"
   ]
  },
  {
   "cell_type": "markdown",
   "metadata": {},
   "source": [
    "# I hope you enjoyed it"
   ]
  },
  {
   "cell_type": "code",
   "execution_count": null,
   "metadata": {},
   "outputs": [],
   "source": []
  },
  {
   "cell_type": "code",
   "execution_count": null,
   "metadata": {},
   "outputs": [],
   "source": []
  }
 ],
 "metadata": {
  "kernelspec": {
   "display_name": "Python 3",
   "language": "python",
   "name": "python3"
  },
  "language_info": {
   "codemirror_mode": {
    "name": "ipython",
    "version": 3
   },
   "file_extension": ".py",
   "mimetype": "text/x-python",
   "name": "python",
   "nbconvert_exporter": "python",
   "pygments_lexer": "ipython3",
   "version": "3.7.1"
  }
 },
 "nbformat": 4,
 "nbformat_minor": 4
}
