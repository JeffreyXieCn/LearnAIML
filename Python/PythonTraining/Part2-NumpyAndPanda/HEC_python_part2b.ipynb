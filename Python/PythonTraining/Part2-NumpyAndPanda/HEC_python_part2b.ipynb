{
 "cells": [
  {
   "cell_type": "markdown",
   "metadata": {
    "colab_type": "text",
    "id": "Ba0GC4CVzJYk"
   },
   "source": [
    "![](https://encrypted-tbn0.gstatic.com/images?q=tbn%3AANd9GcRNNMSrl6xvbfPjLuk9k3dl7VyNi0ky19x11A&usqp=CAU)\n",
    "\n",
    "# **Introduction to Python for Data Science - Part 2 : Data Manipulation (b)**\n",
    "Ericsson - August 4 to August 13, 2020\n",
    "\n",
    "by Sarah Legendre Bilodeau, M Sc., HEC Montréal\n",
    "\n",
    "Autors :\n",
    "Thomas Vaudescal,\n",
    "Sarah Legendre Bilodeau,\n",
    "Laurent Barcelo,\n",
    "\n"
   ]
  },
  {
   "cell_type": "markdown",
   "metadata": {
    "colab_type": "text",
    "id": "-WG946PueOd6"
   },
   "source": [
    "# Missing values\n",
    "\n",
    "Working with missing values is common in data science. The Pandas package makes working with missing data as easy as possible. For example, all of the descriptive statistics on pandas objects exclude missing data by default.\n",
    "\n",
    "To represent missing data on numeric data, pandas uses the value NaN (Not a Number).\n",
    "\n",
    "There are several methods for working with missing values :\n",
    "- ``dropna`` : Filter axis labels based on whether values for each label have missing data, with varying thresholds for how much missing data to tolerate\n",
    "- ``fillna`` : Fill in missing data with some value or using an interpolation method such as ``ffill`` or ``bfill``\n",
    "- ``isnull`` : Return boolean values indicating which values are missing / NA\n",
    "- ``notnull`` : Negation of ``isnull``\n",
    "\n"
   ]
  },
  {
   "cell_type": "code",
   "execution_count": 1,
   "metadata": {
    "colab": {
     "base_uri": "https://localhost:8080/",
     "height": 221
    },
    "colab_type": "code",
    "executionInfo": {
     "elapsed": 270,
     "status": "ok",
     "timestamp": 1597074904616,
     "user": {
      "displayName": "Sarah Legendre-bilodeau",
      "photoUrl": "https://lh3.googleusercontent.com/a-/AOh14GjZBh9qAqpio24yJj1bsVXk9A1Mrnq2pm2jcoazh6ThC2-3wNXoOO2d5fZw4yeOsnJNRAcikvtb6XMkLQxPlzGYPjXBF3iq6RMm-tVBZdLBsrAi2s2lDDswjIWlzYhhbd7ku87eUSDdN40qGmTPhit1JH_5uhVtKXhjSo8KTdkF3FOWW28KKO7iJztdHcSLFfflmInMf2th6Sj7cA8q3WpQTwEBJzd8hdySFLBRUE9ZjwF6UXR67Imq8-a0Bcljjpkz61m2ZdJ57vOp901GP--EMjYUISB681Xt_Jql7b8jk92iFlh4hLZXc_6A2UYZDur1a9ndKnAUgiTvFxQjd7Kzp6PnuGru0tKmm6w3rHZMahx24OqfZYZpld-SuHSnKVem25qYSV7_oo_QHz5KxoE31gxYzq7n1UKBgu2NTZpb5CYEiTVHmPj7ZbFhuUjbe4iSvUUXcaXyOul-wsRU5kXOzounbEL4_jVcnq0COEkHM8Bbh5P0ec7OSJRepGVYa-bPXhrK0aVm8YL1zdVYbIxnaKstI3AvfvS3OSys8BsXHZ6XHjjXKVrjAUjf0pBlByEbmNPSKNXoY1ml5Y_7dTQ6yq0AcAscXdh1Qe_aOxo88NmvDXw43MlEih-KH5VPaIpWR2KPw9jlDYZ84dLTWwSsEjwhK22zb-u9VPIKySv7V07eHcNVDWg9_OeDOi7B99StLOdQzQRh7wPLU3Fi1PZajfbT1_h4sWQD614yEXx54gY0mlWW6oAxt89I1Jf4FuAO-A=s64",
      "userId": "14051546729407262823"
     },
     "user_tz": 240
    },
    "id": "EaP_FpPInUCD",
    "outputId": "a62d7076-af76-454e-d682-aae6468392d9"
   },
   "outputs": [
    {
     "name": "stdout",
     "output_type": "stream",
     "text": [
      "0    False\n",
      "1    False\n",
      "2    False\n",
      "3     True\n",
      "4    False\n",
      "dtype: bool\n",
      "0     True\n",
      "1    False\n",
      "2    False\n",
      "3     True\n",
      "4    False\n",
      "dtype: bool\n"
     ]
    }
   ],
   "source": [
    "import numpy as np, pandas as pd\n",
    "\n",
    "s1 = pd.Series(['apple', 'orange', 'pear', np.nan, 'banana'])\n",
    "print(s1.isnull())\n",
    "\n",
    "s1[0]=None #built-in Python None value is treated as NA\n",
    "print(s1.isnull())"
   ]
  },
  {
   "cell_type": "markdown",
   "metadata": {
    "colab_type": "text",
    "id": "Luqw6FyTsHUC"
   },
   "source": [
    "## Deleting rows or columns with missing values"
   ]
  },
  {
   "cell_type": "code",
   "execution_count": 2,
   "metadata": {
    "colab": {
     "base_uri": "https://localhost:8080/",
     "height": 306
    },
    "colab_type": "code",
    "executionInfo": {
     "elapsed": 326,
     "status": "ok",
     "timestamp": 1597074909847,
     "user": {
      "displayName": "Sarah Legendre-bilodeau",
      "photoUrl": "https://lh3.googleusercontent.com/a-/AOh14GjZBh9qAqpio24yJj1bsVXk9A1Mrnq2pm2jcoazh6ThC2-3wNXoOO2d5fZw4yeOsnJNRAcikvtb6XMkLQxPlzGYPjXBF3iq6RMm-tVBZdLBsrAi2s2lDDswjIWlzYhhbd7ku87eUSDdN40qGmTPhit1JH_5uhVtKXhjSo8KTdkF3FOWW28KKO7iJztdHcSLFfflmInMf2th6Sj7cA8q3WpQTwEBJzd8hdySFLBRUE9ZjwF6UXR67Imq8-a0Bcljjpkz61m2ZdJ57vOp901GP--EMjYUISB681Xt_Jql7b8jk92iFlh4hLZXc_6A2UYZDur1a9ndKnAUgiTvFxQjd7Kzp6PnuGru0tKmm6w3rHZMahx24OqfZYZpld-SuHSnKVem25qYSV7_oo_QHz5KxoE31gxYzq7n1UKBgu2NTZpb5CYEiTVHmPj7ZbFhuUjbe4iSvUUXcaXyOul-wsRU5kXOzounbEL4_jVcnq0COEkHM8Bbh5P0ec7OSJRepGVYa-bPXhrK0aVm8YL1zdVYbIxnaKstI3AvfvS3OSys8BsXHZ6XHjjXKVrjAUjf0pBlByEbmNPSKNXoY1ml5Y_7dTQ6yq0AcAscXdh1Qe_aOxo88NmvDXw43MlEih-KH5VPaIpWR2KPw9jlDYZ84dLTWwSsEjwhK22zb-u9VPIKySv7V07eHcNVDWg9_OeDOi7B99StLOdQzQRh7wPLU3Fi1PZajfbT1_h4sWQD614yEXx54gY0mlWW6oAxt89I1Jf4FuAO-A=s64",
      "userId": "14051546729407262823"
     },
     "user_tz": 240
    },
    "id": "aOQCd5CUoGQq",
    "outputId": "4bfbc3a3-e65f-42ff-8a84-e3f37481c20f"
   },
   "outputs": [
    {
     "name": "stdout",
     "output_type": "stream",
     "text": [
      "0     10.0\n",
      "1     21.0\n",
      "2    456.0\n",
      "3      NaN\n",
      "4     18.0\n",
      "5      NaN\n",
      "dtype: float64\n",
      "0     10.0\n",
      "1     21.0\n",
      "2    456.0\n",
      "4     18.0\n",
      "dtype: float64\n",
      "0     10.0\n",
      "1     21.0\n",
      "2    456.0\n",
      "4     18.0\n",
      "dtype: float64\n"
     ]
    }
   ],
   "source": [
    "# Series\n",
    "\n",
    "from numpy import nan as NA\n",
    "\n",
    "s2 = pd.Series([10, 21, 456, NA, 18, NA])\n",
    "print(s2)\n",
    "\n",
    "s3 = s2.dropna() # or s2[s2.notnull()]\n",
    "print(s3)\n",
    "\n",
    "s2[0]=NA\n",
    "print(s3)"
   ]
  },
  {
   "cell_type": "code",
   "execution_count": 3,
   "metadata": {
    "colab": {
     "base_uri": "https://localhost:8080/",
     "height": 629
    },
    "colab_type": "code",
    "executionInfo": {
     "elapsed": 709,
     "status": "ok",
     "timestamp": 1597000774946,
     "user": {
      "displayName": "Sarah Legendre-bilodeau",
      "photoUrl": "https://lh3.googleusercontent.com/a-/AOh14GjZBh9qAqpio24yJj1bsVXk9A1Mrnq2pm2jcoazh6ThC2-3wNXoOO2d5fZw4yeOsnJNRAcikvtb6XMkLQxPlzGYPjXBF3iq6RMm-tVBZdLBsrAi2s2lDDswjIWlzYhhbd7ku87eUSDdN40qGmTPhit1JH_5uhVtKXhjSo8KTdkF3FOWW28KKO7iJztdHcSLFfflmInMf2th6Sj7cA8q3WpQTwEBJzd8hdySFLBRUE9ZjwF6UXR67Imq8-a0Bcljjpkz61m2ZdJ57vOp901GP--EMjYUISB681Xt_Jql7b8jk92iFlh4hLZXc_6A2UYZDur1a9ndKnAUgiTvFxQjd7Kzp6PnuGru0tKmm6w3rHZMahx24OqfZYZpld-SuHSnKVem25qYSV7_oo_QHz5KxoE31gxYzq7n1UKBgu2NTZpb5CYEiTVHmPj7ZbFhuUjbe4iSvUUXcaXyOul-wsRU5kXOzounbEL4_jVcnq0COEkHM8Bbh5P0ec7OSJRepGVYa-bPXhrK0aVm8YL1zdVYbIxnaKstI3AvfvS3OSys8BsXHZ6XHjjXKVrjAUjf0pBlByEbmNPSKNXoY1ml5Y_7dTQ6yq0AcAscXdh1Qe_aOxo88NmvDXw43MlEih-KH5VPaIpWR2KPw9jlDYZ84dLTWwSsEjwhK22zb-u9VPIKySv7V07eHcNVDWg9_OeDOi7B99StLOdQzQRh7wPLU3Fi1PZajfbT1_h4sWQD614yEXx54gY0mlWW6oAxt89I1Jf4FuAO-A=s64",
      "userId": "14051546729407262823"
     },
     "user_tz": 240
    },
    "id": "w-TboIrfo9ok",
    "outputId": "d04defac-8dff-45f0-9477-459496ba384c"
   },
   "outputs": [
    {
     "name": "stdout",
     "output_type": "stream",
     "text": [
      "     0    1    2\n",
      "0  1.0  6.5  3.0\n",
      "1  1.0  NaN  NaN\n",
      "2  NaN  NaN  NaN\n",
      "3  NaN  6.5  3.0\n",
      "\n",
      "\n",
      "     0    1    2\n",
      "0  1.0  6.5  3.0\n",
      "\n",
      "\n",
      "     0    1    2\n",
      "0  1.0  6.5  3.0\n",
      "1  1.0  NaN  NaN\n",
      "3  NaN  6.5  3.0\n",
      "\n",
      "\n",
      "     0    1    2   3\n",
      "0  1.0  6.5  3.0 NaN\n",
      "1  1.0  NaN  NaN NaN\n",
      "2  NaN  NaN  NaN NaN\n",
      "3  NaN  6.5  3.0 NaN\n",
      "\n",
      "\n",
      "Empty DataFrame\n",
      "Columns: []\n",
      "Index: [0, 1, 2, 3]\n",
      "\n",
      "\n",
      "     0    1    2\n",
      "0  1.0  6.5  3.0\n",
      "1  1.0  NaN  NaN\n",
      "2  NaN  NaN  NaN\n",
      "3  NaN  6.5  3.0\n",
      "\n",
      "\n"
     ]
    }
   ],
   "source": [
    "# Dataframe\n",
    "\n",
    "# lines\n",
    "data = pd.DataFrame([[1.,6.5,3.],[1.,NA,NA],[NA,NA,NA], [NA,6.5,3.]])\n",
    "print(data)\n",
    "print(\"\\n\")\n",
    "\n",
    "data_c1 = data.dropna() # drops lines with 1 NA or more\n",
    "print(data_c1)\n",
    "print(\"\\n\")\n",
    "\n",
    "data_c2 = data.dropna(how=\"all\") # drops lines with all column NA\n",
    "print(data_c2)\n",
    "print(\"\\n\")\n",
    "\n",
    "# columns\n",
    "data[3]=NA\n",
    "print(data)\n",
    "print(\"\\n\")\n",
    "\n",
    "data_c3 = data.dropna(axis=1)\n",
    "print(data_c3)\n",
    "print(\"\\n\")\n",
    "\n",
    "\n",
    "data_c4 = data.dropna(axis=1, how=\"all\")\n",
    "print(data_c4)\n",
    "print(\"\\n\")\n",
    "\n"
   ]
  },
  {
   "cell_type": "markdown",
   "metadata": {
    "colab_type": "text",
    "id": "CbH6IU56sYfI"
   },
   "source": [
    "## Replacing missing values (and other replacements)\n",
    "\n",
    "Filling in missing data can be done with the ``fillna`` method. It is a special case of more general value replacement. ``Replace`` can be use for a simpler and more flexible way to do so. "
   ]
  },
  {
   "cell_type": "code",
   "execution_count": 113,
   "metadata": {
    "colab": {
     "base_uri": "https://localhost:8080/",
     "height": 221
    },
    "colab_type": "code",
    "executionInfo": {
     "elapsed": 651,
     "status": "ok",
     "timestamp": 1597001068766,
     "user": {
      "displayName": "Sarah Legendre-bilodeau",
      "photoUrl": "https://lh3.googleusercontent.com/a-/AOh14GjZBh9qAqpio24yJj1bsVXk9A1Mrnq2pm2jcoazh6ThC2-3wNXoOO2d5fZw4yeOsnJNRAcikvtb6XMkLQxPlzGYPjXBF3iq6RMm-tVBZdLBsrAi2s2lDDswjIWlzYhhbd7ku87eUSDdN40qGmTPhit1JH_5uhVtKXhjSo8KTdkF3FOWW28KKO7iJztdHcSLFfflmInMf2th6Sj7cA8q3WpQTwEBJzd8hdySFLBRUE9ZjwF6UXR67Imq8-a0Bcljjpkz61m2ZdJ57vOp901GP--EMjYUISB681Xt_Jql7b8jk92iFlh4hLZXc_6A2UYZDur1a9ndKnAUgiTvFxQjd7Kzp6PnuGru0tKmm6w3rHZMahx24OqfZYZpld-SuHSnKVem25qYSV7_oo_QHz5KxoE31gxYzq7n1UKBgu2NTZpb5CYEiTVHmPj7ZbFhuUjbe4iSvUUXcaXyOul-wsRU5kXOzounbEL4_jVcnq0COEkHM8Bbh5P0ec7OSJRepGVYa-bPXhrK0aVm8YL1zdVYbIxnaKstI3AvfvS3OSys8BsXHZ6XHjjXKVrjAUjf0pBlByEbmNPSKNXoY1ml5Y_7dTQ6yq0AcAscXdh1Qe_aOxo88NmvDXw43MlEih-KH5VPaIpWR2KPw9jlDYZ84dLTWwSsEjwhK22zb-u9VPIKySv7V07eHcNVDWg9_OeDOi7B99StLOdQzQRh7wPLU3Fi1PZajfbT1_h4sWQD614yEXx54gY0mlWW6oAxt89I1Jf4FuAO-A=s64",
      "userId": "14051546729407262823"
     },
     "user_tz": 240
    },
    "id": "tS1dnllUq1G4",
    "outputId": "840941d9-10a5-4cf7-d153-3c04193411ec"
   },
   "outputs": [
    {
     "name": "stdout",
     "output_type": "stream",
     "text": [
      "     0    1    2    3\n",
      "0  1.0  6.5  3.0  0.0\n",
      "1  1.0  0.0  0.0  0.0\n",
      "2  0.0  0.0  0.0  0.0\n",
      "3  0.0  6.5  3.0  0.0\n",
      "\n",
      "\n",
      "     0    1    2   3\n",
      "0  1.0  6.5  3.0 NaN\n",
      "1  1.0  6.5  3.0 NaN\n",
      "2  1.0  6.5  3.0 NaN\n",
      "3  1.0  6.5  3.0 NaN\n"
     ]
    }
   ],
   "source": [
    "# Filling NA\n",
    "\n",
    "data1 = data.fillna(0)\n",
    "print(data1)\n",
    "print(\"\\n\")\n",
    "\n",
    "data2 = data.fillna(data.mean())\n",
    "print(data2)"
   ]
  },
  {
   "cell_type": "code",
   "execution_count": 15,
   "metadata": {
    "colab": {
     "base_uri": "https://localhost:8080/",
     "height": 629
    },
    "colab_type": "code",
    "executionInfo": {
     "elapsed": 358,
     "status": "ok",
     "timestamp": 1597075113323,
     "user": {
      "displayName": "Sarah Legendre-bilodeau",
      "photoUrl": "https://lh3.googleusercontent.com/a-/AOh14GjZBh9qAqpio24yJj1bsVXk9A1Mrnq2pm2jcoazh6ThC2-3wNXoOO2d5fZw4yeOsnJNRAcikvtb6XMkLQxPlzGYPjXBF3iq6RMm-tVBZdLBsrAi2s2lDDswjIWlzYhhbd7ku87eUSDdN40qGmTPhit1JH_5uhVtKXhjSo8KTdkF3FOWW28KKO7iJztdHcSLFfflmInMf2th6Sj7cA8q3WpQTwEBJzd8hdySFLBRUE9ZjwF6UXR67Imq8-a0Bcljjpkz61m2ZdJ57vOp901GP--EMjYUISB681Xt_Jql7b8jk92iFlh4hLZXc_6A2UYZDur1a9ndKnAUgiTvFxQjd7Kzp6PnuGru0tKmm6w3rHZMahx24OqfZYZpld-SuHSnKVem25qYSV7_oo_QHz5KxoE31gxYzq7n1UKBgu2NTZpb5CYEiTVHmPj7ZbFhuUjbe4iSvUUXcaXyOul-wsRU5kXOzounbEL4_jVcnq0COEkHM8Bbh5P0ec7OSJRepGVYa-bPXhrK0aVm8YL1zdVYbIxnaKstI3AvfvS3OSys8BsXHZ6XHjjXKVrjAUjf0pBlByEbmNPSKNXoY1ml5Y_7dTQ6yq0AcAscXdh1Qe_aOxo88NmvDXw43MlEih-KH5VPaIpWR2KPw9jlDYZ84dLTWwSsEjwhK22zb-u9VPIKySv7V07eHcNVDWg9_OeDOi7B99StLOdQzQRh7wPLU3Fi1PZajfbT1_h4sWQD614yEXx54gY0mlWW6oAxt89I1Jf4FuAO-A=s64",
      "userId": "14051546729407262823"
     },
     "user_tz": 240
    },
    "id": "rl23mOLIEiDN",
    "outputId": "0ad6d928-04e7-4f65-cfd5-9ea3a36ee5fc"
   },
   "outputs": [
    {
     "name": "stdout",
     "output_type": "stream",
     "text": [
      "0       1.0\n",
      "1    -999.0\n",
      "2       2.0\n",
      "3    -999.0\n",
      "4   -1000.0\n",
      "5       3.0\n",
      "dtype: float64\n",
      "\n",
      "\n",
      "0       1.0\n",
      "1       NaN\n",
      "2       2.0\n",
      "3       NaN\n",
      "4   -1000.0\n",
      "5       3.0\n",
      "dtype: float64\n",
      "\n",
      "\n",
      "0    1.0\n",
      "1    NaN\n",
      "2    2.0\n",
      "3    NaN\n",
      "4    NaN\n",
      "5    3.0\n",
      "dtype: float64\n",
      "\n",
      "\n",
      "0    1.0\n",
      "1    NaN\n",
      "2    2.0\n",
      "3    NaN\n",
      "4    0.0\n",
      "5    3.0\n",
      "dtype: float64\n",
      "\n",
      "\n"
     ]
    }
   ],
   "source": [
    "data2 = pd.Series([1.,-999.,2.,-999.,-1000.,3.])\n",
    "print(data2)\n",
    "print(\"\\n\")\n",
    "\n",
    "data3 = data2.replace(-999., np.nan)\n",
    "print(data3)\n",
    "print(\"\\n\")\n",
    "\n",
    "data4 = data2.replace([-999,-1000], np.nan)\n",
    "print(data4)\n",
    "print(\"\\n\")\n",
    "\n",
    "data5 = data2.replace([-999,-1000], [np.nan, 0])\n",
    "print(data5)\n",
    "print(\"\\n\")\n"
   ]
  },
  {
   "cell_type": "markdown",
   "metadata": {
    "colab_type": "text",
    "id": "nKZHe2kehyzK"
   },
   "source": [
    "# Loops \n",
    "\n",
    "Loops will allow us to execute a block of code several times, i.e. to execute a code \"in a loop\" as long as a given condition is verified.\n",
    "\n",
    "The idea is to describe repetition as a kind of circular motion, in which the code executes a series of tasks over and over again, until the loop ends. \n",
    "\n",
    "Using the ``Python`` language, we will work with two types of loops:\n",
    "\n",
    "- Iterative ``for`` loops\n",
    "- ``while`` loops (as long as ...)\n",
    "\n",
    "For these two types of loops, we will use **clauses**, i.e. an addition of a block of code that changes the way it works. Let's look at the 4 types of clauses for the ``for`` and ``while`` loops:\n",
    "\n",
    "- ``break`` : Ends the current loop\n",
    "- ``continue`` : Ends the process for the current element immediately\n",
    "- ``pass`` : Finishes processing for the current element after executing the instruction in the ``if`` block\n",
    "- ``else`` : Provides an alternative technique when the loop conditions are not met"
   ]
  },
  {
   "cell_type": "markdown",
   "metadata": {
    "colab_type": "text",
    "id": "4Z3q_8jtn_C8"
   },
   "source": [
    "## FOR loops\n",
    "\n",
    "**The \"for\" loop iterates on each value in a sequence** (sequence of elements). When you want to repeat the same instruction or block of instructions a given number of times, the ``for`` command is appropriate. In general, the syntax of a ``for`` loop is :\n",
    "\n",
    "``for var in sequence:``. \n",
    "\n",
    "To summarize :\n",
    "\n",
    "\n",
    "1. The instruction line starts with the keyword ``for`` \n",
    "2. The next element is a variable.\n",
    "3. The keyword ``in`` tells Python that the sequence continues\n",
    "4. Iteration in the ``sequence`` which can be a series of letters in a string, or numeric elements in a collection\n"
   ]
  },
  {
   "cell_type": "code",
   "execution_count": 114,
   "metadata": {
    "colab": {
     "base_uri": "https://localhost:8080/",
     "height": 85
    },
    "colab_type": "code",
    "executionInfo": {
     "elapsed": 626,
     "status": "ok",
     "timestamp": 1597001933720,
     "user": {
      "displayName": "Sarah Legendre-bilodeau",
      "photoUrl": "https://lh3.googleusercontent.com/a-/AOh14GjZBh9qAqpio24yJj1bsVXk9A1Mrnq2pm2jcoazh6ThC2-3wNXoOO2d5fZw4yeOsnJNRAcikvtb6XMkLQxPlzGYPjXBF3iq6RMm-tVBZdLBsrAi2s2lDDswjIWlzYhhbd7ku87eUSDdN40qGmTPhit1JH_5uhVtKXhjSo8KTdkF3FOWW28KKO7iJztdHcSLFfflmInMf2th6Sj7cA8q3WpQTwEBJzd8hdySFLBRUE9ZjwF6UXR67Imq8-a0Bcljjpkz61m2ZdJ57vOp901GP--EMjYUISB681Xt_Jql7b8jk92iFlh4hLZXc_6A2UYZDur1a9ndKnAUgiTvFxQjd7Kzp6PnuGru0tKmm6w3rHZMahx24OqfZYZpld-SuHSnKVem25qYSV7_oo_QHz5KxoE31gxYzq7n1UKBgu2NTZpb5CYEiTVHmPj7ZbFhuUjbe4iSvUUXcaXyOul-wsRU5kXOzounbEL4_jVcnq0COEkHM8Bbh5P0ec7OSJRepGVYa-bPXhrK0aVm8YL1zdVYbIxnaKstI3AvfvS3OSys8BsXHZ6XHjjXKVrjAUjf0pBlByEbmNPSKNXoY1ml5Y_7dTQ6yq0AcAscXdh1Qe_aOxo88NmvDXw43MlEih-KH5VPaIpWR2KPw9jlDYZ84dLTWwSsEjwhK22zb-u9VPIKySv7V07eHcNVDWg9_OeDOi7B99StLOdQzQRh7wPLU3Fi1PZajfbT1_h4sWQD614yEXx54gY0mlWW6oAxt89I1Jf4FuAO-A=s64",
      "userId": "14051546729407262823"
     },
     "user_tz": 240
    },
    "id": "Eozw7sXgoHUR",
    "outputId": "54a10f8a-03c8-413a-9e7a-5d0837f80646"
   },
   "outputs": [
    {
     "name": "stdout",
     "output_type": "stream",
     "text": [
      "0\n",
      "1\n",
      "2\n",
      "3\n"
     ]
    }
   ],
   "source": [
    "for i in range(4):\n",
    "    print(i, end = \"\\n\") # The code must be indented"
   ]
  },
  {
   "cell_type": "code",
   "execution_count": 115,
   "metadata": {
    "colab": {
     "base_uri": "https://localhost:8080/",
     "height": 34
    },
    "colab_type": "code",
    "executionInfo": {
     "elapsed": 572,
     "status": "ok",
     "timestamp": 1597001954267,
     "user": {
      "displayName": "Sarah Legendre-bilodeau",
      "photoUrl": "https://lh3.googleusercontent.com/a-/AOh14GjZBh9qAqpio24yJj1bsVXk9A1Mrnq2pm2jcoazh6ThC2-3wNXoOO2d5fZw4yeOsnJNRAcikvtb6XMkLQxPlzGYPjXBF3iq6RMm-tVBZdLBsrAi2s2lDDswjIWlzYhhbd7ku87eUSDdN40qGmTPhit1JH_5uhVtKXhjSo8KTdkF3FOWW28KKO7iJztdHcSLFfflmInMf2th6Sj7cA8q3WpQTwEBJzd8hdySFLBRUE9ZjwF6UXR67Imq8-a0Bcljjpkz61m2ZdJ57vOp901GP--EMjYUISB681Xt_Jql7b8jk92iFlh4hLZXc_6A2UYZDur1a9ndKnAUgiTvFxQjd7Kzp6PnuGru0tKmm6w3rHZMahx24OqfZYZpld-SuHSnKVem25qYSV7_oo_QHz5KxoE31gxYzq7n1UKBgu2NTZpb5CYEiTVHmPj7ZbFhuUjbe4iSvUUXcaXyOul-wsRU5kXOzounbEL4_jVcnq0COEkHM8Bbh5P0ec7OSJRepGVYa-bPXhrK0aVm8YL1zdVYbIxnaKstI3AvfvS3OSys8BsXHZ6XHjjXKVrjAUjf0pBlByEbmNPSKNXoY1ml5Y_7dTQ6yq0AcAscXdh1Qe_aOxo88NmvDXw43MlEih-KH5VPaIpWR2KPw9jlDYZ84dLTWwSsEjwhK22zb-u9VPIKySv7V07eHcNVDWg9_OeDOi7B99StLOdQzQRh7wPLU3Fi1PZajfbT1_h4sWQD614yEXx54gY0mlWW6oAxt89I1Jf4FuAO-A=s64",
      "userId": "14051546729407262823"
     },
     "user_tz": 240
    },
    "id": "LCpU3d9moJFO",
    "outputId": "8cc3b620-1806-4abb-a47e-7465ae73330c"
   },
   "outputs": [
    {
     "name": "stdout",
     "output_type": "stream",
     "text": [
      "Bonjour"
     ]
    }
   ],
   "source": [
    "for lettre in \"Bonjour\":\n",
    "    print(lettre, end = \"\")"
   ]
  },
  {
   "cell_type": "code",
   "execution_count": 116,
   "metadata": {
    "colab": {
     "base_uri": "https://localhost:8080/",
     "height": 34
    },
    "colab_type": "code",
    "executionInfo": {
     "elapsed": 663,
     "status": "ok",
     "timestamp": 1597001987981,
     "user": {
      "displayName": "Sarah Legendre-bilodeau",
      "photoUrl": "https://lh3.googleusercontent.com/a-/AOh14GjZBh9qAqpio24yJj1bsVXk9A1Mrnq2pm2jcoazh6ThC2-3wNXoOO2d5fZw4yeOsnJNRAcikvtb6XMkLQxPlzGYPjXBF3iq6RMm-tVBZdLBsrAi2s2lDDswjIWlzYhhbd7ku87eUSDdN40qGmTPhit1JH_5uhVtKXhjSo8KTdkF3FOWW28KKO7iJztdHcSLFfflmInMf2th6Sj7cA8q3WpQTwEBJzd8hdySFLBRUE9ZjwF6UXR67Imq8-a0Bcljjpkz61m2ZdJ57vOp901GP--EMjYUISB681Xt_Jql7b8jk92iFlh4hLZXc_6A2UYZDur1a9ndKnAUgiTvFxQjd7Kzp6PnuGru0tKmm6w3rHZMahx24OqfZYZpld-SuHSnKVem25qYSV7_oo_QHz5KxoE31gxYzq7n1UKBgu2NTZpb5CYEiTVHmPj7ZbFhuUjbe4iSvUUXcaXyOul-wsRU5kXOzounbEL4_jVcnq0COEkHM8Bbh5P0ec7OSJRepGVYa-bPXhrK0aVm8YL1zdVYbIxnaKstI3AvfvS3OSys8BsXHZ6XHjjXKVrjAUjf0pBlByEbmNPSKNXoY1ml5Y_7dTQ6yq0AcAscXdh1Qe_aOxo88NmvDXw43MlEih-KH5VPaIpWR2KPw9jlDYZ84dLTWwSsEjwhK22zb-u9VPIKySv7V07eHcNVDWg9_OeDOi7B99StLOdQzQRh7wPLU3Fi1PZajfbT1_h4sWQD614yEXx54gY0mlWW6oAxt89I1Jf4FuAO-A=s64",
      "userId": "14051546729407262823"
     },
     "user_tz": 240
    },
    "id": "thQtVlYXoKhM",
    "outputId": "40d2da4b-f93a-4310-f1c2-c4a747a2f87b"
   },
   "outputs": [
    {
     "name": "stdout",
     "output_type": "stream",
     "text": [
      "Marie   Niels   Albert   Max   "
     ]
    }
   ],
   "source": [
    "names = [\"Marie\",\"Niels\",\"Albert\",\"Max\"]\n",
    "\n",
    "for n in names:\n",
    "    print(n, end = \"   \")"
   ]
  },
  {
   "cell_type": "code",
   "execution_count": 119,
   "metadata": {
    "colab": {
     "base_uri": "https://localhost:8080/",
     "height": 119
    },
    "colab_type": "code",
    "executionInfo": {
     "elapsed": 585,
     "status": "ok",
     "timestamp": 1597002170297,
     "user": {
      "displayName": "Sarah Legendre-bilodeau",
      "photoUrl": "https://lh3.googleusercontent.com/a-/AOh14GjZBh9qAqpio24yJj1bsVXk9A1Mrnq2pm2jcoazh6ThC2-3wNXoOO2d5fZw4yeOsnJNRAcikvtb6XMkLQxPlzGYPjXBF3iq6RMm-tVBZdLBsrAi2s2lDDswjIWlzYhhbd7ku87eUSDdN40qGmTPhit1JH_5uhVtKXhjSo8KTdkF3FOWW28KKO7iJztdHcSLFfflmInMf2th6Sj7cA8q3WpQTwEBJzd8hdySFLBRUE9ZjwF6UXR67Imq8-a0Bcljjpkz61m2ZdJ57vOp901GP--EMjYUISB681Xt_Jql7b8jk92iFlh4hLZXc_6A2UYZDur1a9ndKnAUgiTvFxQjd7Kzp6PnuGru0tKmm6w3rHZMahx24OqfZYZpld-SuHSnKVem25qYSV7_oo_QHz5KxoE31gxYzq7n1UKBgu2NTZpb5CYEiTVHmPj7ZbFhuUjbe4iSvUUXcaXyOul-wsRU5kXOzounbEL4_jVcnq0COEkHM8Bbh5P0ec7OSJRepGVYa-bPXhrK0aVm8YL1zdVYbIxnaKstI3AvfvS3OSys8BsXHZ6XHjjXKVrjAUjf0pBlByEbmNPSKNXoY1ml5Y_7dTQ6yq0AcAscXdh1Qe_aOxo88NmvDXw43MlEih-KH5VPaIpWR2KPw9jlDYZ84dLTWwSsEjwhK22zb-u9VPIKySv7V07eHcNVDWg9_OeDOi7B99StLOdQzQRh7wPLU3Fi1PZajfbT1_h4sWQD614yEXx54gY0mlWW6oAxt89I1Jf4FuAO-A=s64",
      "userId": "14051546729407262823"
     },
     "user_tz": 240
    },
    "id": "gRKW41ujoMrq",
    "outputId": "b4cd0e0d-5f5a-4cf9-f210-629fd0a63b3f"
   },
   "outputs": [
    {
     "name": "stdout",
     "output_type": "stream",
     "text": [
      "Marie Curie, Niels Bohr, Albert Einstein, Max Planck, \n",
      "\n",
      "0 Marie Curie\n",
      "1 Niels Bohr\n",
      "2 Albert Einstein\n",
      "3 Max Planck\n"
     ]
    }
   ],
   "source": [
    "# Iterate with 2 lists\n",
    "names1 = [\"Marie\",\"Niels\",\"Albert\",\"Max\"]\n",
    "names2 = [\"Curie\",\"Bohr\",\"Einstein\",\"Planck\"]\n",
    "\n",
    "# The zip() function will create tuples \n",
    "for n1, n2 in zip(names1, names2):\n",
    "    print(n1 , n2 , end = \", \")\n",
    "print(\"\\n\")   \n",
    "\n",
    "# result with index\n",
    "\n",
    "for i, (n1, n2) in enumerate(zip(names1,names2)):\n",
    "    print(i , n1 , n2)"
   ]
  },
  {
   "cell_type": "markdown",
   "metadata": {
    "colab_type": "text",
    "id": "mLA6Asp0wDMI"
   },
   "source": [
    "## The conditions: IF, ELIF and ELSE ##\n",
    "\n",
    "\n",
    "\n",
    "- In Python, the ``if`` statement provides the simplest method for making decisions. If this statement finds that something is true, it means that Python should perform the following steps. \n",
    "\n",
    "\n",
    "- It is also possible to choose alternatives using the ``else`` clause of the ``if`` statement. A **clause** is an addition to a block of code that changes the way it works. The ``else`` clause allows us to perform an alternative task when the ``if`` statement is not checked. \n",
    "\n",
    "\n",
    "- It is possible to add as many specific conditions as we want by adding the keyword ``elif`` , contraction of ``else`` and ``if``, which could be translated as ``otherwise``.\n",
    "\n",
    "Here are some basic examples:"
   ]
  },
  {
   "cell_type": "code",
   "execution_count": 120,
   "metadata": {
    "colab": {
     "base_uri": "https://localhost:8080/",
     "height": 34
    },
    "colab_type": "code",
    "executionInfo": {
     "elapsed": 625,
     "status": "ok",
     "timestamp": 1597002439085,
     "user": {
      "displayName": "Sarah Legendre-bilodeau",
      "photoUrl": "https://lh3.googleusercontent.com/a-/AOh14GjZBh9qAqpio24yJj1bsVXk9A1Mrnq2pm2jcoazh6ThC2-3wNXoOO2d5fZw4yeOsnJNRAcikvtb6XMkLQxPlzGYPjXBF3iq6RMm-tVBZdLBsrAi2s2lDDswjIWlzYhhbd7ku87eUSDdN40qGmTPhit1JH_5uhVtKXhjSo8KTdkF3FOWW28KKO7iJztdHcSLFfflmInMf2th6Sj7cA8q3WpQTwEBJzd8hdySFLBRUE9ZjwF6UXR67Imq8-a0Bcljjpkz61m2ZdJ57vOp901GP--EMjYUISB681Xt_Jql7b8jk92iFlh4hLZXc_6A2UYZDur1a9ndKnAUgiTvFxQjd7Kzp6PnuGru0tKmm6w3rHZMahx24OqfZYZpld-SuHSnKVem25qYSV7_oo_QHz5KxoE31gxYzq7n1UKBgu2NTZpb5CYEiTVHmPj7ZbFhuUjbe4iSvUUXcaXyOul-wsRU5kXOzounbEL4_jVcnq0COEkHM8Bbh5P0ec7OSJRepGVYa-bPXhrK0aVm8YL1zdVYbIxnaKstI3AvfvS3OSys8BsXHZ6XHjjXKVrjAUjf0pBlByEbmNPSKNXoY1ml5Y_7dTQ6yq0AcAscXdh1Qe_aOxo88NmvDXw43MlEih-KH5VPaIpWR2KPw9jlDYZ84dLTWwSsEjwhK22zb-u9VPIKySv7V07eHcNVDWg9_OeDOi7B99StLOdQzQRh7wPLU3Fi1PZajfbT1_h4sWQD614yEXx54gY0mlWW6oAxt89I1Jf4FuAO-A=s64",
      "userId": "14051546729407262823"
     },
     "user_tz": 240
    },
    "id": "PkAhXmdwoVgd",
    "outputId": "7d57aacf-52c1-42e6-c425-306bc67d606e"
   },
   "outputs": [
    {
     "name": "stdout",
     "output_type": "stream",
     "text": [
      "The number is 4\n"
     ]
    }
   ],
   "source": [
    "# If examples\n",
    "number = 4\n",
    "\n",
    "# The syntax for validating an equality condition is ==\n",
    "if number == 4:\n",
    "    print(\"The number is 4\")\n"
   ]
  },
  {
   "cell_type": "code",
   "execution_count": 121,
   "metadata": {
    "colab": {
     "base_uri": "https://localhost:8080/",
     "height": 34
    },
    "colab_type": "code",
    "executionInfo": {
     "elapsed": 692,
     "status": "ok",
     "timestamp": 1597002555084,
     "user": {
      "displayName": "Sarah Legendre-bilodeau",
      "photoUrl": "https://lh3.googleusercontent.com/a-/AOh14GjZBh9qAqpio24yJj1bsVXk9A1Mrnq2pm2jcoazh6ThC2-3wNXoOO2d5fZw4yeOsnJNRAcikvtb6XMkLQxPlzGYPjXBF3iq6RMm-tVBZdLBsrAi2s2lDDswjIWlzYhhbd7ku87eUSDdN40qGmTPhit1JH_5uhVtKXhjSo8KTdkF3FOWW28KKO7iJztdHcSLFfflmInMf2th6Sj7cA8q3WpQTwEBJzd8hdySFLBRUE9ZjwF6UXR67Imq8-a0Bcljjpkz61m2ZdJ57vOp901GP--EMjYUISB681Xt_Jql7b8jk92iFlh4hLZXc_6A2UYZDur1a9ndKnAUgiTvFxQjd7Kzp6PnuGru0tKmm6w3rHZMahx24OqfZYZpld-SuHSnKVem25qYSV7_oo_QHz5KxoE31gxYzq7n1UKBgu2NTZpb5CYEiTVHmPj7ZbFhuUjbe4iSvUUXcaXyOul-wsRU5kXOzounbEL4_jVcnq0COEkHM8Bbh5P0ec7OSJRepGVYa-bPXhrK0aVm8YL1zdVYbIxnaKstI3AvfvS3OSys8BsXHZ6XHjjXKVrjAUjf0pBlByEbmNPSKNXoY1ml5Y_7dTQ6yq0AcAscXdh1Qe_aOxo88NmvDXw43MlEih-KH5VPaIpWR2KPw9jlDYZ84dLTWwSsEjwhK22zb-u9VPIKySv7V07eHcNVDWg9_OeDOi7B99StLOdQzQRh7wPLU3Fi1PZajfbT1_h4sWQD614yEXx54gY0mlWW6oAxt89I1Jf4FuAO-A=s64",
      "userId": "14051546729407262823"
     },
     "user_tz": 240
    },
    "id": "nVMJlKOCoW2U",
    "outputId": "3a3df8d4-6a4e-4574-9c69-f625ef340035"
   },
   "outputs": [
    {
     "name": "stdout",
     "output_type": "stream",
     "text": [
      "The number is different to 4\n"
     ]
    }
   ],
   "source": [
    "# Exemple with if and else\n",
    "chiffre = 5\n",
    "\n",
    "if chiffre == 4: \n",
    "    print(\"The number is indeed equal to 4\")\n",
    "    \n",
    "else:\n",
    "    print(\"The number is different to 4\")"
   ]
  },
  {
   "cell_type": "code",
   "execution_count": 122,
   "metadata": {
    "colab": {
     "base_uri": "https://localhost:8080/",
     "height": 34
    },
    "colab_type": "code",
    "executionInfo": {
     "elapsed": 726,
     "status": "ok",
     "timestamp": 1597002668457,
     "user": {
      "displayName": "Sarah Legendre-bilodeau",
      "photoUrl": "https://lh3.googleusercontent.com/a-/AOh14GjZBh9qAqpio24yJj1bsVXk9A1Mrnq2pm2jcoazh6ThC2-3wNXoOO2d5fZw4yeOsnJNRAcikvtb6XMkLQxPlzGYPjXBF3iq6RMm-tVBZdLBsrAi2s2lDDswjIWlzYhhbd7ku87eUSDdN40qGmTPhit1JH_5uhVtKXhjSo8KTdkF3FOWW28KKO7iJztdHcSLFfflmInMf2th6Sj7cA8q3WpQTwEBJzd8hdySFLBRUE9ZjwF6UXR67Imq8-a0Bcljjpkz61m2ZdJ57vOp901GP--EMjYUISB681Xt_Jql7b8jk92iFlh4hLZXc_6A2UYZDur1a9ndKnAUgiTvFxQjd7Kzp6PnuGru0tKmm6w3rHZMahx24OqfZYZpld-SuHSnKVem25qYSV7_oo_QHz5KxoE31gxYzq7n1UKBgu2NTZpb5CYEiTVHmPj7ZbFhuUjbe4iSvUUXcaXyOul-wsRU5kXOzounbEL4_jVcnq0COEkHM8Bbh5P0ec7OSJRepGVYa-bPXhrK0aVm8YL1zdVYbIxnaKstI3AvfvS3OSys8BsXHZ6XHjjXKVrjAUjf0pBlByEbmNPSKNXoY1ml5Y_7dTQ6yq0AcAscXdh1Qe_aOxo88NmvDXw43MlEih-KH5VPaIpWR2KPw9jlDYZ84dLTWwSsEjwhK22zb-u9VPIKySv7V07eHcNVDWg9_OeDOi7B99StLOdQzQRh7wPLU3Fi1PZajfbT1_h4sWQD614yEXx54gY0mlWW6oAxt89I1Jf4FuAO-A=s64",
      "userId": "14051546729407262823"
     },
     "user_tz": 240
    },
    "id": "aRBnxBJvoYpP",
    "outputId": "b33f5817-3131-4d99-c364-613a93dd1309"
   },
   "outputs": [
    {
     "name": "stdout",
     "output_type": "stream",
     "text": [
      "The number is equal to 15\n"
     ]
    }
   ],
   "source": [
    "# Exemple avec if, else et elif\n",
    "number = 15\n",
    "\n",
    "if number == 13:\n",
    "    print(\"The number is equal to 13\")\n",
    "    \n",
    "elif number == 14:\n",
    "    print(\"The number is equal to 14\")\n",
    "    \n",
    "elif number == 15:\n",
    "    print(\"The number is equal to 15\")\n",
    "    \n",
    "else:\n",
    "    print(\"Other\")"
   ]
  },
  {
   "cell_type": "markdown",
   "metadata": {
    "colab_type": "text",
    "id": "WfBDfhLaoeOq"
   },
   "source": [
    "## Loops with conditional statements: FOR & IF\n",
    "\n",
    "In Python, it is possible to **combine loops with conditional statements**. For example:"
   ]
  },
  {
   "cell_type": "code",
   "execution_count": 7,
   "metadata": {
    "colab": {
     "base_uri": "https://localhost:8080/",
     "height": 119
    },
    "colab_type": "code",
    "executionInfo": {
     "elapsed": 667,
     "status": "ok",
     "timestamp": 1597002730055,
     "user": {
      "displayName": "Sarah Legendre-bilodeau",
      "photoUrl": "https://lh3.googleusercontent.com/a-/AOh14GjZBh9qAqpio24yJj1bsVXk9A1Mrnq2pm2jcoazh6ThC2-3wNXoOO2d5fZw4yeOsnJNRAcikvtb6XMkLQxPlzGYPjXBF3iq6RMm-tVBZdLBsrAi2s2lDDswjIWlzYhhbd7ku87eUSDdN40qGmTPhit1JH_5uhVtKXhjSo8KTdkF3FOWW28KKO7iJztdHcSLFfflmInMf2th6Sj7cA8q3WpQTwEBJzd8hdySFLBRUE9ZjwF6UXR67Imq8-a0Bcljjpkz61m2ZdJ57vOp901GP--EMjYUISB681Xt_Jql7b8jk92iFlh4hLZXc_6A2UYZDur1a9ndKnAUgiTvFxQjd7Kzp6PnuGru0tKmm6w3rHZMahx24OqfZYZpld-SuHSnKVem25qYSV7_oo_QHz5KxoE31gxYzq7n1UKBgu2NTZpb5CYEiTVHmPj7ZbFhuUjbe4iSvUUXcaXyOul-wsRU5kXOzounbEL4_jVcnq0COEkHM8Bbh5P0ec7OSJRepGVYa-bPXhrK0aVm8YL1zdVYbIxnaKstI3AvfvS3OSys8BsXHZ6XHjjXKVrjAUjf0pBlByEbmNPSKNXoY1ml5Y_7dTQ6yq0AcAscXdh1Qe_aOxo88NmvDXw43MlEih-KH5VPaIpWR2KPw9jlDYZ84dLTWwSsEjwhK22zb-u9VPIKySv7V07eHcNVDWg9_OeDOi7B99StLOdQzQRh7wPLU3Fi1PZajfbT1_h4sWQD614yEXx54gY0mlWW6oAxt89I1Jf4FuAO-A=s64",
      "userId": "14051546729407262823"
     },
     "user_tz": 240
    },
    "id": "qTNFFX4hoher",
    "outputId": "a8a31d7f-1acd-4f00-bed3-b2fd2d3aa29d"
   },
   "outputs": [
    {
     "name": "stdout",
     "output_type": "stream",
     "text": [
      "1 < 5\n",
      "2 < 5\n",
      "3 < 5\n",
      "4 < 5\n",
      "5 = 5\n",
      "6 > 5\n",
      "1\n",
      "3\n",
      "5\n",
      "7\n",
      "9\n"
     ]
    }
   ],
   "source": [
    "# The range function has 3 arguments : (start, stop, step).\n",
    "for i in range(1,7):\n",
    "    if i < 5:\n",
    "        print(i, \"< 5\")\n",
    "    elif i == 5:\n",
    "        print(i, \"= 5\")\n",
    "    else:\n",
    "        print(i, \"> 5\")\n",
    "\n",
    "for i in range(1, 10, 2):\n",
    "    print(i)"
   ]
  },
  {
   "cell_type": "markdown",
   "metadata": {
    "colab_type": "text",
    "id": "kF2twiceonFM"
   },
   "source": [
    "## WHILE Loops\n",
    "\n",
    "The instruction ``while`` works with a **condition** instead of a sequence. This condition indicates that the while statement must perform a certain task, as long as this condition remains **true** (or until it becomes false).      \n",
    "\n",
    "Syntax: ``while condition: Instruction A``.\n",
    "\n",
    "Our first task is to **initialize our variable**. The second is to **create our ``while`` loop with a condition**.\n",
    "The third task is to **increase** our while loop, that is, to increase the value of the variable at the end of each loop. Here is some shortcuts for increments:\n",
    "\n",
    "- Variable = variable + 1 becomes variable += 1\n",
    "- Variable = variable - 1 becomes \"variable -= 1\n",
    "- Variable = variable * 1 becomes \"variable *= 1\n",
    "- etc ...\n",
    "\n",
    "\n",
    "Here are some examples :"
   ]
  },
  {
   "cell_type": "code",
   "execution_count": 124,
   "metadata": {
    "colab": {
     "base_uri": "https://localhost:8080/",
     "height": 85
    },
    "colab_type": "code",
    "executionInfo": {
     "elapsed": 637,
     "status": "ok",
     "timestamp": 1597003081979,
     "user": {
      "displayName": "Sarah Legendre-bilodeau",
      "photoUrl": "https://lh3.googleusercontent.com/a-/AOh14GjZBh9qAqpio24yJj1bsVXk9A1Mrnq2pm2jcoazh6ThC2-3wNXoOO2d5fZw4yeOsnJNRAcikvtb6XMkLQxPlzGYPjXBF3iq6RMm-tVBZdLBsrAi2s2lDDswjIWlzYhhbd7ku87eUSDdN40qGmTPhit1JH_5uhVtKXhjSo8KTdkF3FOWW28KKO7iJztdHcSLFfflmInMf2th6Sj7cA8q3WpQTwEBJzd8hdySFLBRUE9ZjwF6UXR67Imq8-a0Bcljjpkz61m2ZdJ57vOp901GP--EMjYUISB681Xt_Jql7b8jk92iFlh4hLZXc_6A2UYZDur1a9ndKnAUgiTvFxQjd7Kzp6PnuGru0tKmm6w3rHZMahx24OqfZYZpld-SuHSnKVem25qYSV7_oo_QHz5KxoE31gxYzq7n1UKBgu2NTZpb5CYEiTVHmPj7ZbFhuUjbe4iSvUUXcaXyOul-wsRU5kXOzounbEL4_jVcnq0COEkHM8Bbh5P0ec7OSJRepGVYa-bPXhrK0aVm8YL1zdVYbIxnaKstI3AvfvS3OSys8BsXHZ6XHjjXKVrjAUjf0pBlByEbmNPSKNXoY1ml5Y_7dTQ6yq0AcAscXdh1Qe_aOxo88NmvDXw43MlEih-KH5VPaIpWR2KPw9jlDYZ84dLTWwSsEjwhK22zb-u9VPIKySv7V07eHcNVDWg9_OeDOi7B99StLOdQzQRh7wPLU3Fi1PZajfbT1_h4sWQD614yEXx54gY0mlWW6oAxt89I1Jf4FuAO-A=s64",
      "userId": "14051546729407262823"
     },
     "user_tz": 240
    },
    "id": "wBQHO5aPosww",
    "outputId": "acf7bc4b-4fea-42d4-e951-8457a6c33867"
   },
   "outputs": [
    {
     "name": "stdout",
     "output_type": "stream",
     "text": [
      "1\n",
      "2\n",
      "3\n",
      "4\n"
     ]
    }
   ],
   "source": [
    "# Initialization\n",
    "compteur = 1\n",
    "\n",
    "while compteur < 5: # While loop with a condition\n",
    "    print(compteur)\n",
    "    compteur += 1 # increase our variable"
   ]
  },
  {
   "cell_type": "code",
   "execution_count": 125,
   "metadata": {
    "colab": {
     "base_uri": "https://localhost:8080/",
     "height": 68
    },
    "colab_type": "code",
    "executionInfo": {
     "elapsed": 575,
     "status": "ok",
     "timestamp": 1597003125458,
     "user": {
      "displayName": "Sarah Legendre-bilodeau",
      "photoUrl": "https://lh3.googleusercontent.com/a-/AOh14GjZBh9qAqpio24yJj1bsVXk9A1Mrnq2pm2jcoazh6ThC2-3wNXoOO2d5fZw4yeOsnJNRAcikvtb6XMkLQxPlzGYPjXBF3iq6RMm-tVBZdLBsrAi2s2lDDswjIWlzYhhbd7ku87eUSDdN40qGmTPhit1JH_5uhVtKXhjSo8KTdkF3FOWW28KKO7iJztdHcSLFfflmInMf2th6Sj7cA8q3WpQTwEBJzd8hdySFLBRUE9ZjwF6UXR67Imq8-a0Bcljjpkz61m2ZdJ57vOp901GP--EMjYUISB681Xt_Jql7b8jk92iFlh4hLZXc_6A2UYZDur1a9ndKnAUgiTvFxQjd7Kzp6PnuGru0tKmm6w3rHZMahx24OqfZYZpld-SuHSnKVem25qYSV7_oo_QHz5KxoE31gxYzq7n1UKBgu2NTZpb5CYEiTVHmPj7ZbFhuUjbe4iSvUUXcaXyOul-wsRU5kXOzounbEL4_jVcnq0COEkHM8Bbh5P0ec7OSJRepGVYa-bPXhrK0aVm8YL1zdVYbIxnaKstI3AvfvS3OSys8BsXHZ6XHjjXKVrjAUjf0pBlByEbmNPSKNXoY1ml5Y_7dTQ6yq0AcAscXdh1Qe_aOxo88NmvDXw43MlEih-KH5VPaIpWR2KPw9jlDYZ84dLTWwSsEjwhK22zb-u9VPIKySv7V07eHcNVDWg9_OeDOi7B99StLOdQzQRh7wPLU3Fi1PZajfbT1_h4sWQD614yEXx54gY0mlWW6oAxt89I1Jf4FuAO-A=s64",
      "userId": "14051546729407262823"
     },
     "user_tz": 240
    },
    "id": "_96z5glpougq",
    "outputId": "3889871c-95c7-4edd-d4c0-6e802ab56e23"
   },
   "outputs": [
    {
     "name": "stdout",
     "output_type": "stream",
     "text": [
      "The value of x is : 2\n",
      "The value of x is : 4\n",
      "The value of x is : 8\n"
     ]
    }
   ],
   "source": [
    "x = 2\n",
    "\n",
    "while x <= 10:\n",
    "    \n",
    "    print(\"The value of x is : {0}\".format(x))\n",
    "    \n",
    "    x *= 2"
   ]
  },
  {
   "cell_type": "code",
   "execution_count": 3,
   "metadata": {
    "colab": {
     "base_uri": "https://localhost:8080/",
     "height": 119
    },
    "colab_type": "code",
    "executionInfo": {
     "elapsed": 608,
     "status": "ok",
     "timestamp": 1597003142120,
     "user": {
      "displayName": "Sarah Legendre-bilodeau",
      "photoUrl": "https://lh3.googleusercontent.com/a-/AOh14GjZBh9qAqpio24yJj1bsVXk9A1Mrnq2pm2jcoazh6ThC2-3wNXoOO2d5fZw4yeOsnJNRAcikvtb6XMkLQxPlzGYPjXBF3iq6RMm-tVBZdLBsrAi2s2lDDswjIWlzYhhbd7ku87eUSDdN40qGmTPhit1JH_5uhVtKXhjSo8KTdkF3FOWW28KKO7iJztdHcSLFfflmInMf2th6Sj7cA8q3WpQTwEBJzd8hdySFLBRUE9ZjwF6UXR67Imq8-a0Bcljjpkz61m2ZdJ57vOp901GP--EMjYUISB681Xt_Jql7b8jk92iFlh4hLZXc_6A2UYZDur1a9ndKnAUgiTvFxQjd7Kzp6PnuGru0tKmm6w3rHZMahx24OqfZYZpld-SuHSnKVem25qYSV7_oo_QHz5KxoE31gxYzq7n1UKBgu2NTZpb5CYEiTVHmPj7ZbFhuUjbe4iSvUUXcaXyOul-wsRU5kXOzounbEL4_jVcnq0COEkHM8Bbh5P0ec7OSJRepGVYa-bPXhrK0aVm8YL1zdVYbIxnaKstI3AvfvS3OSys8BsXHZ6XHjjXKVrjAUjf0pBlByEbmNPSKNXoY1ml5Y_7dTQ6yq0AcAscXdh1Qe_aOxo88NmvDXw43MlEih-KH5VPaIpWR2KPw9jlDYZ84dLTWwSsEjwhK22zb-u9VPIKySv7V07eHcNVDWg9_OeDOi7B99StLOdQzQRh7wPLU3Fi1PZajfbT1_h4sWQD614yEXx54gY0mlWW6oAxt89I1Jf4FuAO-A=s64",
      "userId": "14051546729407262823"
     },
     "user_tz": 240
    },
    "id": "5pyF9sgrowAi",
    "outputId": "0e126a01-95c2-452c-c745-9fdfd65ec9e4"
   },
   "outputs": [
    {
     "name": "stdout",
     "output_type": "stream",
     "text": [
      "1 euro(s) is équivalent to 1.65 dollar(s)\n",
      "1 euro(s) is équivalent to 1.65 dollar(s)\n",
      "2 euro(s) is équivalent to 3.3 dollar(s)\n",
      "2 euro(s) is équivalent to 3.3 dollar(s)\n",
      "4 euro(s) is équivalent to 6.6 dollar(s)\n",
      "4 euro(s) is équivalent to 6.6 dollar(s)\n",
      "8 euro(s) is équivalent to 13.2 dollar(s)\n",
      "8 euro(s) is équivalent to 13.2 dollar(s)\n",
      "16 euro(s) is équivalent to 26.4 dollar(s)\n",
      "16 euro(s) is équivalent to 26.4 dollar(s)\n",
      "32 euro(s) is équivalent to 52.8 dollar(s)\n",
      "32 euro(s) is équivalent to 52.8 dollar(s)\n"
     ]
    }
   ],
   "source": [
    "euro = 1\n",
    "\n",
    "while euro < 64:\n",
    "    \n",
    "    dollar = 1.65*euro\n",
    "    \n",
    "    print(\"{0} euro(s) is équivalent to {1} dollar(s)\".format(euro,dollar))\n",
    "    print(\"{} euro(s) is équivalent to {} dollar(s)\".format(euro,dollar))\n",
    "    \n",
    "    euro *= 2"
   ]
  },
  {
   "cell_type": "markdown",
   "metadata": {
    "colab_type": "text",
    "id": "rV8KC6aio0VA"
   },
   "source": [
    "## List Comprehensions\n",
    "\n",
    "It is possible to create lists with the loop concept in python. Indeed, it is possible to rewrite a \"for loop\" in a single line of code using objects called \"list comprehensions\". The syntax is as follows: \n",
    "\n",
    "``new_list = [expression(i) for i in old_list if filter(i)]``. \n",
    "\n",
    "Let's see what this looks like in practice: "
   ]
  },
  {
   "cell_type": "code",
   "execution_count": 5,
   "metadata": {
    "colab": {
     "base_uri": "https://localhost:8080/",
     "height": 34
    },
    "colab_type": "code",
    "executionInfo": {
     "elapsed": 596,
     "status": "ok",
     "timestamp": 1597003981828,
     "user": {
      "displayName": "Sarah Legendre-bilodeau",
      "photoUrl": "https://lh3.googleusercontent.com/a-/AOh14GjZBh9qAqpio24yJj1bsVXk9A1Mrnq2pm2jcoazh6ThC2-3wNXoOO2d5fZw4yeOsnJNRAcikvtb6XMkLQxPlzGYPjXBF3iq6RMm-tVBZdLBsrAi2s2lDDswjIWlzYhhbd7ku87eUSDdN40qGmTPhit1JH_5uhVtKXhjSo8KTdkF3FOWW28KKO7iJztdHcSLFfflmInMf2th6Sj7cA8q3WpQTwEBJzd8hdySFLBRUE9ZjwF6UXR67Imq8-a0Bcljjpkz61m2ZdJ57vOp901GP--EMjYUISB681Xt_Jql7b8jk92iFlh4hLZXc_6A2UYZDur1a9ndKnAUgiTvFxQjd7Kzp6PnuGru0tKmm6w3rHZMahx24OqfZYZpld-SuHSnKVem25qYSV7_oo_QHz5KxoE31gxYzq7n1UKBgu2NTZpb5CYEiTVHmPj7ZbFhuUjbe4iSvUUXcaXyOul-wsRU5kXOzounbEL4_jVcnq0COEkHM8Bbh5P0ec7OSJRepGVYa-bPXhrK0aVm8YL1zdVYbIxnaKstI3AvfvS3OSys8BsXHZ6XHjjXKVrjAUjf0pBlByEbmNPSKNXoY1ml5Y_7dTQ6yq0AcAscXdh1Qe_aOxo88NmvDXw43MlEih-KH5VPaIpWR2KPw9jlDYZ84dLTWwSsEjwhK22zb-u9VPIKySv7V07eHcNVDWg9_OeDOi7B99StLOdQzQRh7wPLU3Fi1PZajfbT1_h4sWQD614yEXx54gY0mlWW6oAxt89I1Jf4FuAO-A=s64",
      "userId": "14051546729407262823"
     },
     "user_tz": 240
    },
    "id": "2QSimorGo3Pa",
    "outputId": "0defac31-28fa-41e1-fb0e-4c867a012d55"
   },
   "outputs": [
    {
     "name": "stdout",
     "output_type": "stream",
     "text": [
      "[30, 34]\n"
     ]
    }
   ],
   "source": [
    "# with a for loop :\n",
    "old_list = [3,6,8,15,17]\n",
    "new_list = []\n",
    "\n",
    "for i in old_list:\n",
    "    if i > 8:   \n",
    "        new_list.append(i*2)\n",
    "        \n",
    "print(new_list)"
   ]
  },
  {
   "cell_type": "code",
   "execution_count": 2,
   "metadata": {
    "colab": {
     "base_uri": "https://localhost:8080/",
     "height": 34
    },
    "colab_type": "code",
    "executionInfo": {
     "elapsed": 603,
     "status": "ok",
     "timestamp": 1597004026839,
     "user": {
      "displayName": "Sarah Legendre-bilodeau",
      "photoUrl": "https://lh3.googleusercontent.com/a-/AOh14GjZBh9qAqpio24yJj1bsVXk9A1Mrnq2pm2jcoazh6ThC2-3wNXoOO2d5fZw4yeOsnJNRAcikvtb6XMkLQxPlzGYPjXBF3iq6RMm-tVBZdLBsrAi2s2lDDswjIWlzYhhbd7ku87eUSDdN40qGmTPhit1JH_5uhVtKXhjSo8KTdkF3FOWW28KKO7iJztdHcSLFfflmInMf2th6Sj7cA8q3WpQTwEBJzd8hdySFLBRUE9ZjwF6UXR67Imq8-a0Bcljjpkz61m2ZdJ57vOp901GP--EMjYUISB681Xt_Jql7b8jk92iFlh4hLZXc_6A2UYZDur1a9ndKnAUgiTvFxQjd7Kzp6PnuGru0tKmm6w3rHZMahx24OqfZYZpld-SuHSnKVem25qYSV7_oo_QHz5KxoE31gxYzq7n1UKBgu2NTZpb5CYEiTVHmPj7ZbFhuUjbe4iSvUUXcaXyOul-wsRU5kXOzounbEL4_jVcnq0COEkHM8Bbh5P0ec7OSJRepGVYa-bPXhrK0aVm8YL1zdVYbIxnaKstI3AvfvS3OSys8BsXHZ6XHjjXKVrjAUjf0pBlByEbmNPSKNXoY1ml5Y_7dTQ6yq0AcAscXdh1Qe_aOxo88NmvDXw43MlEih-KH5VPaIpWR2KPw9jlDYZ84dLTWwSsEjwhK22zb-u9VPIKySv7V07eHcNVDWg9_OeDOi7B99StLOdQzQRh7wPLU3Fi1PZajfbT1_h4sWQD614yEXx54gY0mlWW6oAxt89I1Jf4FuAO-A=s64",
      "userId": "14051546729407262823"
     },
     "user_tz": 240
    },
    "id": "PSv-u_MUo454",
    "outputId": "107adb17-2192-41cb-e8b7-58720fb1dc74"
   },
   "outputs": [
    {
     "name": "stdout",
     "output_type": "stream",
     "text": [
      "[16, 30, 34]\n"
     ]
    }
   ],
   "source": [
    "# with a list comprehension\n",
    "old_list = [3,6,8,15,17]\n",
    "\n",
    "new_list = [i*2 for i in old_list if i >= 8]\n",
    "print(new_list)"
   ]
  },
  {
   "cell_type": "markdown",
   "metadata": {
    "colab_type": "text",
    "id": "R5SHV8TP41m-"
   },
   "source": [
    "# Creating functions\n",
    "\n",
    "Functions are the primary and most important method of code organization and reuse in Python. Functions can help to make code more readable by giving a name to a group of Python statements.\n",
    "\n",
    "Functions are declared with the ``def`` keyword and returned from with the ``return`` keyword.\n",
    "\n",
    "The indentation is necessary when writing functions.\n"
   ]
  },
  {
   "cell_type": "code",
   "execution_count": 5,
   "metadata": {
    "colab": {},
    "colab_type": "code",
    "id": "E1UEkjA6MeE1"
   },
   "outputs": [],
   "source": [
    "# Define the current directory\n",
    "import os\n",
    "os.chdir(\"G:\\\\Mon disque\\\\Colab Notebooks\\\\Ericsson\")\n"
   ]
  },
  {
   "cell_type": "code",
   "execution_count": 26,
   "metadata": {
    "colab": {
     "base_uri": "https://localhost:8080/",
     "height": 122
    },
    "colab_type": "code",
    "executionInfo": {
     "elapsed": 22474,
     "status": "ok",
     "timestamp": 1597077481450,
     "user": {
      "displayName": "Sarah Legendre-bilodeau",
      "photoUrl": "https://lh3.googleusercontent.com/a-/AOh14GjZBh9qAqpio24yJj1bsVXk9A1Mrnq2pm2jcoazh6ThC2-3wNXoOO2d5fZw4yeOsnJNRAcikvtb6XMkLQxPlzGYPjXBF3iq6RMm-tVBZdLBsrAi2s2lDDswjIWlzYhhbd7ku87eUSDdN40qGmTPhit1JH_5uhVtKXhjSo8KTdkF3FOWW28KKO7iJztdHcSLFfflmInMf2th6Sj7cA8q3WpQTwEBJzd8hdySFLBRUE9ZjwF6UXR67Imq8-a0Bcljjpkz61m2ZdJ57vOp901GP--EMjYUISB681Xt_Jql7b8jk92iFlh4hLZXc_6A2UYZDur1a9ndKnAUgiTvFxQjd7Kzp6PnuGru0tKmm6w3rHZMahx24OqfZYZpld-SuHSnKVem25qYSV7_oo_QHz5KxoE31gxYzq7n1UKBgu2NTZpb5CYEiTVHmPj7ZbFhuUjbe4iSvUUXcaXyOul-wsRU5kXOzounbEL4_jVcnq0COEkHM8Bbh5P0ec7OSJRepGVYa-bPXhrK0aVm8YL1zdVYbIxnaKstI3AvfvS3OSys8BsXHZ6XHjjXKVrjAUjf0pBlByEbmNPSKNXoY1ml5Y_7dTQ6yq0AcAscXdh1Qe_aOxo88NmvDXw43MlEih-KH5VPaIpWR2KPw9jlDYZ84dLTWwSsEjwhK22zb-u9VPIKySv7V07eHcNVDWg9_OeDOi7B99StLOdQzQRh7wPLU3Fi1PZajfbT1_h4sWQD614yEXx54gY0mlWW6oAxt89I1Jf4FuAO-A=s64",
      "userId": "14051546729407262823"
     },
     "user_tz": 240
    },
    "id": "ye6NtVcMOi27",
    "outputId": "e6ebcd4d-a837-4df1-9b0a-d711de439383"
   },
   "outputs": [
    {
     "name": "stdout",
     "output_type": "stream",
     "text": [
      "Go to this URL in a browser: https://accounts.google.com/o/oauth2/auth?client_id=947318989803-6bn6qk8qdgf4n4g3pfee6491hc0brc4i.apps.googleusercontent.com&redirect_uri=urn%3aietf%3awg%3aoauth%3a2.0%3aoob&response_type=code&scope=email%20https%3a%2f%2fwww.googleapis.com%2fauth%2fdocs.test%20https%3a%2f%2fwww.googleapis.com%2fauth%2fdrive%20https%3a%2f%2fwww.googleapis.com%2fauth%2fdrive.photos.readonly%20https%3a%2f%2fwww.googleapis.com%2fauth%2fpeopleapi.readonly\n",
      "\n",
      "Enter your authorization code:\n",
      "··········\n",
      "Mounted at /content/drive\n"
     ]
    }
   ],
   "source": [
    "#from google.colab import drive\n",
    "#drive.mount(\"/content/drive\")"
   ]
  },
  {
   "cell_type": "code",
   "execution_count": 9,
   "metadata": {
    "colab": {},
    "colab_type": "code",
    "executionInfo": {
     "elapsed": 303,
     "status": "ok",
     "timestamp": 1597077484231,
     "user": {
      "displayName": "Sarah Legendre-bilodeau",
      "photoUrl": "https://lh3.googleusercontent.com/a-/AOh14GjZBh9qAqpio24yJj1bsVXk9A1Mrnq2pm2jcoazh6ThC2-3wNXoOO2d5fZw4yeOsnJNRAcikvtb6XMkLQxPlzGYPjXBF3iq6RMm-tVBZdLBsrAi2s2lDDswjIWlzYhhbd7ku87eUSDdN40qGmTPhit1JH_5uhVtKXhjSo8KTdkF3FOWW28KKO7iJztdHcSLFfflmInMf2th6Sj7cA8q3WpQTwEBJzd8hdySFLBRUE9ZjwF6UXR67Imq8-a0Bcljjpkz61m2ZdJ57vOp901GP--EMjYUISB681Xt_Jql7b8jk92iFlh4hLZXc_6A2UYZDur1a9ndKnAUgiTvFxQjd7Kzp6PnuGru0tKmm6w3rHZMahx24OqfZYZpld-SuHSnKVem25qYSV7_oo_QHz5KxoE31gxYzq7n1UKBgu2NTZpb5CYEiTVHmPj7ZbFhuUjbe4iSvUUXcaXyOul-wsRU5kXOzounbEL4_jVcnq0COEkHM8Bbh5P0ec7OSJRepGVYa-bPXhrK0aVm8YL1zdVYbIxnaKstI3AvfvS3OSys8BsXHZ6XHjjXKVrjAUjf0pBlByEbmNPSKNXoY1ml5Y_7dTQ6yq0AcAscXdh1Qe_aOxo88NmvDXw43MlEih-KH5VPaIpWR2KPw9jlDYZ84dLTWwSsEjwhK22zb-u9VPIKySv7V07eHcNVDWg9_OeDOi7B99StLOdQzQRh7wPLU3Fi1PZajfbT1_h4sWQD614yEXx54gY0mlWW6oAxt89I1Jf4FuAO-A=s64",
      "userId": "14051546729407262823"
     },
     "user_tz": 240
    },
    "id": "Wv7H5O2AOxTr"
   },
   "outputs": [],
   "source": [
    "import os\n",
    "os.chdir(\"C:\\\\Git\\\\GitHub\\\\LearnAIML\\\\Python\\\\PythonTraining\\\\Part2-NumpyAndPanda\\\\Data_part2a\")"
   ]
  },
  {
   "cell_type": "code",
   "execution_count": 25,
   "metadata": {
    "colab": {
     "base_uri": "https://localhost:8080/",
     "height": 255
    },
    "colab_type": "code",
    "executionInfo": {
     "elapsed": 1907,
     "status": "ok",
     "timestamp": 1597077487797,
     "user": {
      "displayName": "Sarah Legendre-bilodeau",
      "photoUrl": "https://lh3.googleusercontent.com/a-/AOh14GjZBh9qAqpio24yJj1bsVXk9A1Mrnq2pm2jcoazh6ThC2-3wNXoOO2d5fZw4yeOsnJNRAcikvtb6XMkLQxPlzGYPjXBF3iq6RMm-tVBZdLBsrAi2s2lDDswjIWlzYhhbd7ku87eUSDdN40qGmTPhit1JH_5uhVtKXhjSo8KTdkF3FOWW28KKO7iJztdHcSLFfflmInMf2th6Sj7cA8q3WpQTwEBJzd8hdySFLBRUE9ZjwF6UXR67Imq8-a0Bcljjpkz61m2ZdJ57vOp901GP--EMjYUISB681Xt_Jql7b8jk92iFlh4hLZXc_6A2UYZDur1a9ndKnAUgiTvFxQjd7Kzp6PnuGru0tKmm6w3rHZMahx24OqfZYZpld-SuHSnKVem25qYSV7_oo_QHz5KxoE31gxYzq7n1UKBgu2NTZpb5CYEiTVHmPj7ZbFhuUjbe4iSvUUXcaXyOul-wsRU5kXOzounbEL4_jVcnq0COEkHM8Bbh5P0ec7OSJRepGVYa-bPXhrK0aVm8YL1zdVYbIxnaKstI3AvfvS3OSys8BsXHZ6XHjjXKVrjAUjf0pBlByEbmNPSKNXoY1ml5Y_7dTQ6yq0AcAscXdh1Qe_aOxo88NmvDXw43MlEih-KH5VPaIpWR2KPw9jlDYZ84dLTWwSsEjwhK22zb-u9VPIKySv7V07eHcNVDWg9_OeDOi7B99StLOdQzQRh7wPLU3Fi1PZajfbT1_h4sWQD614yEXx54gY0mlWW6oAxt89I1Jf4FuAO-A=s64",
      "userId": "14051546729407262823"
     },
     "user_tz": 240
    },
    "id": "q0HLtEAUS4hF",
    "outputId": "5c56c32a-3f86-4c05-924f-73883584a3c3"
   },
   "outputs": [
    {
     "name": "stdout",
     "output_type": "stream",
     "text": [
      "      EmpID  Mois  nVentes  TotVentes\n",
      "1       100     1     16.0   15687.46\n",
      "2       100     2     21.0   21496.56\n",
      "3       100     3     11.0   12015.78\n",
      "4       100     4     18.0   18537.36\n",
      "5       100     5     13.0   13440.72\n",
      "...     ...   ...      ...        ...\n",
      "1796   2504     8     20.0   19388.83\n",
      "1797   2504     9     22.0   23814.61\n",
      "1798   2504    10     17.0   15438.43\n",
      "1799   2504    11     21.0   20388.20\n",
      "1800   2504    12     27.0   27398.28\n",
      "\n",
      "[1800 rows x 4 columns]\n"
     ]
    }
   ],
   "source": [
    "import pandas as pd\n",
    "pd.set_option('display.max_rows', 10)\n",
    "vendeurs = pd.read_csv(\"vendeurs.txt\",  sep = \" \")\n",
    "print(vendeurs)\n"
   ]
  },
  {
   "cell_type": "code",
   "execution_count": 21,
   "metadata": {
    "colab": {
     "base_uri": "https://localhost:8080/",
     "height": 235
    },
    "colab_type": "code",
    "executionInfo": {
     "elapsed": 339,
     "status": "ok",
     "timestamp": 1597077491300,
     "user": {
      "displayName": "Sarah Legendre-bilodeau",
      "photoUrl": "https://lh3.googleusercontent.com/a-/AOh14GjZBh9qAqpio24yJj1bsVXk9A1Mrnq2pm2jcoazh6ThC2-3wNXoOO2d5fZw4yeOsnJNRAcikvtb6XMkLQxPlzGYPjXBF3iq6RMm-tVBZdLBsrAi2s2lDDswjIWlzYhhbd7ku87eUSDdN40qGmTPhit1JH_5uhVtKXhjSo8KTdkF3FOWW28KKO7iJztdHcSLFfflmInMf2th6Sj7cA8q3WpQTwEBJzd8hdySFLBRUE9ZjwF6UXR67Imq8-a0Bcljjpkz61m2ZdJ57vOp901GP--EMjYUISB681Xt_Jql7b8jk92iFlh4hLZXc_6A2UYZDur1a9ndKnAUgiTvFxQjd7Kzp6PnuGru0tKmm6w3rHZMahx24OqfZYZpld-SuHSnKVem25qYSV7_oo_QHz5KxoE31gxYzq7n1UKBgu2NTZpb5CYEiTVHmPj7ZbFhuUjbe4iSvUUXcaXyOul-wsRU5kXOzounbEL4_jVcnq0COEkHM8Bbh5P0ec7OSJRepGVYa-bPXhrK0aVm8YL1zdVYbIxnaKstI3AvfvS3OSys8BsXHZ6XHjjXKVrjAUjf0pBlByEbmNPSKNXoY1ml5Y_7dTQ6yq0AcAscXdh1Qe_aOxo88NmvDXw43MlEih-KH5VPaIpWR2KPw9jlDYZ84dLTWwSsEjwhK22zb-u9VPIKySv7V07eHcNVDWg9_OeDOi7B99StLOdQzQRh7wPLU3Fi1PZajfbT1_h4sWQD614yEXx54gY0mlWW6oAxt89I1Jf4FuAO-A=s64",
      "userId": "14051546729407262823"
     },
     "user_tz": 240
    },
    "id": "TLknHifB4d5e",
    "outputId": "eff73e59-e713-4e3b-df88-cbbb632da126"
   },
   "outputs": [
    {
     "name": "stdout",
     "output_type": "stream",
     "text": [
      "     EmpID  Mois  nVentes  TotVentes\n",
      "690   1003     6     23.0   22941.26\n",
      "692   1003     8     24.0   24049.34\n",
      "693   1003     9     24.0   22420.29\n",
      "694   1003    10     26.0   24786.01\n",
      "695   1003    11     33.0   32954.60\n",
      "696   1003    12     22.0   21685.90\n"
     ]
    },
    {
     "data": {
      "text/html": [
       "<div>\n",
       "<style scoped>\n",
       "    .dataframe tbody tr th:only-of-type {\n",
       "        vertical-align: middle;\n",
       "    }\n",
       "\n",
       "    .dataframe tbody tr th {\n",
       "        vertical-align: top;\n",
       "    }\n",
       "\n",
       "    .dataframe thead th {\n",
       "        text-align: right;\n",
       "    }\n",
       "</style>\n",
       "<table border=\"1\" class=\"dataframe\">\n",
       "  <thead>\n",
       "    <tr style=\"text-align: right;\">\n",
       "      <th></th>\n",
       "      <th>EmpID</th>\n",
       "      <th>Mois</th>\n",
       "      <th>nVentes</th>\n",
       "      <th>TotVentes</th>\n",
       "    </tr>\n",
       "  </thead>\n",
       "  <tbody>\n",
       "    <tr>\n",
       "      <th>690</th>\n",
       "      <td>1003</td>\n",
       "      <td>6</td>\n",
       "      <td>23.0</td>\n",
       "      <td>22941.26</td>\n",
       "    </tr>\n",
       "    <tr>\n",
       "      <th>692</th>\n",
       "      <td>1003</td>\n",
       "      <td>8</td>\n",
       "      <td>24.0</td>\n",
       "      <td>24049.34</td>\n",
       "    </tr>\n",
       "    <tr>\n",
       "      <th>693</th>\n",
       "      <td>1003</td>\n",
       "      <td>9</td>\n",
       "      <td>24.0</td>\n",
       "      <td>22420.29</td>\n",
       "    </tr>\n",
       "    <tr>\n",
       "      <th>694</th>\n",
       "      <td>1003</td>\n",
       "      <td>10</td>\n",
       "      <td>26.0</td>\n",
       "      <td>24786.01</td>\n",
       "    </tr>\n",
       "    <tr>\n",
       "      <th>695</th>\n",
       "      <td>1003</td>\n",
       "      <td>11</td>\n",
       "      <td>33.0</td>\n",
       "      <td>32954.60</td>\n",
       "    </tr>\n",
       "    <tr>\n",
       "      <th>696</th>\n",
       "      <td>1003</td>\n",
       "      <td>12</td>\n",
       "      <td>22.0</td>\n",
       "      <td>21685.90</td>\n",
       "    </tr>\n",
       "  </tbody>\n",
       "</table>\n",
       "</div>"
      ],
      "text/plain": [
       "     EmpID  Mois  nVentes  TotVentes\n",
       "690   1003     6     23.0   22941.26\n",
       "692   1003     8     24.0   24049.34\n",
       "693   1003     9     24.0   22420.29\n",
       "694   1003    10     26.0   24786.01\n",
       "695   1003    11     33.0   32954.60\n",
       "696   1003    12     22.0   21685.90"
      ]
     },
     "execution_count": 21,
     "metadata": {},
     "output_type": "execute_result"
    }
   ],
   "source": [
    "# Function goodres : return the data for the asked EmpID with min of nVentes\n",
    "def goodres(data, emp, minNV=0): #function with 3 arguments (2 mandatory and 1 optional)\n",
    "    return data.loc[(data['EmpID']==emp) & (data['nVentes']>minNV)] # indentation, and the parenthesis around the conditions are mandatory\n",
    "\n",
    "print(goodres(data=vendeurs, emp=1003, minNV=20))\n",
    "goodres(vendeurs, 1003, 20)\n"
   ]
  },
  {
   "cell_type": "code",
   "execution_count": 26,
   "metadata": {
    "colab": {
     "base_uri": "https://localhost:8080/",
     "height": 421
    },
    "colab_type": "code",
    "executionInfo": {
     "elapsed": 340,
     "status": "ok",
     "timestamp": 1597077493105,
     "user": {
      "displayName": "Sarah Legendre-bilodeau",
      "photoUrl": "https://lh3.googleusercontent.com/a-/AOh14GjZBh9qAqpio24yJj1bsVXk9A1Mrnq2pm2jcoazh6ThC2-3wNXoOO2d5fZw4yeOsnJNRAcikvtb6XMkLQxPlzGYPjXBF3iq6RMm-tVBZdLBsrAi2s2lDDswjIWlzYhhbd7ku87eUSDdN40qGmTPhit1JH_5uhVtKXhjSo8KTdkF3FOWW28KKO7iJztdHcSLFfflmInMf2th6Sj7cA8q3WpQTwEBJzd8hdySFLBRUE9ZjwF6UXR67Imq8-a0Bcljjpkz61m2ZdJ57vOp901GP--EMjYUISB681Xt_Jql7b8jk92iFlh4hLZXc_6A2UYZDur1a9ndKnAUgiTvFxQjd7Kzp6PnuGru0tKmm6w3rHZMahx24OqfZYZpld-SuHSnKVem25qYSV7_oo_QHz5KxoE31gxYzq7n1UKBgu2NTZpb5CYEiTVHmPj7ZbFhuUjbe4iSvUUXcaXyOul-wsRU5kXOzounbEL4_jVcnq0COEkHM8Bbh5P0ec7OSJRepGVYa-bPXhrK0aVm8YL1zdVYbIxnaKstI3AvfvS3OSys8BsXHZ6XHjjXKVrjAUjf0pBlByEbmNPSKNXoY1ml5Y_7dTQ6yq0AcAscXdh1Qe_aOxo88NmvDXw43MlEih-KH5VPaIpWR2KPw9jlDYZ84dLTWwSsEjwhK22zb-u9VPIKySv7V07eHcNVDWg9_OeDOi7B99StLOdQzQRh7wPLU3Fi1PZajfbT1_h4sWQD614yEXx54gY0mlWW6oAxt89I1Jf4FuAO-A=s64",
      "userId": "14051546729407262823"
     },
     "user_tz": 240
    },
    "id": "XVfGNBCTjjNU",
    "outputId": "896cc5a0-7df5-4c51-8bdc-0f3eef73f5df"
   },
   "outputs": [
    {
     "data": {
      "text/html": [
       "<div>\n",
       "<style scoped>\n",
       "    .dataframe tbody tr th:only-of-type {\n",
       "        vertical-align: middle;\n",
       "    }\n",
       "\n",
       "    .dataframe tbody tr th {\n",
       "        vertical-align: top;\n",
       "    }\n",
       "\n",
       "    .dataframe thead th {\n",
       "        text-align: right;\n",
       "    }\n",
       "</style>\n",
       "<table border=\"1\" class=\"dataframe\">\n",
       "  <thead>\n",
       "    <tr style=\"text-align: right;\">\n",
       "      <th></th>\n",
       "      <th>EmpID</th>\n",
       "      <th>Mois</th>\n",
       "      <th>nVentes</th>\n",
       "      <th>TotVentes</th>\n",
       "    </tr>\n",
       "  </thead>\n",
       "  <tbody>\n",
       "    <tr>\n",
       "      <th>985</th>\n",
       "      <td>1500</td>\n",
       "      <td>1</td>\n",
       "      <td>15.0</td>\n",
       "      <td>15384.15</td>\n",
       "    </tr>\n",
       "    <tr>\n",
       "      <th>986</th>\n",
       "      <td>1500</td>\n",
       "      <td>2</td>\n",
       "      <td>5.0</td>\n",
       "      <td>5578.10</td>\n",
       "    </tr>\n",
       "    <tr>\n",
       "      <th>987</th>\n",
       "      <td>1500</td>\n",
       "      <td>3</td>\n",
       "      <td>17.0</td>\n",
       "      <td>18066.24</td>\n",
       "    </tr>\n",
       "    <tr>\n",
       "      <th>988</th>\n",
       "      <td>1500</td>\n",
       "      <td>4</td>\n",
       "      <td>12.0</td>\n",
       "      <td>11418.42</td>\n",
       "    </tr>\n",
       "    <tr>\n",
       "      <th>989</th>\n",
       "      <td>1500</td>\n",
       "      <td>5</td>\n",
       "      <td>20.0</td>\n",
       "      <td>21012.79</td>\n",
       "    </tr>\n",
       "    <tr>\n",
       "      <th>...</th>\n",
       "      <td>...</td>\n",
       "      <td>...</td>\n",
       "      <td>...</td>\n",
       "      <td>...</td>\n",
       "    </tr>\n",
       "    <tr>\n",
       "      <th>992</th>\n",
       "      <td>1500</td>\n",
       "      <td>8</td>\n",
       "      <td>18.0</td>\n",
       "      <td>17460.55</td>\n",
       "    </tr>\n",
       "    <tr>\n",
       "      <th>993</th>\n",
       "      <td>1500</td>\n",
       "      <td>9</td>\n",
       "      <td>10.0</td>\n",
       "      <td>10353.54</td>\n",
       "    </tr>\n",
       "    <tr>\n",
       "      <th>994</th>\n",
       "      <td>1500</td>\n",
       "      <td>10</td>\n",
       "      <td>13.0</td>\n",
       "      <td>14029.72</td>\n",
       "    </tr>\n",
       "    <tr>\n",
       "      <th>995</th>\n",
       "      <td>1500</td>\n",
       "      <td>11</td>\n",
       "      <td>26.0</td>\n",
       "      <td>26321.82</td>\n",
       "    </tr>\n",
       "    <tr>\n",
       "      <th>996</th>\n",
       "      <td>1500</td>\n",
       "      <td>12</td>\n",
       "      <td>17.0</td>\n",
       "      <td>17127.39</td>\n",
       "    </tr>\n",
       "  </tbody>\n",
       "</table>\n",
       "<p>12 rows × 4 columns</p>\n",
       "</div>"
      ],
      "text/plain": [
       "     EmpID  Mois  nVentes  TotVentes\n",
       "985   1500     1     15.0   15384.15\n",
       "986   1500     2      5.0    5578.10\n",
       "987   1500     3     17.0   18066.24\n",
       "988   1500     4     12.0   11418.42\n",
       "989   1500     5     20.0   21012.79\n",
       "..     ...   ...      ...        ...\n",
       "992   1500     8     18.0   17460.55\n",
       "993   1500     9     10.0   10353.54\n",
       "994   1500    10     13.0   14029.72\n",
       "995   1500    11     26.0   26321.82\n",
       "996   1500    12     17.0   17127.39\n",
       "\n",
       "[12 rows x 4 columns]"
      ]
     },
     "execution_count": 26,
     "metadata": {},
     "output_type": "execute_result"
    }
   ],
   "source": [
    "goodres(data=vendeurs, emp=1500) #minNV = 0"
   ]
  },
  {
   "cell_type": "markdown",
   "metadata": {
    "colab_type": "text",
    "id": "MNyV-Dh5434f"
   },
   "source": [
    "# String Manipulation\n",
    "\n",
    "Python offers many advantages for string manipulation through its string and text processing methods.\n",
    "\n",
    "For more integrated code with other data science tasks, Pandas package offer many functions and tools to apply string and regular expressions concisely on whole arrays of data. "
   ]
  },
  {
   "cell_type": "markdown",
   "metadata": {
    "colab_type": "text",
    "id": "uOYQz6ArI49Z"
   },
   "source": [
    "## Syntax elements\n",
    "\n",
    "We saw before that there is usually no difference in the use of single or double quotation marks when writing a string. It is possible to embed a single or double quote in a string, no matter how it is framed, by using the `\\` character.\n",
    "For example, the following two commands give equivalent results:"
   ]
  },
  {
   "cell_type": "code",
   "execution_count": 27,
   "metadata": {
    "colab": {
     "base_uri": "https://localhost:8080/",
     "height": 52
    },
    "colab_type": "code",
    "executionInfo": {
     "elapsed": 865,
     "status": "ok",
     "timestamp": 1596992110137,
     "user": {
      "displayName": "Sarah Legendre-bilodeau",
      "photoUrl": "https://lh3.googleusercontent.com/a-/AOh14GhUpRXeli09kmV6wydOBwD9Pw4BJa4Sk8E820WVk1BktkWQVUUSuyQMuHtaZeg6VjGpAgYVOv_MLmPlIoNCHE9nTKDfnga9mWQV3s40sf0eJIKJI6FFXejIzKkv3OLSWLKn8uiOEVR387bz_y8QRo0RMyF3XHstWyQnP2YUM6tYa0kLNpDQuSKvh1Lap1R6FsxiGEK1ljp9J1eYSYsZolxOvNSNh4bC2zV5AFUUQLszgTZqyHoU59NqmPg4LHcEDoaf6PZOSSF1ja1eydFjr7EYMeQvmiKWARmOCxWeTJeeAKUP8So064zkNMxXWhg45nwBxo_Gfbrxa2hUUs_XP3faM5U7OTuRE_i_gyrJk4fYzh8-klw7ARKObNv34YhbIVI6UfvjXhSeiyoLHUVJPR2KtBuf9b5EoUB9dO0Mf8HxObhAUxVX4HIADE8mZ1vP77e0b0hDU74FA1NFjANyijIaUT1J_VN_bavLGWveHrGDxUaNnuYS29YXkoZhYNTI-yPbGkjB9__ZyoOGbu8JHMz843dRA0ZceSVqAPcqgYNFh6CftkYekj1e53NaRppWsPil_qkX9MzYBzBXvk48H8DsPWFbXdDZNbkhbh3vIgG0o6Me9s3Vqz4-aw3klKuOqhSEhqeBhnZ1gf8SNpJac9hR3l8C6iV4N46ASS9kyKngZ7l9P9rq8HlQ_0fAkrzvOGI_u06TQ_4QcfxQh5YhaPjRPMwV4s0TT1SbeeBiv84dZJdalwO0lejG5yQwqu9R9pfr2g=s64",
      "userId": "14051546729407262823"
     },
     "user_tz": 240
    },
    "id": "YogK6NPKJOAb",
    "outputId": "5df31384-9d94-407e-8b65-f63f004227c7"
   },
   "outputs": [
    {
     "name": "stdout",
     "output_type": "stream",
     "text": [
      "It's a good test for you\n",
      "IT's a good test for you\n"
     ]
    }
   ],
   "source": [
    "str1 = \"It's a good test for you\"\n",
    "str2 = 'IT\\'s a good test for you'\n",
    "\n",
    "print(str1)\n",
    "print(str2)"
   ]
  },
  {
   "cell_type": "markdown",
   "metadata": {
    "colab_type": "text",
    "id": "ALE0QceIJuvc"
   },
   "source": [
    "If the character `\\` is to be part of the string, it must be doubled. For example:"
   ]
  },
  {
   "cell_type": "code",
   "execution_count": null,
   "metadata": {
    "colab": {
     "base_uri": "https://localhost:8080/",
     "height": 34
    },
    "colab_type": "code",
    "executionInfo": {
     "elapsed": 694,
     "status": "ok",
     "timestamp": 1596992276629,
     "user": {
      "displayName": "Sarah Legendre-bilodeau",
      "photoUrl": "https://lh3.googleusercontent.com/a-/AOh14GhUpRXeli09kmV6wydOBwD9Pw4BJa4Sk8E820WVk1BktkWQVUUSuyQMuHtaZeg6VjGpAgYVOv_MLmPlIoNCHE9nTKDfnga9mWQV3s40sf0eJIKJI6FFXejIzKkv3OLSWLKn8uiOEVR387bz_y8QRo0RMyF3XHstWyQnP2YUM6tYa0kLNpDQuSKvh1Lap1R6FsxiGEK1ljp9J1eYSYsZolxOvNSNh4bC2zV5AFUUQLszgTZqyHoU59NqmPg4LHcEDoaf6PZOSSF1ja1eydFjr7EYMeQvmiKWARmOCxWeTJeeAKUP8So064zkNMxXWhg45nwBxo_Gfbrxa2hUUs_XP3faM5U7OTuRE_i_gyrJk4fYzh8-klw7ARKObNv34YhbIVI6UfvjXhSeiyoLHUVJPR2KtBuf9b5EoUB9dO0Mf8HxObhAUxVX4HIADE8mZ1vP77e0b0hDU74FA1NFjANyijIaUT1J_VN_bavLGWveHrGDxUaNnuYS29YXkoZhYNTI-yPbGkjB9__ZyoOGbu8JHMz843dRA0ZceSVqAPcqgYNFh6CftkYekj1e53NaRppWsPil_qkX9MzYBzBXvk48H8DsPWFbXdDZNbkhbh3vIgG0o6Me9s3Vqz4-aw3klKuOqhSEhqeBhnZ1gf8SNpJac9hR3l8C6iV4N46ASS9kyKngZ7l9P9rq8HlQ_0fAkrzvOGI_u06TQ_4QcfxQh5YhaPjRPMwV4s0TT1SbeeBiv84dZJdalwO0lejG5yQwqu9R9pfr2g=s64",
      "userId": "14051546729407262823"
     },
     "user_tz": 240
    },
    "id": "VIEy1x29JzWf",
    "outputId": "6f3cfe6a-bcb0-4376-fc57-bcd088868a4b"
   },
   "outputs": [
    {
     "name": "stdout",
     "output_type": "stream",
     "text": [
      "ratio : \"mensual sales\"\\\"total sales\"\n"
     ]
    }
   ],
   "source": [
    "str3 = \"ratio : \\\"mensual sales\\\"\\\\\\\"total sales\\\"\"\n",
    "print(str3)"
   ]
  },
  {
   "cell_type": "markdown",
   "metadata": {
    "colab_type": "text",
    "id": "H6kyNCSsKKZ7"
   },
   "source": [
    "Other special characters are useful. For example :\n",
    "- \\n : New line\n",
    "- \\r : Carriage return\n",
    "- \\t : Tabulation\n"
   ]
  },
  {
   "cell_type": "markdown",
   "metadata": {
    "colab_type": "text",
    "id": "3j5PNYm-4TDC"
   },
   "source": [
    "## String Object Methods\n",
    "\n",
    "Some basic methods are available for simple string manipulations :\n",
    "\n",
    "- count : Return the number of non-overlaping occurrences of substring in the string\n",
    "- endswith : Returns `True` if string ends with suffix\n",
    "- startswith : Returns `True` if string starts with prefix\n",
    "- join : Use string as delimiter for concatenating a sequence of other strings\n",
    "- index : Return position of first character in substring if found in the string\n",
    "- find : Return position of the character of first occurence of substring in the string\n",
    "- rfind : Return position of first character of last occurence of substring in the string\n",
    "- replace : Replace occurrences of string with another string\n",
    "- strip, rstrip, lstrip : Trim whitespace, including newlines\n",
    "- split : Break string into list of substring using passed delimiter\n",
    "- lower : Convert alphabet characters to lowercase\n",
    "- upper : Convert alphabet characters to uppercase\n",
    "- casefold : Convert characters to lowercase, and convert any region-specific variable character combinations to a common comparable form\n",
    "- ljust, rjust : Left justify or right justify, respectively"
   ]
  },
  {
   "cell_type": "code",
   "execution_count": 29,
   "metadata": {
    "colab": {
     "base_uri": "https://localhost:8080/",
     "height": 87
    },
    "colab_type": "code",
    "executionInfo": {
     "elapsed": 1076,
     "status": "ok",
     "timestamp": 1596991018693,
     "user": {
      "displayName": "Sarah Legendre-bilodeau",
      "photoUrl": "https://lh3.googleusercontent.com/a-/AOh14GhUpRXeli09kmV6wydOBwD9Pw4BJa4Sk8E820WVk1BktkWQVUUSuyQMuHtaZeg6VjGpAgYVOv_MLmPlIoNCHE9nTKDfnga9mWQV3s40sf0eJIKJI6FFXejIzKkv3OLSWLKn8uiOEVR387bz_y8QRo0RMyF3XHstWyQnP2YUM6tYa0kLNpDQuSKvh1Lap1R6FsxiGEK1ljp9J1eYSYsZolxOvNSNh4bC2zV5AFUUQLszgTZqyHoU59NqmPg4LHcEDoaf6PZOSSF1ja1eydFjr7EYMeQvmiKWARmOCxWeTJeeAKUP8So064zkNMxXWhg45nwBxo_Gfbrxa2hUUs_XP3faM5U7OTuRE_i_gyrJk4fYzh8-klw7ARKObNv34YhbIVI6UfvjXhSeiyoLHUVJPR2KtBuf9b5EoUB9dO0Mf8HxObhAUxVX4HIADE8mZ1vP77e0b0hDU74FA1NFjANyijIaUT1J_VN_bavLGWveHrGDxUaNnuYS29YXkoZhYNTI-yPbGkjB9__ZyoOGbu8JHMz843dRA0ZceSVqAPcqgYNFh6CftkYekj1e53NaRppWsPil_qkX9MzYBzBXvk48H8DsPWFbXdDZNbkhbh3vIgG0o6Me9s3Vqz4-aw3klKuOqhSEhqeBhnZ1gf8SNpJac9hR3l8C6iV4N46ASS9kyKngZ7l9P9rq8HlQ_0fAkrzvOGI_u06TQ_4QcfxQh5YhaPjRPMwV4s0TT1SbeeBiv84dZJdalwO0lejG5yQwqu9R9pfr2g=s64",
      "userId": "14051546729407262823"
     },
     "user_tz": 240
    },
    "id": "5USGx9EmDlWT",
    "outputId": "7a89d0e0-749b-49a8-ed91-88138adf854d"
   },
   "outputs": [
    {
     "name": "stdout",
     "output_type": "stream",
     "text": [
      "<class 'str'>\n",
      "<class 'list'>\n",
      "['one', ' two', ' three', ' four', ' five']\n",
      "['one', 'two', 'three', 'four', 'five']\n"
     ]
    }
   ],
   "source": [
    "str1 = \"one, two, three, four, five\"\n",
    "print(type(str1))\n",
    "\n",
    "# Split a string into pieces\n",
    "str2 = str1.split(',')\n",
    "print(type(str2))\n",
    "print(str2)\n",
    "\n",
    "# ... without the whitespaces\n",
    "str3 = str1.split(', ')\n",
    "# or\n",
    "str3 = [x.strip() for x in str1.split(',')]\n",
    "print(str3)\n",
    "\n",
    "\n"
   ]
  },
  {
   "cell_type": "code",
   "execution_count": 30,
   "metadata": {
    "colab": {
     "base_uri": "https://localhost:8080/",
     "height": 52
    },
    "colab_type": "code",
    "executionInfo": {
     "elapsed": 569,
     "status": "ok",
     "timestamp": 1596991339888,
     "user": {
      "displayName": "Sarah Legendre-bilodeau",
      "photoUrl": "https://lh3.googleusercontent.com/a-/AOh14GhUpRXeli09kmV6wydOBwD9Pw4BJa4Sk8E820WVk1BktkWQVUUSuyQMuHtaZeg6VjGpAgYVOv_MLmPlIoNCHE9nTKDfnga9mWQV3s40sf0eJIKJI6FFXejIzKkv3OLSWLKn8uiOEVR387bz_y8QRo0RMyF3XHstWyQnP2YUM6tYa0kLNpDQuSKvh1Lap1R6FsxiGEK1ljp9J1eYSYsZolxOvNSNh4bC2zV5AFUUQLszgTZqyHoU59NqmPg4LHcEDoaf6PZOSSF1ja1eydFjr7EYMeQvmiKWARmOCxWeTJeeAKUP8So064zkNMxXWhg45nwBxo_Gfbrxa2hUUs_XP3faM5U7OTuRE_i_gyrJk4fYzh8-klw7ARKObNv34YhbIVI6UfvjXhSeiyoLHUVJPR2KtBuf9b5EoUB9dO0Mf8HxObhAUxVX4HIADE8mZ1vP77e0b0hDU74FA1NFjANyijIaUT1J_VN_bavLGWveHrGDxUaNnuYS29YXkoZhYNTI-yPbGkjB9__ZyoOGbu8JHMz843dRA0ZceSVqAPcqgYNFh6CftkYekj1e53NaRppWsPil_qkX9MzYBzBXvk48H8DsPWFbXdDZNbkhbh3vIgG0o6Me9s3Vqz4-aw3klKuOqhSEhqeBhnZ1gf8SNpJac9hR3l8C6iV4N46ASS9kyKngZ7l9P9rq8HlQ_0fAkrzvOGI_u06TQ_4QcfxQh5YhaPjRPMwV4s0TT1SbeeBiv84dZJdalwO0lejG5yQwqu9R9pfr2g=s64",
      "userId": "14051546729407262823"
     },
     "user_tz": 240
    },
    "id": "4bOQfVfVFrkS",
    "outputId": "e986c38a-f444-4ade-f25b-34834dbd7b78"
   },
   "outputs": [
    {
     "name": "stdout",
     "output_type": "stream",
     "text": [
      "one;two;three;four;five\n",
      "one;two;three;four;five\n"
     ]
    }
   ],
   "source": [
    "first, second, third, fourth, fifth = str3\n",
    "\n",
    "str4 = first + \";\" + second + \";\" + third + \";\" + fourth + \";\" + fifth\n",
    "print(str4)\n",
    "\n",
    "# or\n",
    "str4 = \";\".join(str3)\n",
    "print(str4)"
   ]
  },
  {
   "cell_type": "code",
   "execution_count": 34,
   "metadata": {
    "colab": {
     "base_uri": "https://localhost:8080/",
     "height": 87
    },
    "colab_type": "code",
    "executionInfo": {
     "elapsed": 612,
     "status": "ok",
     "timestamp": 1596991650702,
     "user": {
      "displayName": "Sarah Legendre-bilodeau",
      "photoUrl": "https://lh3.googleusercontent.com/a-/AOh14GhUpRXeli09kmV6wydOBwD9Pw4BJa4Sk8E820WVk1BktkWQVUUSuyQMuHtaZeg6VjGpAgYVOv_MLmPlIoNCHE9nTKDfnga9mWQV3s40sf0eJIKJI6FFXejIzKkv3OLSWLKn8uiOEVR387bz_y8QRo0RMyF3XHstWyQnP2YUM6tYa0kLNpDQuSKvh1Lap1R6FsxiGEK1ljp9J1eYSYsZolxOvNSNh4bC2zV5AFUUQLszgTZqyHoU59NqmPg4LHcEDoaf6PZOSSF1ja1eydFjr7EYMeQvmiKWARmOCxWeTJeeAKUP8So064zkNMxXWhg45nwBxo_Gfbrxa2hUUs_XP3faM5U7OTuRE_i_gyrJk4fYzh8-klw7ARKObNv34YhbIVI6UfvjXhSeiyoLHUVJPR2KtBuf9b5EoUB9dO0Mf8HxObhAUxVX4HIADE8mZ1vP77e0b0hDU74FA1NFjANyijIaUT1J_VN_bavLGWveHrGDxUaNnuYS29YXkoZhYNTI-yPbGkjB9__ZyoOGbu8JHMz843dRA0ZceSVqAPcqgYNFh6CftkYekj1e53NaRppWsPil_qkX9MzYBzBXvk48H8DsPWFbXdDZNbkhbh3vIgG0o6Me9s3Vqz4-aw3klKuOqhSEhqeBhnZ1gf8SNpJac9hR3l8C6iV4N46ASS9kyKngZ7l9P9rq8HlQ_0fAkrzvOGI_u06TQ_4QcfxQh5YhaPjRPMwV4s0TT1SbeeBiv84dZJdalwO0lejG5yQwqu9R9pfr2g=s64",
      "userId": "14051546729407262823"
     },
     "user_tz": 240
    },
    "id": "VF_Kpl32GpnN",
    "outputId": "8eb867e8-ef7a-4ae8-daf5-6d41627414ce"
   },
   "outputs": [
    {
     "name": "stdout",
     "output_type": "stream",
     "text": [
      "True\n",
      "False\n",
      "3\n",
      "8\n",
      "-1\n"
     ]
    }
   ],
   "source": [
    "print(\"three\" in str3)\n",
    "print(\"six\" in str3)\n",
    "\n",
    "print(str4.index(\";\"))\n",
    "print(str4.index(\"three\"))\n",
    "# print(str4.index(\",\")) # Error! The index() method raises an exception if the value is not found.\n",
    "print(str4.find(\",\")) # Not found\n"
   ]
  },
  {
   "cell_type": "code",
   "execution_count": null,
   "metadata": {
    "colab": {
     "base_uri": "https://localhost:8080/",
     "height": 34
    },
    "colab_type": "code",
    "executionInfo": {
     "elapsed": 533,
     "status": "ok",
     "timestamp": 1596991682845,
     "user": {
      "displayName": "Sarah Legendre-bilodeau",
      "photoUrl": "https://lh3.googleusercontent.com/a-/AOh14GhUpRXeli09kmV6wydOBwD9Pw4BJa4Sk8E820WVk1BktkWQVUUSuyQMuHtaZeg6VjGpAgYVOv_MLmPlIoNCHE9nTKDfnga9mWQV3s40sf0eJIKJI6FFXejIzKkv3OLSWLKn8uiOEVR387bz_y8QRo0RMyF3XHstWyQnP2YUM6tYa0kLNpDQuSKvh1Lap1R6FsxiGEK1ljp9J1eYSYsZolxOvNSNh4bC2zV5AFUUQLszgTZqyHoU59NqmPg4LHcEDoaf6PZOSSF1ja1eydFjr7EYMeQvmiKWARmOCxWeTJeeAKUP8So064zkNMxXWhg45nwBxo_Gfbrxa2hUUs_XP3faM5U7OTuRE_i_gyrJk4fYzh8-klw7ARKObNv34YhbIVI6UfvjXhSeiyoLHUVJPR2KtBuf9b5EoUB9dO0Mf8HxObhAUxVX4HIADE8mZ1vP77e0b0hDU74FA1NFjANyijIaUT1J_VN_bavLGWveHrGDxUaNnuYS29YXkoZhYNTI-yPbGkjB9__ZyoOGbu8JHMz843dRA0ZceSVqAPcqgYNFh6CftkYekj1e53NaRppWsPil_qkX9MzYBzBXvk48H8DsPWFbXdDZNbkhbh3vIgG0o6Me9s3Vqz4-aw3klKuOqhSEhqeBhnZ1gf8SNpJac9hR3l8C6iV4N46ASS9kyKngZ7l9P9rq8HlQ_0fAkrzvOGI_u06TQ_4QcfxQh5YhaPjRPMwV4s0TT1SbeeBiv84dZJdalwO0lejG5yQwqu9R9pfr2g=s64",
      "userId": "14051546729407262823"
     },
     "user_tz": 240
    },
    "id": "w6uxPwQkHo_K",
    "outputId": "4cd22439-220e-4b5a-b0e2-141685b03848"
   },
   "outputs": [
    {
     "name": "stdout",
     "output_type": "stream",
     "text": [
      "4\n"
     ]
    }
   ],
   "source": [
    "print(str4.count(\";\"))"
   ]
  },
  {
   "cell_type": "code",
   "execution_count": 35,
   "metadata": {
    "colab": {
     "base_uri": "https://localhost:8080/",
     "height": 52
    },
    "colab_type": "code",
    "executionInfo": {
     "elapsed": 536,
     "status": "ok",
     "timestamp": 1596991794158,
     "user": {
      "displayName": "Sarah Legendre-bilodeau",
      "photoUrl": "https://lh3.googleusercontent.com/a-/AOh14GhUpRXeli09kmV6wydOBwD9Pw4BJa4Sk8E820WVk1BktkWQVUUSuyQMuHtaZeg6VjGpAgYVOv_MLmPlIoNCHE9nTKDfnga9mWQV3s40sf0eJIKJI6FFXejIzKkv3OLSWLKn8uiOEVR387bz_y8QRo0RMyF3XHstWyQnP2YUM6tYa0kLNpDQuSKvh1Lap1R6FsxiGEK1ljp9J1eYSYsZolxOvNSNh4bC2zV5AFUUQLszgTZqyHoU59NqmPg4LHcEDoaf6PZOSSF1ja1eydFjr7EYMeQvmiKWARmOCxWeTJeeAKUP8So064zkNMxXWhg45nwBxo_Gfbrxa2hUUs_XP3faM5U7OTuRE_i_gyrJk4fYzh8-klw7ARKObNv34YhbIVI6UfvjXhSeiyoLHUVJPR2KtBuf9b5EoUB9dO0Mf8HxObhAUxVX4HIADE8mZ1vP77e0b0hDU74FA1NFjANyijIaUT1J_VN_bavLGWveHrGDxUaNnuYS29YXkoZhYNTI-yPbGkjB9__ZyoOGbu8JHMz843dRA0ZceSVqAPcqgYNFh6CftkYekj1e53NaRppWsPil_qkX9MzYBzBXvk48H8DsPWFbXdDZNbkhbh3vIgG0o6Me9s3Vqz4-aw3klKuOqhSEhqeBhnZ1gf8SNpJac9hR3l8C6iV4N46ASS9kyKngZ7l9P9rq8HlQ_0fAkrzvOGI_u06TQ_4QcfxQh5YhaPjRPMwV4s0TT1SbeeBiv84dZJdalwO0lejG5yQwqu9R9pfr2g=s64",
      "userId": "14051546729407262823"
     },
     "user_tz": 240
    },
    "id": "bPaHnkZgH3tr",
    "outputId": "ff6de559-0fad-4d41-bd07-1eb629b57c7c"
   },
   "outputs": [
    {
     "name": "stdout",
     "output_type": "stream",
     "text": [
      "one.two.three.four.five\n",
      "onetwothreefourfive\n"
     ]
    }
   ],
   "source": [
    "str5=str4.replace(\";\",\".\")\n",
    "print(str5)\n",
    "\n",
    "str6=str4.replace(\";\",\"\")\n",
    "print(str6)"
   ]
  },
  {
   "cell_type": "markdown",
   "metadata": {
    "colab_type": "text",
    "id": "gRJOPoeaNCZ5"
   },
   "source": [
    "## Regular Expressions\n",
    "\n",
    "In this section, the concept of regular expressions, often called `regex`, will be discussed. The concept of regular expressions is useful for string manipulation, since it is a concept that uses a concise language to describe structures in unstructured or semi-structured data.\n",
    "\n",
    "The **re** package is good for working with strings in three categories :\n",
    "- pattern matching  \n",
    "- substitution  \n",
    "- splitting  \n",
    "\n",
    "\n"
   ]
  },
  {
   "cell_type": "code",
   "execution_count": 36,
   "metadata": {
    "colab": {
     "base_uri": "https://localhost:8080/",
     "height": 52
    },
    "colab_type": "code",
    "executionInfo": {
     "elapsed": 560,
     "status": "ok",
     "timestamp": 1596993795076,
     "user": {
      "displayName": "Sarah Legendre-bilodeau",
      "photoUrl": "https://lh3.googleusercontent.com/a-/AOh14GhUpRXeli09kmV6wydOBwD9Pw4BJa4Sk8E820WVk1BktkWQVUUSuyQMuHtaZeg6VjGpAgYVOv_MLmPlIoNCHE9nTKDfnga9mWQV3s40sf0eJIKJI6FFXejIzKkv3OLSWLKn8uiOEVR387bz_y8QRo0RMyF3XHstWyQnP2YUM6tYa0kLNpDQuSKvh1Lap1R6FsxiGEK1ljp9J1eYSYsZolxOvNSNh4bC2zV5AFUUQLszgTZqyHoU59NqmPg4LHcEDoaf6PZOSSF1ja1eydFjr7EYMeQvmiKWARmOCxWeTJeeAKUP8So064zkNMxXWhg45nwBxo_Gfbrxa2hUUs_XP3faM5U7OTuRE_i_gyrJk4fYzh8-klw7ARKObNv34YhbIVI6UfvjXhSeiyoLHUVJPR2KtBuf9b5EoUB9dO0Mf8HxObhAUxVX4HIADE8mZ1vP77e0b0hDU74FA1NFjANyijIaUT1J_VN_bavLGWveHrGDxUaNnuYS29YXkoZhYNTI-yPbGkjB9__ZyoOGbu8JHMz843dRA0ZceSVqAPcqgYNFh6CftkYekj1e53NaRppWsPil_qkX9MzYBzBXvk48H8DsPWFbXdDZNbkhbh3vIgG0o6Me9s3Vqz4-aw3klKuOqhSEhqeBhnZ1gf8SNpJac9hR3l8C6iV4N46ASS9kyKngZ7l9P9rq8HlQ_0fAkrzvOGI_u06TQ_4QcfxQh5YhaPjRPMwV4s0TT1SbeeBiv84dZJdalwO0lejG5yQwqu9R9pfr2g=s64",
      "userId": "14051546729407262823"
     },
     "user_tz": 240
    },
    "id": "fJNBRd4AN_M5",
    "outputId": "823b5807-a5e5-4250-b290-2347ed569c79"
   },
   "outputs": [
    {
     "name": "stdout",
     "output_type": "stream",
     "text": [
      "['one', 'two', 'three', 'four', 'five']\n",
      "['one', 'two', 'three', 'four', 'five']\n"
     ]
    }
   ],
   "source": [
    "import re\n",
    "\n",
    "# Splitting a string\n",
    "str1 = \"one two      three   four                five\"\n",
    "print(re.split('\\s+', str1)) # + : At least one\n",
    "\n",
    "# Reusable regex object : recommanded if you intend to apply the same expression to many strings\n",
    "my_split1 = re.compile('\\s+')\n",
    "print(my_split1.split(str1))"
   ]
  },
  {
   "cell_type": "markdown",
   "metadata": {
    "colab_type": "text",
    "id": "nhta4t6eUglR"
   },
   "source": [
    "Some regular expressions:"
   ]
  },
  {
   "cell_type": "code",
   "execution_count": 41,
   "metadata": {
    "colab": {
     "base_uri": "https://localhost:8080/",
     "height": 157
    },
    "colab_type": "code",
    "executionInfo": {
     "elapsed": 1062,
     "status": "ok",
     "timestamp": 1596996348018,
     "user": {
      "displayName": "Sarah Legendre-bilodeau",
      "photoUrl": "https://lh3.googleusercontent.com/a-/AOh14GhUpRXeli09kmV6wydOBwD9Pw4BJa4Sk8E820WVk1BktkWQVUUSuyQMuHtaZeg6VjGpAgYVOv_MLmPlIoNCHE9nTKDfnga9mWQV3s40sf0eJIKJI6FFXejIzKkv3OLSWLKn8uiOEVR387bz_y8QRo0RMyF3XHstWyQnP2YUM6tYa0kLNpDQuSKvh1Lap1R6FsxiGEK1ljp9J1eYSYsZolxOvNSNh4bC2zV5AFUUQLszgTZqyHoU59NqmPg4LHcEDoaf6PZOSSF1ja1eydFjr7EYMeQvmiKWARmOCxWeTJeeAKUP8So064zkNMxXWhg45nwBxo_Gfbrxa2hUUs_XP3faM5U7OTuRE_i_gyrJk4fYzh8-klw7ARKObNv34YhbIVI6UfvjXhSeiyoLHUVJPR2KtBuf9b5EoUB9dO0Mf8HxObhAUxVX4HIADE8mZ1vP77e0b0hDU74FA1NFjANyijIaUT1J_VN_bavLGWveHrGDxUaNnuYS29YXkoZhYNTI-yPbGkjB9__ZyoOGbu8JHMz843dRA0ZceSVqAPcqgYNFh6CftkYekj1e53NaRppWsPil_qkX9MzYBzBXvk48H8DsPWFbXdDZNbkhbh3vIgG0o6Me9s3Vqz4-aw3klKuOqhSEhqeBhnZ1gf8SNpJac9hR3l8C6iV4N46ASS9kyKngZ7l9P9rq8HlQ_0fAkrzvOGI_u06TQ_4QcfxQh5YhaPjRPMwV4s0TT1SbeeBiv84dZJdalwO0lejG5yQwqu9R9pfr2g=s64",
      "userId": "14051546729407262823"
     },
     "user_tz": 240
    },
    "id": "WENCtOi5UfHm",
    "outputId": "3da3bf64-3f32-4632-8650-cbc1f40ed4a1"
   },
   "outputs": [
    {
     "name": "stdout",
     "output_type": "stream",
     "text": [
      "MONTRÉAL, RIMOUSKI, QUÉBEC\n",
      "['ON']\n",
      "<re.Match object; span=(13, 16), match='OUS'>\n",
      "['OUS', 'QUÉ']\n",
      "<re.Match object; span=(0, 1), match='M'>\n",
      "<re.Match object; span=(25, 26), match='C'>\n",
      "<re.Match object; span=(11, 12), match='I'>\n",
      "['I', 'I']\n",
      "None\n",
      "<re.Match object; span=(0, 26), match='MONTRÉAL, RIMOUSKI, QUÉBEC'>\n",
      "<re.Match object; span=(0, 1), match='I'>\n"
     ]
    }
   ],
   "source": [
    "villes0 = \"Montréal, Rimouski, Québec\"\n",
    "Villes = villes0.upper()\n",
    "\n",
    "print(Villes)\n",
    "\n",
    "print(re.findall(\"ON\", Villes)) # Contains the string ON\n",
    "print(re.search(\".U.\", Villes)) # Contains U with any before and after characters\n",
    "print(re.findall(\".U.\", Villes)) # Contains U with any before and after characters\n",
    "print(re.search(\"^M\", Villes)) # Contains M at the beginning\n",
    "print(re.search(\"C$\", Villes)) # Contains C at the end\n",
    "print(re.search(\"I\", Villes)) # Only the first one!\n",
    "print(re.findall(\"I\", Villes))\n",
    "print(re.match(\"I\", Villes))\n",
    "print(re.match(\".*I*\", Villes))\n",
    "print(re.match(\"I\", \"I\"))\n",
    "\n"
   ]
  },
  {
   "cell_type": "code",
   "execution_count": 44,
   "metadata": {
    "colab": {
     "base_uri": "https://localhost:8080/",
     "height": 52
    },
    "colab_type": "code",
    "executionInfo": {
     "elapsed": 605,
     "status": "ok",
     "timestamp": 1596996760219,
     "user": {
      "displayName": "Sarah Legendre-bilodeau",
      "photoUrl": "https://lh3.googleusercontent.com/a-/AOh14GhUpRXeli09kmV6wydOBwD9Pw4BJa4Sk8E820WVk1BktkWQVUUSuyQMuHtaZeg6VjGpAgYVOv_MLmPlIoNCHE9nTKDfnga9mWQV3s40sf0eJIKJI6FFXejIzKkv3OLSWLKn8uiOEVR387bz_y8QRo0RMyF3XHstWyQnP2YUM6tYa0kLNpDQuSKvh1Lap1R6FsxiGEK1ljp9J1eYSYsZolxOvNSNh4bC2zV5AFUUQLszgTZqyHoU59NqmPg4LHcEDoaf6PZOSSF1ja1eydFjr7EYMeQvmiKWARmOCxWeTJeeAKUP8So064zkNMxXWhg45nwBxo_Gfbrxa2hUUs_XP3faM5U7OTuRE_i_gyrJk4fYzh8-klw7ARKObNv34YhbIVI6UfvjXhSeiyoLHUVJPR2KtBuf9b5EoUB9dO0Mf8HxObhAUxVX4HIADE8mZ1vP77e0b0hDU74FA1NFjANyijIaUT1J_VN_bavLGWveHrGDxUaNnuYS29YXkoZhYNTI-yPbGkjB9__ZyoOGbu8JHMz843dRA0ZceSVqAPcqgYNFh6CftkYekj1e53NaRppWsPil_qkX9MzYBzBXvk48H8DsPWFbXdDZNbkhbh3vIgG0o6Me9s3Vqz4-aw3klKuOqhSEhqeBhnZ1gf8SNpJac9hR3l8C6iV4N46ASS9kyKngZ7l9P9rq8HlQ_0fAkrzvOGI_u06TQ_4QcfxQh5YhaPjRPMwV4s0TT1SbeeBiv84dZJdalwO0lejG5yQwqu9R9pfr2g=s64",
      "userId": "14051546729407262823"
     },
     "user_tz": 240
    },
    "id": "R5GFUg2OZpv6",
    "outputId": "93985217-4441-4339-fa59-4b27c2d66813"
   },
   "outputs": [
    {
     "name": "stdout",
     "output_type": "stream",
     "text": [
      "['mathieu', ' matthieu', ' matieu']\n",
      "[' matieu']\n",
      "['mathieu', 'matthieu', 'matieu']\n",
      "['matieu']\n"
     ]
    }
   ],
   "source": [
    "mat = \"mathieu, matthieu, matieu, julie\"\n",
    "\n",
    "print(re.findall(\"\\s*[a-z]+t*ieu\", mat)) # \\s* : At least 0 space ; [a-z] : At least 1 lowercase letter ; t* At least 0 t\n",
    "print(re.findall(\"\\s*[a-z]+t+ieu\", mat)) # t+ : At least 1 t...\n",
    "\n",
    "print(re.findall(\"\\w+t*ieu\", mat))\n",
    "print(re.findall(\"\\w+t+ieu\", mat)) # t+ : At least 1 t..."
   ]
  },
  {
   "cell_type": "markdown",
   "metadata": {
    "colab_type": "text",
    "id": "TvvoUY99dmeT"
   },
   "source": [
    "## String manipulations on Pandas objects\n",
    "\n",
    "A column in a pandas object can contain strings. Series has array-oriented methods for string operations (that skip NA values). There are accessed through Series's str attribute."
   ]
  },
  {
   "cell_type": "code",
   "execution_count": 45,
   "metadata": {
    "colab": {
     "base_uri": "https://localhost:8080/",
     "height": 119
    },
    "colab_type": "code",
    "executionInfo": {
     "elapsed": 599,
     "status": "ok",
     "timestamp": 1596998536624,
     "user": {
      "displayName": "Sarah Legendre-bilodeau",
      "photoUrl": "https://lh3.googleusercontent.com/a-/AOh14GjZBh9qAqpio24yJj1bsVXk9A1Mrnq2pm2jcoazh6ThC2-3wNXoOO2d5fZw4yeOsnJNRAcikvtb6XMkLQxPlzGYPjXBF3iq6RMm-tVBZdLBsrAi2s2lDDswjIWlzYhhbd7ku87eUSDdN40qGmTPhit1JH_5uhVtKXhjSo8KTdkF3FOWW28KKO7iJztdHcSLFfflmInMf2th6Sj7cA8q3WpQTwEBJzd8hdySFLBRUE9ZjwF6UXR67Imq8-a0Bcljjpkz61m2ZdJ57vOp901GP--EMjYUISB681Xt_Jql7b8jk92iFlh4hLZXc_6A2UYZDur1a9ndKnAUgiTvFxQjd7Kzp6PnuGru0tKmm6w3rHZMahx24OqfZYZpld-SuHSnKVem25qYSV7_oo_QHz5KxoE31gxYzq7n1UKBgu2NTZpb5CYEiTVHmPj7ZbFhuUjbe4iSvUUXcaXyOul-wsRU5kXOzounbEL4_jVcnq0COEkHM8Bbh5P0ec7OSJRepGVYa-bPXhrK0aVm8YL1zdVYbIxnaKstI3AvfvS3OSys8BsXHZ6XHjjXKVrjAUjf0pBlByEbmNPSKNXoY1ml5Y_7dTQ6yq0AcAscXdh1Qe_aOxo88NmvDXw43MlEih-KH5VPaIpWR2KPw9jlDYZ84dLTWwSsEjwhK22zb-u9VPIKySv7V07eHcNVDWg9_OeDOi7B99StLOdQzQRh7wPLU3Fi1PZajfbT1_h4sWQD614yEXx54gY0mlWW6oAxt89I1Jf4FuAO-A=s64",
      "userId": "14051546729407262823"
     },
     "user_tz": 240
    },
    "id": "2KRCQYPAeexo",
    "outputId": "a0989663-4d2a-4376-f256-48e1bf9c62a0"
   },
   "outputs": [
    {
     "name": "stdout",
     "output_type": "stream",
     "text": [
      "Dave       dave@yahoo.ca\n",
      "Steve    steve@yahoo.com\n",
      "Rob        rob@gmail.com\n",
      "Sam         samgmail.com\n",
      "Wes                  NaN\n",
      "dtype: object\n"
     ]
    }
   ],
   "source": [
    "import pandas as pd, numpy as np\n",
    "\n",
    "data1 = {'Dave': 'dave@yahoo.ca', 'Steve': 'steve@yahoo.com', 'Rob': 'rob@gmail.com', 'Sam': 'samgmail.com', 'Wes': np.nan}\n",
    "data2 = pd.Series(data1)\n",
    "\n",
    "print(data2)"
   ]
  },
  {
   "cell_type": "code",
   "execution_count": 47,
   "metadata": {
    "colab": {
     "base_uri": "https://localhost:8080/",
     "height": 544
    },
    "colab_type": "code",
    "executionInfo": {
     "elapsed": 581,
     "status": "ok",
     "timestamp": 1596999142409,
     "user": {
      "displayName": "Sarah Legendre-bilodeau",
      "photoUrl": "https://lh3.googleusercontent.com/a-/AOh14GjZBh9qAqpio24yJj1bsVXk9A1Mrnq2pm2jcoazh6ThC2-3wNXoOO2d5fZw4yeOsnJNRAcikvtb6XMkLQxPlzGYPjXBF3iq6RMm-tVBZdLBsrAi2s2lDDswjIWlzYhhbd7ku87eUSDdN40qGmTPhit1JH_5uhVtKXhjSo8KTdkF3FOWW28KKO7iJztdHcSLFfflmInMf2th6Sj7cA8q3WpQTwEBJzd8hdySFLBRUE9ZjwF6UXR67Imq8-a0Bcljjpkz61m2ZdJ57vOp901GP--EMjYUISB681Xt_Jql7b8jk92iFlh4hLZXc_6A2UYZDur1a9ndKnAUgiTvFxQjd7Kzp6PnuGru0tKmm6w3rHZMahx24OqfZYZpld-SuHSnKVem25qYSV7_oo_QHz5KxoE31gxYzq7n1UKBgu2NTZpb5CYEiTVHmPj7ZbFhuUjbe4iSvUUXcaXyOul-wsRU5kXOzounbEL4_jVcnq0COEkHM8Bbh5P0ec7OSJRepGVYa-bPXhrK0aVm8YL1zdVYbIxnaKstI3AvfvS3OSys8BsXHZ6XHjjXKVrjAUjf0pBlByEbmNPSKNXoY1ml5Y_7dTQ6yq0AcAscXdh1Qe_aOxo88NmvDXw43MlEih-KH5VPaIpWR2KPw9jlDYZ84dLTWwSsEjwhK22zb-u9VPIKySv7V07eHcNVDWg9_OeDOi7B99StLOdQzQRh7wPLU3Fi1PZajfbT1_h4sWQD614yEXx54gY0mlWW6oAxt89I1Jf4FuAO-A=s64",
      "userId": "14051546729407262823"
     },
     "user_tz": 240
    },
    "id": "foBTTAQ5gOzW",
    "outputId": "182384fe-4ce3-4435-9427-5589a392afb8"
   },
   "outputs": [
    {
     "name": "stdout",
     "output_type": "stream",
     "text": [
      "Dave      [dave]\n",
      "Steve    [steve]\n",
      "Rob        [rob]\n",
      "Sam           []\n",
      "Wes          NaN\n",
      "dtype: object\n",
      "\n",
      "\n",
      "m1\n",
      " Dave                           NaN\n",
      "Steve    (steve, @, yahoo, ., com)\n",
      "Rob        (rob, @, gmail, ., com)\n",
      "Sam                            NaN\n",
      "Wes                            NaN\n",
      "dtype: object\n",
      "\n",
      "\n",
      "Dave       NaN\n",
      "Steve    steve\n",
      "Rob        rob\n",
      "Sam        NaN\n",
      "Wes        NaN\n",
      "dtype: object\n",
      "\n",
      "\n",
      "           0    1      2    3    4\n",
      "Dave     NaN  NaN    NaN  NaN  NaN\n",
      "Steve  steve    @  yahoo    .  com\n",
      "Rob      rob    @  gmail    .  com\n",
      "Sam      NaN  NaN    NaN  NaN  NaN\n",
      "Wes      NaN  NaN    NaN  NaN  NaN\n",
      "<class 'pandas.core.frame.DataFrame'>\n"
     ]
    }
   ],
   "source": [
    "data2.str.contains('gmail.com')\n",
    "\n",
    "pattern = r'([A-Za-z0-9]+)@'\n",
    "print(data2.str.findall(pattern))\n",
    "print(\"\\n\")\n",
    "\n",
    "pattern1 = r'([A-Za-z0-9]+)(@)([A-Za-z0-9]+)(\\.)([A-Za-z]{3})'\n",
    "m1 = data2.str.findall(pattern1).str[0]\n",
    "print('m1\\n', m1)\n",
    "print(\"\\n\")\n",
    "\n",
    "n1 = m1.str.get(0)\n",
    "print(n1)\n",
    "print(\"\\n\")\n",
    "\n",
    "m2 = data2.str.extract(pattern1)\n",
    "print(m2)\n",
    "print(type(m2))\n"
   ]
  },
  {
   "cell_type": "markdown",
   "metadata": {
    "colab_type": "text",
    "id": "e-T734Nc1IuH"
   },
   "source": [
    "# Data Cleaning and preparation\n",
    "\n",
    "Several steps can be considered when preparing data for analyses. For example :\n",
    "\n",
    "- Missing Data and replacing values (see **Missing values** section)\n",
    "- Remove duplicates\n",
    "- Transforming  strings (see **String Manipulation** section)\n",
    "- Discretization and binning\n"
   ]
  },
  {
   "cell_type": "code",
   "execution_count": 7,
   "metadata": {
    "colab": {
     "base_uri": "https://localhost:8080/",
     "height": 748
    },
    "colab_type": "code",
    "executionInfo": {
     "elapsed": 398,
     "status": "ok",
     "timestamp": 1597074225944,
     "user": {
      "displayName": "Sarah Legendre-bilodeau",
      "photoUrl": "https://lh3.googleusercontent.com/a-/AOh14GjZBh9qAqpio24yJj1bsVXk9A1Mrnq2pm2jcoazh6ThC2-3wNXoOO2d5fZw4yeOsnJNRAcikvtb6XMkLQxPlzGYPjXBF3iq6RMm-tVBZdLBsrAi2s2lDDswjIWlzYhhbd7ku87eUSDdN40qGmTPhit1JH_5uhVtKXhjSo8KTdkF3FOWW28KKO7iJztdHcSLFfflmInMf2th6Sj7cA8q3WpQTwEBJzd8hdySFLBRUE9ZjwF6UXR67Imq8-a0Bcljjpkz61m2ZdJ57vOp901GP--EMjYUISB681Xt_Jql7b8jk92iFlh4hLZXc_6A2UYZDur1a9ndKnAUgiTvFxQjd7Kzp6PnuGru0tKmm6w3rHZMahx24OqfZYZpld-SuHSnKVem25qYSV7_oo_QHz5KxoE31gxYzq7n1UKBgu2NTZpb5CYEiTVHmPj7ZbFhuUjbe4iSvUUXcaXyOul-wsRU5kXOzounbEL4_jVcnq0COEkHM8Bbh5P0ec7OSJRepGVYa-bPXhrK0aVm8YL1zdVYbIxnaKstI3AvfvS3OSys8BsXHZ6XHjjXKVrjAUjf0pBlByEbmNPSKNXoY1ml5Y_7dTQ6yq0AcAscXdh1Qe_aOxo88NmvDXw43MlEih-KH5VPaIpWR2KPw9jlDYZ84dLTWwSsEjwhK22zb-u9VPIKySv7V07eHcNVDWg9_OeDOi7B99StLOdQzQRh7wPLU3Fi1PZajfbT1_h4sWQD614yEXx54gY0mlWW6oAxt89I1Jf4FuAO-A=s64",
      "userId": "14051546729407262823"
     },
     "user_tz": 240
    },
    "id": "pfARN3P1AU_R",
    "outputId": "593dd156-0410-4cd8-c0ec-461b008998e7"
   },
   "outputs": [
    {
     "name": "stdout",
     "output_type": "stream",
     "text": [
      "    k1  k2\n",
      "0  one   1\n",
      "1  two   1\n",
      "2  one   2\n",
      "3  two   3\n",
      "4  one   3\n",
      "5  two   4\n",
      "6  two   4\n",
      "\n",
      "\n",
      "0    False\n",
      "1    False\n",
      "2    False\n",
      "3    False\n",
      "4    False\n",
      "5    False\n",
      "6     True\n",
      "dtype: bool\n",
      "\n",
      "\n",
      "    k1  k2\n",
      "0  one   1\n",
      "1  two   1\n",
      "2  one   2\n",
      "3  two   3\n",
      "4  one   3\n",
      "5  two   4\n",
      "\n",
      "\n",
      "    k1  k2\n",
      "0  one   1\n",
      "1  two   1\n",
      "2  one   2\n",
      "3  two   3\n",
      "4  one   3\n",
      "6  two   4\n",
      "\n",
      "\n",
      "    k1  k2\n",
      "0  one   1\n",
      "2  one   2\n",
      "3  two   3\n",
      "5  two   4\n"
     ]
    }
   ],
   "source": [
    "import pandas as pd, numpy\n",
    "\n",
    "# Remove duplicates\n",
    "data = pd.DataFrame({'k1':['one','two']*3+['two'], 'k2':[1,1,2,3,3,4,4]})\n",
    "print(data)\n",
    "print(\"\\n\")\n",
    "\n",
    "print(data.duplicated()) # Is a row is a duplicated?\n",
    "print(\"\\n\")\n",
    "\n",
    "data1 = data.drop_duplicates() #drop duplicates\n",
    "print(data1)\n",
    "print(\"\\n\")\n",
    "\n",
    "data2 = data.drop_duplicates(keep='last')\n",
    "print(data2)\n",
    "print(\"\\n\")\n",
    "\n",
    "data3 = data.drop_duplicates([\"k2\"])\n",
    "print(data3)\n",
    "\n"
   ]
  },
  {
   "cell_type": "code",
   "execution_count": 24,
   "metadata": {
    "colab": {
     "base_uri": "https://localhost:8080/",
     "height": 306
    },
    "colab_type": "code",
    "executionInfo": {
     "elapsed": 416,
     "status": "ok",
     "timestamp": 1597076592076,
     "user": {
      "displayName": "Sarah Legendre-bilodeau",
      "photoUrl": "https://lh3.googleusercontent.com/a-/AOh14GjZBh9qAqpio24yJj1bsVXk9A1Mrnq2pm2jcoazh6ThC2-3wNXoOO2d5fZw4yeOsnJNRAcikvtb6XMkLQxPlzGYPjXBF3iq6RMm-tVBZdLBsrAi2s2lDDswjIWlzYhhbd7ku87eUSDdN40qGmTPhit1JH_5uhVtKXhjSo8KTdkF3FOWW28KKO7iJztdHcSLFfflmInMf2th6Sj7cA8q3WpQTwEBJzd8hdySFLBRUE9ZjwF6UXR67Imq8-a0Bcljjpkz61m2ZdJ57vOp901GP--EMjYUISB681Xt_Jql7b8jk92iFlh4hLZXc_6A2UYZDur1a9ndKnAUgiTvFxQjd7Kzp6PnuGru0tKmm6w3rHZMahx24OqfZYZpld-SuHSnKVem25qYSV7_oo_QHz5KxoE31gxYzq7n1UKBgu2NTZpb5CYEiTVHmPj7ZbFhuUjbe4iSvUUXcaXyOul-wsRU5kXOzounbEL4_jVcnq0COEkHM8Bbh5P0ec7OSJRepGVYa-bPXhrK0aVm8YL1zdVYbIxnaKstI3AvfvS3OSys8BsXHZ6XHjjXKVrjAUjf0pBlByEbmNPSKNXoY1ml5Y_7dTQ6yq0AcAscXdh1Qe_aOxo88NmvDXw43MlEih-KH5VPaIpWR2KPw9jlDYZ84dLTWwSsEjwhK22zb-u9VPIKySv7V07eHcNVDWg9_OeDOi7B99StLOdQzQRh7wPLU3Fi1PZajfbT1_h4sWQD614yEXx54gY0mlWW6oAxt89I1Jf4FuAO-A=s64",
      "userId": "14051546729407262823"
     },
     "user_tz": 240
    },
    "id": "JKTNSUjsC8Zk",
    "outputId": "12e92646-7d72-457d-d6fb-8bec414728a1"
   },
   "outputs": [
    {
     "name": "stdout",
     "output_type": "stream",
     "text": [
      "[(18, 25], (18, 25], (18, 25], (25, 35], (18, 25], ..., (25, 35], (60, 100], (35, 60], (35, 60], (25, 35]]\n",
      "Length: 12\n",
      "Categories (4, interval[int64]): [(18, 25] < (25, 35] < (35, 60] < (60, 100]]\n",
      "\n",
      "\n",
      "[0 0 0 1 0 0 2 1 3 2 2 1]\n",
      "IntervalIndex([(18, 25], (25, 35], (35, 60], (60, 100]],\n",
      "              closed='right',\n",
      "              dtype='interval[int64]')\n",
      "(18, 25]     5\n",
      "(35, 60]     3\n",
      "(25, 35]     3\n",
      "(60, 100]    1\n",
      "dtype: int64\n",
      "[Youth, Youth, Youth, YoungAdult, Youth, ..., YoungAdult, Senior, MiddleAged, MiddleAged, YoungAdult]\n",
      "Length: 12\n",
      "Categories (4, object): [Youth < YoungAdult < MiddleAged < Senior]\n"
     ]
    }
   ],
   "source": [
    "# Discretization and binning\n",
    "\n",
    "ages=[20,22,25,27,21,23,37,31,61,45,41,32]\n",
    "bins=[18,25,35,60,100]\n",
    "cats=pd.cut(ages,bins) # Special Categoriacl object (like an array of strings); right=False for changing to [ )\n",
    "print(cats)\n",
    "print(\"\\n\")\n",
    "print(cats.codes)\n",
    "print(cats.categories)\n",
    "print(pd.value_counts(cats))\n",
    "\n",
    "\n",
    "group_names = ['Youth', 'YoungAdult', 'MiddleAged', 'Senior']\n",
    "cats2 = pd.cut(ages, bins, labels=group_names)\n",
    "print(cats2)"
   ]
  }
 ],
 "metadata": {
  "colab": {
   "authorship_tag": "ABX9TyOJS/5A4RelQ8LGnKCU7Tl8",
   "collapsed_sections": [],
   "name": "HEC_python_part2b.ipynb",
   "provenance": [
    {
     "file_id": "1vruaK6115OvAa8GqaNZRtet4JB2FCxGJ",
     "timestamp": 1596601640325
    },
    {
     "file_id": "14_lqazpcq0y_nJW3IIPzXTzVY7Z9LOOJ",
     "timestamp": 1596399570993
    }
   ],
   "toc_visible": true
  },
  "kernelspec": {
   "display_name": "Python 3",
   "language": "python",
   "name": "python3"
  },
  "language_info": {
   "codemirror_mode": {
    "name": "ipython",
    "version": 3
   },
   "file_extension": ".py",
   "mimetype": "text/x-python",
   "name": "python",
   "nbconvert_exporter": "python",
   "pygments_lexer": "ipython3",
   "version": "3.7.1"
  }
 },
 "nbformat": 4,
 "nbformat_minor": 1
}
