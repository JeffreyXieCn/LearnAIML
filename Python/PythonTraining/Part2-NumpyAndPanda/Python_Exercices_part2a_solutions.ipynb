{
  "nbformat": 4,
  "nbformat_minor": 0,
  "metadata": {
    "colab": {
      "name": "Python_Exercices_part2a_solutions.ipynb",
      "provenance": [],
      "collapsed_sections": [],
      "toc_visible": true
    },
    "kernelspec": {
      "name": "python3",
      "display_name": "Python 3"
    }
  },
  "cells": [
    {
      "cell_type": "markdown",
      "metadata": {
        "id": "TV9krrAbM5W4",
        "colab_type": "text"
      },
      "source": [
        "![](https://encrypted-tbn0.gstatic.com/images?q=tbn%3AANd9GcRNNMSrl6xvbfPjLuk9k3dl7VyNi0ky19x11A&usqp=CAU)\n",
        "\n",
        "# **Introduction to Python for Data Science - Exercices part 2 (a) - SOLUTIONS**\n",
        "Ericsson - August 4 to August 13, 2020\n",
        "\n",
        "Sarah Legendre Bilodeau, M Sc., HEC Montréal\n"
      ]
    },
    {
      "cell_type": "markdown",
      "metadata": {
        "id": "tYqf3YJQNI6_",
        "colab_type": "text"
      },
      "source": [
        "# Exercice 1\n",
        "Using the **employes.txt** file, answer the following questions:\n",
        "\n",
        "The dataset contains the number of sales and the total amount of sales for each employee each month.\n",
        "\n",
        "a) What is the total number of sales for the company during the year (total for all employees)? What is the total amount of these sales?\n",
        "\n",
        "b) Which employee set the record for the highest number of sales in one month this year? What is this record?\n",
        "\n",
        "c) Calculate the average amount of sales for each employee each month.\n",
        "\n",
        "d) Calculate the average amount of each employee's sales for the entire year.\n"
      ]
    },
    {
      "cell_type": "code",
      "metadata": {
        "id": "3WihuihaM1Eg",
        "colab_type": "code",
        "colab": {
          "base_uri": "https://localhost:8080/",
          "height": 586
        },
        "outputId": "5afc829c-0f17-48f9-8571-f969cd32ee75"
      },
      "source": [
        "#a)\n",
        "\n",
        "from google.colab import drive\n",
        "drive.mount(\"/content/drive\")\n",
        "\n",
        "import os\n",
        "os.chdir(\"/content/drive/My Drive/Colab Notebooks/Ericsson\")\n",
        "\n",
        "import pandas as pd\n",
        "\n",
        "employes = pd.read_csv(\"employes.txt\",  sep = \" \")\n",
        "\n",
        "print(employes['nVentes'].sum())\n",
        "print(employes['TotVentes'].sum())\n",
        "\n",
        "#b) \n",
        "max1 = employes['nVentes'].max()\n",
        "print(employes.loc[employes['nVentes']==max1])\n",
        "\n",
        "#c)\n",
        "employes[\"ventes_moy\"] = employes[\"TotVentes\"]/employes[\"nVentes\"]\n",
        "print(employes)\n",
        "\n",
        "#d)\n",
        "nbr_emp = pd.DataFrame(employes.groupby('EmpID')['nVentes'].sum())\n",
        "amount_emp = pd.DataFrame(employes.groupby('EmpID')['TotVentes'].sum())\n",
        "\n",
        "moy1 = amount_emp.merge(nbr_emp, on=\"EmpID\")\n",
        "moy1[\"mean\"]=moy1.TotVentes/moy1.nVentes\n",
        "print(moy1)\n",
        "\n"
      ],
      "execution_count": 1,
      "outputs": [
        {
          "output_type": "stream",
          "text": [
            "Go to this URL in a browser: https://accounts.google.com/o/oauth2/auth?client_id=947318989803-6bn6qk8qdgf4n4g3pfee6491hc0brc4i.apps.googleusercontent.com&redirect_uri=urn%3aietf%3awg%3aoauth%3a2.0%3aoob&response_type=code&scope=email%20https%3a%2f%2fwww.googleapis.com%2fauth%2fdocs.test%20https%3a%2f%2fwww.googleapis.com%2fauth%2fdrive%20https%3a%2f%2fwww.googleapis.com%2fauth%2fdrive.photos.readonly%20https%3a%2f%2fwww.googleapis.com%2fauth%2fpeopleapi.readonly\n",
            "\n",
            "Enter your authorization code:\n",
            "··········\n",
            "Mounted at /content/drive\n",
            "1475\n",
            "1469664.28\n",
            "    EmpID  Mois  nVentes  TotVentes\n",
            "95   1007    11       29   28927.87\n",
            "    EmpID  Mois  nVentes  TotVentes   ventes_moy\n",
            "1    1000     1        4    4002.92  1000.730000\n",
            "2    1000     2        9    8983.81   998.201111\n",
            "3    1000     3        6    5953.80   992.300000\n",
            "4    1000     4       14   13916.99   994.070714\n",
            "5    1000     5       12   11954.92   996.243333\n",
            "..    ...   ...      ...        ...          ...\n",
            "92   1007     8       17   16934.93   996.172353\n",
            "93   1007     9       28   27858.51   994.946786\n",
            "94   1007    10       17   16963.67   997.862941\n",
            "95   1007    11       29   28927.87   997.512759\n",
            "96   1007    12       18   17934.28   996.348889\n",
            "\n",
            "[96 rows x 5 columns]\n",
            "       TotVentes  nVentes        mean\n",
            "EmpID                                \n",
            "1000   161624.19      163  991.559448\n",
            "1001   171580.65      173  991.795665\n",
            "1002   164425.99      165  996.521152\n",
            "1003   148382.33      149  995.854564\n",
            "1004   211587.20      212  998.052830\n",
            "1005   184341.64      185  996.441297\n",
            "1006   214725.28      215  998.722233\n",
            "1007   212997.00      213  999.985915\n"
          ],
          "name": "stdout"
        }
      ]
    },
    {
      "cell_type": "markdown",
      "metadata": {
        "id": "8ocS13JHYnXH",
        "colab_type": "text"
      },
      "source": [
        "# Exercice 2\n",
        "Using the **gtq-shows.csv** file, answer the following questions:\n",
        "\n",
        "a) Import the data into a dataframe  \n",
        "\n",
        "b) Using the Date column, create three new columns in your Python object (dataframe) that will contain :\n",
        "- the year\n",
        "- the month\n",
        "- the day  \n",
        "\n",
        "c) Create a Python object that will contain all observations for which the subtitle is not missing (NA).  \n",
        "\n",
        "d) Get the number of events that will take place per room, for the entire season. These results can simply be displayed in the result window.\n",
        "\n",
        "\n",
        "\n"
      ]
    },
    {
      "cell_type": "code",
      "metadata": {
        "id": "GOp8TdrLZC35",
        "colab_type": "code",
        "colab": {
          "base_uri": "https://localhost:8080/",
          "height": 833
        },
        "outputId": "18118359-0715-4f28-f6da-093ca488845d"
      },
      "source": [
        "#a)\n",
        "gtq = pd.read_csv(\"gtq-shows.csv\",  sep = \",\")\n",
        "print(gtq)\n",
        "\n",
        "#b)\n",
        "gtq[\"Date\"]=pd.to_datetime(gtq.Date)\n",
        "print(gtq.dtypes)\n",
        "gtq[\"year\"]=gtq[\"Date\"].dt.year\n",
        "gtq[\"month\"]=gtq[\"Date\"].dt.month\n",
        "gtq[\"day\"]=gtq[\"Date\"].dt.day\n",
        "\n",
        "print(gtq[[\"year\", \"month\",\"day\"]])\n",
        "\n",
        "#c)\n",
        "gtq1 = gtq.loc[gtq['Sous-titre'].isna()==False,]\n",
        "print(gtq1[\"Sous-titre\"].head(10))\n",
        "\n",
        "#d)\n",
        "nb_room = gtq.groupby('Salle').size()\n",
        "print(nb_room)\n",
        "\n",
        "\n"
      ],
      "execution_count": 2,
      "outputs": [
        {
          "output_type": "stream",
          "text": [
            "                    Date  ...                  Salle\n",
            "0    2016-09-13 19:30:00  ...  Salle Octave-Crémazie\n",
            "1    2016-09-14 19:30:00  ...  Salle Octave-Crémazie\n",
            "2    2016-09-14 20:00:00  ...  Salle Louis-Fréchette\n",
            "3    2016-09-15 20:00:00  ...  Salle Octave-Crémazie\n",
            "4    2016-09-16 20:00:00  ...  Salle Louis-Fréchette\n",
            "..                   ...  ...                    ...\n",
            "239  2017-05-20 20:00:00  ...  Salle Louis-Fréchette\n",
            "240  2017-05-24 20:00:00  ...  Salle Louis-Fréchette\n",
            "241  2017-05-24 20:00:00  ...  Salle Octave-Crémazie\n",
            "242  2017-05-25 10:30:00  ...  Salle Louis-Fréchette\n",
            "243  2017-05-25 20:00:00  ...  Salle Octave-Crémazie\n",
            "\n",
            "[244 rows x 4 columns]\n",
            "Date          datetime64[ns]\n",
            "Titre                 object\n",
            "Sous-titre            object\n",
            "Salle                 object\n",
            "dtype: object\n",
            "     year  month  day\n",
            "0    2016      9   13\n",
            "1    2016      9   14\n",
            "2    2016      9   14\n",
            "3    2016      9   15\n",
            "4    2016      9   16\n",
            "..    ...    ...  ...\n",
            "239  2017      5   20\n",
            "240  2017      5   24\n",
            "241  2017      5   24\n",
            "242  2017      5   25\n",
            "243  2017      5   25\n",
            "\n",
            "[244 rows x 3 columns]\n",
            "2                       Concert d'ouverture\n",
            "4           Oliver Jones passe le flambeau!\n",
            "21                  Sur la voie ensoleillée\n",
            "28                              In Extremis\n",
            "30                              In Extremis\n",
            "31    Tous ensemble réunis pour la culture!\n",
            "34                              In Extremis\n",
            "35    Tous ensemble réunis pour la culture!\n",
            "46                        The Family Album \n",
            "48                              Rock'oustic\n",
            "Name: Sous-titre, dtype: object\n",
            "Salle\n",
            "Foyer de la salle Louis-Fréchette     19\n",
            "Salle Louis-Fréchette                 90\n",
            "Salle Octave-Crémazie                129\n",
            "dtype: int64\n"
          ],
          "name": "stdout"
        }
      ]
    }
  ]
}