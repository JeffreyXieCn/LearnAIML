{
  "nbformat": 4,
  "nbformat_minor": 0,
  "metadata": {
    "colab": {
      "name": "Python_Exercices_part2b.ipynb",
      "provenance": [],
      "collapsed_sections": [],
      "toc_visible": true,
      "include_colab_link": true
    },
    "kernelspec": {
      "name": "python3",
      "display_name": "Python 3"
    }
  },
  "cells": [
    {
      "cell_type": "markdown",
      "metadata": {
        "id": "view-in-github",
        "colab_type": "text"
      },
      "source": [
        "<a href=\"https://colab.research.google.com/github/JeffreyXieCn/LearnAIML/blob/master/Python/PythonTraining/Part2-NumpyAndPanda/Python_Exercices_part2b.ipynb\" target=\"_parent\"><img src=\"https://colab.research.google.com/assets/colab-badge.svg\" alt=\"Open In Colab\"/></a>"
      ]
    },
    {
      "cell_type": "markdown",
      "metadata": {
        "id": "TV9krrAbM5W4",
        "colab_type": "text"
      },
      "source": [
        "![](https://encrypted-tbn0.gstatic.com/images?q=tbn%3AANd9GcRNNMSrl6xvbfPjLuk9k3dl7VyNi0ky19x11A&usqp=CAU)\n",
        "\n",
        "# **Introduction to Python for Data Science - Exercices part 2 (b) - SOLUTIONS**\n",
        "Ericsson - August 4 to August 13, 2020\n",
        "\n",
        "Sarah Legendre Bilodeau, M Sc., HEC Montréal\n"
      ]
    },
    {
      "cell_type": "markdown",
      "metadata": {
        "id": "ETZKCLEmg6IO",
        "colab_type": "text"
      },
      "source": [
        "In the following section, you will perform data manipulation on tourist establishments data in Quebec.\n",
        "\n",
        "The data contained in the files:\n",
        "- etablissements.csv\n",
        "- territories.csv\n",
        "\n"
      ]
    },
    {
      "cell_type": "markdown",
      "metadata": {
        "id": "tYqf3YJQNI6_",
        "colab_type": "text"
      },
      "source": [
        "# Exercice 1\n",
        "\n",
        "Using the **etablissements.csv** file, answer the following questions:\n",
        "\n",
        "\n",
        "a) Import the data into a dataframe  \n",
        "\n",
        "b) Perform checks on the variables to ensure that the data can be used without problems for future use. Here are some suggestions for checks:\n",
        "- Missing values\n",
        "- Column class\n",
        "- Special characters\n",
        "\n",
        "c) Create 4 new binary variables (0/1) which will be\n",
        "built according to the following guidelines:\n",
        "- **Sun**: If the word *sun* is found in the variable ETBL_DESC_EN: 1, 0 otherwise.\n",
        "- **Forest**: If the word *forest* is found in the ETBL_DESC_EN variable: 1, 0 otherwise.\n",
        "- **Sea**: If the word *sea* is found in the variable ETBL_DESC_EN: 1, 0 otherwise.\n",
        "- **Accommodation**: If the word *accommodation* is found in the variable ETBL_DESC_EN: 1, 0 otherwise.\n",
        "\n",
        "Make sure you capture all the words requested, regardless of whether the letters are upper or lower case, and singular or plural.\n",
        "\n",
        "One usefull link to test Regex : https://regex101.com/"
      ]
    },
    {
      "cell_type": "code",
      "metadata": {
        "id": "xxT1ToZAD5f-",
        "colab_type": "code",
        "colab": {
          "base_uri": "https://localhost:8080/",
          "height": 296
        },
        "outputId": "71838ed7-7e11-43a0-b6f4-349398f0f679"
      },
      "source": [
        "# Import pandas package as pd\n",
        "import pandas as pd\n",
        "\n",
        "# read from GitHub\n",
        "filePath = 'https://raw.githubusercontent.com/JeffreyXieCn/LearnAIML/master/Python/PythonTraining/Part2-NumpyAndPanda/Data_part2a/etablissements.csv?token=AHAYCAWPCVBKMFSUSPIORBK7GUXPS'\n",
        "\n",
        "# Read a csv file\n",
        "df = pd.read_csv(filePath, sep = ';', encoding = 'Windows-1252')\n",
        "print(df.shape)\n",
        "df.head(5)"
      ],
      "execution_count": 15,
      "outputs": [
        {
          "output_type": "stream",
          "text": [
            "(10746, 6)\n"
          ],
          "name": "stdout"
        },
        {
          "output_type": "execute_result",
          "data": {
            "text/html": [
              "<div>\n",
              "<style scoped>\n",
              "    .dataframe tbody tr th:only-of-type {\n",
              "        vertical-align: middle;\n",
              "    }\n",
              "\n",
              "    .dataframe tbody tr th {\n",
              "        vertical-align: top;\n",
              "    }\n",
              "\n",
              "    .dataframe thead th {\n",
              "        text-align: right;\n",
              "    }\n",
              "</style>\n",
              "<table border=\"1\" class=\"dataframe\">\n",
              "  <thead>\n",
              "    <tr style=\"text-align: right;\">\n",
              "      <th></th>\n",
              "      <th>ETBL_ID</th>\n",
              "      <th>ETBL_NOM_FR</th>\n",
              "      <th>ETBL_NOM_EN</th>\n",
              "      <th>ETBL_DESC_FR</th>\n",
              "      <th>ETBL_DESC_EN</th>\n",
              "      <th>ETBL_RESERVABLE</th>\n",
              "    </tr>\n",
              "  </thead>\n",
              "  <tbody>\n",
              "    <tr>\n",
              "      <th>0</th>\n",
              "      <td>838721</td>\n",
              "      <td>LE ROCKLEDGE</td>\n",
              "      <td>LE ROCKLEDGE</td>\n",
              "      <td>Imaginez un séjour dans l'intimité, le luxe et...</td>\n",
              "      <td>Imagine a stay in the intimacy, luxury and inc...</td>\n",
              "      <td>0</td>\n",
              "    </tr>\n",
              "    <tr>\n",
              "      <th>1</th>\n",
              "      <td>838774</td>\n",
              "      <td>AUBERGE DU LAC-COMMANDANT</td>\n",
              "      <td>AUBERGE DU LAC-COMMANDANT</td>\n",
              "      <td>Ce chalet rustique pouvant accueillir jusqu¿à ...</td>\n",
              "      <td>This rustic, 12-bedroom cottage on the shores ...</td>\n",
              "      <td>0</td>\n",
              "    </tr>\n",
              "    <tr>\n",
              "      <th>2</th>\n",
              "      <td>838885</td>\n",
              "      <td>UNIVERSITÉ CONCORDIA</td>\n",
              "      <td>UNIVERSITÉ CONCORDIA</td>\n",
              "      <td>La résidence des S¿urs grises est située au c¿...</td>\n",
              "      <td>Welcome to Concordia University's Grey Nuns Re...</td>\n",
              "      <td>0</td>\n",
              "    </tr>\n",
              "    <tr>\n",
              "      <th>3</th>\n",
              "      <td>838963</td>\n",
              "      <td>LE GÎTE DU PARC LAFONTAINE</td>\n",
              "      <td>LE GÎTE DU PARC LAFONTAINE</td>\n",
              "      <td>Auberge de jeunesse située sur le Plateau, en ...</td>\n",
              "      <td>Hostel located in the heart of the Plateau, ne...</td>\n",
              "      <td>0</td>\n",
              "    </tr>\n",
              "    <tr>\n",
              "      <th>4</th>\n",
              "      <td>839010</td>\n",
              "      <td>PAVILLON JEAN-XXIII</td>\n",
              "      <td>PAVILLON JEAN-XXIII</td>\n",
              "      <td>Cet hôtel de 17 chambres privées situé à deux ...</td>\n",
              "      <td>Charming hotel with 17 private rooms, at the f...</td>\n",
              "      <td>0</td>\n",
              "    </tr>\n",
              "  </tbody>\n",
              "</table>\n",
              "</div>"
            ],
            "text/plain": [
              "   ETBL_ID  ... ETBL_RESERVABLE\n",
              "0   838721  ...               0\n",
              "1   838774  ...               0\n",
              "2   838885  ...               0\n",
              "3   838963  ...               0\n",
              "4   839010  ...               0\n",
              "\n",
              "[5 rows x 6 columns]"
            ]
          },
          "metadata": {
            "tags": []
          },
          "execution_count": 15
        }
      ]
    },
    {
      "cell_type": "code",
      "metadata": {
        "id": "zmoePQFywB16",
        "colab_type": "code",
        "colab": {
          "base_uri": "https://localhost:8080/",
          "height": 235
        },
        "outputId": "9586e0c5-40a2-4db4-c998-b6f1bce73b2b"
      },
      "source": [
        "df.info()"
      ],
      "execution_count": 16,
      "outputs": [
        {
          "output_type": "stream",
          "text": [
            "<class 'pandas.core.frame.DataFrame'>\n",
            "RangeIndex: 10746 entries, 0 to 10745\n",
            "Data columns (total 6 columns):\n",
            " #   Column           Non-Null Count  Dtype \n",
            "---  ------           --------------  ----- \n",
            " 0   ETBL_ID          10746 non-null  int64 \n",
            " 1   ETBL_NOM_FR      10746 non-null  object\n",
            " 2   ETBL_NOM_EN      10746 non-null  object\n",
            " 3   ETBL_DESC_FR     6210 non-null   object\n",
            " 4   ETBL_DESC_EN     6202 non-null   object\n",
            " 5   ETBL_RESERVABLE  10746 non-null  int64 \n",
            "dtypes: int64(2), object(4)\n",
            "memory usage: 503.8+ KB\n"
          ],
          "name": "stdout"
        }
      ]
    },
    {
      "cell_type": "markdown",
      "metadata": {
        "id": "8ocS13JHYnXH",
        "colab_type": "text"
      },
      "source": [
        "# Exercice 2\n",
        "Using the **territoires.csv** file, answer the following questions:\n",
        "\n",
        "a) Import the data into a dataframe  \n",
        "\n",
        "b) Create a function from the territories data table, to display the number of ETBL_ID by Territory Zone (TERR_ZONE_NOM_EN) according to the type of territory zone (TERR_ZONE_GENRE_EN) passed as argument to the call of the function. \n",
        "\n",
        "For example, you could call your function in the following way if you want to display the results for cities and regions respectively:\n",
        "- Zone_type(gender = ‘City’)\n",
        "- Zone_type(gender = ‘Region’)\n",
        "\n",
        "\n"
      ]
    },
    {
      "cell_type": "code",
      "metadata": {
        "id": "oK87V6g7D6Fd",
        "colab_type": "code",
        "colab": {
          "base_uri": "https://localhost:8080/",
          "height": 212
        },
        "outputId": "84d9e5a0-e8bf-49b0-b824-d12a6d1d93d9"
      },
      "source": [
        "# Import pandas package as pd\n",
        "import pandas as pd\n",
        "\n",
        "# read from GitHub\n",
        "filePath = 'https://raw.githubusercontent.com/JeffreyXieCn/LearnAIML/master/Python/PythonTraining/Part2-NumpyAndPanda/Data_part2a/territoires.csv?token=AHAYCASRC2JCARPRAMCRVYS7GUXHY'\n",
        "\n",
        "# Read a csv file\n",
        "df = pd.read_csv(filePath, sep = ';', encoding = 'ISO-8859-1')\n",
        "print(df.shape)\n",
        "df.head(5)"
      ],
      "execution_count": 14,
      "outputs": [
        {
          "output_type": "stream",
          "text": [
            "(37178, 8)\n"
          ],
          "name": "stdout"
        },
        {
          "output_type": "execute_result",
          "data": {
            "text/html": [
              "<div>\n",
              "<style scoped>\n",
              "    .dataframe tbody tr th:only-of-type {\n",
              "        vertical-align: middle;\n",
              "    }\n",
              "\n",
              "    .dataframe tbody tr th {\n",
              "        vertical-align: top;\n",
              "    }\n",
              "\n",
              "    .dataframe thead th {\n",
              "        text-align: right;\n",
              "    }\n",
              "</style>\n",
              "<table border=\"1\" class=\"dataframe\">\n",
              "  <thead>\n",
              "    <tr style=\"text-align: right;\">\n",
              "      <th></th>\n",
              "      <th>ETBL_ID</th>\n",
              "      <th>TERR_GENRE</th>\n",
              "      <th>TERR_ZONE_ID</th>\n",
              "      <th>TERR_ZONE_NOM_FR</th>\n",
              "      <th>TERR_ZONE_NOM_EN</th>\n",
              "      <th>TERR_ZONE_GENRE_ID</th>\n",
              "      <th>TERR_ZONE_GENRE_FR</th>\n",
              "      <th>TERR_ZONE_GENRE_EN</th>\n",
              "    </tr>\n",
              "  </thead>\n",
              "  <tbody>\n",
              "    <tr>\n",
              "      <th>0</th>\n",
              "      <td>838721</td>\n",
              "      <td>principal</td>\n",
              "      <td>292120028</td>\n",
              "      <td>Le mont Royal</td>\n",
              "      <td>The Mont Royal</td>\n",
              "      <td>432971</td>\n",
              "      <td>Quartier / secteur</td>\n",
              "      <td>District / Area</td>\n",
              "    </tr>\n",
              "    <tr>\n",
              "      <th>1</th>\n",
              "      <td>838721</td>\n",
              "      <td>principal</td>\n",
              "      <td>21950</td>\n",
              "      <td>Montréal</td>\n",
              "      <td>Montréal</td>\n",
              "      <td>91</td>\n",
              "      <td>Ville</td>\n",
              "      <td>City</td>\n",
              "    </tr>\n",
              "    <tr>\n",
              "      <th>2</th>\n",
              "      <td>838721</td>\n",
              "      <td>principal</td>\n",
              "      <td>3432</td>\n",
              "      <td>Montréal</td>\n",
              "      <td>Montréal</td>\n",
              "      <td>81</td>\n",
              "      <td>Région</td>\n",
              "      <td>Area</td>\n",
              "    </tr>\n",
              "    <tr>\n",
              "      <th>3</th>\n",
              "      <td>838721</td>\n",
              "      <td>principal</td>\n",
              "      <td>3406</td>\n",
              "      <td>Québec</td>\n",
              "      <td>Quebec</td>\n",
              "      <td>75</td>\n",
              "      <td>Province</td>\n",
              "      <td>Province</td>\n",
              "    </tr>\n",
              "    <tr>\n",
              "      <th>4</th>\n",
              "      <td>838774</td>\n",
              "      <td>principal</td>\n",
              "      <td>22830</td>\n",
              "      <td>Boileau</td>\n",
              "      <td>Boileau</td>\n",
              "      <td>91</td>\n",
              "      <td>Ville</td>\n",
              "      <td>City</td>\n",
              "    </tr>\n",
              "  </tbody>\n",
              "</table>\n",
              "</div>"
            ],
            "text/plain": [
              "   ETBL_ID TERR_GENRE  ...  TERR_ZONE_GENRE_FR TERR_ZONE_GENRE_EN\n",
              "0   838721  principal  ...  Quartier / secteur    District / Area\n",
              "1   838721  principal  ...               Ville               City\n",
              "2   838721  principal  ...              Région               Area\n",
              "3   838721  principal  ...            Province           Province\n",
              "4   838774  principal  ...               Ville               City\n",
              "\n",
              "[5 rows x 8 columns]"
            ]
          },
          "metadata": {
            "tags": []
          },
          "execution_count": 14
        }
      ]
    }
  ]
}