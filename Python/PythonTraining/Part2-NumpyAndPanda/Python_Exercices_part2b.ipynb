{
  "nbformat": 4,
  "nbformat_minor": 0,
  "metadata": {
    "colab": {
      "name": "Python_Exercices_part2b.ipynb",
      "provenance": [],
      "collapsed_sections": [],
      "toc_visible": true,
      "include_colab_link": true
    },
    "kernelspec": {
      "name": "python3",
      "display_name": "Python 3"
    }
  },
  "cells": [
    {
      "cell_type": "markdown",
      "metadata": {
        "id": "view-in-github",
        "colab_type": "text"
      },
      "source": [
        "<a href=\"https://colab.research.google.com/github/JeffreyXieCn/LearnAIML/blob/master/Python/PythonTraining/Part2-NumpyAndPanda/Python_Exercices_part2b.ipynb\" target=\"_parent\"><img src=\"https://colab.research.google.com/assets/colab-badge.svg\" alt=\"Open In Colab\"/></a>"
      ]
    },
    {
      "cell_type": "markdown",
      "metadata": {
        "id": "TV9krrAbM5W4",
        "colab_type": "text"
      },
      "source": [
        "![](https://encrypted-tbn0.gstatic.com/images?q=tbn%3AANd9GcRNNMSrl6xvbfPjLuk9k3dl7VyNi0ky19x11A&usqp=CAU)\n",
        "\n",
        "# **Introduction to Python for Data Science - Exercices part 2 (b) - SOLUTIONS**\n",
        "Ericsson - August 4 to August 13, 2020\n",
        "\n",
        "Sarah Legendre Bilodeau, M Sc., HEC Montréal\n"
      ]
    },
    {
      "cell_type": "markdown",
      "metadata": {
        "id": "ETZKCLEmg6IO",
        "colab_type": "text"
      },
      "source": [
        "In the following section, you will perform data manipulation on tourist establishments data in Quebec.\n",
        "\n",
        "The data contained in the files:\n",
        "- etablissements.csv\n",
        "- territories.csv\n",
        "\n"
      ]
    },
    {
      "cell_type": "markdown",
      "metadata": {
        "id": "tYqf3YJQNI6_",
        "colab_type": "text"
      },
      "source": [
        "# Exercice 1\n",
        "\n",
        "Using the **etablissements.csv** file, answer the following questions:\n",
        "\n",
        "\n",
        "a) Import the data into a dataframe  \n",
        "\n",
        "b) Perform checks on the variables to ensure that the data can be used without problems for future use. Here are some suggestions for checks:\n",
        "- Missing values\n",
        "- Column class\n",
        "- Special characters\n",
        "\n",
        "c) Create 4 new binary variables (0/1) which will be\n",
        "built according to the following guidelines:\n",
        "- **Sun**: If the word *sun* is found in the variable ETBL_DESC_EN: 1, 0 otherwise.\n",
        "- **Forest**: If the word *forest* is found in the ETBL_DESC_EN variable: 1, 0 otherwise.\n",
        "- **Sea**: If the word *sea* is found in the variable ETBL_DESC_EN: 1, 0 otherwise.\n",
        "- **Accommodation**: If the word *accommodation* is found in the variable ETBL_DESC_EN: 1, 0 otherwise.\n",
        "\n",
        "Make sure you capture all the words requested, regardless of whether the letters are upper or lower case, and singular or plural.\n",
        "\n",
        "One usefull link to test Regex : https://regex101.com/"
      ]
    },
    {
      "cell_type": "code",
      "metadata": {
        "id": "xxT1ToZAD5f-",
        "colab_type": "code",
        "colab": {
          "base_uri": "https://localhost:8080/",
          "height": 296
        },
        "outputId": "71838ed7-7e11-43a0-b6f4-349398f0f679",
        "tags": []
      },
      "source": [
        "# Import pandas package as pd\n",
        "import pandas as pd\n",
        "\n",
        "# read from GitHub\n",
        "#filePath = 'https://raw.githubusercontent.com/JeffreyXieCn/LearnAIML/master/Python/PythonTraining/Part2-NumpyAndPanda/Data_part2a/etablissements.csv?token=AHAYCAWPCVBKMFSUSPIORBK7GUXPS'\n",
        "\n",
        "filePath = 'Data_part2a/etablissements.csv'\n",
        "\n",
        "# Read a csv file\n",
        "df = pd.read_csv(filePath, sep = ';', encoding = 'Windows-1252')\n",
        "print(df.shape)\n",
        "df.head(5)"
      ],
      "execution_count": 1,
      "outputs": [
        {
          "output_type": "stream",
          "name": "stdout",
          "text": "(10746, 6)\n"
        },
        {
          "output_type": "execute_result",
          "data": {
            "text/plain": "   ETBL_ID                 ETBL_NOM_FR                 ETBL_NOM_EN  \\\n0   838721                LE ROCKLEDGE                LE ROCKLEDGE   \n1   838774   AUBERGE DU LAC-COMMANDANT   AUBERGE DU LAC-COMMANDANT   \n2   838885        UNIVERSITÉ CONCORDIA        UNIVERSITÉ CONCORDIA   \n3   838963  LE GÎTE DU PARC LAFONTAINE  LE GÎTE DU PARC LAFONTAINE   \n4   839010         PAVILLON JEAN-XXIII         PAVILLON JEAN-XXIII   \n\n                                        ETBL_DESC_FR  \\\n0  Imaginez un séjour dans l'intimité, le luxe et...   \n1  Ce chalet rustique pouvant accueillir jusqu¿à ...   \n2  La résidence des S¿urs grises est située au c¿...   \n3  Auberge de jeunesse située sur le Plateau, en ...   \n4  Cet hôtel de 17 chambres privées situé à deux ...   \n\n                                        ETBL_DESC_EN  ETBL_RESERVABLE  \n0  Imagine a stay in the intimacy, luxury and inc...                0  \n1  This rustic, 12-bedroom cottage on the shores ...                0  \n2  Welcome to Concordia University's Grey Nuns Re...                0  \n3  Hostel located in the heart of the Plateau, ne...                0  \n4  Charming hotel with 17 private rooms, at the f...                0  ",
            "text/html": "<div>\n<style scoped>\n    .dataframe tbody tr th:only-of-type {\n        vertical-align: middle;\n    }\n\n    .dataframe tbody tr th {\n        vertical-align: top;\n    }\n\n    .dataframe thead th {\n        text-align: right;\n    }\n</style>\n<table border=\"1\" class=\"dataframe\">\n  <thead>\n    <tr style=\"text-align: right;\">\n      <th></th>\n      <th>ETBL_ID</th>\n      <th>ETBL_NOM_FR</th>\n      <th>ETBL_NOM_EN</th>\n      <th>ETBL_DESC_FR</th>\n      <th>ETBL_DESC_EN</th>\n      <th>ETBL_RESERVABLE</th>\n    </tr>\n  </thead>\n  <tbody>\n    <tr>\n      <th>0</th>\n      <td>838721</td>\n      <td>LE ROCKLEDGE</td>\n      <td>LE ROCKLEDGE</td>\n      <td>Imaginez un séjour dans l'intimité, le luxe et...</td>\n      <td>Imagine a stay in the intimacy, luxury and inc...</td>\n      <td>0</td>\n    </tr>\n    <tr>\n      <th>1</th>\n      <td>838774</td>\n      <td>AUBERGE DU LAC-COMMANDANT</td>\n      <td>AUBERGE DU LAC-COMMANDANT</td>\n      <td>Ce chalet rustique pouvant accueillir jusqu¿à ...</td>\n      <td>This rustic, 12-bedroom cottage on the shores ...</td>\n      <td>0</td>\n    </tr>\n    <tr>\n      <th>2</th>\n      <td>838885</td>\n      <td>UNIVERSITÉ CONCORDIA</td>\n      <td>UNIVERSITÉ CONCORDIA</td>\n      <td>La résidence des S¿urs grises est située au c¿...</td>\n      <td>Welcome to Concordia University's Grey Nuns Re...</td>\n      <td>0</td>\n    </tr>\n    <tr>\n      <th>3</th>\n      <td>838963</td>\n      <td>LE GÎTE DU PARC LAFONTAINE</td>\n      <td>LE GÎTE DU PARC LAFONTAINE</td>\n      <td>Auberge de jeunesse située sur le Plateau, en ...</td>\n      <td>Hostel located in the heart of the Plateau, ne...</td>\n      <td>0</td>\n    </tr>\n    <tr>\n      <th>4</th>\n      <td>839010</td>\n      <td>PAVILLON JEAN-XXIII</td>\n      <td>PAVILLON JEAN-XXIII</td>\n      <td>Cet hôtel de 17 chambres privées situé à deux ...</td>\n      <td>Charming hotel with 17 private rooms, at the f...</td>\n      <td>0</td>\n    </tr>\n  </tbody>\n</table>\n</div>"
          },
          "metadata": {},
          "execution_count": 1
        }
      ]
    },
    {
      "cell_type": "code",
      "metadata": {
        "id": "zmoePQFywB16",
        "colab_type": "code",
        "colab": {
          "base_uri": "https://localhost:8080/",
          "height": 235
        },
        "outputId": "9586e0c5-40a2-4db4-c998-b6f1bce73b2b",
        "tags": []
      },
      "source": [
        "df.info()"
      ],
      "execution_count": 2,
      "outputs": [
        {
          "output_type": "stream",
          "name": "stdout",
          "text": "<class 'pandas.core.frame.DataFrame'>\nRangeIndex: 10746 entries, 0 to 10745\nData columns (total 6 columns):\nETBL_ID            10746 non-null int64\nETBL_NOM_FR        10746 non-null object\nETBL_NOM_EN        10746 non-null object\nETBL_DESC_FR       6210 non-null object\nETBL_DESC_EN       6202 non-null object\nETBL_RESERVABLE    10746 non-null int64\ndtypes: int64(2), object(4)\nmemory usage: 503.8+ KB\n"
        }
      ]
    },
    {
      "cell_type": "code",
      "execution_count": 95,
      "metadata": {
        "tags": []
      },
      "outputs": [
        {
          "output_type": "stream",
          "name": "stdout",
          "text": "['sun today', 'today is sun', 'You are the Sun', 'This is SUN now', 'Many suns in the sky', 'It is sunny now']\n[<class 're.Match'>, <class 're.Match'>, <class 're.Match'>, <class 're.Match'>, <class 're.Match'>, <class 'NoneType'>]\n<class 'pandas.core.series.Series'>\n[[], [], [], []]\n"
        },
        {
          "output_type": "display_data",
          "data": {
            "text/plain": "        ETBL_ID                   ETBL_NOM_FR                   ETBL_NOM_EN  \\\n375      901696                AU VIEUX BAHUT                AU VIEUX BAHUT   \n530      957512  LE GÎTE DES ÉCURIES CENTAURE  LE GÎTE DES ÉCURIES CENTAURE   \n539      962541          LA TYPIQUE AUX VENTS          LA TYPIQUE AUX VENTS   \n541      963353                   CHALET M.L.                   CHALET M.L.   \n584      975874                 CHALET MOREAU                 CHALET MOREAU   \n...         ...                           ...                           ...   \n7524  387764178                 LACSOURIS.COM                 LACSOURIS.COM   \n8356  395665476     DOMAINE URBAIN LE MODERNA     DOMAINE URBAIN LE MODERNA   \n8398  395941539            BLANCHE DE L'OUEST            BLANCHE DE L'OUEST   \n8593  396746034                 PLATEAU 232-1                 PLATEAU 232-1   \n8698  397279090                 ESPACE NOMADE                 ESPACE NOMADE   \n\n                                           ETBL_DESC_FR  \\\n375   À deux pas du Vieux-Québec, laissez-vous charm...   \n530   Cette ravissante ferme rénovée de 130 ans comp...   \n539   Prix du mérite architectural 2003 (conservatio...   \n541   Chalet situé sur les berges du lac Mégantic. E...   \n584   Chalet situé sur le bord de la baie de Plaisan...   \n...                                                 ...   \n7524  Magnifique chalet à louer (4 saisons) sur le b...   \n8356  Superbe chalet de style urbain et de construct...   \n8398  Ce chalet est situé dans le secteur paisible e...   \n8593  Situé en milieu montagneux, ce condo de deux c...   \n8698  Charmant studio avec une chambre fermée et prè...   \n\n                                           ETBL_DESC_EN  ETBL_RESERVABLE  Sun  \\\n375   Beautiful sun-drenched home near Old Québec de...                0    1   \n530   Lovely 130-year-old renovated farmhouse with t...                0    1   \n539   Typical 19th-century Island home on a large, t...                0    1   \n541   Peaceful cottage on the shores of Lac Mégantic...                0    1   \n584   Cottage set on the shores of Baie de Plaisance...                0    1   \n...                                                 ...              ...  ...   \n7524  Beautiful four-season waterfront cottage on La...                0    1   \n8356  Superb, recently constructed urban-style water...                0    1   \n8398  Located in the peaceful and bucolic area of L¿...                0    1   \n8593  This two-bedroom condo in a mountain setting o...                0    1   \n8698  Charming studio with a closed bedroom located ...                0    1   \n\n      Forest  Sea  Accommodation  \n375        0    0              0  \n530        1    0              0  \n539        0    1              0  \n541        0    0              0  \n584        0    0              0  \n...      ...  ...            ...  \n7524       0    0              0  \n8356       0    0              0  \n8398       0    1              0  \n8593       0    0              0  \n8698       0    0              0  \n\n[52 rows x 10 columns]",
            "text/html": "<div>\n<style scoped>\n    .dataframe tbody tr th:only-of-type {\n        vertical-align: middle;\n    }\n\n    .dataframe tbody tr th {\n        vertical-align: top;\n    }\n\n    .dataframe thead th {\n        text-align: right;\n    }\n</style>\n<table border=\"1\" class=\"dataframe\">\n  <thead>\n    <tr style=\"text-align: right;\">\n      <th></th>\n      <th>ETBL_ID</th>\n      <th>ETBL_NOM_FR</th>\n      <th>ETBL_NOM_EN</th>\n      <th>ETBL_DESC_FR</th>\n      <th>ETBL_DESC_EN</th>\n      <th>ETBL_RESERVABLE</th>\n      <th>Sun</th>\n      <th>Forest</th>\n      <th>Sea</th>\n      <th>Accommodation</th>\n    </tr>\n  </thead>\n  <tbody>\n    <tr>\n      <th>375</th>\n      <td>901696</td>\n      <td>AU VIEUX BAHUT</td>\n      <td>AU VIEUX BAHUT</td>\n      <td>À deux pas du Vieux-Québec, laissez-vous charm...</td>\n      <td>Beautiful sun-drenched home near Old Québec de...</td>\n      <td>0</td>\n      <td>1</td>\n      <td>0</td>\n      <td>0</td>\n      <td>0</td>\n    </tr>\n    <tr>\n      <th>530</th>\n      <td>957512</td>\n      <td>LE GÎTE DES ÉCURIES CENTAURE</td>\n      <td>LE GÎTE DES ÉCURIES CENTAURE</td>\n      <td>Cette ravissante ferme rénovée de 130 ans comp...</td>\n      <td>Lovely 130-year-old renovated farmhouse with t...</td>\n      <td>0</td>\n      <td>1</td>\n      <td>1</td>\n      <td>0</td>\n      <td>0</td>\n    </tr>\n    <tr>\n      <th>539</th>\n      <td>962541</td>\n      <td>LA TYPIQUE AUX VENTS</td>\n      <td>LA TYPIQUE AUX VENTS</td>\n      <td>Prix du mérite architectural 2003 (conservatio...</td>\n      <td>Typical 19th-century Island home on a large, t...</td>\n      <td>0</td>\n      <td>1</td>\n      <td>0</td>\n      <td>1</td>\n      <td>0</td>\n    </tr>\n    <tr>\n      <th>541</th>\n      <td>963353</td>\n      <td>CHALET M.L.</td>\n      <td>CHALET M.L.</td>\n      <td>Chalet situé sur les berges du lac Mégantic. E...</td>\n      <td>Peaceful cottage on the shores of Lac Mégantic...</td>\n      <td>0</td>\n      <td>1</td>\n      <td>0</td>\n      <td>0</td>\n      <td>0</td>\n    </tr>\n    <tr>\n      <th>584</th>\n      <td>975874</td>\n      <td>CHALET MOREAU</td>\n      <td>CHALET MOREAU</td>\n      <td>Chalet situé sur le bord de la baie de Plaisan...</td>\n      <td>Cottage set on the shores of Baie de Plaisance...</td>\n      <td>0</td>\n      <td>1</td>\n      <td>0</td>\n      <td>0</td>\n      <td>0</td>\n    </tr>\n    <tr>\n      <th>...</th>\n      <td>...</td>\n      <td>...</td>\n      <td>...</td>\n      <td>...</td>\n      <td>...</td>\n      <td>...</td>\n      <td>...</td>\n      <td>...</td>\n      <td>...</td>\n      <td>...</td>\n    </tr>\n    <tr>\n      <th>7524</th>\n      <td>387764178</td>\n      <td>LACSOURIS.COM</td>\n      <td>LACSOURIS.COM</td>\n      <td>Magnifique chalet à louer (4 saisons) sur le b...</td>\n      <td>Beautiful four-season waterfront cottage on La...</td>\n      <td>0</td>\n      <td>1</td>\n      <td>0</td>\n      <td>0</td>\n      <td>0</td>\n    </tr>\n    <tr>\n      <th>8356</th>\n      <td>395665476</td>\n      <td>DOMAINE URBAIN LE MODERNA</td>\n      <td>DOMAINE URBAIN LE MODERNA</td>\n      <td>Superbe chalet de style urbain et de construct...</td>\n      <td>Superb, recently constructed urban-style water...</td>\n      <td>0</td>\n      <td>1</td>\n      <td>0</td>\n      <td>0</td>\n      <td>0</td>\n    </tr>\n    <tr>\n      <th>8398</th>\n      <td>395941539</td>\n      <td>BLANCHE DE L'OUEST</td>\n      <td>BLANCHE DE L'OUEST</td>\n      <td>Ce chalet est situé dans le secteur paisible e...</td>\n      <td>Located in the peaceful and bucolic area of L¿...</td>\n      <td>0</td>\n      <td>1</td>\n      <td>0</td>\n      <td>1</td>\n      <td>0</td>\n    </tr>\n    <tr>\n      <th>8593</th>\n      <td>396746034</td>\n      <td>PLATEAU 232-1</td>\n      <td>PLATEAU 232-1</td>\n      <td>Situé en milieu montagneux, ce condo de deux c...</td>\n      <td>This two-bedroom condo in a mountain setting o...</td>\n      <td>0</td>\n      <td>1</td>\n      <td>0</td>\n      <td>0</td>\n      <td>0</td>\n    </tr>\n    <tr>\n      <th>8698</th>\n      <td>397279090</td>\n      <td>ESPACE NOMADE</td>\n      <td>ESPACE NOMADE</td>\n      <td>Charmant studio avec une chambre fermée et prè...</td>\n      <td>Charming studio with a closed bedroom located ...</td>\n      <td>0</td>\n      <td>1</td>\n      <td>0</td>\n      <td>0</td>\n      <td>0</td>\n    </tr>\n  </tbody>\n</table>\n<p>52 rows × 10 columns</p>\n</div>"
          },
          "metadata": {}
        },
        {
          "output_type": "display_data",
          "data": {
            "text/plain": "         ETBL_ID                        ETBL_NOM_FR  \\\n7         839154    BASE DE PLEIN AIR VILLE LA JOIE   \n55        851340                      YMCA KANAWANA   \n77        853420          CAMP MUSICAL PÈRE LINDSAY   \n90        855647  COLONIE DES GRÈVES DE CONTRECOEUR   \n379       904597             CAMPING CLIN D'OEIL GP   \n...          ...                                ...   \n9802   500015762       CENTRE PLEIN AIR DU LAC-YORK   \n10110  500016084                          SPAHAUS 7   \n10192  500016166             TANIÈRE DES APPALACHES   \n10228  500016204                    LE CELTE BOREAL   \n10290  500016274         CHALET DE LA FORÊT OUAREAU   \n\n                             ETBL_NOM_EN  \\\n7        BASE DE PLEIN AIR VILLE LA JOIE   \n55                         YMCA KANAWANA   \n77             CAMP MUSICAL PÈRE LINDSAY   \n90     COLONIE DES GRÈVES DE CONTRECOEUR   \n379               CAMPING CLIN D'OEIL GP   \n...                                  ...   \n9802        CENTRE PLEIN AIR DU LAC-YORK   \n10110                          SPAHAUS 7   \n10192             TANIÈRE DES APPALACHES   \n10228                    LE CELTE BOREAL   \n10290         CHALET DE LA FORÊT OUAREAU   \n\n                                            ETBL_DESC_FR  \\\n7      Vous recherchez l'air pur, une forêt, un endro...   \n55     Camp situé dans un milieu naturel et luxuriant...   \n77     Camp de vacances à vocation musicale, situé su...   \n90     Centre de plein air situé à 45 minutes de Mont...   \n379    Hébergement situé sur les rives du lac Opasati...   \n...                                                  ...   \n9802   Petit coin de paradis avec lac et forêt, ce ce...   \n10110  Ce chalet contemporain niché dans une région m...   \n10192  Sous-sol privé au c¿ur du domaine des Appalach...   \n10228      Magnifique gîte pour les amants de la nature.   \n10290  Grand chalet en bordure de rivière, sur deux é...   \n\n                                            ETBL_DESC_EN  ETBL_RESERVABLE  \\\n7      Are you seeking pure air, forest, a place wher...                0   \n55     Camp YMCA Kanawana is a lush natural environme...                0   \n77     This musical vacation camp for children aged 7...                0   \n90     Rediscover a hundred-year-old legend! This hol...                0   \n379    Campground on the shores of Lac Opasatica. Acc...                0   \n...                                                  ...              ...   \n9802   A little slice of paradise by a lake and the f...                0   \n10110  This contemporary cottage is nestled in a regi...                0   \n10192  Private basement accommodations in the heart o...                0   \n10228  This unique B&#38;B is set near La Tuque¿s ama...                0   \n10290  Large two-story riverfront cottage furnished f...                0   \n\n       Sun  Forest  Sea  Accommodation  \n7        0       1    0              0  \n55       0       1    0              0  \n77       0       1    0              0  \n90       0       1    0              0  \n379      0       1    0              0  \n...    ...     ...  ...            ...  \n9802     0       1    0              0  \n10110    0       1    0              0  \n10192    0       1    0              1  \n10228    0       1    0              0  \n10290    0       1    0              0  \n\n[207 rows x 10 columns]",
            "text/html": "<div>\n<style scoped>\n    .dataframe tbody tr th:only-of-type {\n        vertical-align: middle;\n    }\n\n    .dataframe tbody tr th {\n        vertical-align: top;\n    }\n\n    .dataframe thead th {\n        text-align: right;\n    }\n</style>\n<table border=\"1\" class=\"dataframe\">\n  <thead>\n    <tr style=\"text-align: right;\">\n      <th></th>\n      <th>ETBL_ID</th>\n      <th>ETBL_NOM_FR</th>\n      <th>ETBL_NOM_EN</th>\n      <th>ETBL_DESC_FR</th>\n      <th>ETBL_DESC_EN</th>\n      <th>ETBL_RESERVABLE</th>\n      <th>Sun</th>\n      <th>Forest</th>\n      <th>Sea</th>\n      <th>Accommodation</th>\n    </tr>\n  </thead>\n  <tbody>\n    <tr>\n      <th>7</th>\n      <td>839154</td>\n      <td>BASE DE PLEIN AIR VILLE LA JOIE</td>\n      <td>BASE DE PLEIN AIR VILLE LA JOIE</td>\n      <td>Vous recherchez l'air pur, une forêt, un endro...</td>\n      <td>Are you seeking pure air, forest, a place wher...</td>\n      <td>0</td>\n      <td>0</td>\n      <td>1</td>\n      <td>0</td>\n      <td>0</td>\n    </tr>\n    <tr>\n      <th>55</th>\n      <td>851340</td>\n      <td>YMCA KANAWANA</td>\n      <td>YMCA KANAWANA</td>\n      <td>Camp situé dans un milieu naturel et luxuriant...</td>\n      <td>Camp YMCA Kanawana is a lush natural environme...</td>\n      <td>0</td>\n      <td>0</td>\n      <td>1</td>\n      <td>0</td>\n      <td>0</td>\n    </tr>\n    <tr>\n      <th>77</th>\n      <td>853420</td>\n      <td>CAMP MUSICAL PÈRE LINDSAY</td>\n      <td>CAMP MUSICAL PÈRE LINDSAY</td>\n      <td>Camp de vacances à vocation musicale, situé su...</td>\n      <td>This musical vacation camp for children aged 7...</td>\n      <td>0</td>\n      <td>0</td>\n      <td>1</td>\n      <td>0</td>\n      <td>0</td>\n    </tr>\n    <tr>\n      <th>90</th>\n      <td>855647</td>\n      <td>COLONIE DES GRÈVES DE CONTRECOEUR</td>\n      <td>COLONIE DES GRÈVES DE CONTRECOEUR</td>\n      <td>Centre de plein air situé à 45 minutes de Mont...</td>\n      <td>Rediscover a hundred-year-old legend! This hol...</td>\n      <td>0</td>\n      <td>0</td>\n      <td>1</td>\n      <td>0</td>\n      <td>0</td>\n    </tr>\n    <tr>\n      <th>379</th>\n      <td>904597</td>\n      <td>CAMPING CLIN D'OEIL GP</td>\n      <td>CAMPING CLIN D'OEIL GP</td>\n      <td>Hébergement situé sur les rives du lac Opasati...</td>\n      <td>Campground on the shores of Lac Opasatica. Acc...</td>\n      <td>0</td>\n      <td>0</td>\n      <td>1</td>\n      <td>0</td>\n      <td>0</td>\n    </tr>\n    <tr>\n      <th>...</th>\n      <td>...</td>\n      <td>...</td>\n      <td>...</td>\n      <td>...</td>\n      <td>...</td>\n      <td>...</td>\n      <td>...</td>\n      <td>...</td>\n      <td>...</td>\n      <td>...</td>\n    </tr>\n    <tr>\n      <th>9802</th>\n      <td>500015762</td>\n      <td>CENTRE PLEIN AIR DU LAC-YORK</td>\n      <td>CENTRE PLEIN AIR DU LAC-YORK</td>\n      <td>Petit coin de paradis avec lac et forêt, ce ce...</td>\n      <td>A little slice of paradise by a lake and the f...</td>\n      <td>0</td>\n      <td>0</td>\n      <td>1</td>\n      <td>0</td>\n      <td>0</td>\n    </tr>\n    <tr>\n      <th>10110</th>\n      <td>500016084</td>\n      <td>SPAHAUS 7</td>\n      <td>SPAHAUS 7</td>\n      <td>Ce chalet contemporain niché dans une région m...</td>\n      <td>This contemporary cottage is nestled in a regi...</td>\n      <td>0</td>\n      <td>0</td>\n      <td>1</td>\n      <td>0</td>\n      <td>0</td>\n    </tr>\n    <tr>\n      <th>10192</th>\n      <td>500016166</td>\n      <td>TANIÈRE DES APPALACHES</td>\n      <td>TANIÈRE DES APPALACHES</td>\n      <td>Sous-sol privé au c¿ur du domaine des Appalach...</td>\n      <td>Private basement accommodations in the heart o...</td>\n      <td>0</td>\n      <td>0</td>\n      <td>1</td>\n      <td>0</td>\n      <td>1</td>\n    </tr>\n    <tr>\n      <th>10228</th>\n      <td>500016204</td>\n      <td>LE CELTE BOREAL</td>\n      <td>LE CELTE BOREAL</td>\n      <td>Magnifique gîte pour les amants de la nature.</td>\n      <td>This unique B&amp;#38;B is set near La Tuque¿s ama...</td>\n      <td>0</td>\n      <td>0</td>\n      <td>1</td>\n      <td>0</td>\n      <td>0</td>\n    </tr>\n    <tr>\n      <th>10290</th>\n      <td>500016274</td>\n      <td>CHALET DE LA FORÊT OUAREAU</td>\n      <td>CHALET DE LA FORÊT OUAREAU</td>\n      <td>Grand chalet en bordure de rivière, sur deux é...</td>\n      <td>Large two-story riverfront cottage furnished f...</td>\n      <td>0</td>\n      <td>0</td>\n      <td>1</td>\n      <td>0</td>\n      <td>0</td>\n    </tr>\n  </tbody>\n</table>\n<p>207 rows × 10 columns</p>\n</div>"
          },
          "metadata": {}
        },
        {
          "output_type": "display_data",
          "data": {
            "text/plain": "         ETBL_ID                            ETBL_NOM_FR  \\\n390       907229    AUBERGE LA PETITE ÉCOLE DE FORILLON   \n415       916235                    LA PETITE NORMANDIE   \n423       919592                         MAISON CORMIER   \n433       922356                     MAISON THOUIN-AIRD   \n439       924399  CHALETS DU DOMAINE \"CAP-AUX-CORBEAUX\"   \n...          ...                                    ...   \n9732   500015687                         MAISON RIV-MER   \n9781   500015740                           CAP AVENTURE   \n9787   500015746                        PARADIS SUR MER   \n9868   500015829                     LES GROSSES ROCHES   \n10013  500015983                        LA BELLE DENISE   \n\n                                 ETBL_NOM_EN  \\\n390      AUBERGE LA PETITE ÉCOLE DE FORILLON   \n415                      LA PETITE NORMANDIE   \n423                           MAISON CORMIER   \n433                       MAISON THOUIN-AIRD   \n439    CHALETS DU DOMAINE \"CAP-AUX-CORBEAUX\"   \n...                                      ...   \n9732                          MAISON RIV-MER   \n9781                            CAP AVENTURE   \n9787                         PARADIS SUR MER   \n9868                      LES GROSSES ROCHES   \n10013                        LA BELLE DENISE   \n\n                                            ETBL_DESC_FR  \\\n390    Auberge équitable et écoresponsable située au ...   \n415    Hébergement dans un endroit paisible. Chalet s...   \n423    Maison unifamiliale chaleureuse dans un endroi...   \n433    Jolie demeure ancestrale, située face au golfe...   \n439    Chalets dont le propriétaire vous invite à vis...   \n...                                                  ...   \n9732   Cette maison offre un environnement paisible, ...   \n9781   Entreprise spécialisée en kayak de mer et en e...   \n9787   Magnifique maison sur le bord de l¿eau qui com...   \n9868   Ce véritable coin de paradis est situé directe...   \n10013  Magnifique maison rénovée au goût du jour avec...   \n\n                                            ETBL_DESC_EN  ETBL_RESERVABLE  \\\n390    Former schoolhouse turned fair and eco-respons...                0   \n415    Peaceful accommodation at a lovely cottage jus...                0   \n423    Cozy, single-family home in a quiet, peaceful ...                0   \n433    Pretty and peaceful ancestral house facing the...                0   \n439    The owners of these cottages invite you to the...                0   \n...                                                  ...              ...   \n9732   This fully equipped house offers a peaceful se...                0   \n9781   This company specializes in sea kayaking and Z...                0   \n9787   This impressive oceanfront house features thre...                0   \n9868   A slice of paradise on the shore of the St. La...                0   \n10013  This impressive and attractively renovated hou...                0   \n\n       Sun  Forest  Sea  Accommodation  \n390      0       0    1              0  \n415      0       0    1              1  \n423      0       0    1              0  \n433      0       0    1              0  \n439      0       0    1              0  \n...    ...     ...  ...            ...  \n9732     0       0    1              0  \n9781     0       0    1              1  \n9787     0       0    1              1  \n9868     0       0    1              0  \n10013    0       0    1              0  \n\n[218 rows x 10 columns]",
            "text/html": "<div>\n<style scoped>\n    .dataframe tbody tr th:only-of-type {\n        vertical-align: middle;\n    }\n\n    .dataframe tbody tr th {\n        vertical-align: top;\n    }\n\n    .dataframe thead th {\n        text-align: right;\n    }\n</style>\n<table border=\"1\" class=\"dataframe\">\n  <thead>\n    <tr style=\"text-align: right;\">\n      <th></th>\n      <th>ETBL_ID</th>\n      <th>ETBL_NOM_FR</th>\n      <th>ETBL_NOM_EN</th>\n      <th>ETBL_DESC_FR</th>\n      <th>ETBL_DESC_EN</th>\n      <th>ETBL_RESERVABLE</th>\n      <th>Sun</th>\n      <th>Forest</th>\n      <th>Sea</th>\n      <th>Accommodation</th>\n    </tr>\n  </thead>\n  <tbody>\n    <tr>\n      <th>390</th>\n      <td>907229</td>\n      <td>AUBERGE LA PETITE ÉCOLE DE FORILLON</td>\n      <td>AUBERGE LA PETITE ÉCOLE DE FORILLON</td>\n      <td>Auberge équitable et écoresponsable située au ...</td>\n      <td>Former schoolhouse turned fair and eco-respons...</td>\n      <td>0</td>\n      <td>0</td>\n      <td>0</td>\n      <td>1</td>\n      <td>0</td>\n    </tr>\n    <tr>\n      <th>415</th>\n      <td>916235</td>\n      <td>LA PETITE NORMANDIE</td>\n      <td>LA PETITE NORMANDIE</td>\n      <td>Hébergement dans un endroit paisible. Chalet s...</td>\n      <td>Peaceful accommodation at a lovely cottage jus...</td>\n      <td>0</td>\n      <td>0</td>\n      <td>0</td>\n      <td>1</td>\n      <td>1</td>\n    </tr>\n    <tr>\n      <th>423</th>\n      <td>919592</td>\n      <td>MAISON CORMIER</td>\n      <td>MAISON CORMIER</td>\n      <td>Maison unifamiliale chaleureuse dans un endroi...</td>\n      <td>Cozy, single-family home in a quiet, peaceful ...</td>\n      <td>0</td>\n      <td>0</td>\n      <td>0</td>\n      <td>1</td>\n      <td>0</td>\n    </tr>\n    <tr>\n      <th>433</th>\n      <td>922356</td>\n      <td>MAISON THOUIN-AIRD</td>\n      <td>MAISON THOUIN-AIRD</td>\n      <td>Jolie demeure ancestrale, située face au golfe...</td>\n      <td>Pretty and peaceful ancestral house facing the...</td>\n      <td>0</td>\n      <td>0</td>\n      <td>0</td>\n      <td>1</td>\n      <td>0</td>\n    </tr>\n    <tr>\n      <th>439</th>\n      <td>924399</td>\n      <td>CHALETS DU DOMAINE \"CAP-AUX-CORBEAUX\"</td>\n      <td>CHALETS DU DOMAINE \"CAP-AUX-CORBEAUX\"</td>\n      <td>Chalets dont le propriétaire vous invite à vis...</td>\n      <td>The owners of these cottages invite you to the...</td>\n      <td>0</td>\n      <td>0</td>\n      <td>0</td>\n      <td>1</td>\n      <td>0</td>\n    </tr>\n    <tr>\n      <th>...</th>\n      <td>...</td>\n      <td>...</td>\n      <td>...</td>\n      <td>...</td>\n      <td>...</td>\n      <td>...</td>\n      <td>...</td>\n      <td>...</td>\n      <td>...</td>\n      <td>...</td>\n    </tr>\n    <tr>\n      <th>9732</th>\n      <td>500015687</td>\n      <td>MAISON RIV-MER</td>\n      <td>MAISON RIV-MER</td>\n      <td>Cette maison offre un environnement paisible, ...</td>\n      <td>This fully equipped house offers a peaceful se...</td>\n      <td>0</td>\n      <td>0</td>\n      <td>0</td>\n      <td>1</td>\n      <td>0</td>\n    </tr>\n    <tr>\n      <th>9781</th>\n      <td>500015740</td>\n      <td>CAP AVENTURE</td>\n      <td>CAP AVENTURE</td>\n      <td>Entreprise spécialisée en kayak de mer et en e...</td>\n      <td>This company specializes in sea kayaking and Z...</td>\n      <td>0</td>\n      <td>0</td>\n      <td>0</td>\n      <td>1</td>\n      <td>1</td>\n    </tr>\n    <tr>\n      <th>9787</th>\n      <td>500015746</td>\n      <td>PARADIS SUR MER</td>\n      <td>PARADIS SUR MER</td>\n      <td>Magnifique maison sur le bord de l¿eau qui com...</td>\n      <td>This impressive oceanfront house features thre...</td>\n      <td>0</td>\n      <td>0</td>\n      <td>0</td>\n      <td>1</td>\n      <td>1</td>\n    </tr>\n    <tr>\n      <th>9868</th>\n      <td>500015829</td>\n      <td>LES GROSSES ROCHES</td>\n      <td>LES GROSSES ROCHES</td>\n      <td>Ce véritable coin de paradis est situé directe...</td>\n      <td>A slice of paradise on the shore of the St. La...</td>\n      <td>0</td>\n      <td>0</td>\n      <td>0</td>\n      <td>1</td>\n      <td>0</td>\n    </tr>\n    <tr>\n      <th>10013</th>\n      <td>500015983</td>\n      <td>LA BELLE DENISE</td>\n      <td>LA BELLE DENISE</td>\n      <td>Magnifique maison rénovée au goût du jour avec...</td>\n      <td>This impressive and attractively renovated hou...</td>\n      <td>0</td>\n      <td>0</td>\n      <td>0</td>\n      <td>1</td>\n      <td>0</td>\n    </tr>\n  </tbody>\n</table>\n<p>218 rows × 10 columns</p>\n</div>"
          },
          "metadata": {}
        },
        {
          "output_type": "display_data",
          "data": {
            "text/plain": "         ETBL_ID                                        ETBL_NOM_FR  \\\n2         838885                               UNIVERSITÉ CONCORDIA   \n5         839050  LES RÉSIDENCES TACHÉ ET LES MAISONS DE VILLE D...   \n80        853904                               PARC DU DOMAINE VERT   \n82        854446                                 PLEIN AIR LANAUDIA   \n95        856379  CENTRE DE VACANCES ET DE PLEIN AIR LE P'TIT BO...   \n...          ...                                                ...   \n10022  500015992                                    MAISON DU BOISÉ   \n10135  500016109                                        AUBERG' INN   \n10192  500016166                             TANIÈRE DES APPALACHES   \n10257  500016237                                    AUBERGE MINITIK   \n10630  500016622                               LA RÉSIDENCE DU QUAI   \n\n                                             ETBL_NOM_EN  \\\n2                                   UNIVERSITÉ CONCORDIA   \n5      LES RÉSIDENCES TACHÉ ET LES MAISONS DE VILLE D...   \n80                                  PARC DU DOMAINE VERT   \n82                                    PLEIN AIR LANAUDIA   \n95     CENTRE DE VACANCES ET DE PLEIN AIR LE P'TIT BO...   \n...                                                  ...   \n10022                                    MAISON DU BOISÉ   \n10135                                        AUBERG' INN   \n10192                             TANIÈRE DES APPALACHES   \n10257                                    AUBERGE MINITIK   \n10630                               LA RÉSIDENCE DU QUAI   \n\n                                            ETBL_DESC_FR  \\\n2      La résidence des S¿urs grises est située au c¿...   \n5      Hébergement bénéficiant d'un emplacement privi...   \n80     Hébergement pour familles, groupes scolaires e...   \n82     Centre ouvert à l¿année situé au lac des Baies...   \n95     Chaque année, plus de 12 000 jeunes visitent c...   \n...                                                  ...   \n10022  Sur un site enchanteur dans un milieu paisible...   \n10135  Cette entreprise touristique se spécialise dan...   \n10192  Sous-sol privé au c¿ur du domaine des Appalach...   \n10257  Dès votre réveil dans l¿une des six chambres d...   \n10630  Située en bordure de la rivière Petite-Décharg...   \n\n                                            ETBL_DESC_EN  ETBL_RESERVABLE  \\\n2      Welcome to Concordia University's Grey Nuns Re...                0   \n5      Accommodations in an ideal location that provi...                0   \n80     Accommodations for families, school groups and...                0   \n82     Year-round centre located on Lac des Baies in ...                0   \n95     Each year, more than 12,000 children visit thi...                0   \n...                                                  ...              ...   \n10022  This enchanting accommodation in peaceful Peti...                0   \n10135  Looking for something different? This waterfro...                0   \n10192  Private basement accommodations in the heart o...                0   \n10257  Wake up to a magnificent view of the lake from...                0   \n10630  Located a few minutes from downtown, this lodg...                0   \n\n       Sun  Forest  Sea  Accommodation  \n2        0       0    0              1  \n5        0       0    0              1  \n80       0       0    0              1  \n82       0       0    0              1  \n95       0       0    0              1  \n...    ...     ...  ...            ...  \n10022    0       0    0              1  \n10135    0       0    0              1  \n10192    0       1    0              1  \n10257    0       0    0              1  \n10630    0       0    0              1  \n\n[571 rows x 10 columns]",
            "text/html": "<div>\n<style scoped>\n    .dataframe tbody tr th:only-of-type {\n        vertical-align: middle;\n    }\n\n    .dataframe tbody tr th {\n        vertical-align: top;\n    }\n\n    .dataframe thead th {\n        text-align: right;\n    }\n</style>\n<table border=\"1\" class=\"dataframe\">\n  <thead>\n    <tr style=\"text-align: right;\">\n      <th></th>\n      <th>ETBL_ID</th>\n      <th>ETBL_NOM_FR</th>\n      <th>ETBL_NOM_EN</th>\n      <th>ETBL_DESC_FR</th>\n      <th>ETBL_DESC_EN</th>\n      <th>ETBL_RESERVABLE</th>\n      <th>Sun</th>\n      <th>Forest</th>\n      <th>Sea</th>\n      <th>Accommodation</th>\n    </tr>\n  </thead>\n  <tbody>\n    <tr>\n      <th>2</th>\n      <td>838885</td>\n      <td>UNIVERSITÉ CONCORDIA</td>\n      <td>UNIVERSITÉ CONCORDIA</td>\n      <td>La résidence des S¿urs grises est située au c¿...</td>\n      <td>Welcome to Concordia University's Grey Nuns Re...</td>\n      <td>0</td>\n      <td>0</td>\n      <td>0</td>\n      <td>0</td>\n      <td>1</td>\n    </tr>\n    <tr>\n      <th>5</th>\n      <td>839050</td>\n      <td>LES RÉSIDENCES TACHÉ ET LES MAISONS DE VILLE D...</td>\n      <td>LES RÉSIDENCES TACHÉ ET LES MAISONS DE VILLE D...</td>\n      <td>Hébergement bénéficiant d'un emplacement privi...</td>\n      <td>Accommodations in an ideal location that provi...</td>\n      <td>0</td>\n      <td>0</td>\n      <td>0</td>\n      <td>0</td>\n      <td>1</td>\n    </tr>\n    <tr>\n      <th>80</th>\n      <td>853904</td>\n      <td>PARC DU DOMAINE VERT</td>\n      <td>PARC DU DOMAINE VERT</td>\n      <td>Hébergement pour familles, groupes scolaires e...</td>\n      <td>Accommodations for families, school groups and...</td>\n      <td>0</td>\n      <td>0</td>\n      <td>0</td>\n      <td>0</td>\n      <td>1</td>\n    </tr>\n    <tr>\n      <th>82</th>\n      <td>854446</td>\n      <td>PLEIN AIR LANAUDIA</td>\n      <td>PLEIN AIR LANAUDIA</td>\n      <td>Centre ouvert à l¿année situé au lac des Baies...</td>\n      <td>Year-round centre located on Lac des Baies in ...</td>\n      <td>0</td>\n      <td>0</td>\n      <td>0</td>\n      <td>0</td>\n      <td>1</td>\n    </tr>\n    <tr>\n      <th>95</th>\n      <td>856379</td>\n      <td>CENTRE DE VACANCES ET DE PLEIN AIR LE P'TIT BO...</td>\n      <td>CENTRE DE VACANCES ET DE PLEIN AIR LE P'TIT BO...</td>\n      <td>Chaque année, plus de 12 000 jeunes visitent c...</td>\n      <td>Each year, more than 12,000 children visit thi...</td>\n      <td>0</td>\n      <td>0</td>\n      <td>0</td>\n      <td>0</td>\n      <td>1</td>\n    </tr>\n    <tr>\n      <th>...</th>\n      <td>...</td>\n      <td>...</td>\n      <td>...</td>\n      <td>...</td>\n      <td>...</td>\n      <td>...</td>\n      <td>...</td>\n      <td>...</td>\n      <td>...</td>\n      <td>...</td>\n    </tr>\n    <tr>\n      <th>10022</th>\n      <td>500015992</td>\n      <td>MAISON DU BOISÉ</td>\n      <td>MAISON DU BOISÉ</td>\n      <td>Sur un site enchanteur dans un milieu paisible...</td>\n      <td>This enchanting accommodation in peaceful Peti...</td>\n      <td>0</td>\n      <td>0</td>\n      <td>0</td>\n      <td>0</td>\n      <td>1</td>\n    </tr>\n    <tr>\n      <th>10135</th>\n      <td>500016109</td>\n      <td>AUBERG' INN</td>\n      <td>AUBERG' INN</td>\n      <td>Cette entreprise touristique se spécialise dan...</td>\n      <td>Looking for something different? This waterfro...</td>\n      <td>0</td>\n      <td>0</td>\n      <td>0</td>\n      <td>0</td>\n      <td>1</td>\n    </tr>\n    <tr>\n      <th>10192</th>\n      <td>500016166</td>\n      <td>TANIÈRE DES APPALACHES</td>\n      <td>TANIÈRE DES APPALACHES</td>\n      <td>Sous-sol privé au c¿ur du domaine des Appalach...</td>\n      <td>Private basement accommodations in the heart o...</td>\n      <td>0</td>\n      <td>0</td>\n      <td>1</td>\n      <td>0</td>\n      <td>1</td>\n    </tr>\n    <tr>\n      <th>10257</th>\n      <td>500016237</td>\n      <td>AUBERGE MINITIK</td>\n      <td>AUBERGE MINITIK</td>\n      <td>Dès votre réveil dans l¿une des six chambres d...</td>\n      <td>Wake up to a magnificent view of the lake from...</td>\n      <td>0</td>\n      <td>0</td>\n      <td>0</td>\n      <td>0</td>\n      <td>1</td>\n    </tr>\n    <tr>\n      <th>10630</th>\n      <td>500016622</td>\n      <td>LA RÉSIDENCE DU QUAI</td>\n      <td>LA RÉSIDENCE DU QUAI</td>\n      <td>Située en bordure de la rivière Petite-Décharg...</td>\n      <td>Located a few minutes from downtown, this lodg...</td>\n      <td>0</td>\n      <td>0</td>\n      <td>0</td>\n      <td>0</td>\n      <td>1</td>\n    </tr>\n  </tbody>\n</table>\n<p>571 rows × 10 columns</p>\n</div>"
          },
          "metadata": {}
        }
      ],
      "source": [
        "import numpy as np\n",
        "#from numpy import nan\n",
        "import re\n",
        "pd.set_option('display.max_rows', 10)\n",
        "\n",
        "#head5 = df.head(5)\n",
        "#print(head5['ETBL_DESC_EN'])\n",
        "\n",
        "#reSun = r'.*\\bsuns?\\b.*'\n",
        "\n",
        "# used compiled pattern to improve performance\n",
        "reSun = re.compile(\"\\\\bsuns?\\\\b\", re.I) # double backslash is very important here\n",
        "\n",
        "# test the RegEx\n",
        "sentences = [\"sun today\", \"today is sun\", \"You are the Sun\", \"This is SUN now\", \"Many suns in the sky\", \"It is sunny now\"]\n",
        "print(sentences)\n",
        "results = [type(reSun.search(i)) for i in sentences]\n",
        "print(results)\n",
        "\n",
        "reForest = re.compile(\"\\\\bforests?\\\\b\", re.I) # double backslash is very important here\n",
        "reSea = re.compile(\"\\\\bseas?\\\\b\", re.I) # double backslash is very important here\n",
        "reAccommodation = re.compile(\"\\\\baccommodations?\\\\b\", re.I) # double backslash is very important here\n",
        "res = [reSun, reForest, reSea, reAccommodation]\n",
        "#reSun = re.compile('sun\\b', re.I)\n",
        "#print(head5['ETBL_DESC_EN'].str.match(reSun))\n",
        "\n",
        "#df['Sun'] = np.where(df['ETBL_DESC_EN'].notnull() & df['ETBL_DESC_EN'].str.match(reSun), 1, 0)\n",
        "\n",
        "print(type(df['ETBL_DESC_EN']))\n",
        "#df['Sun'] = np.where(df['ETBL_DESC_EN'].notnull() & reSun.match(df['ETBL_DESC_EN'].values), 1, 0)\n",
        "#display(df)\n",
        "\n",
        "#display(df['ETBL_DESC_EN'])\n",
        "\n",
        "\n",
        "columns = [[] for i in range(len(res))]\n",
        "print(columns)\n",
        "\n",
        "for descEN in df['ETBL_DESC_EN']:\n",
        "    #print(i, \" \", descEN)\n",
        "    #print(type(descEN))\n",
        "    #print(descEN is not None)\n",
        "    #print(descEN is not np.nan)\n",
        "    #temp = reSun.match(descEN)\n",
        "    #print(\"temp type:\", type(temp))\n",
        "\n",
        "    #if(descEN is np.nan):\n",
        "    #    columns[0].append(0)\n",
        "    #    continue\n",
        "\n",
        "    for i in range(len(res)):\n",
        "        if((descEN is not np.nan) and (res[i].search(descEN) is not None)):\n",
        "        #if(reSun.search(descEN) is not None):\n",
        "            #print(\"append 1\")\n",
        "            columns[i].append(1)\n",
        "        else:\n",
        "            #print(\"append 0\")\n",
        "            columns[i].append(0)\n",
        "\n",
        "headers = ['Sun', 'Forest', 'Sea', 'Accommodation']\n",
        "for i in range(len(headers)):\n",
        "    df[headers[i]] = columns[i]\n",
        "\n",
        "for i in range(len(headers)):\n",
        "    display(df.loc[df[headers[i]] == 1])\n",
        "\n",
        "# df['Sun'] = columns[0]\n",
        "# df['Forest'] = columns[1]\n",
        "# df['Sea'] = columns[2]\n",
        "# df['Accommodation'] = columns[3]\n",
        "# display(df.loc[df['Sun'] == 1])\n",
        "# display(df.loc[df['Forest'] == 1])\n",
        "# display(df.loc[df['Sea'] == 1])\n",
        "# display(df.loc[df['Accommodation'] == 1])\n"
      ]
    },
    {
      "cell_type": "markdown",
      "metadata": {
        "id": "8ocS13JHYnXH",
        "colab_type": "text"
      },
      "source": [
        "# Exercice 2\n",
        "Using the **territoires.csv** file, answer the following questions:\n",
        "\n",
        "a) Import the data into a dataframe  \n",
        "\n",
        "b) Create a function from the territories data table, to display the number of ETBL_ID by Territory Zone (TERR_ZONE_NOM_EN) according to the type of territory zone (TERR_ZONE_GENRE_EN) passed as argument to the call of the function. \n",
        "\n",
        "For example, you could call your function in the following way if you want to display the results for cities and regions respectively:\n",
        "- Zone_type(gender = ‘City’)\n",
        "- Zone_type(gender = ‘Region’)\n",
        "\n",
        "\n"
      ]
    },
    {
      "cell_type": "code",
      "metadata": {
        "id": "oK87V6g7D6Fd",
        "colab_type": "code",
        "colab": {
          "base_uri": "https://localhost:8080/",
          "height": 212
        },
        "outputId": "84d9e5a0-e8bf-49b0-b824-d12a6d1d93d9",
        "tags": []
      },
      "source": [
        "# Import pandas package as pd\n",
        "import pandas as pd\n",
        "\n",
        "# read from GitHub\n",
        "#filePath = 'https://raw.githubusercontent.com/JeffreyXieCn/LearnAIML/master/Python/PythonTraining/Part2-NumpyAndPanda/Data_part2a/territoires.csv?token=AHAYCASRC2JCARPRAMCRVYS7GUXHY'\n",
        "\n",
        "filePath = 'Data_part2a/territoires.csv'\n",
        "# Read a csv file\n",
        "df = pd.read_csv(filePath, sep = ';', encoding = 'ISO-8859-1')\n",
        "print(df.shape)\n",
        "df.head(5)"
      ],
      "execution_count": 96,
      "outputs": [
        {
          "output_type": "stream",
          "name": "stdout",
          "text": "(37178, 8)\n"
        },
        {
          "output_type": "execute_result",
          "data": {
            "text/plain": "   ETBL_ID TERR_GENRE  TERR_ZONE_ID TERR_ZONE_NOM_FR TERR_ZONE_NOM_EN  \\\n0   838721  principal     292120028    Le mont Royal   The Mont Royal   \n1   838721  principal         21950         Montréal         Montréal   \n2   838721  principal          3432         Montréal         Montréal   \n3   838721  principal          3406           Québec           Quebec   \n4   838774  principal         22830          Boileau          Boileau   \n\n   TERR_ZONE_GENRE_ID  TERR_ZONE_GENRE_FR TERR_ZONE_GENRE_EN  \n0              432971  Quartier / secteur    District / Area  \n1                  91               Ville               City  \n2                  81              Région               Area  \n3                  75            Province           Province  \n4                  91               Ville               City  ",
            "text/html": "<div>\n<style scoped>\n    .dataframe tbody tr th:only-of-type {\n        vertical-align: middle;\n    }\n\n    .dataframe tbody tr th {\n        vertical-align: top;\n    }\n\n    .dataframe thead th {\n        text-align: right;\n    }\n</style>\n<table border=\"1\" class=\"dataframe\">\n  <thead>\n    <tr style=\"text-align: right;\">\n      <th></th>\n      <th>ETBL_ID</th>\n      <th>TERR_GENRE</th>\n      <th>TERR_ZONE_ID</th>\n      <th>TERR_ZONE_NOM_FR</th>\n      <th>TERR_ZONE_NOM_EN</th>\n      <th>TERR_ZONE_GENRE_ID</th>\n      <th>TERR_ZONE_GENRE_FR</th>\n      <th>TERR_ZONE_GENRE_EN</th>\n    </tr>\n  </thead>\n  <tbody>\n    <tr>\n      <th>0</th>\n      <td>838721</td>\n      <td>principal</td>\n      <td>292120028</td>\n      <td>Le mont Royal</td>\n      <td>The Mont Royal</td>\n      <td>432971</td>\n      <td>Quartier / secteur</td>\n      <td>District / Area</td>\n    </tr>\n    <tr>\n      <th>1</th>\n      <td>838721</td>\n      <td>principal</td>\n      <td>21950</td>\n      <td>Montréal</td>\n      <td>Montréal</td>\n      <td>91</td>\n      <td>Ville</td>\n      <td>City</td>\n    </tr>\n    <tr>\n      <th>2</th>\n      <td>838721</td>\n      <td>principal</td>\n      <td>3432</td>\n      <td>Montréal</td>\n      <td>Montréal</td>\n      <td>81</td>\n      <td>Région</td>\n      <td>Area</td>\n    </tr>\n    <tr>\n      <th>3</th>\n      <td>838721</td>\n      <td>principal</td>\n      <td>3406</td>\n      <td>Québec</td>\n      <td>Quebec</td>\n      <td>75</td>\n      <td>Province</td>\n      <td>Province</td>\n    </tr>\n    <tr>\n      <th>4</th>\n      <td>838774</td>\n      <td>principal</td>\n      <td>22830</td>\n      <td>Boileau</td>\n      <td>Boileau</td>\n      <td>91</td>\n      <td>Ville</td>\n      <td>City</td>\n    </tr>\n  </tbody>\n</table>\n</div>"
          },
          "metadata": {},
          "execution_count": 96
        }
      ]
    },
    {
      "cell_type": "code",
      "execution_count": 98,
      "metadata": {
        "tags": []
      },
      "outputs": [
        {
          "output_type": "stream",
          "name": "stdout",
          "text": "<class 'pandas.core.frame.DataFrame'>\nRangeIndex: 37178 entries, 0 to 37177\nData columns (total 8 columns):\nETBL_ID               37178 non-null int64\nTERR_GENRE            37178 non-null object\nTERR_ZONE_ID          37178 non-null int64\nTERR_ZONE_NOM_FR      37178 non-null object\nTERR_ZONE_NOM_EN      37178 non-null object\nTERR_ZONE_GENRE_ID    37178 non-null int64\nTERR_ZONE_GENRE_FR    37178 non-null object\nTERR_ZONE_GENRE_EN    37178 non-null object\ndtypes: int64(3), object(5)\nmemory usage: 2.3+ MB\n"
        }
      ],
      "source": [
        "df.info()"
      ]
    },
    {
      "cell_type": "code",
      "execution_count": 103,
      "metadata": {},
      "outputs": [
        {
          "output_type": "display_data",
          "data": {
            "text/plain": "         ETBL_ID TERR_GENRE  TERR_ZONE_ID          TERR_ZONE_NOM_FR  \\\n1         838721  principal         21950                  Montréal   \n4         838774  principal         22830                   Boileau   \n8         838885  principal         21950                  Montréal   \n12        838963  principal         21950                  Montréal   \n16        839010  principal         21950                  Montréal   \n...          ...        ...           ...                       ...   \n37161  500016734  principal         21060             Saint-Raymond   \n37165  500016735  principal         21860  Saint-David-de-Falardeau   \n37169  500016736  principal         21950                  Montréal   \n37172  500016737  principal         21918              Mont-Laurier   \n37175  500016738  principal         21384              Saint-Irénée   \n\n               TERR_ZONE_NOM_EN  TERR_ZONE_GENRE_ID TERR_ZONE_GENRE_FR  \\\n1                      Montréal                  91              Ville   \n4                       Boileau                  91              Ville   \n8                      Montréal                  91              Ville   \n12                     Montréal                  91              Ville   \n16                     Montréal                  91              Ville   \n...                         ...                 ...                ...   \n37161             Saint-Raymond                  91              Ville   \n37165  Saint-David-de-Falardeau                  91              Ville   \n37169                  Montréal                  91              Ville   \n37172              Mont-Laurier                  91              Ville   \n37175              Saint-Irénée                  91              Ville   \n\n      TERR_ZONE_GENRE_EN  \n1                   City  \n4                   City  \n8                   City  \n12                  City  \n16                  City  \n...                  ...  \n37161               City  \n37165               City  \n37169               City  \n37172               City  \n37175               City  \n\n[10769 rows x 8 columns]",
            "text/html": "<div>\n<style scoped>\n    .dataframe tbody tr th:only-of-type {\n        vertical-align: middle;\n    }\n\n    .dataframe tbody tr th {\n        vertical-align: top;\n    }\n\n    .dataframe thead th {\n        text-align: right;\n    }\n</style>\n<table border=\"1\" class=\"dataframe\">\n  <thead>\n    <tr style=\"text-align: right;\">\n      <th></th>\n      <th>ETBL_ID</th>\n      <th>TERR_GENRE</th>\n      <th>TERR_ZONE_ID</th>\n      <th>TERR_ZONE_NOM_FR</th>\n      <th>TERR_ZONE_NOM_EN</th>\n      <th>TERR_ZONE_GENRE_ID</th>\n      <th>TERR_ZONE_GENRE_FR</th>\n      <th>TERR_ZONE_GENRE_EN</th>\n    </tr>\n  </thead>\n  <tbody>\n    <tr>\n      <th>1</th>\n      <td>838721</td>\n      <td>principal</td>\n      <td>21950</td>\n      <td>Montréal</td>\n      <td>Montréal</td>\n      <td>91</td>\n      <td>Ville</td>\n      <td>City</td>\n    </tr>\n    <tr>\n      <th>4</th>\n      <td>838774</td>\n      <td>principal</td>\n      <td>22830</td>\n      <td>Boileau</td>\n      <td>Boileau</td>\n      <td>91</td>\n      <td>Ville</td>\n      <td>City</td>\n    </tr>\n    <tr>\n      <th>8</th>\n      <td>838885</td>\n      <td>principal</td>\n      <td>21950</td>\n      <td>Montréal</td>\n      <td>Montréal</td>\n      <td>91</td>\n      <td>Ville</td>\n      <td>City</td>\n    </tr>\n    <tr>\n      <th>12</th>\n      <td>838963</td>\n      <td>principal</td>\n      <td>21950</td>\n      <td>Montréal</td>\n      <td>Montréal</td>\n      <td>91</td>\n      <td>Ville</td>\n      <td>City</td>\n    </tr>\n    <tr>\n      <th>16</th>\n      <td>839010</td>\n      <td>principal</td>\n      <td>21950</td>\n      <td>Montréal</td>\n      <td>Montréal</td>\n      <td>91</td>\n      <td>Ville</td>\n      <td>City</td>\n    </tr>\n    <tr>\n      <th>...</th>\n      <td>...</td>\n      <td>...</td>\n      <td>...</td>\n      <td>...</td>\n      <td>...</td>\n      <td>...</td>\n      <td>...</td>\n      <td>...</td>\n    </tr>\n    <tr>\n      <th>37161</th>\n      <td>500016734</td>\n      <td>principal</td>\n      <td>21060</td>\n      <td>Saint-Raymond</td>\n      <td>Saint-Raymond</td>\n      <td>91</td>\n      <td>Ville</td>\n      <td>City</td>\n    </tr>\n    <tr>\n      <th>37165</th>\n      <td>500016735</td>\n      <td>principal</td>\n      <td>21860</td>\n      <td>Saint-David-de-Falardeau</td>\n      <td>Saint-David-de-Falardeau</td>\n      <td>91</td>\n      <td>Ville</td>\n      <td>City</td>\n    </tr>\n    <tr>\n      <th>37169</th>\n      <td>500016736</td>\n      <td>principal</td>\n      <td>21950</td>\n      <td>Montréal</td>\n      <td>Montréal</td>\n      <td>91</td>\n      <td>Ville</td>\n      <td>City</td>\n    </tr>\n    <tr>\n      <th>37172</th>\n      <td>500016737</td>\n      <td>principal</td>\n      <td>21918</td>\n      <td>Mont-Laurier</td>\n      <td>Mont-Laurier</td>\n      <td>91</td>\n      <td>Ville</td>\n      <td>City</td>\n    </tr>\n    <tr>\n      <th>37175</th>\n      <td>500016738</td>\n      <td>principal</td>\n      <td>21384</td>\n      <td>Saint-Irénée</td>\n      <td>Saint-Irénée</td>\n      <td>91</td>\n      <td>Ville</td>\n      <td>City</td>\n    </tr>\n  </tbody>\n</table>\n<p>10769 rows × 8 columns</p>\n</div>"
          },
          "metadata": {}
        },
        {
          "output_type": "display_data",
          "data": {
            "text/plain": "         ETBL_ID TERR_GENRE  TERR_ZONE_ID          TERR_ZONE_NOM_FR  \\\n1         838721  principal         21950                  Montréal   \n4         838774  principal         22830                   Boileau   \n8         838885  principal         21950                  Montréal   \n12        838963  principal         21950                  Montréal   \n16        839010  principal         21950                  Montréal   \n...          ...        ...           ...                       ...   \n37161  500016734  principal         21060             Saint-Raymond   \n37165  500016735  principal         21860  Saint-David-de-Falardeau   \n37169  500016736  principal         21950                  Montréal   \n37172  500016737  principal         21918              Mont-Laurier   \n37175  500016738  principal         21384              Saint-Irénée   \n\n               TERR_ZONE_NOM_EN  TERR_ZONE_GENRE_ID TERR_ZONE_GENRE_FR  \\\n1                      Montréal                  91              Ville   \n4                       Boileau                  91              Ville   \n8                      Montréal                  91              Ville   \n12                     Montréal                  91              Ville   \n16                     Montréal                  91              Ville   \n...                         ...                 ...                ...   \n37161             Saint-Raymond                  91              Ville   \n37165  Saint-David-de-Falardeau                  91              Ville   \n37169                  Montréal                  91              Ville   \n37172              Mont-Laurier                  91              Ville   \n37175              Saint-Irénée                  91              Ville   \n\n      TERR_ZONE_GENRE_EN  \n1                   City  \n4                   City  \n8                   City  \n12                  City  \n16                  City  \n...                  ...  \n37161               City  \n37165               City  \n37169               City  \n37172               City  \n37175               City  \n\n[10744 rows x 8 columns]",
            "text/html": "<div>\n<style scoped>\n    .dataframe tbody tr th:only-of-type {\n        vertical-align: middle;\n    }\n\n    .dataframe tbody tr th {\n        vertical-align: top;\n    }\n\n    .dataframe thead th {\n        text-align: right;\n    }\n</style>\n<table border=\"1\" class=\"dataframe\">\n  <thead>\n    <tr style=\"text-align: right;\">\n      <th></th>\n      <th>ETBL_ID</th>\n      <th>TERR_GENRE</th>\n      <th>TERR_ZONE_ID</th>\n      <th>TERR_ZONE_NOM_FR</th>\n      <th>TERR_ZONE_NOM_EN</th>\n      <th>TERR_ZONE_GENRE_ID</th>\n      <th>TERR_ZONE_GENRE_FR</th>\n      <th>TERR_ZONE_GENRE_EN</th>\n    </tr>\n  </thead>\n  <tbody>\n    <tr>\n      <th>1</th>\n      <td>838721</td>\n      <td>principal</td>\n      <td>21950</td>\n      <td>Montréal</td>\n      <td>Montréal</td>\n      <td>91</td>\n      <td>Ville</td>\n      <td>City</td>\n    </tr>\n    <tr>\n      <th>4</th>\n      <td>838774</td>\n      <td>principal</td>\n      <td>22830</td>\n      <td>Boileau</td>\n      <td>Boileau</td>\n      <td>91</td>\n      <td>Ville</td>\n      <td>City</td>\n    </tr>\n    <tr>\n      <th>8</th>\n      <td>838885</td>\n      <td>principal</td>\n      <td>21950</td>\n      <td>Montréal</td>\n      <td>Montréal</td>\n      <td>91</td>\n      <td>Ville</td>\n      <td>City</td>\n    </tr>\n    <tr>\n      <th>12</th>\n      <td>838963</td>\n      <td>principal</td>\n      <td>21950</td>\n      <td>Montréal</td>\n      <td>Montréal</td>\n      <td>91</td>\n      <td>Ville</td>\n      <td>City</td>\n    </tr>\n    <tr>\n      <th>16</th>\n      <td>839010</td>\n      <td>principal</td>\n      <td>21950</td>\n      <td>Montréal</td>\n      <td>Montréal</td>\n      <td>91</td>\n      <td>Ville</td>\n      <td>City</td>\n    </tr>\n    <tr>\n      <th>...</th>\n      <td>...</td>\n      <td>...</td>\n      <td>...</td>\n      <td>...</td>\n      <td>...</td>\n      <td>...</td>\n      <td>...</td>\n      <td>...</td>\n    </tr>\n    <tr>\n      <th>37161</th>\n      <td>500016734</td>\n      <td>principal</td>\n      <td>21060</td>\n      <td>Saint-Raymond</td>\n      <td>Saint-Raymond</td>\n      <td>91</td>\n      <td>Ville</td>\n      <td>City</td>\n    </tr>\n    <tr>\n      <th>37165</th>\n      <td>500016735</td>\n      <td>principal</td>\n      <td>21860</td>\n      <td>Saint-David-de-Falardeau</td>\n      <td>Saint-David-de-Falardeau</td>\n      <td>91</td>\n      <td>Ville</td>\n      <td>City</td>\n    </tr>\n    <tr>\n      <th>37169</th>\n      <td>500016736</td>\n      <td>principal</td>\n      <td>21950</td>\n      <td>Montréal</td>\n      <td>Montréal</td>\n      <td>91</td>\n      <td>Ville</td>\n      <td>City</td>\n    </tr>\n    <tr>\n      <th>37172</th>\n      <td>500016737</td>\n      <td>principal</td>\n      <td>21918</td>\n      <td>Mont-Laurier</td>\n      <td>Mont-Laurier</td>\n      <td>91</td>\n      <td>Ville</td>\n      <td>City</td>\n    </tr>\n    <tr>\n      <th>37175</th>\n      <td>500016738</td>\n      <td>principal</td>\n      <td>21384</td>\n      <td>Saint-Irénée</td>\n      <td>Saint-Irénée</td>\n      <td>91</td>\n      <td>Ville</td>\n      <td>City</td>\n    </tr>\n  </tbody>\n</table>\n<p>10744 rows × 8 columns</p>\n</div>"
          },
          "metadata": {}
        },
        {
          "output_type": "display_data",
          "data": {
            "text/plain": "TERR_ZONE_NOM_EN\nActon Vale    4\nAdstock       7\nAguanish      5\nAkulivik      1\nAlbanel       3\n             ..\nWestbury      1\nWickham       1\nWindsor       3\nWotton        7\nYamachiche    5\nName: ETBL_ID, Length: 918, dtype: int64"
          },
          "metadata": {}
        },
        {
          "output_type": "display_data",
          "data": {
            "text/plain": "         ETBL_ID TERR_GENRE  TERR_ZONE_ID         TERR_ZONE_NOM_FR  \\\n2         838721  principal          3432                 Montréal   \n5         838774  principal          3434                Outaouais   \n9         838885  principal          3432                 Montréal   \n13        838963  principal          3432                 Montréal   \n17        839010  principal          3432                 Montréal   \n...          ...        ...           ...                      ...   \n37163  500016734  principal          3416                   Québec   \n37166  500016735  principal          3438  Saguenay-Lac-Saint-Jean   \n37170  500016736  principal          3432                 Montréal   \n37173  500016737  principal          3430              Laurentides   \n37176  500016738  principal          3414               Charlevoix   \n\n              TERR_ZONE_NOM_EN  TERR_ZONE_GENRE_ID TERR_ZONE_GENRE_FR  \\\n2                     Montréal                  81             Région   \n5                    Outaouais                  81             Région   \n9                     Montréal                  81             Région   \n13                    Montréal                  81             Région   \n17                    Montréal                  81             Région   \n...                        ...                 ...                ...   \n37163     Québec City and Area                  81             Région   \n37166  Saguenay-Lac-Saint-Jean                  81             Région   \n37170                 Montréal                  81             Région   \n37173              Laurentides                  81             Région   \n37176               Charlevoix                  81             Région   \n\n      TERR_ZONE_GENRE_EN  \n2                   Area  \n5                   Area  \n9                   Area  \n13                  Area  \n17                  Area  \n...                  ...  \n37163               Area  \n37166               Area  \n37170               Area  \n37173               Area  \n37176               Area  \n\n[10790 rows x 8 columns]",
            "text/html": "<div>\n<style scoped>\n    .dataframe tbody tr th:only-of-type {\n        vertical-align: middle;\n    }\n\n    .dataframe tbody tr th {\n        vertical-align: top;\n    }\n\n    .dataframe thead th {\n        text-align: right;\n    }\n</style>\n<table border=\"1\" class=\"dataframe\">\n  <thead>\n    <tr style=\"text-align: right;\">\n      <th></th>\n      <th>ETBL_ID</th>\n      <th>TERR_GENRE</th>\n      <th>TERR_ZONE_ID</th>\n      <th>TERR_ZONE_NOM_FR</th>\n      <th>TERR_ZONE_NOM_EN</th>\n      <th>TERR_ZONE_GENRE_ID</th>\n      <th>TERR_ZONE_GENRE_FR</th>\n      <th>TERR_ZONE_GENRE_EN</th>\n    </tr>\n  </thead>\n  <tbody>\n    <tr>\n      <th>2</th>\n      <td>838721</td>\n      <td>principal</td>\n      <td>3432</td>\n      <td>Montréal</td>\n      <td>Montréal</td>\n      <td>81</td>\n      <td>Région</td>\n      <td>Area</td>\n    </tr>\n    <tr>\n      <th>5</th>\n      <td>838774</td>\n      <td>principal</td>\n      <td>3434</td>\n      <td>Outaouais</td>\n      <td>Outaouais</td>\n      <td>81</td>\n      <td>Région</td>\n      <td>Area</td>\n    </tr>\n    <tr>\n      <th>9</th>\n      <td>838885</td>\n      <td>principal</td>\n      <td>3432</td>\n      <td>Montréal</td>\n      <td>Montréal</td>\n      <td>81</td>\n      <td>Région</td>\n      <td>Area</td>\n    </tr>\n    <tr>\n      <th>13</th>\n      <td>838963</td>\n      <td>principal</td>\n      <td>3432</td>\n      <td>Montréal</td>\n      <td>Montréal</td>\n      <td>81</td>\n      <td>Région</td>\n      <td>Area</td>\n    </tr>\n    <tr>\n      <th>17</th>\n      <td>839010</td>\n      <td>principal</td>\n      <td>3432</td>\n      <td>Montréal</td>\n      <td>Montréal</td>\n      <td>81</td>\n      <td>Région</td>\n      <td>Area</td>\n    </tr>\n    <tr>\n      <th>...</th>\n      <td>...</td>\n      <td>...</td>\n      <td>...</td>\n      <td>...</td>\n      <td>...</td>\n      <td>...</td>\n      <td>...</td>\n      <td>...</td>\n    </tr>\n    <tr>\n      <th>37163</th>\n      <td>500016734</td>\n      <td>principal</td>\n      <td>3416</td>\n      <td>Québec</td>\n      <td>Québec City and Area</td>\n      <td>81</td>\n      <td>Région</td>\n      <td>Area</td>\n    </tr>\n    <tr>\n      <th>37166</th>\n      <td>500016735</td>\n      <td>principal</td>\n      <td>3438</td>\n      <td>Saguenay-Lac-Saint-Jean</td>\n      <td>Saguenay-Lac-Saint-Jean</td>\n      <td>81</td>\n      <td>Région</td>\n      <td>Area</td>\n    </tr>\n    <tr>\n      <th>37170</th>\n      <td>500016736</td>\n      <td>principal</td>\n      <td>3432</td>\n      <td>Montréal</td>\n      <td>Montréal</td>\n      <td>81</td>\n      <td>Région</td>\n      <td>Area</td>\n    </tr>\n    <tr>\n      <th>37173</th>\n      <td>500016737</td>\n      <td>principal</td>\n      <td>3430</td>\n      <td>Laurentides</td>\n      <td>Laurentides</td>\n      <td>81</td>\n      <td>Région</td>\n      <td>Area</td>\n    </tr>\n    <tr>\n      <th>37176</th>\n      <td>500016738</td>\n      <td>principal</td>\n      <td>3414</td>\n      <td>Charlevoix</td>\n      <td>Charlevoix</td>\n      <td>81</td>\n      <td>Région</td>\n      <td>Area</td>\n    </tr>\n  </tbody>\n</table>\n<p>10790 rows × 8 columns</p>\n</div>"
          },
          "metadata": {}
        },
        {
          "output_type": "display_data",
          "data": {
            "text/plain": "         ETBL_ID TERR_GENRE  TERR_ZONE_ID         TERR_ZONE_NOM_FR  \\\n2         838721  principal          3432                 Montréal   \n5         838774  principal          3434                Outaouais   \n9         838885  principal          3432                 Montréal   \n13        838963  principal          3432                 Montréal   \n17        839010  principal          3432                 Montréal   \n...          ...        ...           ...                      ...   \n37163  500016734  principal          3416                   Québec   \n37166  500016735  principal          3438  Saguenay-Lac-Saint-Jean   \n37170  500016736  principal          3432                 Montréal   \n37173  500016737  principal          3430              Laurentides   \n37176  500016738  principal          3414               Charlevoix   \n\n              TERR_ZONE_NOM_EN  TERR_ZONE_GENRE_ID TERR_ZONE_GENRE_FR  \\\n2                     Montréal                  81             Région   \n5                    Outaouais                  81             Région   \n9                     Montréal                  81             Région   \n13                    Montréal                  81             Région   \n17                    Montréal                  81             Région   \n...                        ...                 ...                ...   \n37163     Québec City and Area                  81             Région   \n37166  Saguenay-Lac-Saint-Jean                  81             Région   \n37170                 Montréal                  81             Région   \n37173              Laurentides                  81             Région   \n37176               Charlevoix                  81             Région   \n\n      TERR_ZONE_GENRE_EN  \n2                   Area  \n5                   Area  \n9                   Area  \n13                  Area  \n17                  Area  \n...                  ...  \n37163               Area  \n37166               Area  \n37170               Area  \n37173               Area  \n37176               Area  \n\n[10746 rows x 8 columns]",
            "text/html": "<div>\n<style scoped>\n    .dataframe tbody tr th:only-of-type {\n        vertical-align: middle;\n    }\n\n    .dataframe tbody tr th {\n        vertical-align: top;\n    }\n\n    .dataframe thead th {\n        text-align: right;\n    }\n</style>\n<table border=\"1\" class=\"dataframe\">\n  <thead>\n    <tr style=\"text-align: right;\">\n      <th></th>\n      <th>ETBL_ID</th>\n      <th>TERR_GENRE</th>\n      <th>TERR_ZONE_ID</th>\n      <th>TERR_ZONE_NOM_FR</th>\n      <th>TERR_ZONE_NOM_EN</th>\n      <th>TERR_ZONE_GENRE_ID</th>\n      <th>TERR_ZONE_GENRE_FR</th>\n      <th>TERR_ZONE_GENRE_EN</th>\n    </tr>\n  </thead>\n  <tbody>\n    <tr>\n      <th>2</th>\n      <td>838721</td>\n      <td>principal</td>\n      <td>3432</td>\n      <td>Montréal</td>\n      <td>Montréal</td>\n      <td>81</td>\n      <td>Région</td>\n      <td>Area</td>\n    </tr>\n    <tr>\n      <th>5</th>\n      <td>838774</td>\n      <td>principal</td>\n      <td>3434</td>\n      <td>Outaouais</td>\n      <td>Outaouais</td>\n      <td>81</td>\n      <td>Région</td>\n      <td>Area</td>\n    </tr>\n    <tr>\n      <th>9</th>\n      <td>838885</td>\n      <td>principal</td>\n      <td>3432</td>\n      <td>Montréal</td>\n      <td>Montréal</td>\n      <td>81</td>\n      <td>Région</td>\n      <td>Area</td>\n    </tr>\n    <tr>\n      <th>13</th>\n      <td>838963</td>\n      <td>principal</td>\n      <td>3432</td>\n      <td>Montréal</td>\n      <td>Montréal</td>\n      <td>81</td>\n      <td>Région</td>\n      <td>Area</td>\n    </tr>\n    <tr>\n      <th>17</th>\n      <td>839010</td>\n      <td>principal</td>\n      <td>3432</td>\n      <td>Montréal</td>\n      <td>Montréal</td>\n      <td>81</td>\n      <td>Région</td>\n      <td>Area</td>\n    </tr>\n    <tr>\n      <th>...</th>\n      <td>...</td>\n      <td>...</td>\n      <td>...</td>\n      <td>...</td>\n      <td>...</td>\n      <td>...</td>\n      <td>...</td>\n      <td>...</td>\n    </tr>\n    <tr>\n      <th>37163</th>\n      <td>500016734</td>\n      <td>principal</td>\n      <td>3416</td>\n      <td>Québec</td>\n      <td>Québec City and Area</td>\n      <td>81</td>\n      <td>Région</td>\n      <td>Area</td>\n    </tr>\n    <tr>\n      <th>37166</th>\n      <td>500016735</td>\n      <td>principal</td>\n      <td>3438</td>\n      <td>Saguenay-Lac-Saint-Jean</td>\n      <td>Saguenay-Lac-Saint-Jean</td>\n      <td>81</td>\n      <td>Région</td>\n      <td>Area</td>\n    </tr>\n    <tr>\n      <th>37170</th>\n      <td>500016736</td>\n      <td>principal</td>\n      <td>3432</td>\n      <td>Montréal</td>\n      <td>Montréal</td>\n      <td>81</td>\n      <td>Région</td>\n      <td>Area</td>\n    </tr>\n    <tr>\n      <th>37173</th>\n      <td>500016737</td>\n      <td>principal</td>\n      <td>3430</td>\n      <td>Laurentides</td>\n      <td>Laurentides</td>\n      <td>81</td>\n      <td>Région</td>\n      <td>Area</td>\n    </tr>\n    <tr>\n      <th>37176</th>\n      <td>500016738</td>\n      <td>principal</td>\n      <td>3414</td>\n      <td>Charlevoix</td>\n      <td>Charlevoix</td>\n      <td>81</td>\n      <td>Région</td>\n      <td>Area</td>\n    </tr>\n  </tbody>\n</table>\n<p>10746 rows × 8 columns</p>\n</div>"
          },
          "metadata": {}
        },
        {
          "output_type": "display_data",
          "data": {
            "text/plain": "TERR_ZONE_NOM_EN\nAbitibi-Témiscamingue       244\nBaie-James                   80\nBas-Saint-Laurent           498\nCentre-du-Québec            165\nCharlevoix                  762\n                           ... \nNunavik                      64\nOutaouais                   447\nQuébec City and Area       1008\nSaguenay-Lac-Saint-Jean     581\nÎles-de-la-Madeleine        399\nName: ETBL_ID, Length: 22, dtype: int64"
          },
          "metadata": {}
        }
      ],
      "source": [
        "def Zone_type(gender):\n",
        "    result = df.loc[df['TERR_ZONE_GENRE_EN'] == gender]\n",
        "    display(result)\n",
        "\n",
        "    result2 = result.drop_duplicates(['ETBL_ID'])\n",
        "    display(result2)\n",
        "\n",
        "    count = result.groupby('TERR_ZONE_NOM_EN')['ETBL_ID'].count()\n",
        "    display(count)\n",
        "\n",
        "Zone_type(gender = 'City')\n",
        "Zone_type(gender = 'Area')\n"
      ]
    },
    {
      "cell_type": "code",
      "execution_count": null,
      "metadata": {},
      "outputs": [],
      "source": []
    }
  ]
}