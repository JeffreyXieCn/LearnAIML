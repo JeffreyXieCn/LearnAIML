{
 "cells": [
  {
   "cell_type": "markdown",
   "metadata": {
    "colab_type": "text",
    "id": "Ba0GC4CVzJYk"
   },
   "source": [
    "![](https://encrypted-tbn0.gstatic.com/images?q=tbn%3AANd9GcRNNMSrl6xvbfPjLuk9k3dl7VyNi0ky19x11A&usqp=CAU)\n",
    "\n",
    "# **Introduction to Python for Data Science - Part 1 : First Steps with Python**\n",
    "Ericsson - August 4 to August 13, 2020\n",
    "\n",
    "by Sarah Legendre Bilodeau, M Sc., HEC Montréal\n",
    "\n",
    "Autors :\n",
    "Thomas Vaudescal,\n",
    "Sarah Legendre Bilodeau,\n",
    "Laurent Barcelo\n"
   ]
  },
  {
   "cell_type": "markdown",
   "metadata": {
    "colab_type": "text",
    "id": "xlLsl4gHESEa"
   },
   "source": [
    "# In This Training\n",
    "\n",
    "In this training, you will learn the **basics** in programming with the **Python** language and learn how to use tools to **prepare**, **manipulate** and **transform** your data for **visualization** and **analysis**. \n",
    "\n",
    "This Python training will cover several important aspects such as data manipulation, data cleansing, visualization and the use of some packages that are frequently used in data science today. \n",
    "\n"
   ]
  },
  {
   "cell_type": "markdown",
   "metadata": {
    "colab_type": "text",
    "id": "XFPh5CCEYx0Z"
   },
   "source": [
    "# What is the Python Language?\n",
    "\n",
    "The first appearance of the Python language was before the 2000s. This language was designed to be a **readable** and **simple** language. Python is **easy to learn** and **easy to use**. This language offers a wide range of possibilities and makes it possible to create programs quickly and with little effort. Being cross-platform, open source and versatile, Python is a great language for data science and is widely recognized in the development community. \n",
    "\n",
    "\n",
    "Today, emerging fields such as **Data Science**, **Artificial Intelligence** and also **Machine Learning** play an important role in problem solving. Python has become a reference language for implementing solutions in these fields. \n",
    "\n"
   ]
  },
  {
   "cell_type": "markdown",
   "metadata": {
    "colab_type": "text",
    "id": "IH0z3B5D-BRP"
   },
   "source": [
    "# The Choice of the IDE (Integrated Development Environment)\n",
    "  \n",
    "Even if the Python language can be used with the Python Shell for simple needs, the use of an appropriate IDE is necessary in Data Science. Indeed, the use of IDE allows more user-friendly interface and several tools that make programming fun.\n",
    "\n",
    "In this training, we will use Jupyter Notebook on Google Colab. \n",
    "\n",
    "It's very simple : all you need is a Google account!"
   ]
  },
  {
   "cell_type": "markdown",
   "metadata": {
    "colab_type": "text",
    "id": "oQfKiDjxYyDl"
   },
   "source": [
    "## What is Jupyter Notebook?\n",
    "\n",
    "**Jupyter Notebook** is a client-server application created by the non-profit organization **Project Jupyter**. It was published in 2015. It allows the creation and sharing of JSON Webformat documents consisting of an ordered list of **input cells** and **output cells** organized according to successive versions of the document. The cells can contain, among others, **code**, text to **Markdown format**, **mathematical formulas**. Processing is done with a client application running on the **Web**, which is accessed by the **usual browsers**. The Jupyter Notebook is easy to use. Tutorials are available on the site. \n",
    "\n",
    "The advantages of using a **Jupyter Notebook** are as follows: \n",
    "- Mature and free solution\n",
    "- Visualization of Pandas Dataframes\n",
    "- Interactive and executable code sharing\n",
    "\n",
    "There are several ways to access a **Jupyter Notebook** : \n",
    "- Directly on the website : [Jupyter](https://jupyter.org/)\n",
    "- By [Anaconda](https://www.anaconda.com/)\n",
    "- On Google Colab\n"
   ]
  },
  {
   "cell_type": "markdown",
   "metadata": {
    "colab_type": "text",
    "id": "_-AxKvquC9RF"
   },
   "source": [
    "# Base Python Programming and Packages\n",
    "\n",
    "The python language offers many basic capabilities for programming. However, it is the ability to install specialized function packages for data manipulation that is the main advantage of using Python in Data Science.\n",
    "\n",
    "Thus, during this training, we will start with some basic content about the base language of Python and learn how to use some powerfull packages that are specialized in Data Science. For exemple :\n",
    "\n",
    "- Pandas\n",
    "- Numpy\n",
    "- Matplotlib\n",
    "- Seaborn\n",
    "- SciPy\n",
    "- Scikit-learn\n",
    "- statsmodels\n",
    "- ..."
   ]
  },
  {
   "cell_type": "markdown",
   "metadata": {
    "colab_type": "text",
    "id": "dxWGdDfvipWz"
   },
   "source": [
    "# Python Language Basics\n",
    "\n",
    "Indentation : Python uses whitespaces (tabs or spaces) to structure the code\n",
    "\n",
    "Object : Everything is an object (number, string, data structure, function, class, module, ...)\n",
    "\n",
    "Comments : Any text preceded by the hash mark (#) is ignored by the Python interpreter. That symbol is often used to add comments in the code (or to exlude some parts of the code)\n",
    "\n",
    "\n",
    "\n"
   ]
  },
  {
   "cell_type": "markdown",
   "metadata": {
    "colab_type": "text",
    "id": "3mTqW8eNO_dt"
   },
   "source": [
    "# Functions\n",
    "\n",
    "A function is a block of code which only runs when it is called. It allows you to perform tasks on the data.\n",
    "\n",
    "You can pass data, known as parameters, into a function. Parameters must be specified within parentheses :\n",
    "\n",
    "`my_function(param1, param2, ...)`\n",
    "\n",
    "A function can return data as a result.\n",
    "\n",
    "\n"
   ]
  },
  {
   "cell_type": "markdown",
   "metadata": {
    "colab_type": "text",
    "id": "JY5eK4Gek4zq"
   },
   "source": [
    "# Methods\n",
    "\n",
    "Almost every objects in Python has attached functions, known as methods, that have access to the object's internal contents. \n",
    "\n",
    "`obj.some_method(param1, param2, param3)`"
   ]
  },
  {
   "cell_type": "markdown",
   "metadata": {
    "colab_type": "text",
    "id": "DjovjlXzHofH"
   },
   "source": [
    "# Variables\n",
    "\n",
    "**Without variables, it is impossible to write a program**. This term refers to the fact of assigning a name or **identifier** to **information**: by naming them, we can **manipulate** this information much more easily. \n",
    "\n",
    "The other advantage is to be able to write **valid programs** for **varying values**: we can change the value of the variables and the program will always run in the same way and will make the same types of calculations whatever the values manipulated. The variables play a **similar role** to the **unknown in a mathematical equation**.\n",
    "   \n",
    "To summarize, a variable is characterized by :\n",
    "\n",
    " - An **identifier** (a name): it can contain letters, numbers, underlined blanks, but it cannot begin with a number. **Upper and lower case letters are differentiated**. \n",
    "\n",
    " - A **type** : it is an information about the content of the variable which tells the python interpreter how to manipulate this information."
   ]
  },
  {
   "cell_type": "markdown",
   "metadata": {
    "colab_type": "text",
    "id": "PSPTYyJJJREf"
   },
   "source": [
    "## Assigning Values to Variables\n",
    "\n",
    "Creating a variable is reserving memory space. Unlike some other languages, Python variables do not need explicit declaration to reserve memory space. The equal sign (=) is used to create and assign values to variables. "
   ]
  },
  {
   "cell_type": "code",
   "execution_count": 1,
   "metadata": {
    "colab": {
     "base_uri": "https://localhost:8080/",
     "height": 34
    },
    "colab_type": "code",
    "id": "3rwFF0L3G19R",
    "outputId": "fa612720-b6ac-4d09-fc30-75d1b3d515de"
   },
   "outputs": [
    {
     "output_type": "execute_result",
     "data": {
      "text/plain": "str"
     },
     "metadata": {},
     "execution_count": 1
    }
   ],
   "source": [
    "# Here we create a \"Test\" variable that contain the string \"Hello\".\n",
    "# Using the type() function, we can find out the type corresponding to the variable. \n",
    "test = \"Hello\" \n",
    "type(test) # type function"
   ]
  },
  {
   "cell_type": "code",
   "execution_count": 2,
   "metadata": {
    "colab": {
     "base_uri": "https://localhost:8080/",
     "height": 51
    },
    "colab_type": "code",
    "id": "uZL6SF18HsMV",
    "outputId": "ae9f1125-b996-4486-ef38-512500f3236f",
    "tags": []
   },
   "outputs": [
    {
     "output_type": "stream",
     "name": "stdout",
     "text": "<class 'int'>\n10\n"
    }
   ],
   "source": [
    "# Calculation example using variables \n",
    "n = 5\n",
    "k = 2\n",
    "\n",
    "Product = k*n\n",
    "\n",
    "print(type(Product)) #print and type functions\n",
    "print(Product)"
   ]
  },
  {
   "cell_type": "markdown",
   "metadata": {
    "colab_type": "text",
    "id": "2EiTOUL9JhCr"
   },
   "source": [
    "## Standard Data Types\n",
    "\n",
    "Python has various standard data types that are used to define the possible operations with them and the storage method for each of them.\n",
    "\n",
    "Python has five standard data types :\n",
    "\n",
    "- Numbers\n",
    "- String\n",
    "- List\n",
    "- Tuple\n",
    "- Dictionary\n",
    "\n"
   ]
  },
  {
   "cell_type": "markdown",
   "metadata": {
    "colab_type": "text",
    "id": "l-hQrNZOZ2fk"
   },
   "source": [
    "### Numbers\n",
    "\n",
    "Number objects are created when you assign a **numerical value** to them. \n",
    "\n",
    "Python supports four different numerical types :\n",
    "\n",
    "- *int* (signed integers)\n",
    "- *long* (long integers, they can also be represented in octal and hexadecimal)\n",
    "- *float* (floating point real values)\n",
    "- *complex* (complex numbers)"
   ]
  },
  {
   "cell_type": "code",
   "execution_count": 3,
   "metadata": {
    "colab": {
     "base_uri": "https://localhost:8080/",
     "height": 51
    },
    "colab_type": "code",
    "id": "4HZ0F9ZMTP29",
    "outputId": "aae769ad-4914-432a-808f-fb9413a670de",
    "tags": []
   },
   "outputs": [
    {
     "output_type": "stream",
     "name": "stdout",
     "text": "<class 'int'>\n<class 'float'>\n"
    }
   ],
   "source": [
    "# Numbers\n",
    "num1 = 23\n",
    "num2 = 2.3\n",
    "\n",
    "print(type(num1))\n",
    "print(type(num2))"
   ]
  },
  {
   "cell_type": "markdown",
   "metadata": {
    "colab_type": "text",
    "id": "NBBFmcl8aXfi"
   },
   "source": [
    "### Strings\n",
    "\n",
    "String is a finite sequence of characters. In other words: **text**.\n",
    "\n",
    "Strings are identified as a contiguous set of characters represented between quotation marks. Pairs of single or double quotes are allows. Subsets of strings can be taken using the slice operator ([ ] and [:]) **with indexes starting at 0** in the beginning of the string. Do not confuse the part between quotes or apostrophes, which is a constant, with the variable that contains it.\n",
    "\n",
    "The plus (+) sign is the string concatenation operator and the asterisk (*) is the repetition operator."
   ]
  },
  {
   "cell_type": "code",
   "execution_count": 6,
   "metadata": {
    "colab": {
     "base_uri": "https://localhost:8080/",
     "height": 153
    },
    "colab_type": "code",
    "id": "cVy5dBgVYbeq",
    "outputId": "54f2ba02-94db-42ce-d5a9-16b5b56b8687"
   },
   "outputs": [
    {
     "name": "stdout",
     "output_type": "stream",
     "text": [
      "My first string! 1234\n",
      "M\n",
      "first\n",
      "first string! 1234\n",
      "My first string! 1234My first string! 1234\n",
      "My first string! 1234TEST\n",
      "<class 'str'>\n",
      "It's a good test for you\n"
     ]
    }
   ],
   "source": [
    "# Strings\n",
    "\n",
    "str1 = \"My first string! 1234\"\n",
    "\n",
    "print(str1)         # Complete string\n",
    "print(str1[0])       # First character of the string\n",
    "print(str1[3:8])     # Characters starting from 4th to 9th\n",
    "print(str1[3:])      # String starting from 4th character\n",
    "print(str1 * 2)      # String two times\n",
    "print(str1 + \"TEST\") # Concatenated string\n",
    "print(type(str1))\n",
    "\n",
    "str2 = \"It's a good test for you\"\n",
    "print(str2)\n",
    "\n",
    "str3 = 'It s a good test for you'"
   ]
  },
  {
   "cell_type": "markdown",
   "metadata": {
    "colab_type": "text",
    "id": "NKy8_jguJVzh"
   },
   "source": [
    "Use the ``format`` method or the ``%`` operator to format strings, even when the parameters are all strings. Use your judgment to decide between + and % (or format). A few examples:"
   ]
  },
  {
   "cell_type": "code",
   "execution_count": 7,
   "metadata": {
    "colab": {
     "base_uri": "https://localhost:8080/",
     "height": 119
    },
    "colab_type": "code",
    "id": "2wGH9PkfJdp2",
    "outputId": "d65fe966-49ad-41b7-e441-b1df1a1ff4fa",
    "tags": []
   },
   "outputs": [
    {
     "output_type": "stream",
     "name": "stdout",
     "text": "7\n3, 4!\n3, 4\na: 3; b: 4\na: 3; b: 4\na: 3; b: 4\na:3 b:4\n"
    }
   ],
   "source": [
    "a = 3\n",
    "b = 4\n",
    "\n",
    "x = a + b\n",
    "print(x)\n",
    "\n",
    "x1 = '%s, %s!' % (a, b)\n",
    "print(x1)\n",
    "\n",
    "x2 = '{}, {}'.format(a, b)\n",
    "print(x2)\n",
    "\n",
    "x3 = 'a: %s; b: %s' % (a, b)\n",
    "print(x3)\n",
    "\n",
    "x4 = 'a: {}; b: {}'.format(a, b)\n",
    "print(x4)\n",
    "\n",
    "x5 = f'a: {a}; b: {b}'\n",
    "print(x5)\n",
    "\n",
    "#print(\"a:\" + a + \" b:\" + b) # can only concatenate str (not \"int\") to str\n",
    "print(\"a:\" + str(a) + \" b:\" + str(b))"
   ]
  },
  {
   "cell_type": "markdown",
   "metadata": {
    "colab_type": "text",
    "id": "L9QWsDZ8bh49"
   },
   "source": [
    "### Lists\n",
    "\n",
    "Lists are the most versatile of Python's compound data types. A list contains items separated by commas and enclosed within **square brackets** ([]).\n",
    "All the items belonging to a list can be of different data type.\n",
    "\n",
    "The values stored in a list can be accessed using the slice operator ([ ] and [:]) **with indexes starting at 0** in the beginning of the list.\n",
    "\n"
   ]
  },
  {
   "cell_type": "code",
   "execution_count": 8,
   "metadata": {
    "colab": {
     "base_uri": "https://localhost:8080/",
     "height": 187
    },
    "colab_type": "code",
    "id": "IZODv8gwYdUf",
    "outputId": "ef3dfb01-c0c7-4ddb-f19a-561dea4238b1",
    "tags": []
   },
   "outputs": [
    {
     "output_type": "stream",
     "name": "stdout",
     "text": "['abcd', 123, 10.2, 'EXAMPLE', 70.2]\n[456, 'OTHER']\nabcd\n[123, 10.2]\n[10.2, 'EXAMPLE', 70.2]\n[456, 'OTHER', 456, 'OTHER']\n['abcd', 123, 10.2, 'EXAMPLE', 70.2, 456, 'OTHER']\n<class 'list'>\n<class 'int'>\nb\n"
    }
   ],
   "source": [
    "# Lists\n",
    "\n",
    "list1 = [ 'abcd', 123 , 10.2, 'EXAMPLE', 70.2 ]\n",
    "list2 = [456, 'OTHER']\n",
    "\n",
    "print(list1)          # Prints complete list\n",
    "print(list2)\n",
    "\n",
    "print(list1[0])       # First element of the list\n",
    "print(list1[1:3])     # Elements starting from 2nd till 3rd \n",
    "print(list1[2:])      # Elements starting from 3rd element\n",
    "print(list2 * 2)  # List2 two times\n",
    "print(list1 + list2) # Concatenated lists\n",
    "\n",
    "print(type(list1))\n",
    "print(type(list1[1]))\n",
    "\n",
    "print(list1[0][1])"
   ]
  },
  {
   "cell_type": "markdown",
   "metadata": {
    "colab_type": "text",
    "id": "kIKhPjT7cMQw"
   },
   "source": [
    "### Tuples\n",
    "\n",
    "The tuple is similar to the list, because it consists of a number of values separated by commas.\n",
    "\n",
    "The main differences between lists and tuples are that the lists are enclosed in brackets ( [ ] ) and their elements and size can be changed, while tuples are enclosed in parentheses ( ( ) ) and cannot be updated. "
   ]
  },
  {
   "cell_type": "code",
   "execution_count": 9,
   "metadata": {
    "colab": {
     "base_uri": "https://localhost:8080/",
     "height": 187
    },
    "colab_type": "code",
    "id": "uHPxZ0U6c0Qw",
    "outputId": "3032f16b-2384-47d8-d915-b7b4c3f6cd64"
   },
   "outputs": [
    {
     "name": "stdout",
     "output_type": "stream",
     "text": [
      "('abcd', 123, 10.2, 'EXAMPLE', 70.2)\n",
      "(456, 'OTHER')\n",
      "abcd\n",
      "(123, 10.2)\n",
      "(10.2, 'EXAMPLE', 70.2)\n",
      "(456, 'OTHER', 456, 'OTHER')\n",
      "('abcd', 123, 10.2, 'EXAMPLE', 70.2, 456, 'OTHER')\n",
      "<class 'tuple'>\n",
      "<class 'int'>\n",
      "b\n"
     ]
    }
   ],
   "source": [
    "tuple1 = ( 'abcd', 123 , 10.2, 'EXAMPLE', 70.2 )\n",
    "tuple2 = (456, 'OTHER')\n",
    "\n",
    "print(tuple1)          # Prints complete tuple\n",
    "print(tuple2)\n",
    "\n",
    "print(tuple1[0])       # First element of the tuple\n",
    "print(tuple1[1:3])     # Elements starting from 2nd till 3rd \n",
    "print(tuple1[2:])      # Elements starting from 3rd element\n",
    "print(tuple2 * 2)  # tuple two times\n",
    "print(tuple1 + tuple2) # Concatenated tuple\n",
    "\n",
    "print(type(tuple1))\n",
    "print(type(tuple1[1]))\n",
    "\n",
    "print(tuple1[0][1])"
   ]
  },
  {
   "cell_type": "code",
   "execution_count": 10,
   "metadata": {
    "colab": {
     "base_uri": "https://localhost:8080/",
     "height": 34
    },
    "colab_type": "code",
    "id": "JDSetbF3dsvQ",
    "outputId": "99138c23-9429-41e9-d85e-cc3f6c3503c5"
   },
   "outputs": [
    {
     "name": "stdout",
     "output_type": "stream",
     "text": [
      "['abcd', 123, 999, 'EXAMPLE', 70.2]\n"
     ]
    }
   ],
   "source": [
    "# Difference between list and tuple\n",
    "list1 = ['abcd', 123 , 10.2, 'EXAMPLE', 70.2]\n",
    "list1[2] = 999     # Valid syntax with list\n",
    "print(list1)\n",
    "\n",
    "tuple1 = ('abcd', 123 , 10.2, 'EXAMPLE', 70.2)\n",
    "#tuple1[2] = 999    # Invalid syntax with tuple\n"
   ]
  },
  {
   "cell_type": "markdown",
   "metadata": {
    "colab_type": "text",
    "id": "H8XC0gMNexeF"
   },
   "source": [
    "### Dictionary\n",
    "\n",
    "A dictionary is a collection which is unordered, changeable and indexed. In Python dictionaries are written with curly brackets, and they have keys and values. It consist of key-value pairs. A dictionary key can be almost any Python type, but are usually numbers or strings.\n",
    "\n",
    "Dictionaries are enclosed by curly brackets ({ }) and values can be assigned and accessed using square brackets ([])."
   ]
  },
  {
   "cell_type": "code",
   "execution_count": 11,
   "metadata": {
    "colab": {
     "base_uri": "https://localhost:8080/",
     "height": 119
    },
    "colab_type": "code",
    "id": "pLos6IlBfPQ2",
    "outputId": "7c0bbc43-04d7-41fe-a879-13916b094875"
   },
   "outputs": [
    {
     "name": "stdout",
     "output_type": "stream",
     "text": [
      "{'groupe': 'A', 'school': 'HEC', 'result': 90}\n",
      "dict_keys(['groupe', 'school', 'result'])\n",
      "dict_values(['A', 'HEC', 90])\n",
      "A\n",
      "90\n",
      "dict_values(['B', 'UL', 88])\n"
     ]
    }
   ],
   "source": [
    "dict1 = {}\n",
    "dict1['groupe'] = \"A\"\n",
    "dict1['school'] = \"HEC\"\n",
    "dict1['result'] = 90\n",
    "\n",
    "print(dict1)          # Prints complete dictionary\n",
    "print(dict1.keys())   # Prints all the keys\n",
    "print(dict1.values()) # Prints all the values\n",
    "\n",
    "print(dict1['groupe'])\n",
    "print(dict1['result'])\n",
    "\n",
    "dict2 = {'groupe':'B', 'school':\"UL\", 'result':88}\n",
    "print(dict2.values()) "
   ]
  },
  {
   "cell_type": "markdown",
   "metadata": {
    "colab_type": "text",
    "id": "iahUMM14H7xG"
   },
   "source": [
    "## Variables and Argument Passages\n",
    "\n",
    "When you assign a variable (or name) in Python, you create a **reference** to the object on the right side of the equal sign. For example, let's take a list of integers : "
   ]
  },
  {
   "cell_type": "code",
   "execution_count": 9,
   "metadata": {
    "colab": {},
    "colab_type": "code",
    "id": "6i28AISpH_Kb"
   },
   "outputs": [],
   "source": [
    "a = [1,2,3]"
   ]
  },
  {
   "cell_type": "markdown",
   "metadata": {
    "colab_type": "text",
    "id": "ocAjY-loIAJe"
   },
   "source": [
    "Variable a is now assigned to a new variable b :"
   ]
  },
  {
   "cell_type": "code",
   "execution_count": 10,
   "metadata": {
    "colab": {},
    "colab_type": "code",
    "id": "dq13j9TQIEeN"
   },
   "outputs": [],
   "source": [
    "b = a "
   ]
  },
  {
   "cell_type": "markdown",
   "metadata": {
    "colab_type": "text",
    "id": "ZNMlfq-3IPh9"
   },
   "source": [
    "In some languages, this assignment would result in the `[1, 2, 3]` data being copied. In Python, **A and B actually refer to the same object**, the original `[1, 2, 3]` list. You can prove this to yourself by adding an item to A and then looking at B :"
   ]
  },
  {
   "cell_type": "code",
   "execution_count": 11,
   "metadata": {
    "colab": {
     "base_uri": "https://localhost:8080/",
     "height": 34
    },
    "colab_type": "code",
    "id": "EQkJTl5UITij",
    "outputId": "448940cf-c1fe-492e-dbff-7c5f3efd1be3",
    "tags": []
   },
   "outputs": [
    {
     "output_type": "stream",
     "name": "stdout",
     "text": "[1, 2, 3, 4]\n"
    }
   ],
   "source": [
    "a.append(4)\n",
    "print(b)\n",
    "# A change to \"a\" has resulted in a change to \"b\"!"
   ]
  },
  {
   "cell_type": "markdown",
   "metadata": {
    "colab_type": "text",
    "id": "C8-DJeVeIZkA"
   },
   "source": [
    "**Understanding** the semantics of Python references and knowing **when, how and why** data is copied is especially important when working with **large** databases. \n",
    "\n",
    "To get around this problem, it is possible to write :\n",
    "\n",
    "- `B = list(A)`. Python's built-in function `list()`. \n",
    "- `B = [i for i in A]`. List comprehension object. We will see later in the training how these work. "
   ]
  },
  {
   "cell_type": "markdown",
   "metadata": {
    "colab_type": "text",
    "id": "yK-x95RqIgdv"
   },
   "source": [
    "## Immutable Objects ##\n",
    "\n",
    "A variable of type **immutable cannot be modified**. An operation on a variable of this type necessarily leads to the **creation of another variable of the same type**, even if the latter is temporary.\n",
    "\n",
    "**Strings** and **tuples** are immutable objects. It is not possible to modify a variable of this type and it is necessary to recreate another of the same type which will integrate the modification."
   ]
  },
  {
   "cell_type": "code",
   "execution_count": 12,
   "metadata": {
    "colab": {},
    "colab_type": "code",
    "id": "h6hyybSCImfN",
    "tags": []
   },
   "outputs": [
    {
     "output_type": "stream",
     "name": "stdout",
     "text": "11\n"
    }
   ],
   "source": [
    "# The statement x += 10 adds 10 to variable x which is initially at 1. \n",
    "# This is equivalent to writing x = x + 10. \n",
    "# Also works with x -= 10 to subtract; x *= to multiply etc...\n",
    "# Variable must be initialized first. \n",
    "x = 1\n",
    "x += 10\n",
    "print(x)"
   ]
  },
  {
   "cell_type": "code",
   "execution_count": 13,
   "metadata": {
    "colab": {
     "base_uri": "https://localhost:8080/",
     "height": 85
    },
    "colab_type": "code",
    "id": "0xWDkyaIInK5",
    "outputId": "6fb4049e-9a3c-4128-85db-2db350f2bffe",
    "tags": []
   },
   "outputs": [
    {
     "output_type": "stream",
     "name": "stdout",
     "text": "('Orange', 'Jaune', 'Blue')\n('Orange', 'Yellow', 'Blue')\nabcxefg\nabcdefg\n"
    }
   ],
   "source": [
    "# Example of a Tuple : \n",
    "# Remember that a tuple is in parentheses and that you can't modify its contain. \n",
    "is_Tuple = (\"Orange\", \"Jaune\", \"Blue\")\n",
    "print(is_Tuple)\n",
    "\n",
    "#is_Tuple[1]=\"Yellow\"  #Error!\n",
    "\n",
    "# Solution\n",
    "is_tuple2 = list(is_Tuple)\n",
    "is_tuple2[1]=\"Yellow\"\n",
    "is_Tuple=tuple(is_tuple2)\n",
    "print(is_Tuple)\n",
    "\n",
    "str1 = \"abcxefg\"\n",
    "print(str1)\n",
    "#str1[3]=\"d\" #Error!\n",
    "\n",
    "# Solution\n",
    "str2 = str1[:3]+\"d\"+str1[4:]\n",
    "print(str2)"
   ]
  },
  {
   "cell_type": "markdown",
   "metadata": {
    "colab_type": "text",
    "id": "wVBgwuZALVro"
   },
   "source": [
    "# Import Packages\n",
    "A **package** is a **set of functions and objects**. These are grouped together and made available so that they can be used without having to rewrite them.\n",
    "\n",
    "These functions and objects allow you to do: numerical calculation, graphics, text formatting, document generation...\n",
    "\n",
    "Some Python packages have become famous among the majority of Python users because of the efficiency of their modules. We can mention **NumPy, Matplotlib, Seaborn**, or **Pandas**, all useful for data science. It is possible to learn about the functions of a package by going directly to their **documentation site**. For example for pandas, you just have to type \"pandas python\" in the search bar. \n",
    "\n",
    "So we will see different methods to import a package: "
   ]
  },
  {
   "cell_type": "markdown",
   "metadata": {
    "colab_type": "text",
    "id": "lI1InttkLdjX"
   },
   "source": [
    "- **import \"package name\"**: The import instruction is used when you want to import an entire package. This is the most common method, because it saves time and requires only one line of code. However, this approach consumes more memory resources than the following technique."
   ]
  },
  {
   "cell_type": "code",
   "execution_count": 17,
   "metadata": {
    "colab": {},
    "colab_type": "code",
    "id": "PFn8wOmfLgMG"
   },
   "outputs": [],
   "source": [
    "# Importing the pandas package\n",
    "import pandas\n",
    "# Importing more than one package with a unique import command\n",
    "import pandas,numpy"
   ]
  },
  {
   "cell_type": "markdown",
   "metadata": {
    "colab_type": "text",
    "id": "reUjzG8lLl7i"
   },
   "source": [
    "- **from \"package name\" import \"function name\"** : This command is used when you want to selectively import specific attributes of the package. This saves resources but at the cost of greater complexity."
   ]
  },
  {
   "cell_type": "code",
   "execution_count": 18,
   "metadata": {
    "colab": {},
    "colab_type": "code",
    "id": "2t9lg5SCL0PH"
   },
   "outputs": [],
   "source": [
    "from pandas import DataFrame"
   ]
  },
  {
   "cell_type": "markdown",
   "metadata": {
    "colab_type": "text",
    "id": "vTaStl-rL4Z7"
   },
   "source": [
    "It is possible to use aliases by adding `as` after the import. **Aliases make it easier to call the different modules** in our program. The most commonly used are the following:"
   ]
  },
  {
   "cell_type": "code",
   "execution_count": 19,
   "metadata": {
    "colab": {},
    "colab_type": "code",
    "id": "-aHFz2ffL7H3"
   },
   "outputs": [],
   "source": [
    "import matplotlib as plt\n",
    "import pandas as pd\n",
    "import numpy as np\n",
    "import seaborn as sns"
   ]
  },
  {
   "cell_type": "markdown",
   "metadata": {
    "colab_type": "text",
    "id": "JfRdHLHXK6dI"
   },
   "source": [
    "# Define the Current Directory \n",
    "\n",
    "Setting the current directory is useful for specifying in which directory Python should look for importing data files. To check the current directory, execute the following command :"
   ]
  },
  {
   "cell_type": "code",
   "execution_count": 14,
   "metadata": {
    "colab": {
     "base_uri": "https://localhost:8080/",
     "height": 35
    },
    "colab_type": "code",
    "id": "EadtyJ9CK-9g",
    "outputId": "220ba616-f3c9-43e8-a1ed-9d76f57c6dd1"
   },
   "outputs": [
    {
     "output_type": "execute_result",
     "data": {
      "text/plain": "'c:\\\\Git\\\\GitHub\\\\LearnAIML\\\\Python\\\\PythonTraining\\\\Part1-Basics'"
     },
     "metadata": {},
     "execution_count": 14
    }
   ],
   "source": [
    "# Importing the os package\n",
    "import os\n",
    "os.getcwd()"
   ]
  },
  {
   "cell_type": "markdown",
   "metadata": {
    "colab_type": "text",
    "id": "6yk93Z22LCjq"
   },
   "source": [
    "**For IDEs installed on the computer** :\n",
    "\n",
    "To change  the current directory, just specify the full path of the new directory, as below :"
   ]
  },
  {
   "cell_type": "code",
   "execution_count": 21,
   "metadata": {
    "colab": {
     "base_uri": "https://localhost:8080/",
     "height": 181
    },
    "colab_type": "code",
    "id": "xa_ix0YNLKPw",
    "outputId": "4065670f-df08-42a6-dcf7-7a978624fcad"
   },
   "outputs": [],
   "source": [
    "import os\n",
    "os.chdir(\"C:\\\\Users\\\\sarah\\\\Documents\\\\HEC\\\\École des dirigeants\")"
   ]
  },
  {
   "cell_type": "markdown",
   "metadata": {
    "colab_type": "text",
    "id": "h5qB6pG2vtu1"
   },
   "source": [
    "**For Google Colab IDE** :"
   ]
  },
  {
   "cell_type": "code",
   "execution_count": 5,
   "metadata": {
    "colab": {
     "base_uri": "https://localhost:8080/",
     "height": 122
    },
    "colab_type": "code",
    "id": "9CAsmnLPuU6V",
    "outputId": "292e9470-174c-4096-fb90-ca3fad9ea3ca"
   },
   "outputs": [
    {
     "name": "stdout",
     "output_type": "stream",
     "text": [
      "Go to this URL in a browser: https://accounts.google.com/o/oauth2/auth?client_id=947318989803-6bn6qk8qdgf4n4g3pfee6491hc0brc4i.apps.googleusercontent.com&redirect_uri=urn%3aietf%3awg%3aoauth%3a2.0%3aoob&response_type=code&scope=email%20https%3a%2f%2fwww.googleapis.com%2fauth%2fdocs.test%20https%3a%2f%2fwww.googleapis.com%2fauth%2fdrive%20https%3a%2f%2fwww.googleapis.com%2fauth%2fdrive.photos.readonly%20https%3a%2f%2fwww.googleapis.com%2fauth%2fpeopleapi.readonly\n",
      "\n",
      "Enter your authorization code:\n",
      "··········\n",
      "Mounted at /content/drive\n"
     ]
    }
   ],
   "source": [
    "from google.colab import drive\n",
    "drive.mount(\"/content/drive\")"
   ]
  },
  {
   "cell_type": "code",
   "execution_count": 9,
   "metadata": {
    "colab": {},
    "colab_type": "code",
    "id": "3EFavJIDuhus"
   },
   "outputs": [],
   "source": [
    "import os\n",
    "os.chdir(\"/content/drive/My Drive/Colab Notebooks/Ericsson\")"
   ]
  },
  {
   "cell_type": "markdown",
   "metadata": {
    "colab_type": "text",
    "id": "UIxkcSvJLQI6"
   },
   "source": [
    "The current directory tells Python in which directory to search for the requested data if no path is specified for example."
   ]
  }
 ],
 "metadata": {
  "colab": {
   "collapsed_sections": [],
   "name": "HEC_python_part1.ipynb",
   "provenance": [],
   "toc_visible": true
  },
  "kernelspec": {
   "display_name": "Python 3",
   "language": "python",
   "name": "python3"
  },
  "language_info": {
   "codemirror_mode": {
    "name": "ipython",
    "version": 3
   },
   "file_extension": ".py",
   "mimetype": "text/x-python",
   "name": "python",
   "nbconvert_exporter": "python",
   "pygments_lexer": "ipython3",
   "version": "3.7.1-final"
  }
 },
 "nbformat": 4,
 "nbformat_minor": 1
}