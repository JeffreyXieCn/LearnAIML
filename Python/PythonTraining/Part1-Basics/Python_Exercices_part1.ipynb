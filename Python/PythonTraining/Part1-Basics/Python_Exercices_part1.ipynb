{
 "cells": [
  {
   "cell_type": "markdown",
   "metadata": {
    "colab_type": "text",
    "id": "TV9krrAbM5W4"
   },
   "source": [
    "![](https://encrypted-tbn0.gstatic.com/images?q=tbn%3AANd9GcRNNMSrl6xvbfPjLuk9k3dl7VyNi0ky19x11A&usqp=CAU)\n",
    "\n",
    "# **Introduction to Python for Data Science - Exercices part 1**\n",
    "Ericsson - August 4 to August 13, 2020\n",
    "\n",
    "Sarah Legendre Bilodeau, M Sc., HEC Montréal ( sarah.legendre.bilodeau@vidensanalytics.com )\n"
   ]
  },
  {
   "cell_type": "markdown",
   "metadata": {
    "colab_type": "text",
    "id": "tYqf3YJQNI6_"
   },
   "source": [
    "# Exercice 1\n",
    "Build a code to calculate the amount after applying an inflation rate to an initial amount. \n",
    "Use the concept of variables to store your data, including input data and the result.\n",
    "Print your result and the type of your result variable in the result window.\n"
   ]
  },
  {
   "cell_type": "code",
   "execution_count": 1,
   "metadata": {
    "colab": {},
    "colab_type": "code",
    "id": "3WihuihaM1Eg",
    "tags": []
   },
   "outputs": [
    {
     "output_type": "stream",
     "name": "stdout",
     "text": "102.0\n<class 'float'>\n"
    }
   ],
   "source": [
    "# Your solution\n",
    "before = 100\n",
    "inflationRate = 0.02\n",
    "after = before * (1 + inflationRate)\n",
    "\n",
    "print(after)\n",
    "print(type(after))\n"
   ]
  },
  {
   "cell_type": "markdown",
   "metadata": {
    "colab_type": "text",
    "id": "8e1cLOTsQi83"
   },
   "source": [
    "# Exercice 2\n",
    "Considering the following quote:\n",
    "\n",
    "*\"Elementary, my dear Watson.\"*"
   ]
  },
  {
   "cell_type": "markdown",
   "metadata": {
    "colab_type": "text",
    "id": "9B3MmfO2S8YE"
   },
   "source": [
    "a) Create a string variable with that quote for content. Create a code for extracting the last word without the point. Display that word in the result window.\n",
    "\n",
    "Note : Do not hesitate to search on google to find an appropriate function if needed !"
   ]
  },
  {
   "cell_type": "code",
   "execution_count": 2,
   "metadata": {
    "colab": {},
    "colab_type": "code",
    "id": "_OVxGB6pRMoV",
    "tags": []
   },
   "outputs": [
    {
     "output_type": "stream",
     "name": "stdout",
     "text": "19\n27\nWatson\nWatson\n"
    }
   ],
   "source": [
    "# Your solution\n",
    "str = \"Elementary, my dear Watson.\"\n",
    "print(str.rindex(' '));\n",
    "print(len(str));\n",
    "print(str[str.rindex(' ') + 1 : len(str) - 1])\n",
    "print(str[str.rindex(' ') + 1 : -1])"
   ]
  },
  {
   "cell_type": "markdown",
   "metadata": {
    "colab_type": "text",
    "id": "Fr0U-rBnT2B5"
   },
   "source": [
    "b) Remove the comma from the **same object** that contain the quote. Display the result in the result window."
   ]
  },
  {
   "cell_type": "code",
   "execution_count": 3,
   "metadata": {
    "colab": {},
    "colab_type": "code",
    "id": "gmXm1fAUUoqD",
    "tags": []
   },
   "outputs": [
    {
     "output_type": "stream",
     "name": "stdout",
     "text": "Elementary my dear Watson.\nElementary my dear Watson.\n"
    }
   ],
   "source": [
    "# Your solution\n",
    "#print(str[0: -1])\n",
    "print(str[:10] + str[11:])\n",
    "print(str.replace(',', ''))"
   ]
  },
  {
   "cell_type": "markdown",
   "metadata": {
    "colab_type": "text",
    "id": "gOaCxkYSWTXC"
   },
   "source": [
    "c) From the variable containing the quote, display the following sentence (including the \"\") in the result window:\n",
    "\n",
    "*Sherlock Holmes said: \"Elementary, my dear Watson.\"*"
   ]
  },
  {
   "cell_type": "code",
   "execution_count": 7,
   "metadata": {
    "colab": {},
    "colab_type": "code",
    "id": "5xOoI6zkXdSC",
    "tags": []
   },
   "outputs": [
    {
     "output_type": "stream",
     "name": "stdout",
     "text": "Sherlock Holmes said: \"Elementary, my dear Watson.\"\nSherlock Holmes said: \"Elementary, my dear Watson.\"\nSherlock Holmes said: \"Elementary, my dear Watson.\"\nSherlock Holmes said: \"Elementary, my dear Watson.\"\n"
    }
   ],
   "source": [
    "# Your solution\n",
    "print('Sherlock Holmes said: \"{}\"'.format(str))\n",
    "print(\"Sherlock Holmes said: \\\"{}\\\"\".format(str))\n",
    "\n",
    "print(\"Sherlock Holmes said: \\\"%s\\\"\" % (str))\n",
    "print(f\"Sherlock Holmes said: \\\"{str}\\\"\")"
   ]
  },
  {
   "cell_type": "markdown",
   "metadata": {
    "colab_type": "text",
    "id": "8ocS13JHYnXH"
   },
   "source": [
    "# Exercice 3\n",
    "Considering the following numbers :\n",
    "\n",
    "70  \n",
    "25  \n",
    "99  \n",
    "100  \n",
    "88  \n",
    "\n"
   ]
  },
  {
   "cell_type": "markdown",
   "metadata": {
    "colab_type": "text",
    "id": "vh6zDVS7aHLk"
   },
   "source": [
    "a) Create a list variable that will contain that numbers. Display the 3rd and 4th values in the result window."
   ]
  },
  {
   "cell_type": "code",
   "execution_count": 8,
   "metadata": {
    "colab": {},
    "colab_type": "code",
    "id": "GOp8TdrLZC35",
    "tags": []
   },
   "outputs": [
    {
     "output_type": "stream",
     "name": "stdout",
     "text": "99\n100\n[99, 100]\n"
    }
   ],
   "source": [
    "# Your solution\n",
    "list1 = [70, 25, 99, 100, 88]\n",
    "print(list1[2])\n",
    "print(list1[3])\n",
    "print(list1[2:4])"
   ]
  },
  {
   "cell_type": "markdown",
   "metadata": {
    "colab_type": "text",
    "id": "bFBdPCawaptE"
   },
   "source": [
    "b) Using append() method, add these 3 numbers to the initial variable :\n",
    "\n",
    "66  \n",
    "54  \n",
    "99  \n",
    "\n",
    "Compare the result with the same task using the extend() method."
   ]
  },
  {
   "cell_type": "code",
   "execution_count": 10,
   "metadata": {
    "colab": {},
    "colab_type": "code",
    "id": "H4S4vOQ7a_hC",
    "tags": []
   },
   "outputs": [
    {
     "output_type": "stream",
     "name": "stdout",
     "text": "[70, 25, 99, 100, 88]\n[70, 25, 99, 100, 88]\n[70, 25, 99, 100, 88, 66, 54, 99]\n[70, 25, 99, 100, 88]\n[70, 25, 99, 100, 88, 66, 54, 99]\n[70, 25, 99, 100, 88]\n[70, 25, 99, 100, 88, [66, 54, 99]]\n"
    }
   ],
   "source": [
    "# Your solution\n",
    "print(list1)\n",
    "list2 = list(list1)\n",
    "list2.append(66)\n",
    "list2.append(54)\n",
    "list2.append(99)\n",
    "print(list1)\n",
    "print(list2)\n",
    "\n",
    "list3 = list(list1)\n",
    "list3.extend([66, 54, 99]) # Extend list by appending elements from the iterable.\n",
    "print(list1)\n",
    "print(list3)\n",
    "\n",
    "list4 = list(list1)\n",
    "list4.append([66, 54, 99])\n",
    "print(list1)\n",
    "print(list4) #[70, 25, 99, 100, 88, [66, 54, 99]]"
   ]
  },
  {
   "cell_type": "markdown",
   "metadata": {
    "colab_type": "text",
    "id": "tjgNcmk9dBzb"
   },
   "source": [
    "# Exercice 4\n",
    "Correct the following code in order that the results obtained are those mentioned in the comments:\n",
    "\n",
    "\n",
    "\n",
    "```\n",
    "# Initial results\n",
    "French = 88\n",
    "English = 76\n",
    "Math = 65\n",
    "\n",
    "# Create a list with that results\n",
    "Results = [French, English, Math]\n",
    "print(Results)\n",
    "\n",
    "# Copy the results for a backup\n",
    "BK_results = Results\n",
    "\n",
    "# Change the English result\n",
    "Results[1]=82\n",
    "\n",
    "# See the new results\n",
    "print(Results)\n",
    "\n",
    "# See the initial results, before changes\n",
    "print(BK_results)\n",
    "\n",
    "```\n",
    "\n"
   ]
  },
  {
   "cell_type": "code",
   "execution_count": 11,
   "metadata": {
    "colab": {
     "base_uri": "https://localhost:8080/",
     "height": 68
    },
    "colab_type": "code",
    "id": "HIsZrDR5eEsd",
    "outputId": "ec9294b6-a6be-4e5f-e270-073f3dde8dea",
    "tags": []
   },
   "outputs": [
    {
     "output_type": "stream",
     "name": "stdout",
     "text": "[88, 76, 65]\n[88, 82, 65]\n(88, 76, 65)\n"
    }
   ],
   "source": [
    "# Initial results\n",
    "French = 88\n",
    "English = 76\n",
    "Math = 65\n",
    "\n",
    "# Create a list with that results\n",
    "Results = [French, English, Math]\n",
    "print(Results)\n",
    "\n",
    "# Copy the results for a backup\n",
    "BK_results = tuple(Results)\n",
    "\n",
    "# Change the English result\n",
    "Results[1]=82\n",
    "\n",
    "# See the new results\n",
    "print(Results)\n",
    "\n",
    "# See the initial results, before changes\n",
    "print(BK_results)\n"
   ]
  },
  {
   "cell_type": "markdown",
   "metadata": {
    "colab_type": "text",
    "id": "GtIN7lwJhoLg"
   },
   "source": [
    "# Exercice 5\n",
    "Consider this information :\n",
    "\n",
    "*Workshop : Base Python Programming  \n",
    "Session : 1  \n",
    "Exercice : 5* \n",
    "\n",
    "a) Create a dictionary variable that contain this information.\n",
    "b) Display the values of the dictionary in the result window.\n",
    "c) Display the value associated to the \"Exercice\" key in the result window."
   ]
  },
  {
   "cell_type": "code",
   "execution_count": 14,
   "metadata": {
    "colab": {},
    "colab_type": "code",
    "id": "pKpihEH3hw6M",
    "tags": []
   },
   "outputs": [
    {
     "output_type": "stream",
     "name": "stdout",
     "text": "{'Workshop': 'Base Python Programming', 'Session': 1, 'Exercice': 5}\ndict_values(['Base Python Programming', 1, 5])\n5\n"
    }
   ],
   "source": [
    "# Your solution\n",
    "myDict = {'Workshop' : 'Base Python Programming', 'Session' : 1, 'Exercice' : 5}\n",
    "print(myDict)\n",
    "print(myDict.values())\n",
    "print(myDict['Exercice'])"
   ]
  },
  {
   "cell_type": "markdown",
   "metadata": {
    "colab_type": "text",
    "id": "qdPWfSOKo-PY"
   },
   "source": [
    "# Exercice 6\n",
    "Correct the following code (keeping the tuple type for tuple1) :\n",
    "\n",
    "```\n",
    "tuple1 = (\"ONE\", \"two\", \"THREE\", \"four\")\n",
    "tuple1[1]=\"TWO\"\n",
    "tuple1[3]=\"FOUR\"\n",
    "```\n",
    "\n"
   ]
  },
  {
   "cell_type": "code",
   "execution_count": 17,
   "metadata": {
    "colab": {
     "base_uri": "https://localhost:8080/",
     "height": 198
    },
    "colab_type": "code",
    "id": "omJK3Uh7pXBv",
    "outputId": "111f127a-0344-4bed-a2e7-7203e394b5f7",
    "tags": []
   },
   "outputs": [
    {
     "output_type": "stream",
     "name": "stdout",
     "text": "('ONE', 'TWO', 'THREE', 'FOUR')\n<class 'tuple'>\n"
    }
   ],
   "source": [
    "tuple1 = (\"ONE\", \"two\", \"THREE\", \"four\")\n",
    "list1 = list(tuple1)\n",
    "list1[1]=\"TWO\"\n",
    "list1[3]=\"FOUR\"\n",
    "tuple1 = tuple(list1)\n",
    "\n",
    "del list1\n",
    "\n",
    "print(tuple1)\n",
    "print(type(tuple1))"
   ]
  }
 ],
 "metadata": {
  "colab": {
   "collapsed_sections": [],
   "name": "Python_Exercices_part1.ipynb",
   "provenance": [],
   "toc_visible": true
  },
  "kernelspec": {
   "display_name": "Python 3",
   "language": "python",
   "name": "python3"
  },
  "language_info": {
   "codemirror_mode": {
    "name": "ipython",
    "version": 3
   },
   "file_extension": ".py",
   "mimetype": "text/x-python",
   "name": "python",
   "nbconvert_exporter": "python",
   "pygments_lexer": "ipython3",
   "version": "3.7.1-final"
  }
 },
 "nbformat": 4,
 "nbformat_minor": 1
}