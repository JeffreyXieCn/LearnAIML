{
 "cells": [
  {
   "cell_type": "markdown",
   "metadata": {
    "colab_type": "text",
    "id": "TV9krrAbM5W4"
   },
   "source": [
    "![](https://encrypted-tbn0.gstatic.com/images?q=tbn%3AANd9GcRNNMSrl6xvbfPjLuk9k3dl7VyNi0ky19x11A&usqp=CAU)\n",
    "\n",
    "# **Introduction to Python for Data Science - Exercices part 1 - SOLUTIONS**\n",
    "Ericsson - August 4 to August 13, 2020\n",
    "\n",
    "Sarah Legendre Bilodeau, M Sc., HEC Montréal\n"
   ]
  },
  {
   "cell_type": "markdown",
   "metadata": {
    "colab_type": "text",
    "id": "tYqf3YJQNI6_"
   },
   "source": [
    "# Exercice 1\n",
    "Build a code to calculate the amount after applying an inflation rate to an initial amount. \n",
    "Use the concept of variables to store your data, including input data and the result.\n",
    "Print your result and the type of your result variable in the result window.\n"
   ]
  },
  {
   "cell_type": "code",
   "execution_count": null,
   "metadata": {
    "colab": {
     "base_uri": "https://localhost:8080/",
     "height": 51
    },
    "colab_type": "code",
    "id": "3WihuihaM1Eg",
    "outputId": "0115108a-f15e-4d3e-8080-4350371a8e4e"
   },
   "outputs": [
    {
     "name": "stdout",
     "output_type": "stream",
     "text": [
      "53.56\n",
      "<class 'float'>\n"
     ]
    }
   ],
   "source": [
    "amount = 52\n",
    "inflation = 0.03\n",
    "\n",
    "result = amount*(1+inflation)\n",
    "print(result)\n",
    "print(type(result))\n"
   ]
  },
  {
   "cell_type": "markdown",
   "metadata": {
    "colab_type": "text",
    "id": "8e1cLOTsQi83"
   },
   "source": [
    "# Exercice 2\n",
    "Considering the following quote:\n",
    "\n",
    "*\"Elementary, my dear Watson.\"*"
   ]
  },
  {
   "cell_type": "markdown",
   "metadata": {
    "colab_type": "text",
    "id": "9B3MmfO2S8YE"
   },
   "source": [
    "a) Create a string variable with that quote for content. Create a code for extracting the last word without the point. Display that word in the result window.\n",
    "\n",
    "Note : Do not hesitate to search on google to find an appropriate function if needed !"
   ]
  },
  {
   "cell_type": "code",
   "execution_count": null,
   "metadata": {
    "colab": {
     "base_uri": "https://localhost:8080/",
     "height": 34
    },
    "colab_type": "code",
    "id": "_OVxGB6pRMoV",
    "outputId": "e6326127-ce2c-41f1-e203-dcc08c619ea3"
   },
   "outputs": [
    {
     "name": "stdout",
     "output_type": "stream",
     "text": [
      "Watson\n"
     ]
    }
   ],
   "source": [
    "quote1 = \"Elementary, my dear Watson.\"\n",
    "\n",
    "# Extract the last word\n",
    "last = quote1[20:len(quote1)-1]\n",
    "print(last)"
   ]
  },
  {
   "cell_type": "markdown",
   "metadata": {
    "colab_type": "text",
    "id": "Fr0U-rBnT2B5"
   },
   "source": [
    "b) Remove the comma from the **same object** that contain the quote. Display the result in the result window."
   ]
  },
  {
   "cell_type": "code",
   "execution_count": null,
   "metadata": {
    "colab": {
     "base_uri": "https://localhost:8080/",
     "height": 34
    },
    "colab_type": "code",
    "id": "gmXm1fAUUoqD",
    "outputId": "6e404691-7c2c-4ca1-9e71-71ce1b04e3fa"
   },
   "outputs": [
    {
     "name": "stdout",
     "output_type": "stream",
     "text": [
      "Elementary my dear Watson.\n"
     ]
    }
   ],
   "source": [
    "quote1 = \"Elementary, my dear Watson.\"\n",
    "quote1 = quote1[:10]+quote1[11:]\n",
    "\n",
    "#quote1[11]=\"\" #Error! String is immutable\n",
    "\n",
    "print(quote1)\n"
   ]
  },
  {
   "cell_type": "markdown",
   "metadata": {
    "colab_type": "text",
    "id": "gOaCxkYSWTXC"
   },
   "source": [
    "c) From the variable containing the quote, display the following sentence (including the \"\") in the result window:\n",
    "\n",
    "*Sherlock Holmes said: \"Elementary, my dear Watson.\"*"
   ]
  },
  {
   "cell_type": "code",
   "execution_count": null,
   "metadata": {
    "colab": {
     "base_uri": "https://localhost:8080/",
     "height": 34
    },
    "colab_type": "code",
    "id": "5xOoI6zkXdSC",
    "outputId": "3315320b-0e8c-42ff-e87e-3282c7df9663"
   },
   "outputs": [
    {
     "name": "stdout",
     "output_type": "stream",
     "text": [
      "Sherlock Holmes said: \"Elementary, my dear Watson.\"\n"
     ]
    }
   ],
   "source": [
    "quote1 = \"Elementary, my dear Watson.\"\n",
    "quote0 = 'Sherlock Holmes said: \"'\n",
    "quote2 = '\"'\n",
    "quote_res = quote0 + quote1 + quote2\n",
    "print(quote_res)"
   ]
  },
  {
   "cell_type": "markdown",
   "metadata": {
    "colab_type": "text",
    "id": "8ocS13JHYnXH"
   },
   "source": [
    "# Exercice 3\n",
    "Considering the following numbers :\n",
    "\n",
    "70\n",
    "25\n",
    "99\n",
    "100\n",
    "88\n",
    "\n"
   ]
  },
  {
   "cell_type": "markdown",
   "metadata": {
    "colab_type": "text",
    "id": "vh6zDVS7aHLk"
   },
   "source": [
    "a) Create a list variable that will contain that numbers. Display the 3rd and 4th values in the result window."
   ]
  },
  {
   "cell_type": "code",
   "execution_count": null,
   "metadata": {
    "colab": {
     "base_uri": "https://localhost:8080/",
     "height": 34
    },
    "colab_type": "code",
    "id": "GOp8TdrLZC35",
    "outputId": "d362b421-47a4-43fa-f21d-87f296398bd9"
   },
   "outputs": [
    {
     "name": "stdout",
     "output_type": "stream",
     "text": [
      "[99, 100]\n"
     ]
    }
   ],
   "source": [
    "results = [70, 25, 99, 100, 88]\n",
    "\n",
    "print(results[2:4])"
   ]
  },
  {
   "cell_type": "markdown",
   "metadata": {
    "colab_type": "text",
    "id": "bFBdPCawaptE"
   },
   "source": [
    "b) Using append() method, add these 3 numbers to the initial variable :\n",
    "\n",
    "66\n",
    "54\n",
    "99\n",
    "\n",
    "Compare the result with the same task using the extend() method."
   ]
  },
  {
   "cell_type": "code",
   "execution_count": null,
   "metadata": {
    "colab": {
     "base_uri": "https://localhost:8080/",
     "height": 68
    },
    "colab_type": "code",
    "id": "H4S4vOQ7a_hC",
    "outputId": "9eabd99c-fbed-4352-8949-f5a92d44ad2c"
   },
   "outputs": [
    {
     "name": "stdout",
     "output_type": "stream",
     "text": [
      "[70, 25, 99, 100, 88, [66, 54, 99], [66, 54, 99], [66, 54, 99]]\n",
      "[66, 54, 99]\n",
      "[70, 25, 99, 100, 88, 66, 54, 99]\n"
     ]
    }
   ],
   "source": [
    "add1 = [66, 54, 99]\n",
    "results.append(add1)\n",
    "print(results)\n",
    "\n",
    "#It is important to notice that, a single item (add1 list) is added to the results list.\n",
    "print(results[5])\n",
    "\n",
    "#Extend : Iterates over its argument and adding each element to the list and extending the list.\n",
    "results = [70, 25, 99, 100, 88]\n",
    "results.extend(add1)\n",
    "print(results)"
   ]
  },
  {
   "cell_type": "markdown",
   "metadata": {
    "colab_type": "text",
    "id": "tjgNcmk9dBzb"
   },
   "source": [
    "# Exercice 4\n",
    "Correct the following code in order that the results obtained are those mentioned in the comments:\n",
    "\n",
    "\n",
    "\n",
    "```\n",
    "# Initial results\n",
    "French = 88\n",
    "English = 76\n",
    "Math = 65\n",
    "\n",
    "# Create a list with that results\n",
    "Results = [French, English, Math]\n",
    "print(Results)\n",
    "\n",
    "# Copy the results for a backup\n",
    "BK_results = Results\n",
    "\n",
    "# Change the English result\n",
    "Results[1]=82\n",
    "\n",
    "# See the new results\n",
    "print(Results)\n",
    "\n",
    "# See the initial results, before changes\n",
    "print(BK_results)\n",
    "\n",
    "```\n",
    "\n"
   ]
  },
  {
   "cell_type": "code",
   "execution_count": null,
   "metadata": {
    "colab": {
     "base_uri": "https://localhost:8080/",
     "height": 68
    },
    "colab_type": "code",
    "id": "HIsZrDR5eEsd",
    "outputId": "3dbfb478-0ede-4041-ec16-cf7d305ad3cc"
   },
   "outputs": [
    {
     "name": "stdout",
     "output_type": "stream",
     "text": [
      "[88, 76, 65]\n",
      "[88, 82, 65]\n",
      "[88, 76, 65]\n"
     ]
    }
   ],
   "source": [
    "# Initial results\n",
    "French = 88\n",
    "English = 76\n",
    "Math = 65\n",
    "\n",
    "# Create a list with that results\n",
    "Results = [French, English, Math]\n",
    "print(Results)\n",
    "\n",
    "# Copy the results for a backup\n",
    "BK_results = list(Results)\n",
    "\n",
    "# Change the English result\n",
    "Results[1]=82\n",
    "\n",
    "# See the new results\n",
    "print(Results)\n",
    "\n",
    "# See the initial results, before changes\n",
    "print(BK_results)\n"
   ]
  },
  {
   "cell_type": "markdown",
   "metadata": {
    "colab_type": "text",
    "id": "GtIN7lwJhoLg"
   },
   "source": [
    "# Exercice 5\n",
    "Consider this information :\n",
    "\n",
    "*Workshop : Base Python Programming  \n",
    "Session : 1  \n",
    "Exercice : 5* \n",
    "\n",
    "a) Create a dictionary variable that contain this information.\n",
    "b) Display the values of the dictionary in the result window.\n",
    "c) Display the value associated to the \"Exercice\" key in the result window."
   ]
  },
  {
   "cell_type": "code",
   "execution_count": null,
   "metadata": {
    "colab": {
     "base_uri": "https://localhost:8080/",
     "height": 68
    },
    "colab_type": "code",
    "id": "pKpihEH3hw6M",
    "outputId": "1c662f6a-2d3f-4c4e-a370-660b8e209d5b"
   },
   "outputs": [
    {
     "name": "stdout",
     "output_type": "stream",
     "text": [
      "{'Workshop': 'Base Python Programming', 'Session': 1, 'Exercice': 5}\n",
      "dict_values(['Base Python Programming', 1, 5])\n",
      "5\n"
     ]
    }
   ],
   "source": [
    "#a) \n",
    "dict1 = {'Workshop':'Base Python Programming', 'Session':1, 'Exercice':5}\n",
    "print(dict1)\n",
    "\n",
    "#b)\n",
    "print(dict1.values())\n",
    "\n",
    "#c) \n",
    "print(dict1['Exercice'])\n"
   ]
  },
  {
   "cell_type": "markdown",
   "metadata": {
    "colab_type": "text",
    "id": "qdPWfSOKo-PY"
   },
   "source": [
    "# Exercice 6\n",
    "Correct the following code (keeping the tuple type for tuple1) :\n",
    "\n",
    "```\n",
    "tuple1 = (\"ONE\", \"two\", \"THREE\", \"four\")\n",
    "tuple1[1]=\"TWO\"\n",
    "tuple1[3]=\"FOUR\"\n",
    "```\n",
    "\n"
   ]
  },
  {
   "cell_type": "code",
   "execution_count": null,
   "metadata": {
    "colab": {
     "base_uri": "https://localhost:8080/",
     "height": 51
    },
    "colab_type": "code",
    "id": "omJK3Uh7pXBv",
    "outputId": "5f5d1f3b-fac4-47d1-b650-20fde87cadc1"
   },
   "outputs": [
    {
     "name": "stdout",
     "output_type": "stream",
     "text": [
      "('ONE', 'TWO', 'THREE', 'FOUR')\n",
      "<class 'tuple'>\n"
     ]
    }
   ],
   "source": [
    "tuple1 = (\"ONE\", \"two\", \"THREE\", \"four\")\n",
    "copy1 = list(tuple1)\n",
    "copy1[1]=\"TWO\"\n",
    "copy1[3]=\"FOUR\"\n",
    "tuple1 = tuple(copy1)\n",
    "del copy1\n",
    "print(tuple1)\n",
    "print(type(tuple1))\n"
   ]
  }
 ],
 "metadata": {
  "colab": {
   "collapsed_sections": [],
   "name": "Python_Exercices_part1_solution.ipynb",
   "provenance": [],
   "toc_visible": true
  },
  "kernelspec": {
   "display_name": "Python 3",
   "language": "python",
   "name": "python3"
  },
  "language_info": {
   "codemirror_mode": {
    "name": "ipython",
    "version": 3
   },
   "file_extension": ".py",
   "mimetype": "text/x-python",
   "name": "python",
   "nbconvert_exporter": "python",
   "pygments_lexer": "ipython3",
   "version": "3.7.4"
  }
 },
 "nbformat": 4,
 "nbformat_minor": 1
}
