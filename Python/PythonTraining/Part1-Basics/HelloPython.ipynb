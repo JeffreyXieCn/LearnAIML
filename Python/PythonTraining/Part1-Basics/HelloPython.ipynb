{
 "cells": [
  {
   "cell_type": "markdown",
   "metadata": {},
   "source": [
    "# Python Basics"
   ]
  },
  {
   "cell_type": "code",
   "execution_count": 12,
   "metadata": {
    "tags": []
   },
   "outputs": [
    {
     "output_type": "stream",
     "name": "stdout",
     "text": "Hello World!\n"
    }
   ],
   "source": [
    "print(\"Hello World!\")"
   ]
  },
  {
   "cell_type": "code",
   "execution_count": 13,
   "metadata": {
    "tags": []
   },
   "outputs": [
    {
     "output_type": "stream",
     "name": "stdout",
     "text": "Learning Python in Jupyter\n"
    }
   ],
   "source": [
    "#This is a comment\n",
    "print(\"Learning Python in Jupyter\")"
   ]
  },
  {
   "cell_type": "code",
   "execution_count": 14,
   "metadata": {
    "tags": []
   },
   "outputs": [
    {
     "output_type": "stream",
     "name": "stdout",
     "text": "<class 'str'>\n<class 'int'>\n"
    }
   ],
   "source": [
    "test = \"Hello\"\n",
    "print(type(test))\n",
    "\n",
    "Test = 5\n",
    "print(type(Test))"
   ]
  },
  {
   "cell_type": "code",
   "execution_count": 15,
   "metadata": {
    "tags": []
   },
   "outputs": [
    {
     "output_type": "stream",
     "name": "stdout",
     "text": "<class 'int'>\n10\n"
    }
   ],
   "source": [
    "n = 5\n",
    "k = 2\n",
    "Product = k * n\n",
    "\n",
    "print(type(Product))\n",
    "print(Product)"
   ]
  },
  {
   "cell_type": "markdown",
   "metadata": {},
   "source": [
    "# Python Standard Data Types"
   ]
  },
  {
   "cell_type": "code",
   "execution_count": 16,
   "metadata": {
    "tags": []
   },
   "outputs": [
    {
     "output_type": "stream",
     "name": "stdout",
     "text": "<class 'int'>\n<class 'float'>\n"
    }
   ],
   "source": [
    "\"\"\"Here I define\n",
    "two numbers\"\"\"\n",
    "num1 = 23\n",
    "num2 = 2.3\n",
    "\n",
    "print(type(num1))\n",
    "print(type(num2))"
   ]
  },
  {
   "cell_type": "code",
   "execution_count": 17,
   "metadata": {
    "tags": []
   },
   "outputs": [
    {
     "output_type": "stream",
     "name": "stdout",
     "text": "My first string\nM\nfirst\nfirst string\nstring\nMy first stringMy first string\nMy first string Test\n<class 'str'>\nIt's my pleasure to see you\nThis is \"My String\"\n"
    }
   ],
   "source": [
    "# Strings\n",
    "str1 = \"My first string\"\n",
    "print(str1) #My first string\n",
    "print(str1[0]) #M\n",
    "print(str1[3:8]) #first\n",
    "print(str1[3:]) #first string\n",
    "print(str1[-6:]) #string\n",
    "print(str1 * 2) #My first stringMy first string\n",
    "print(str1 + ' Test') #My first string Test\n",
    "print(type(str1)) #<class 'str'>\n",
    "\n",
    "str2 = \"It's my pleasure to see you\"\n",
    "print(str2)\n",
    "\n",
    "str3 = 'This is \"My String\"'\n",
    "print(str3)"
   ]
  },
  {
   "cell_type": "code",
   "execution_count": 18,
   "metadata": {
    "tags": []
   },
   "outputs": [
    {
     "output_type": "stream",
     "name": "stdout",
     "text": "7\na = 3, b = 4\na: 3; b: 4\na is 3; b is 4\n"
    }
   ],
   "source": [
    "a = 3\n",
    "b = 4\n",
    "x = a + b\n",
    "print(x)\n",
    "\n",
    "x1 = 'a = %s, b = %s' % (a, b)\n",
    "print(x1)\n",
    "\n",
    "x2 = 'a: {}; b: {}'.format(a, b)\n",
    "print(x2)\n",
    "\n",
    "x3 = f'a is {a}; b is {b}'\n",
    "print(x3)"
   ]
  },
  {
   "cell_type": "markdown",
   "metadata": {},
   "source": [
    "## Lists"
   ]
  },
  {
   "cell_type": "code",
   "execution_count": 19,
   "metadata": {
    "tags": []
   },
   "outputs": [
    {
     "output_type": "stream",
     "name": "stdout",
     "text": "['abcd', 123, 10.2, 'EXAMPLE', 70.2]\n[456, 'OTHER']\nabcd\n[123, 10.2]\n[123]\n[]\n[10.2, 'EXAMPLE', 70.2]\nEXAMPLE\n['EXAMPLE', 70.2]\n['abcd', 123, 10.2, 'EXAMPLE', 70.2, 'abcd', 123, 10.2, 'EXAMPLE', 70.2]\n['abcd', 123, 10.2, 'EXAMPLE', 70.2, 456, 'OTHER']\n<class 'list'>\n<class 'int'>\nb\n<class 'str'>\n"
    }
   ],
   "source": [
    "list1 = [ 'abcd', 123, 10.2, 'EXAMPLE', 70.2 ]\n",
    "list2 = [456, 'OTHER']\n",
    "\n",
    "print(list1)\n",
    "print(list2)\n",
    "\n",
    "print(list1[0])\n",
    "print(list1[1:3])\n",
    "print(list1[1:2])\n",
    "print(list1[1:1])\n",
    "print(list1[2:])\n",
    "print(list1[-2])\n",
    "print(list1[-2:])\n",
    "print(list1 * 2)\n",
    "print(list1 + list2)\n",
    "\n",
    "print(type(list1))\n",
    "print(type(list1[1]))\n",
    "\n",
    "print(list1[0][1])\n",
    "print(type(list1[0][1]))"
   ]
  },
  {
   "cell_type": "code",
   "execution_count": 20,
   "metadata": {},
   "outputs": [],
   "source": [
    "list3 = [ 'abcd', 123, 10.2, 'EXAMPLE', 70.2 ]\n",
    "\n",
    "tuple1 = ( 'abcd', 123, 10.2, 'EXAMPLE', 70.2 )\n",
    "\n"
   ]
  },
  {
   "cell_type": "code",
   "execution_count": 21,
   "metadata": {
    "tags": []
   },
   "outputs": [
    {
     "output_type": "stream",
     "name": "stdout",
     "text": "[1, 2, 3, 4]\n[1, 2, 3, 4]\n[1, 2, 3]\n[1, 2, 3]\n"
    }
   ],
   "source": [
    "a = [1, 2 , 3]\n",
    "b = a; # refer to the same object\n",
    "c = list(a) # Copy the value\n",
    "d = [i for i in a] # Copy the value\n",
    "a.append(4)\n",
    "print(a)\n",
    "print(b) # A change to \"a\" has resulted a change to \"b\"\n",
    "print(c)\n",
    "print(d)"
   ]
  },
  {
   "cell_type": "code",
   "execution_count": 22,
   "metadata": {
    "tags": []
   },
   "outputs": [
    {
     "output_type": "stream",
     "name": "stdout",
     "text": "('Orange', 'Jaune', 'Blue')\n('Orange', 'Yellow', 'Blue')\n<class 'tuple'>\nabcxefg\nabcdefg\nabcdefg\n"
    }
   ],
   "source": [
    "# Immutable objects in Python: tuple and string\n",
    "\n",
    "# \"Change\" a value in a tuple\n",
    "is_Tuple = (\"Orange\", \"Jaune\", \"Blue\")\n",
    "print(is_Tuple)\n",
    "\n",
    "# is_Tuple[1] = \"Yellow\" # 'tuple' object does not support item assignment\n",
    "\n",
    "#Solution\n",
    "tupleToList = list(is_Tuple)\n",
    "tupleToList[1] = \"Yellow\"\n",
    "is_Tuple = tuple(tupleToList)\n",
    "print(is_Tuple)\n",
    "print(type(is_Tuple))\n",
    "\n",
    "str1 = \"abcxefg\"\n",
    "print(str1)\n",
    "#str1[3] = \"d\" # 'str' object does not support item assignment\n",
    "\n",
    "#Solution\n",
    "str2 = str1[:3] + \"d\" + str1[4:]\n",
    "print(str2)\n",
    "\n",
    "str1 = str2\n",
    "print(str1)"
   ]
  }
 ],
 "metadata": {
  "kernelspec": {
   "display_name": "Python 3",
   "language": "python",
   "name": "python3"
  },
  "language_info": {
   "codemirror_mode": {
    "name": "ipython",
    "version": 3
   },
   "file_extension": ".py",
   "mimetype": "text/x-python",
   "name": "python",
   "nbconvert_exporter": "python",
   "pygments_lexer": "ipython3",
   "version": "3.7.1-final"
  }
 },
 "nbformat": 4,
 "nbformat_minor": 2
}